{
 "cells": [
  {
   "cell_type": "code",
   "execution_count": 1,
   "metadata": {},
   "outputs": [],
   "source": [
    "import sys\n",
    "assert sys.version_info >= (3, 5)\n",
    "\n",
    "import sklearn\n",
    "assert sklearn.__version__ >= \"0.20\"\n",
    "\n",
    "import numpy as np\n",
    "import os\n",
    "\n",
    "import matplotlib as mpl\n",
    "import matplotlib.pyplot as plt\n",
    "mpl.rc('axes', labelsize=14)\n",
    "mpl.rc('xtick', labelsize=12)\n",
    "mpl.rc('ytick', labelsize=12)\n",
    "\n",
    "import warnings\n",
    "warnings.filterwarnings(action=\"ignore\", message=\"^internal gelsd\")"
   ]
  },
  {
   "cell_type": "code",
   "execution_count": 2,
   "metadata": {},
   "outputs": [],
   "source": [
    "import pandas as pd\n",
    "\n",
    "def load_housing_data(housing_path='data'):\n",
    "    train_csv_path = os.path.join(housing_path, \"train.csv\")\n",
    "    test_csv_path = os.path.join(housing_path, \"test.csv\")\n",
    "    return pd.read_csv(train_csv_path), pd.read_csv(test_csv_path)\n",
    "\n",
    "train, test = load_housing_data()"
   ]
  },
  {
   "cell_type": "code",
   "execution_count": 4,
   "metadata": {},
   "outputs": [],
   "source": [
    "train['TotalLivingSF'] = train['BsmtFinSF1'] + train['BsmtFinSF2'] + train['1stFlrSF'] + train['2ndFlrSF']\n",
    "test['TotalLivingSF'] = test['BsmtFinSF1'] + test['BsmtFinSF2'] + test['1stFlrSF'] + test['2ndFlrSF']\n",
    "\n",
    "train['TotalLivingSF'] = np.log(train['TotalLivingSF'])\n",
    "test['TotalLivingSF'] = np.log(test['TotalLivingSF'])"
   ]
  },
  {
   "cell_type": "code",
   "execution_count": 5,
   "metadata": {},
   "outputs": [
    {
     "data": {
      "text/plain": [
       "SalePrice        1.000000\n",
       "OverallQual      0.790982\n",
       "GrLivArea        0.708624\n",
       "TotalLivingSF    0.698827\n",
       "GarageCars       0.640409\n",
       "GarageArea       0.623431\n",
       "TotalBsmtSF      0.613581\n",
       "1stFlrSF         0.605852\n",
       "FullBath         0.560664\n",
       "TotRmsAbvGrd     0.533723\n",
       "YearBuilt        0.522897\n",
       "YearRemodAdd     0.507101\n",
       "GarageYrBlt      0.486362\n",
       "MasVnrArea       0.477493\n",
       "Fireplaces       0.466929\n",
       "BsmtFinSF1       0.386420\n",
       "LotFrontage      0.351799\n",
       "WoodDeckSF       0.324413\n",
       "2ndFlrSF         0.319334\n",
       "OpenPorchSF      0.315856\n",
       "HalfBath         0.284108\n",
       "LotArea          0.263843\n",
       "BsmtFullBath     0.227122\n",
       "BsmtUnfSF        0.214479\n",
       "BedroomAbvGr     0.168213\n",
       "ScreenPorch      0.111447\n",
       "PoolArea         0.092404\n",
       "MoSold           0.046432\n",
       "3SsnPorch        0.044584\n",
       "BsmtFinSF2      -0.011378\n",
       "BsmtHalfBath    -0.016844\n",
       "MiscVal         -0.021190\n",
       "Id              -0.021917\n",
       "LowQualFinSF    -0.025606\n",
       "YrSold          -0.028923\n",
       "OverallCond     -0.077856\n",
       "MSSubClass      -0.084284\n",
       "EnclosedPorch   -0.128578\n",
       "KitchenAbvGr    -0.135907\n",
       "Name: SalePrice, dtype: float64"
      ]
     },
     "execution_count": 5,
     "metadata": {},
     "output_type": "execute_result"
    }
   ],
   "source": [
    "corr_matrix = train.corr()\n",
    "corr_matrix[\"SalePrice\"].sort_values(ascending=False)"
   ]
  },
  {
   "cell_type": "code",
   "execution_count": 6,
   "metadata": {},
   "outputs": [
    {
     "name": "stdout",
     "output_type": "stream",
     "text": [
      "['MSSubClass', 'LotFrontage', 'LotArea', 'OverallQual', 'OverallCond', 'YearBuilt', 'YearRemodAdd', 'MasVnrArea', 'BsmtFinSF1', 'BsmtUnfSF', 'TotalBsmtSF', '1stFlrSF', '2ndFlrSF', 'GrLivArea', 'BsmtFullBath', 'FullBath', 'HalfBath', 'BedroomAbvGr', 'KitchenAbvGr', 'TotRmsAbvGrd', 'Fireplaces', 'GarageYrBlt', 'GarageCars', 'GarageArea', 'WoodDeckSF', 'OpenPorchSF', 'EnclosedPorch', 'YrSold', 'TotalLivingSF']\n"
     ]
    }
   ],
   "source": [
    "num_att = list(train.select_dtypes([np.number]).columns)\n",
    "\n",
    "# att = ['OverallQual', 'GrLivArea']\n",
    "\n",
    "# to_remove = ['BsmtFinSF2', 'MoSold', '3SsnPorch', 'BsmtHalfBath', 'MiscVal', 'LowQualFinSF', 'YrSold',\n",
    "#             'PoolArea', 'OverallCond', 'MSSubClass', 'ScreenPorch']\n",
    "\n",
    "to_remove = ['PoolArea', 'BsmtHalfBath', 'MiscVal', 'LowQualFinSF', 'ScreenPorch', '3SsnPorch',\n",
    "            'BsmtFinSF2', 'MoSold', 'YrSold',\n",
    "            'GarageArea', 'TotalBsmtSF']\n",
    "\n",
    "to_remove = ['PoolArea', 'BsmtHalfBath', 'MiscVal', 'LowQualFinSF', 'ScreenPorch', '3SsnPorch',\n",
    "            'BsmtFinSF2', 'MoSold']\n",
    "\n",
    "for t in to_remove:\n",
    "    num_att.remove(t)\n",
    "num_att.remove('Id')\n",
    "num_att.remove('SalePrice')\n",
    "\n",
    "# num_att = ['OverallQual', 'GrLivArea', 'GarageCars', '1stFlrSF', 'FullBath', 'YearBuilt']\n",
    "\n",
    "print(num_att)"
   ]
  },
  {
   "cell_type": "code",
   "execution_count": 7,
   "metadata": {},
   "outputs": [
    {
     "name": "stdout",
     "output_type": "stream",
     "text": [
      "['Neighborhood', 'BldgType', 'Heating', 'HeatingQC', 'CentralAir', 'Street', 'LotShape', 'LandContour', 'LotConfig', 'LandSlope', 'Condition1', 'HouseStyle', 'RoofStyle', 'ExterQual', 'ExterCond', 'Foundation', 'PavedDrive', 'SaleCondition']\n"
     ]
    }
   ],
   "source": [
    "cat_att = ['BldgType', 'CentralAir', 'Foundation', \n",
    "           'PavedDrive', 'SaleCondition']\n",
    "cat_att = ['Neighborhood', 'BldgType', 'Heating', 'HeatingQC', 'CentralAir', \n",
    "           'Street', 'LotShape', 'LandContour', 'LotConfig',\n",
    "           'LandSlope', 'Condition1', 'HouseStyle', 'RoofStyle', \n",
    "           'ExterQual', 'ExterCond', 'Foundation', 'PavedDrive', 'SaleCondition']\n",
    "\n",
    "# TO ADD = Exterior1st, KitchenQual, Functional, SaleType, Alley, Condition2\n",
    "\n",
    "# cat_att = ['Neighborhood', 'BldgType']\n",
    "print(cat_att)"
   ]
  },
  {
   "cell_type": "code",
   "execution_count": 8,
   "metadata": {},
   "outputs": [],
   "source": [
    "for a in num_att:\n",
    "    median = train[a].median()\n",
    "    train[a].fillna(median, inplace=True)\n",
    "    \n",
    "#     median = test[a].median()\n",
    "    test[a].fillna(median, inplace=True)"
   ]
  },
  {
   "cell_type": "code",
   "execution_count": 9,
   "metadata": {},
   "outputs": [
    {
     "name": "stderr",
     "output_type": "stream",
     "text": [
      "/home/marek/anaconda3/lib/python3.7/site-packages/pandas/core/series.py:853: RuntimeWarning: divide by zero encountered in log\n",
      "  result = getattr(ufunc, method)(*inputs, **kwargs)\n"
     ]
    }
   ],
   "source": [
    "import seaborn as sns\n",
    "from scipy.stats import norm\n",
    "from scipy import stats\n",
    "\n",
    "train['SalePrice'] = np.log(train['SalePrice'])\n",
    "train_y = train[\"SalePrice\"].copy()\n",
    "\n",
    "train['GrLivArea'] = np.log(train['GrLivArea'])\n",
    "test['GrLivArea'] = np.log(test['GrLivArea'])\n",
    "\n",
    "train['HasBsmt'] = pd.Series(len(train['TotalBsmtSF']), index=train.index)\n",
    "train['HasBsmt'] = 0 \n",
    "train.loc[train['TotalBsmtSF']>0,'HasBsmt'] = 1\n",
    "train.loc[train['HasBsmt']==1,'TotalBsmtSF'] = np.log(train['TotalBsmtSF'])\n",
    "test['HasBsmt'] = pd.Series(len(test['TotalBsmtSF']), index=test.index)\n",
    "test['HasBsmt'] = 0 \n",
    "test.loc[test['TotalBsmtSF']>0,'HasBsmt'] = 1\n",
    "test.loc[test['HasBsmt']==1,'TotalBsmtSF'] = np.log(test['TotalBsmtSF'])\n",
    "\n",
    "train['1stFlrSF'] = np.log(train['1stFlrSF'])\n",
    "test['1stFlrSF'] = np.log(test['1stFlrSF'])\n",
    "\n",
    "train['HasBsmtFin'] = pd.Series(len(train['BsmtFinSF1']), index=train.index)\n",
    "train['HasBsmtFin'] = 0 \n",
    "train.loc[train['BsmtFinSF1']>0,'HasBsmtFin'] = 1\n",
    "train.loc[train['HasBsmtFin']==1,'BsmtFinSF1'] = np.log(train['BsmtFinSF1'])\n",
    "test['HasBsmtFin'] = pd.Series(len(test['BsmtFinSF1']), index=test.index)\n",
    "test['HasBsmtFin'] = 0 \n",
    "test.loc[test['BsmtFinSF1']>0,'HasBsmtFin'] = 1\n",
    "test.loc[test['HasBsmtFin']==1,'BsmtFinSF1'] = np.log(test['BsmtFinSF1'])\n",
    "\n",
    "train['HasWoodDeck'] = pd.Series(len(train['WoodDeckSF']), index=train.index)\n",
    "train['HasWoodDeck'] = 0 \n",
    "train.loc[train['WoodDeckSF']>0,'HasWoodDeck'] = 1\n",
    "train.loc[train['HasWoodDeck']==1,'WoodDeckSF'] = np.log(train['WoodDeckSF'])\n",
    "test['HasWoodDeck'] = pd.Series(len(test['WoodDeckSF']), index=test.index)\n",
    "test['HasWoodDeck'] = 0 \n",
    "test.loc[test['WoodDeckSF']>0,'HasWoodDeck'] = 1\n",
    "test.loc[test['HasWoodDeck']==1,'WoodDeckSF'] = np.log(test['WoodDeckSF'])\n"
   ]
  },
  {
   "cell_type": "code",
   "execution_count": 10,
   "metadata": {},
   "outputs": [
    {
     "data": {
      "text/plain": [
       "SalePrice        1.000000\n",
       "OverallQual      0.817184\n",
       "TotalLivingSF    0.741062\n",
       "GrLivArea        0.730255\n",
       "GarageCars       0.680625\n",
       "GarageArea       0.650888\n",
       "1stFlrSF         0.608947\n",
       "FullBath         0.594771\n",
       "YearBuilt        0.586570\n",
       "YearRemodAdd     0.565608\n",
       "TotRmsAbvGrd     0.534422\n",
       "GarageYrBlt      0.495794\n",
       "Fireplaces       0.489449\n",
       "MasVnrArea       0.426775\n",
       "TotalBsmtSF      0.373009\n",
       "WoodDeckSF       0.343269\n",
       "LotFrontage      0.335292\n",
       "OpenPorchSF      0.321053\n",
       "HasWoodDeck      0.320349\n",
       "2ndFlrSF         0.319300\n",
       "HalfBath         0.313982\n",
       "LotArea          0.257320\n",
       "BsmtFullBath     0.236224\n",
       "BsmtUnfSF        0.221985\n",
       "BedroomAbvGr     0.209044\n",
       "BsmtFinSF1       0.207962\n",
       "HasBsmt          0.199634\n",
       "HasBsmtFin       0.162231\n",
       "ScreenPorch      0.121208\n",
       "PoolArea         0.069798\n",
       "MoSold           0.057329\n",
       "3SsnPorch        0.054900\n",
       "BsmtFinSF2       0.004832\n",
       "BsmtHalfBath    -0.005149\n",
       "Id              -0.017942\n",
       "MiscVal         -0.020021\n",
       "OverallCond     -0.036868\n",
       "YrSold          -0.037263\n",
       "LowQualFinSF    -0.037963\n",
       "MSSubClass      -0.073959\n",
       "KitchenAbvGr    -0.147548\n",
       "EnclosedPorch   -0.149050\n",
       "Name: SalePrice, dtype: float64"
      ]
     },
     "execution_count": 10,
     "metadata": {},
     "output_type": "execute_result"
    }
   ],
   "source": [
    "corr_matrix = train.corr()\n",
    "corr_matrix[\"SalePrice\"].sort_values(ascending=False)"
   ]
  },
  {
   "cell_type": "code",
   "execution_count": 11,
   "metadata": {},
   "outputs": [
    {
     "name": "stdout",
     "output_type": "stream",
     "text": [
      "<class 'pandas.core.frame.DataFrame'>\n",
      "RangeIndex: 1460 entries, 0 to 1459\n",
      "Data columns (total 47 columns):\n",
      "MSSubClass       1460 non-null int64\n",
      "LotFrontage      1460 non-null float64\n",
      "LotArea          1460 non-null int64\n",
      "OverallQual      1460 non-null int64\n",
      "OverallCond      1460 non-null int64\n",
      "YearBuilt        1460 non-null int64\n",
      "YearRemodAdd     1460 non-null int64\n",
      "MasVnrArea       1460 non-null float64\n",
      "BsmtFinSF1       1460 non-null float64\n",
      "BsmtUnfSF        1460 non-null int64\n",
      "TotalBsmtSF      1460 non-null float64\n",
      "1stFlrSF         1460 non-null float64\n",
      "2ndFlrSF         1460 non-null int64\n",
      "GrLivArea        1460 non-null float64\n",
      "BsmtFullBath     1460 non-null int64\n",
      "FullBath         1460 non-null int64\n",
      "HalfBath         1460 non-null int64\n",
      "BedroomAbvGr     1460 non-null int64\n",
      "KitchenAbvGr     1460 non-null int64\n",
      "TotRmsAbvGrd     1460 non-null int64\n",
      "Fireplaces       1460 non-null int64\n",
      "GarageYrBlt      1460 non-null float64\n",
      "GarageCars       1460 non-null int64\n",
      "GarageArea       1460 non-null int64\n",
      "WoodDeckSF       1460 non-null float64\n",
      "OpenPorchSF      1460 non-null int64\n",
      "EnclosedPorch    1460 non-null int64\n",
      "YrSold           1460 non-null int64\n",
      "TotalLivingSF    1460 non-null float64\n",
      "Neighborhood     1460 non-null object\n",
      "BldgType         1460 non-null object\n",
      "Heating          1460 non-null object\n",
      "HeatingQC        1460 non-null object\n",
      "CentralAir       1460 non-null object\n",
      "Street           1460 non-null object\n",
      "LotShape         1460 non-null object\n",
      "LandContour      1460 non-null object\n",
      "LotConfig        1460 non-null object\n",
      "LandSlope        1460 non-null object\n",
      "Condition1       1460 non-null object\n",
      "HouseStyle       1460 non-null object\n",
      "RoofStyle        1460 non-null object\n",
      "ExterQual        1460 non-null object\n",
      "ExterCond        1460 non-null object\n",
      "Foundation       1460 non-null object\n",
      "PavedDrive       1460 non-null object\n",
      "SaleCondition    1460 non-null object\n",
      "dtypes: float64(9), int64(20), object(18)\n",
      "memory usage: 536.2+ KB\n",
      "<class 'pandas.core.frame.DataFrame'>\n",
      "RangeIndex: 1459 entries, 0 to 1458\n",
      "Data columns (total 47 columns):\n",
      "MSSubClass       1459 non-null int64\n",
      "LotFrontage      1459 non-null float64\n",
      "LotArea          1459 non-null int64\n",
      "OverallQual      1459 non-null int64\n",
      "OverallCond      1459 non-null int64\n",
      "YearBuilt        1459 non-null int64\n",
      "YearRemodAdd     1459 non-null int64\n",
      "MasVnrArea       1459 non-null float64\n",
      "BsmtFinSF1       1459 non-null float64\n",
      "BsmtUnfSF        1459 non-null float64\n",
      "TotalBsmtSF      1459 non-null float64\n",
      "1stFlrSF         1459 non-null float64\n",
      "2ndFlrSF         1459 non-null int64\n",
      "GrLivArea        1459 non-null float64\n",
      "BsmtFullBath     1459 non-null float64\n",
      "FullBath         1459 non-null int64\n",
      "HalfBath         1459 non-null int64\n",
      "BedroomAbvGr     1459 non-null int64\n",
      "KitchenAbvGr     1459 non-null int64\n",
      "TotRmsAbvGrd     1459 non-null int64\n",
      "Fireplaces       1459 non-null int64\n",
      "GarageYrBlt      1459 non-null float64\n",
      "GarageCars       1459 non-null float64\n",
      "GarageArea       1459 non-null float64\n",
      "WoodDeckSF       1459 non-null float64\n",
      "OpenPorchSF      1459 non-null int64\n",
      "EnclosedPorch    1459 non-null int64\n",
      "YrSold           1459 non-null int64\n",
      "TotalLivingSF    1459 non-null float64\n",
      "Neighborhood     1459 non-null object\n",
      "BldgType         1459 non-null object\n",
      "Heating          1459 non-null object\n",
      "HeatingQC        1459 non-null object\n",
      "CentralAir       1459 non-null object\n",
      "Street           1459 non-null object\n",
      "LotShape         1459 non-null object\n",
      "LandContour      1459 non-null object\n",
      "LotConfig        1459 non-null object\n",
      "LandSlope        1459 non-null object\n",
      "Condition1       1459 non-null object\n",
      "HouseStyle       1459 non-null object\n",
      "RoofStyle        1459 non-null object\n",
      "ExterQual        1459 non-null object\n",
      "ExterCond        1459 non-null object\n",
      "Foundation       1459 non-null object\n",
      "PavedDrive       1459 non-null object\n",
      "SaleCondition    1459 non-null object\n",
      "dtypes: float64(13), int64(16), object(18)\n",
      "memory usage: 535.9+ KB\n",
      "<class 'pandas.core.frame.DataFrame'>\n",
      "Int64Index: 2919 entries, 0 to 1458\n",
      "Data columns (total 47 columns):\n",
      "MSSubClass       2919 non-null int64\n",
      "LotFrontage      2919 non-null float64\n",
      "LotArea          2919 non-null int64\n",
      "OverallQual      2919 non-null int64\n",
      "OverallCond      2919 non-null int64\n",
      "YearBuilt        2919 non-null int64\n",
      "YearRemodAdd     2919 non-null int64\n",
      "MasVnrArea       2919 non-null float64\n",
      "BsmtFinSF1       2919 non-null float64\n",
      "BsmtUnfSF        2919 non-null float64\n",
      "TotalBsmtSF      2919 non-null float64\n",
      "1stFlrSF         2919 non-null float64\n",
      "2ndFlrSF         2919 non-null int64\n",
      "GrLivArea        2919 non-null float64\n",
      "BsmtFullBath     2919 non-null float64\n",
      "FullBath         2919 non-null int64\n",
      "HalfBath         2919 non-null int64\n",
      "BedroomAbvGr     2919 non-null int64\n",
      "KitchenAbvGr     2919 non-null int64\n",
      "TotRmsAbvGrd     2919 non-null int64\n",
      "Fireplaces       2919 non-null int64\n",
      "GarageYrBlt      2919 non-null float64\n",
      "GarageCars       2919 non-null float64\n",
      "GarageArea       2919 non-null float64\n",
      "WoodDeckSF       2919 non-null float64\n",
      "OpenPorchSF      2919 non-null int64\n",
      "EnclosedPorch    2919 non-null int64\n",
      "YrSold           2919 non-null int64\n",
      "TotalLivingSF    2919 non-null float64\n",
      "Neighborhood     2919 non-null object\n",
      "BldgType         2919 non-null object\n",
      "Heating          2919 non-null object\n",
      "HeatingQC        2919 non-null object\n",
      "CentralAir       2919 non-null object\n",
      "Street           2919 non-null object\n",
      "LotShape         2919 non-null object\n",
      "LandContour      2919 non-null object\n",
      "LotConfig        2919 non-null object\n",
      "LandSlope        2919 non-null object\n",
      "Condition1       2919 non-null object\n",
      "HouseStyle       2919 non-null object\n",
      "RoofStyle        2919 non-null object\n",
      "ExterQual        2919 non-null object\n",
      "ExterCond        2919 non-null object\n",
      "Foundation       2919 non-null object\n",
      "PavedDrive       2919 non-null object\n",
      "SaleCondition    2919 non-null object\n",
      "dtypes: float64(13), int64(16), object(18)\n",
      "memory usage: 1.1+ MB\n"
     ]
    }
   ],
   "source": [
    "train2 = train[num_att + cat_att]\n",
    "train2.info()\n",
    "test2 = test[num_att + cat_att]\n",
    "test2.info()\n",
    "\n",
    "merged_df = pd.concat([train2, test2])\n",
    "merged_df.info()"
   ]
  },
  {
   "cell_type": "code",
   "execution_count": 12,
   "metadata": {},
   "outputs": [],
   "source": [
    "from sklearn.pipeline import Pipeline\n",
    "from sklearn.preprocessing import StandardScaler\n",
    "from sklearn.impute import SimpleImputer\n",
    "from sklearn.compose import ColumnTransformer\n",
    "from sklearn.preprocessing import OneHotEncoder\n",
    "\n",
    "num_pipeline = Pipeline([\n",
    "        ('imputer', SimpleImputer(strategy=\"median\")),\n",
    "        ('std_scaler', StandardScaler()),\n",
    "    ])\n",
    "train_prepared = num_pipeline.fit_transform(train[num_att])\n",
    "test_prepared  = num_pipeline.transform(test[num_att])\n",
    "\n",
    "\n",
    "full_pipeline = ColumnTransformer([\n",
    "        (\"num\", num_pipeline, num_att),\n",
    "        (\"cat\", OneHotEncoder(), cat_att),\n",
    "    ])\n",
    "\n",
    "train_test_full_prepared = full_pipeline.fit_transform(merged_df)\n",
    "train_full_prepared = full_pipeline.transform(train2)\n",
    "test_full_prepared = full_pipeline.transform(test2)\n"
   ]
  },
  {
   "cell_type": "code",
   "execution_count": 13,
   "metadata": {},
   "outputs": [
    {
     "name": "stdout",
     "output_type": "stream",
     "text": [
      "(1460, 29)\n",
      "(1459, 29)\n",
      "(1460, 137)\n",
      "(1459, 137)\n"
     ]
    }
   ],
   "source": [
    "print(train_prepared.shape)\n",
    "print(test_prepared.shape)\n",
    "print(train_full_prepared.shape)\n",
    "print(test_full_prepared.shape)"
   ]
  },
  {
   "cell_type": "code",
   "execution_count": 14,
   "metadata": {},
   "outputs": [
    {
     "data": {
      "text/plain": [
       "0.0014825296244601288"
      ]
     },
     "execution_count": 14,
     "metadata": {},
     "output_type": "execute_result"
    }
   ],
   "source": [
    "from sklearn.metrics import mean_squared_error\n",
    "from sklearn.ensemble import RandomForestRegressor\n",
    "\n",
    "forest_reg = RandomForestRegressor(bootstrap=False, n_estimators=350, max_features=32, random_state=42)\n",
    "forest_reg.fit(train_full_prepared, train_y)\n",
    "\n",
    "housing_predictions = forest_reg.predict(train_full_prepared)\n",
    "\n",
    "forest_mse = mean_squared_error(train_y, housing_predictions)\n",
    "forest_rmse = np.sqrt(forest_mse)\n",
    "forest_rmse"
   ]
  },
  {
   "cell_type": "code",
   "execution_count": 15,
   "metadata": {},
   "outputs": [
    {
     "name": "stdout",
     "output_type": "stream",
     "text": [
      "12.247694320220951\n",
      "12.247694320220994\n"
     ]
    }
   ],
   "source": [
    "print(housing_predictions[0])\n",
    "print(train_y[0])"
   ]
  },
  {
   "cell_type": "code",
   "execution_count": 16,
   "metadata": {},
   "outputs": [
    {
     "data": {
      "text/plain": [
       "207.04660940734664"
      ]
     },
     "execution_count": 16,
     "metadata": {},
     "output_type": "execute_result"
    }
   ],
   "source": [
    "train_y_normal = np.e**train_y\n",
    "pred_normal = np.e**housing_predictions\n",
    "\n",
    "forest_mse = mean_squared_error(train_y_normal, pred_normal)\n",
    "forest_rmse = np.sqrt(forest_mse)\n",
    "forest_rmse"
   ]
  },
  {
   "cell_type": "code",
   "execution_count": 17,
   "metadata": {},
   "outputs": [
    {
     "name": "stdout",
     "output_type": "stream",
     "text": [
      "208500.0\n",
      "208499.9999999911\n"
     ]
    }
   ],
   "source": [
    "print(train_y_normal[0])\n",
    "print(pred_normal[0])"
   ]
  },
  {
   "cell_type": "code",
   "execution_count": 18,
   "metadata": {
    "scrolled": false
   },
   "outputs": [
    {
     "data": {
      "text/plain": [
       "[(0.18786365933511148, 'OverallQual'),\n",
       " (0.12640716925415144, 'TotalLivingSF'),\n",
       " (0.11889273081845102, 'GrLivArea'),\n",
       " (0.09031749352955433, 'YearBuilt'),\n",
       " (0.0500136085459856, 'TA'),\n",
       " (0.0487536423382617, 'GarageCars'),\n",
       " (0.03592423554354211, 'TotalBsmtSF'),\n",
       " (0.03510298091024614, 'GarageArea'),\n",
       " (0.0331813053346966, '1stFlrSF'),\n",
       " (0.03223201276918607, 'FullBath'),\n",
       " (0.026209443720906646, 'GarageYrBlt'),\n",
       " (0.0185019835448396, 'LotArea'),\n",
       " (0.01646884474967142, 'Fireplaces'),\n",
       " (0.016434157117827766, 'YearRemodAdd'),\n",
       " (0.012771153371285081, 'BsmtFinSF1'),\n",
       " (0.011238412114254102, '2ndFlrSF'),\n",
       " (0.010561352282840261, 'OverallCond'),\n",
       " (0.009361808973827612, 'LotFrontage'),\n",
       " (0.009030164275310993, 'Y'),\n",
       " (0.008369428596090186, 'N'),\n",
       " (0.007623281911451152, 'BsmtUnfSF'),\n",
       " (0.007165044113858209, 'TotRmsAbvGrd'),\n",
       " (0.005843107634216687, 'PConc'),\n",
       " (0.005693006059367789, 'OpenPorchSF'),\n",
       " (0.004791734920514853, 'MasVnrArea'),\n",
       " (0.0043439338123199035, 'MSSubClass'),\n",
       " (0.004300666155515054, 'Gd'),\n",
       " (0.0037903802094933037, 'BedroomAbvGr'),\n",
       " (0.003010740179218032, 'WoodDeckSF'),\n",
       " (0.0026626115641871667, 'HalfBath'),\n",
       " (0.0025331846354849554, 'Ex'),\n",
       " (0.002337282697096176, 'KitchenAbvGr'),\n",
       " (0.002317626780016523, 'YrSold'),\n",
       " (0.0020644504438477465, 'EnclosedPorch'),\n",
       " (0.0015917466557813713, 'Crawfor'),\n",
       " (0.0015377372547958968, 'Ex'),\n",
       " (0.001528449463766364, 'N'),\n",
       " (0.0015166692873480948, 'BsmtFullBath'),\n",
       " (0.0014396398215499393, 'Edwards'),\n",
       " (0.0013545806573129421, 'Abnorml'),\n",
       " (0.0013391195240063443, 'Normal'),\n",
       " (0.0013156186426288648, 'Fa'),\n",
       " (0.001277480665858944, 'OldTown'),\n",
       " (0.0012287032381085481, 'Reg'),\n",
       " (0.0011887612204325134, '1Fam'),\n",
       " (0.0011164089864841994, 'Bnk'),\n",
       " (0.0010389435957775081, 'Y'),\n",
       " (0.0008768938870064089, 'Hip'),\n",
       " (0.000868433098115851, 'Fa'),\n",
       " (0.0008216870326888036, '2Story'),\n",
       " (0.000814197750721118, 'Gable'),\n",
       " (0.0008042978493412593, '1Story'),\n",
       " (0.0007863976980282043, 'IR1'),\n",
       " (0.0007832509747024352, 'IDOTRR'),\n",
       " (0.0007790773504387176, 'Norm'),\n",
       " (0.0007737876270846651, 'TA'),\n",
       " (0.0007327646959866796, 'CBlock'),\n",
       " (0.0007258522650675551, 'Gtl'),\n",
       " (0.0007179922345802947, 'TA'),\n",
       " (0.0007112640904567405, 'NAmes'),\n",
       " (0.0007034460504999117, 'Lvl'),\n",
       " (0.0006904624800982812, 'Inside'),\n",
       " (0.0006417430775634923, 'BrkTil'),\n",
       " (0.0005946789690739122, 'Partial'),\n",
       " (0.0005099358071734862, '1.5Fin'),\n",
       " (0.0005002685443525815, 'Corner'),\n",
       " (0.0004971336246429457, 'Fa'),\n",
       " (0.0004959013863487397, 'Mod'),\n",
       " (0.0004866219782619491, 'Family'),\n",
       " (0.0004799522659597336, 'Artery'),\n",
       " (0.0004758604556647055, 'Gd'),\n",
       " (0.00043894553517990614, 'Feedr'),\n",
       " (0.00043580345553471565, 'Sawyer'),\n",
       " (0.0004190996448303225, 'Gd'),\n",
       " (0.00037812398210319126, 'Gambrel'),\n",
       " (0.0003499359473174912, 'ClearCr'),\n",
       " (0.00034158243646526665, 'HLS'),\n",
       " (0.00033510347425678695, 'Low'),\n",
       " (0.00031965752755716684, 'MeadowV'),\n",
       " (0.00030914389818178216, 'CulDSac'),\n",
       " (0.0003052432204206783, 'Flat'),\n",
       " (0.00030509221409144073, 'NridgHt'),\n",
       " (0.0002886435111776733, 'Duplex'),\n",
       " (0.0002823257724067941, 'Somerst'),\n",
       " (0.00027381533427843594, 'BrkSide'),\n",
       " (0.0002699315433702706, 'CollgCr'),\n",
       " (0.0002579152320465657, 'NWAmes'),\n",
       " (0.0002545684290367131, 'GasA'),\n",
       " (0.00024411860493866547, 'P'),\n",
       " (0.00022181712684806224, 'NoRidge'),\n",
       " (0.00021686477283251572, 'Alloca'),\n",
       " (0.00020870066917738303, 'SLvl'),\n",
       " (0.00020057951325693396, 'IR2'),\n",
       " (0.00019695596579293392, 'StoneBr'),\n",
       " (0.00019489241409666977, 'Gilbert'),\n",
       " (0.00019154114859694545, 'Grav'),\n",
       " (0.000182259320809187, 'FR2'),\n",
       " (0.00017934275302650558, 'TwnhsE'),\n",
       " (0.00016979813483835075, 'Mitchel'),\n",
       " (0.0001583022233657715, 'Sev'),\n",
       " (0.00015415802247017272, 'Slab'),\n",
       " (0.00014980202221917335, 'SawyerW'),\n",
       " (0.00014779945161250382, 'Twnhs'),\n",
       " (0.00014098764991700877, 'Grvl'),\n",
       " (0.0001331317548612424, 'SWISU'),\n",
       " (0.00011515915912028991, 'PosN'),\n",
       " (0.00011333917459913705, 'Timber'),\n",
       " (0.00010292861104162352, '2fmCon'),\n",
       " (9.942979895221239e-05, 'RRAe'),\n",
       " (9.921911316289308e-05, 'RRAn'),\n",
       " (9.316590124835603e-05, 'Pave'),\n",
       " (9.258072023703906e-05, 'GasW'),\n",
       " (9.032657396965708e-05, 'IR3'),\n",
       " (6.793806581792683e-05, 'OthW'),\n",
       " (6.632456145475836e-05, '2.5Fin'),\n",
       " (6.594069669681296e-05, '2.5Unf'),\n",
       " (6.222988316998383e-05, '1.5Unf'),\n",
       " (6.147961207390623e-05, 'BrDale'),\n",
       " (5.8951113867994066e-05, 'SFoyer'),\n",
       " (5.28568661839589e-05, 'Veenker'),\n",
       " (4.5629286902090884e-05, 'PosA'),\n",
       " (3.060023722032489e-05, 'Blmngtn'),\n",
       " (2.3579807258824114e-05, 'NPkVill'),\n",
       " (1.8359420751388064e-05, 'RRNn'),\n",
       " (1.6100130592647873e-05, 'FR3'),\n",
       " (1.5845278812842102e-05, 'Po'),\n",
       " (1.5820810110067337e-05, 'AdjLand'),\n",
       " (1.262740105448776e-05, 'Mansard'),\n",
       " (1.2321887943564756e-05, 'Stone'),\n",
       " (1.1667733997609742e-05, 'Ex'),\n",
       " (1.0563910397901607e-05, 'Wood'),\n",
       " (6.952013313562215e-06, 'Shed'),\n",
       " (6.832941645951619e-06, 'Floor'),\n",
       " (5.9301532601988645e-06, 'Blueste'),\n",
       " (5.516197655113128e-06, 'Wall'),\n",
       " (3.6607645146505806e-06, 'Po'),\n",
       " (1.7410157193102121e-06, 'RRNe')]"
      ]
     },
     "execution_count": 18,
     "metadata": {},
     "output_type": "execute_result"
    }
   ],
   "source": [
    "# forest_reg.feature_importances_\n",
    "\n",
    "cat_encoder = full_pipeline.named_transformers_[\"cat\"]\n",
    "cat_one_hot_attribs = []\n",
    "for a in cat_encoder.categories_:\n",
    "    for b in a:\n",
    "        cat_one_hot_attribs.append(b)\n",
    "# print(cat_one_hot_attribs)\n",
    "attributes = num_att + cat_one_hot_attribs\n",
    "sorted(zip(forest_reg.feature_importances_, attributes), reverse=True)"
   ]
  },
  {
   "cell_type": "code",
   "execution_count": 19,
   "metadata": {},
   "outputs": [
    {
     "name": "stdout",
     "output_type": "stream",
     "text": [
      "scores: [0.132298   0.12057327 0.13357332 0.17228509 0.15541047 0.10981791\n",
      " 0.13288372 0.11615526 0.12502221 0.13596284]\n",
      "mean: 0.1333982082989722\n",
      "std: 0.017586354912483768\n",
      "count    10.000000\n",
      "mean      0.133398\n",
      "std       0.018538\n",
      "min       0.109818\n",
      "25%       0.121686\n",
      "50%       0.132591\n",
      "75%       0.135365\n",
      "max       0.172285\n",
      "dtype: float64\n"
     ]
    }
   ],
   "source": [
    "from sklearn.model_selection import cross_val_score\n",
    "def display_scores(scores):\n",
    "    print(\"scores:\", scores)\n",
    "    print(\"mean:\", scores.mean())\n",
    "    print(\"std:\", scores.std())\n",
    "\n",
    "forest_reg = RandomForestRegressor(bootstrap=False, n_estimators=200, max_features=32, random_state=42)\n",
    "forest_reg.fit(train_full_prepared, train_y)\n",
    "\n",
    "forest_scores = cross_val_score(forest_reg, train_full_prepared, train_y,\n",
    "                                scoring=\"neg_mean_squared_error\", cv=10)\n",
    "forest_rmse_scores = np.sqrt(-forest_scores)\n",
    "display_scores(forest_rmse_scores)\n",
    "\n",
    "print(pd.Series(forest_rmse_scores).describe())"
   ]
  },
  {
   "cell_type": "code",
   "execution_count": 20,
   "metadata": {},
   "outputs": [
    {
     "name": "stdout",
     "output_type": "stream",
     "text": [
      "Fitting 10 folds for each of 36 candidates, totalling 360 fits\n"
     ]
    },
    {
     "name": "stderr",
     "output_type": "stream",
     "text": [
      "[Parallel(n_jobs=-1)]: Using backend LokyBackend with 12 concurrent workers.\n",
      "[Parallel(n_jobs=-1)]: Done   8 tasks      | elapsed:    5.3s\n",
      "[Parallel(n_jobs=-1)]: Done 104 tasks      | elapsed:   54.6s\n",
      "[Parallel(n_jobs=-1)]: Done 264 tasks      | elapsed:  2.0min\n",
      "[Parallel(n_jobs=-1)]: Done 360 out of 360 | elapsed:  3.0min finished\n"
     ]
    },
    {
     "data": {
      "text/plain": [
       "GridSearchCV(cv=10, error_score='raise-deprecating',\n",
       "             estimator=RandomForestRegressor(bootstrap=True, criterion='mse',\n",
       "                                             max_depth=None,\n",
       "                                             max_features='auto',\n",
       "                                             max_leaf_nodes=None,\n",
       "                                             min_impurity_decrease=0.0,\n",
       "                                             min_impurity_split=None,\n",
       "                                             min_samples_leaf=1,\n",
       "                                             min_samples_split=2,\n",
       "                                             min_weight_fraction_leaf=0.0,\n",
       "                                             n_estimators='warn', n_jobs=None,\n",
       "                                             oob_score=False, random_state=42,\n",
       "                                             verbose=0, warm_start=False),\n",
       "             iid='warn', n_jobs=-1,\n",
       "             param_grid=[{'max_features': [16, 32, 64],\n",
       "                          'n_estimators': [100, 200, 300, 350, 400, 450]},\n",
       "                         {'bootstrap': [False], 'max_features': [16, 32, 64],\n",
       "                          'n_estimators': [100, 200, 300, 350, 400, 450]}],\n",
       "             pre_dispatch='2*n_jobs', refit=True, return_train_score=True,\n",
       "             scoring='neg_mean_squared_error', verbose=3)"
      ]
     },
     "execution_count": 20,
     "metadata": {},
     "output_type": "execute_result"
    }
   ],
   "source": [
    "from sklearn.model_selection import GridSearchCV\n",
    "\n",
    "param_grid = [\n",
    "    # sprawdza 12 (3×4) kombinacji hiperparametrów\n",
    "    {'n_estimators': [100, 200, 300, 350, 400, 450], 'max_features': [16, 32, 64]},\n",
    "    # następnie sprawdza 6 (2×3) kombinacji z wyłączonym parametrem bootstrap (False)\n",
    "    {'bootstrap': [False], 'n_estimators': [100, 200, 300, 350, 400, 450], \n",
    "     'max_features': [16, 32, 64]},\n",
    "  ]\n",
    "\n",
    "forest_reg = RandomForestRegressor(random_state=42)\n",
    "# przeprowadza proces uczenia na pięciu podzbiorach, czyli łącznie (12+6)*5=90 przebiegów \n",
    "grid_search = GridSearchCV(forest_reg, param_grid, cv=10,\n",
    "                           scoring='neg_mean_squared_error',\n",
    "                           return_train_score=True, verbose=3, n_jobs=-1)\n",
    "grid_search.fit(train_full_prepared, train_y)"
   ]
  },
  {
   "cell_type": "code",
   "execution_count": 21,
   "metadata": {},
   "outputs": [
    {
     "data": {
      "text/plain": [
       "{'bootstrap': False, 'max_features': 32, 'n_estimators': 450}"
      ]
     },
     "execution_count": 21,
     "metadata": {},
     "output_type": "execute_result"
    }
   ],
   "source": [
    "grid_search.best_params_"
   ]
  },
  {
   "cell_type": "code",
   "execution_count": 22,
   "metadata": {},
   "outputs": [
    {
     "data": {
      "text/plain": [
       "RandomForestRegressor(bootstrap=False, criterion='mse', max_depth=None,\n",
       "                      max_features=32, max_leaf_nodes=None,\n",
       "                      min_impurity_decrease=0.0, min_impurity_split=None,\n",
       "                      min_samples_leaf=1, min_samples_split=2,\n",
       "                      min_weight_fraction_leaf=0.0, n_estimators=450,\n",
       "                      n_jobs=None, oob_score=False, random_state=42, verbose=0,\n",
       "                      warm_start=False)"
      ]
     },
     "execution_count": 22,
     "metadata": {},
     "output_type": "execute_result"
    }
   ],
   "source": [
    "grid_search.best_estimator_"
   ]
  },
  {
   "cell_type": "code",
   "execution_count": 23,
   "metadata": {},
   "outputs": [
    {
     "name": "stdout",
     "output_type": "stream",
     "text": [
      "0.13819125682937164 {'max_features': 16, 'n_estimators': 100}\n",
      "0.13738795238586812 {'max_features': 16, 'n_estimators': 200}\n",
      "0.13682479364639416 {'max_features': 16, 'n_estimators': 300}\n",
      "0.13668269904258343 {'max_features': 16, 'n_estimators': 350}\n",
      "0.13691310388920702 {'max_features': 16, 'n_estimators': 400}\n",
      "0.1368491914316079 {'max_features': 16, 'n_estimators': 450}\n",
      "0.13785764443382584 {'max_features': 32, 'n_estimators': 100}\n",
      "0.1368810905213422 {'max_features': 32, 'n_estimators': 200}\n",
      "0.13588687453908863 {'max_features': 32, 'n_estimators': 300}\n",
      "0.13587249837353724 {'max_features': 32, 'n_estimators': 350}\n",
      "0.13587721592976412 {'max_features': 32, 'n_estimators': 400}\n",
      "0.13599638056763205 {'max_features': 32, 'n_estimators': 450}\n",
      "0.13678998686726665 {'max_features': 64, 'n_estimators': 100}\n",
      "0.13667053531472315 {'max_features': 64, 'n_estimators': 200}\n",
      "0.13681513615963795 {'max_features': 64, 'n_estimators': 300}\n",
      "0.1368119212841651 {'max_features': 64, 'n_estimators': 350}\n",
      "0.13684229050658658 {'max_features': 64, 'n_estimators': 400}\n",
      "0.13673147743032935 {'max_features': 64, 'n_estimators': 450}\n",
      "0.135209788914385 {'bootstrap': False, 'max_features': 16, 'n_estimators': 100}\n",
      "0.13536482770996888 {'bootstrap': False, 'max_features': 16, 'n_estimators': 200}\n",
      "0.13485945040755234 {'bootstrap': False, 'max_features': 16, 'n_estimators': 300}\n",
      "0.134801629968191 {'bootstrap': False, 'max_features': 16, 'n_estimators': 350}\n",
      "0.1347577816974814 {'bootstrap': False, 'max_features': 16, 'n_estimators': 400}\n",
      "0.13470996044703848 {'bootstrap': False, 'max_features': 16, 'n_estimators': 450}\n",
      "0.13447701504108933 {'bootstrap': False, 'max_features': 32, 'n_estimators': 100}\n",
      "0.13455245020616985 {'bootstrap': False, 'max_features': 32, 'n_estimators': 200}\n",
      "0.13423678954350637 {'bootstrap': False, 'max_features': 32, 'n_estimators': 300}\n",
      "0.13431421502808658 {'bootstrap': False, 'max_features': 32, 'n_estimators': 350}\n",
      "0.13412855500097665 {'bootstrap': False, 'max_features': 32, 'n_estimators': 400}\n",
      "0.13398905544733605 {'bootstrap': False, 'max_features': 32, 'n_estimators': 450}\n",
      "0.13744422816371643 {'bootstrap': False, 'max_features': 64, 'n_estimators': 100}\n",
      "0.1373871435770698 {'bootstrap': False, 'max_features': 64, 'n_estimators': 200}\n",
      "0.1372843709759806 {'bootstrap': False, 'max_features': 64, 'n_estimators': 300}\n",
      "0.13721727274235176 {'bootstrap': False, 'max_features': 64, 'n_estimators': 350}\n",
      "0.13725155496409466 {'bootstrap': False, 'max_features': 64, 'n_estimators': 400}\n",
      "0.13713256821111788 {'bootstrap': False, 'max_features': 64, 'n_estimators': 450}\n"
     ]
    }
   ],
   "source": [
    "cvres = grid_search.cv_results_\n",
    "for mean_score, params in zip(cvres[\"mean_test_score\"], cvres[\"params\"]):\n",
    "    print(np.sqrt(-mean_score), params)"
   ]
  },
  {
   "cell_type": "code",
   "execution_count": 24,
   "metadata": {},
   "outputs": [
    {
     "data": {
      "text/plain": [
       "array([4.45126665e-03, 9.18402277e-03, 1.81381503e-02, 1.90648143e-01,\n",
       "       1.04727165e-02, 8.71248937e-02, 1.59410953e-02, 4.63486810e-03,\n",
       "       1.28499120e-02, 7.67928301e-03, 3.77892984e-02, 3.35876587e-02,\n",
       "       1.18368531e-02, 1.19554835e-01, 1.49146890e-03, 3.18946464e-02,\n",
       "       2.47763466e-03, 3.69653132e-03, 2.29343903e-03, 6.61763054e-03,\n",
       "       1.59648497e-02, 2.58574216e-02, 4.64894528e-02, 3.96132177e-02,\n",
       "       3.03009798e-03, 6.05908572e-03, 2.04783027e-03, 2.30929407e-03,\n",
       "       1.23764446e-01, 2.80970391e-05, 6.00723566e-06, 5.68488190e-05,\n",
       "       2.87366499e-04, 3.66390265e-04, 2.74859353e-04, 1.65767594e-03,\n",
       "       1.44306853e-03, 1.96246898e-04, 7.39075745e-04, 2.99043156e-04,\n",
       "       1.79706154e-04, 7.20167869e-04, 2.53090209e-05, 2.52869314e-04,\n",
       "       2.04683851e-04, 2.80739089e-04, 1.31096756e-03, 1.40629511e-04,\n",
       "       4.72544276e-04, 1.55541937e-04, 2.91481502e-04, 2.05793858e-04,\n",
       "       1.17556223e-04, 5.54089447e-05, 1.21223081e-03, 1.02889063e-04,\n",
       "       3.17250930e-04, 1.70005382e-04, 1.85210038e-04, 8.05004242e-06,\n",
       "       2.41676005e-04, 9.83016387e-05, 1.94699174e-04, 6.27079726e-05,\n",
       "       4.98959932e-06, 1.33874894e-03, 4.71304041e-04, 4.73808209e-04,\n",
       "       3.74997133e-06, 7.61388292e-04, 8.24918288e-03, 9.27236887e-03,\n",
       "       1.25139422e-04, 8.53250231e-05, 7.58433368e-04, 2.06620341e-04,\n",
       "       1.05745193e-04, 1.25511097e-03, 1.11856590e-03, 3.27007199e-04,\n",
       "       3.39177961e-04, 7.52868270e-04, 5.10046518e-04, 2.96374077e-04,\n",
       "       1.95364978e-04, 1.67584142e-05, 6.93072928e-04, 6.90622293e-04,\n",
       "       4.79855008e-04, 1.55231796e-04, 4.81708453e-04, 4.51936708e-04,\n",
       "       7.76223860e-04, 4.45328002e-05, 1.11954645e-04, 1.07980940e-04,\n",
       "       1.08350027e-04, 1.68832635e-06, 1.75833916e-05, 5.36902802e-04,\n",
       "       6.48269132e-05, 7.85282258e-04, 7.06699848e-05, 7.94555988e-05,\n",
       "       8.01204640e-04, 5.87849953e-05, 2.01037422e-04, 3.24271311e-04,\n",
       "       8.49799061e-04, 3.80159978e-04, 8.77430313e-04, 1.22969477e-05,\n",
       "       5.53254537e-06, 2.42520983e-03, 9.51362740e-04, 4.30470042e-03,\n",
       "       4.85268517e-02, 1.15300352e-05, 1.42291565e-03, 4.20869870e-04,\n",
       "       1.62216443e-05, 7.93256784e-04, 6.54120721e-04, 1.15381610e-03,\n",
       "       6.73645598e-03, 1.67571864e-04, 1.33514268e-05, 9.77395272e-06,\n",
       "       1.44558871e-03, 2.31468757e-04, 9.80605223e-04, 1.35341701e-03,\n",
       "       1.42151604e-05, 2.18023531e-04, 4.63816056e-04, 1.39482231e-03,\n",
       "       5.92418094e-04])"
      ]
     },
     "execution_count": 24,
     "metadata": {},
     "output_type": "execute_result"
    }
   ],
   "source": [
    "feature_importances = grid_search.best_estimator_.feature_importances_\n",
    "feature_importances"
   ]
  },
  {
   "cell_type": "code",
   "execution_count": 25,
   "metadata": {
    "scrolled": false
   },
   "outputs": [
    {
     "data": {
      "text/plain": [
       "[(0.1906481429797765, 'OverallQual'),\n",
       " (0.12376444557572433, 'TotalLivingSF'),\n",
       " (0.1195548346212969, 'GrLivArea'),\n",
       " (0.08712489369115749, 'YearBuilt'),\n",
       " (0.04852685168472486, 'TA'),\n",
       " (0.046489452762279754, 'GarageCars'),\n",
       " (0.039613217729576676, 'GarageArea'),\n",
       " (0.037789298383509126, 'TotalBsmtSF'),\n",
       " (0.033587658709761596, '1stFlrSF'),\n",
       " (0.031894646444014255, 'FullBath'),\n",
       " (0.02585742156337479, 'GarageYrBlt'),\n",
       " (0.01813815034577932, 'LotArea'),\n",
       " (0.01596484971544268, 'Fireplaces'),\n",
       " (0.015941095345196443, 'YearRemodAdd'),\n",
       " (0.012849911964804046, 'BsmtFinSF1'),\n",
       " (0.01183685306828614, '2ndFlrSF'),\n",
       " (0.010472716508927615, 'OverallCond'),\n",
       " (0.00927236887246009, 'Y'),\n",
       " (0.00918402277117282, 'LotFrontage'),\n",
       " (0.008249182876605964, 'N'),\n",
       " (0.007679283010564685, 'BsmtUnfSF'),\n",
       " (0.006736455983417287, 'PConc'),\n",
       " (0.0066176305437349375, 'TotRmsAbvGrd'),\n",
       " (0.006059085718137152, 'OpenPorchSF'),\n",
       " (0.004634868102684757, 'MasVnrArea'),\n",
       " (0.004451266654215717, 'MSSubClass'),\n",
       " (0.004304700421924606, 'Gd'),\n",
       " (0.0036965313154233357, 'BedroomAbvGr'),\n",
       " (0.0030300979774155806, 'WoodDeckSF'),\n",
       " (0.002477634656888974, 'HalfBath'),\n",
       " (0.002425209825616045, 'Ex'),\n",
       " (0.0023092940675173645, 'YrSold'),\n",
       " (0.002293439032210484, 'KitchenAbvGr'),\n",
       " (0.002047830266621377, 'EnclosedPorch'),\n",
       " (0.0016576759371272046, 'Crawfor'),\n",
       " (0.0014914688991730918, 'BsmtFullBath'),\n",
       " (0.0014455887090948786, 'N'),\n",
       " (0.0014430685272452096, 'Edwards'),\n",
       " (0.0014229156493648363, 'Fa'),\n",
       " (0.0013948223064977534, 'Normal'),\n",
       " (0.001353417013715155, 'Abnorml'),\n",
       " (0.001338748940507946, 'Ex'),\n",
       " (0.0013109675567338453, 'OldTown'),\n",
       " (0.001255110973631979, 'Reg'),\n",
       " (0.0012122308080699158, '1Fam'),\n",
       " (0.001153816099456672, 'CBlock'),\n",
       " (0.0011185659009832671, 'Bnk'),\n",
       " (0.0009806052230333941, 'Y'),\n",
       " (0.0009513627404189488, 'Fa'),\n",
       " (0.0008774303132072559, 'Hip'),\n",
       " (0.0008497990608054232, 'Gable'),\n",
       " (0.0008012046401897052, '2Story'),\n",
       " (0.0007932567835898289, 'TA'),\n",
       " (0.0007852822579736658, '1Story'),\n",
       " (0.0007762238595977758, 'Norm'),\n",
       " (0.0007613882916192205, 'TA'),\n",
       " (0.0007584333675370789, 'IR1'),\n",
       " (0.0007528682696600217, 'Lvl'),\n",
       " (0.0007390757453965004, 'IDOTRR'),\n",
       " (0.0007201678689834466, 'NAmes'),\n",
       " (0.0006930729275967618, 'Inside'),\n",
       " (0.0006906222929544762, 'Gtl'),\n",
       " (0.0006541207209927368, 'BrkTil'),\n",
       " (0.0005924180941989499, 'Partial'),\n",
       " (0.0005369028016605468, '1.5Fin'),\n",
       " (0.0005100465178484985, 'Corner'),\n",
       " (0.00048170845344770215, 'Artery'),\n",
       " (0.00047985500780056483, 'Mod'),\n",
       " (0.0004738082094532386, 'Gd'),\n",
       " (0.00047254427612385895, 'Sawyer'),\n",
       " (0.00047130404124626354, 'Fa'),\n",
       " (0.0004638160559484019, 'Family'),\n",
       " (0.00045193670800384403, 'Feedr'),\n",
       " (0.0004208698697867994, 'Gd'),\n",
       " (0.00038015997838413573, 'Gambrel'),\n",
       " (0.0003663902648390859, 'ClearCr'),\n",
       " (0.00033917796085992886, 'Low'),\n",
       " (0.00032700719938909305, 'HLS'),\n",
       " (0.0003242713111383021, 'Flat'),\n",
       " (0.0003172509296365668, 'Duplex'),\n",
       " (0.00029904315636850536, 'MeadowV'),\n",
       " (0.00029637407675047915, 'CulDSac'),\n",
       " (0.0002914815021108549, 'Somerst'),\n",
       " (0.000287366499425296, 'BrkSide'),\n",
       " (0.0002807390892546194, 'NridgHt'),\n",
       " (0.0002748593526864895, 'CollgCr'),\n",
       " (0.0002528693140285398, 'NWAmes'),\n",
       " (0.0002416760049516283, 'GasA'),\n",
       " (0.00023146875696218648, 'P'),\n",
       " (0.0002180235310928018, 'Alloca'),\n",
       " (0.00020662034076208787, 'IR2'),\n",
       " (0.0002057938583105193, 'StoneBr'),\n",
       " (0.0002046838512131679, 'NoRidge'),\n",
       " (0.00020103742159826408, 'SLvl'),\n",
       " (0.00019624689761818748, 'Gilbert'),\n",
       " (0.00019536497792597735, 'FR2'),\n",
       " (0.00019469917431984315, 'Grav'),\n",
       " (0.00018521003767340576, 'TwnhsE'),\n",
       " (0.00017970615431375138, 'Mitchel'),\n",
       " (0.0001700053819205171, 'Twnhs'),\n",
       " (0.0001675718639579439, 'Slab'),\n",
       " (0.00015554193745069734, 'SawyerW'),\n",
       " (0.00015523179647764028, 'Sev'),\n",
       " (0.00014062951145538631, 'SWISU'),\n",
       " (0.0001251394221097619, 'Grvl'),\n",
       " (0.00011755622270097811, 'Timber'),\n",
       " (0.0001119546448545449, 'PosN'),\n",
       " (0.00010835002668450923, 'RRAn'),\n",
       " (0.00010798093955383921, 'RRAe'),\n",
       " (0.0001057451930815, 'IR3'),\n",
       " (0.0001028890632899076, '2fmCon'),\n",
       " (9.830163872390396e-05, 'GasW'),\n",
       " (8.532502313425345e-05, 'Pave'),\n",
       " (7.945559882988596e-05, '2.5Unf'),\n",
       " (7.06699848084041e-05, '2.5Fin'),\n",
       " (6.482691319446966e-05, '1.5Unf'),\n",
       " (6.270797264899732e-05, 'OthW'),\n",
       " (5.87849953065272e-05, 'SFoyer'),\n",
       " (5.6848818954678935e-05, 'BrDale'),\n",
       " (5.540894467996863e-05, 'Veenker'),\n",
       " (4.453280024087497e-05, 'PosA'),\n",
       " (2.809703911015739e-05, 'Blmngtn'),\n",
       " (2.5309020937083638e-05, 'NPkVill'),\n",
       " (1.7583391636893652e-05, 'RRNn'),\n",
       " (1.6758414214929105e-05, 'FR3'),\n",
       " (1.6221644252485696e-05, 'Po'),\n",
       " (1.421516036770156e-05, 'AdjLand'),\n",
       " (1.3351426843329294e-05, 'Stone'),\n",
       " (1.2296947719893931e-05, 'Mansard'),\n",
       " (1.153003515897071e-05, 'Ex'),\n",
       " (9.773952724367921e-06, 'Wood'),\n",
       " (8.050042416751481e-06, 'Floor'),\n",
       " (6.007235661740529e-06, 'Blueste'),\n",
       " (5.532545365549054e-06, 'Shed'),\n",
       " (4.989599320407417e-06, 'Wall'),\n",
       " (3.7499713273002126e-06, 'Po'),\n",
       " (1.6883263492116873e-06, 'RRNe')]"
      ]
     },
     "execution_count": 25,
     "metadata": {},
     "output_type": "execute_result"
    }
   ],
   "source": [
    "cat_encoder = full_pipeline.named_transformers_[\"cat\"]\n",
    "cat_one_hot_attribs = []\n",
    "for a in cat_encoder.categories_:\n",
    "    for b in a:\n",
    "        cat_one_hot_attribs.append(b)\n",
    "# print(cat_one_hot_attribs)\n",
    "attributes = num_att + cat_one_hot_attribs\n",
    "sorted(zip(feature_importances, attributes), reverse=True)"
   ]
  },
  {
   "cell_type": "code",
   "execution_count": 26,
   "metadata": {},
   "outputs": [],
   "source": [
    "# y_pred = forest_reg.predict(test_full_prepared)\n",
    "y_pred = grid_search.predict(test_full_prepared)\n",
    "y_pred_normal = np.e**y_pred\n",
    "sub = pd.DataFrame({'Id': test['Id'], 'SalePrice': y_pred_normal})"
   ]
  },
  {
   "cell_type": "code",
   "execution_count": 27,
   "metadata": {},
   "outputs": [],
   "source": [
    "sub.to_csv(\"data/submission_script29_TotalLivingSF.csv\", index=False)"
   ]
  },
  {
   "cell_type": "code",
   "execution_count": 28,
   "metadata": {},
   "outputs": [
    {
     "data": {
      "text/plain": [
       "(1459, 2)"
      ]
     },
     "execution_count": 28,
     "metadata": {},
     "output_type": "execute_result"
    }
   ],
   "source": [
    "sub.shape"
   ]
  },
  {
   "cell_type": "code",
   "execution_count": null,
   "metadata": {},
   "outputs": [],
   "source": []
  }
 ],
 "metadata": {
  "kernelspec": {
   "display_name": "Python 3",
   "language": "python",
   "name": "python3"
  },
  "language_info": {
   "codemirror_mode": {
    "name": "ipython",
    "version": 3
   },
   "file_extension": ".py",
   "mimetype": "text/x-python",
   "name": "python",
   "nbconvert_exporter": "python",
   "pygments_lexer": "ipython3",
   "version": "3.7.4"
  }
 },
 "nbformat": 4,
 "nbformat_minor": 2
}
