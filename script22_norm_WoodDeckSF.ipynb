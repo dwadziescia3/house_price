{
 "cells": [
  {
   "cell_type": "code",
   "execution_count": 1,
   "metadata": {},
   "outputs": [],
   "source": [
    "import sys\n",
    "assert sys.version_info >= (3, 5)\n",
    "\n",
    "import sklearn\n",
    "assert sklearn.__version__ >= \"0.20\"\n",
    "\n",
    "import numpy as np\n",
    "import os\n",
    "\n",
    "import matplotlib as mpl\n",
    "import matplotlib.pyplot as plt\n",
    "mpl.rc('axes', labelsize=14)\n",
    "mpl.rc('xtick', labelsize=12)\n",
    "mpl.rc('ytick', labelsize=12)\n",
    "\n",
    "import warnings\n",
    "warnings.filterwarnings(action=\"ignore\", message=\"^internal gelsd\")"
   ]
  },
  {
   "cell_type": "code",
   "execution_count": 2,
   "metadata": {},
   "outputs": [],
   "source": [
    "import pandas as pd\n",
    "\n",
    "def load_housing_data(housing_path='data'):\n",
    "    train_csv_path = os.path.join(housing_path, \"train.csv\")\n",
    "    test_csv_path = os.path.join(housing_path, \"test.csv\")\n",
    "    return pd.read_csv(train_csv_path), pd.read_csv(test_csv_path)\n",
    "\n",
    "train, test = load_housing_data()"
   ]
  },
  {
   "cell_type": "code",
   "execution_count": 3,
   "metadata": {},
   "outputs": [
    {
     "data": {
      "text/plain": [
       "SalePrice        1.000000\n",
       "OverallQual      0.790982\n",
       "GrLivArea        0.708624\n",
       "GarageCars       0.640409\n",
       "GarageArea       0.623431\n",
       "TotalBsmtSF      0.613581\n",
       "1stFlrSF         0.605852\n",
       "FullBath         0.560664\n",
       "TotRmsAbvGrd     0.533723\n",
       "YearBuilt        0.522897\n",
       "YearRemodAdd     0.507101\n",
       "GarageYrBlt      0.486362\n",
       "MasVnrArea       0.477493\n",
       "Fireplaces       0.466929\n",
       "BsmtFinSF1       0.386420\n",
       "LotFrontage      0.351799\n",
       "WoodDeckSF       0.324413\n",
       "2ndFlrSF         0.319334\n",
       "OpenPorchSF      0.315856\n",
       "HalfBath         0.284108\n",
       "LotArea          0.263843\n",
       "BsmtFullBath     0.227122\n",
       "BsmtUnfSF        0.214479\n",
       "BedroomAbvGr     0.168213\n",
       "ScreenPorch      0.111447\n",
       "PoolArea         0.092404\n",
       "MoSold           0.046432\n",
       "3SsnPorch        0.044584\n",
       "BsmtFinSF2      -0.011378\n",
       "BsmtHalfBath    -0.016844\n",
       "MiscVal         -0.021190\n",
       "Id              -0.021917\n",
       "LowQualFinSF    -0.025606\n",
       "YrSold          -0.028923\n",
       "OverallCond     -0.077856\n",
       "MSSubClass      -0.084284\n",
       "EnclosedPorch   -0.128578\n",
       "KitchenAbvGr    -0.135907\n",
       "Name: SalePrice, dtype: float64"
      ]
     },
     "execution_count": 3,
     "metadata": {},
     "output_type": "execute_result"
    }
   ],
   "source": [
    "corr_matrix = train.corr()\n",
    "corr_matrix[\"SalePrice\"].sort_values(ascending=False)"
   ]
  },
  {
   "cell_type": "code",
   "execution_count": 4,
   "metadata": {},
   "outputs": [
    {
     "name": "stdout",
     "output_type": "stream",
     "text": [
      "['MSSubClass', 'LotFrontage', 'LotArea', 'OverallQual', 'OverallCond', 'YearBuilt', 'YearRemodAdd', 'MasVnrArea', 'BsmtFinSF1', 'BsmtUnfSF', 'TotalBsmtSF', '1stFlrSF', '2ndFlrSF', 'GrLivArea', 'BsmtFullBath', 'FullBath', 'HalfBath', 'BedroomAbvGr', 'KitchenAbvGr', 'TotRmsAbvGrd', 'Fireplaces', 'GarageYrBlt', 'GarageCars', 'GarageArea', 'WoodDeckSF', 'OpenPorchSF', 'EnclosedPorch', 'YrSold']\n"
     ]
    }
   ],
   "source": [
    "num_att = list(train.select_dtypes([np.number]).columns)\n",
    "\n",
    "# att = ['OverallQual', 'GrLivArea']\n",
    "\n",
    "# to_remove = ['BsmtFinSF2', 'MoSold', '3SsnPorch', 'BsmtHalfBath', 'MiscVal', 'LowQualFinSF', 'YrSold',\n",
    "#             'PoolArea', 'OverallCond', 'MSSubClass', 'ScreenPorch']\n",
    "\n",
    "to_remove = ['PoolArea', 'BsmtHalfBath', 'MiscVal', 'LowQualFinSF', 'ScreenPorch', '3SsnPorch',\n",
    "            'BsmtFinSF2', 'MoSold', 'YrSold',\n",
    "            'GarageArea', 'TotalBsmtSF']\n",
    "\n",
    "to_remove = ['PoolArea', 'BsmtHalfBath', 'MiscVal', 'LowQualFinSF', 'ScreenPorch', '3SsnPorch',\n",
    "            'BsmtFinSF2', 'MoSold']\n",
    "\n",
    "for t in to_remove:\n",
    "    num_att.remove(t)\n",
    "num_att.remove('Id')\n",
    "num_att.remove('SalePrice')\n",
    "\n",
    "# num_att = ['OverallQual', 'GrLivArea', 'GarageCars', '1stFlrSF', 'FullBath', 'YearBuilt']\n",
    "\n",
    "print(num_att)"
   ]
  },
  {
   "cell_type": "code",
   "execution_count": 5,
   "metadata": {},
   "outputs": [
    {
     "name": "stdout",
     "output_type": "stream",
     "text": [
      "['Neighborhood', 'BldgType', 'Heating', 'HeatingQC', 'CentralAir', 'Street', 'LotShape', 'LandContour', 'LotConfig', 'LandSlope', 'Condition1', 'HouseStyle', 'RoofStyle', 'ExterQual', 'ExterCond', 'Foundation', 'PavedDrive', 'SaleCondition']\n"
     ]
    }
   ],
   "source": [
    "cat_att = ['BldgType', 'CentralAir', 'Foundation', \n",
    "           'PavedDrive', 'SaleCondition']\n",
    "cat_att = ['Neighborhood', 'BldgType', 'Heating', 'HeatingQC', 'CentralAir', \n",
    "           'Street', 'LotShape', 'LandContour', 'LotConfig',\n",
    "           'LandSlope', 'Condition1', 'HouseStyle', 'RoofStyle', \n",
    "           'ExterQual', 'ExterCond', 'Foundation', 'PavedDrive', 'SaleCondition']\n",
    "\n",
    "# TO ADD = Exterior1st, KitchenQual, Functional, SaleType, Alley, Condition2\n",
    "\n",
    "# cat_att = ['Neighborhood', 'BldgType']\n",
    "print(cat_att)"
   ]
  },
  {
   "cell_type": "code",
   "execution_count": 6,
   "metadata": {},
   "outputs": [],
   "source": [
    "for a in num_att:\n",
    "    median = train[a].median()\n",
    "    train[a].fillna(median, inplace=True)\n",
    "    \n",
    "#     median = test[a].median()\n",
    "    test[a].fillna(median, inplace=True)"
   ]
  },
  {
   "cell_type": "code",
   "execution_count": 7,
   "metadata": {},
   "outputs": [
    {
     "name": "stderr",
     "output_type": "stream",
     "text": [
      "/home/marek/anaconda3/lib/python3.7/site-packages/pandas/core/series.py:853: RuntimeWarning: divide by zero encountered in log\n",
      "  result = getattr(ufunc, method)(*inputs, **kwargs)\n"
     ]
    }
   ],
   "source": [
    "import seaborn as sns\n",
    "from scipy.stats import norm\n",
    "from scipy import stats\n",
    "\n",
    "train['SalePrice'] = np.log(train['SalePrice'])\n",
    "train_y = train[\"SalePrice\"].copy()\n",
    "\n",
    "train['GrLivArea'] = np.log(train['GrLivArea'])\n",
    "test['GrLivArea'] = np.log(test['GrLivArea'])\n",
    "\n",
    "train['HasBsmt'] = pd.Series(len(train['TotalBsmtSF']), index=train.index)\n",
    "train['HasBsmt'] = 0 \n",
    "train.loc[train['TotalBsmtSF']>0,'HasBsmt'] = 1\n",
    "train.loc[train['HasBsmt']==1,'TotalBsmtSF'] = np.log(train['TotalBsmtSF'])\n",
    "test['HasBsmt'] = pd.Series(len(test['TotalBsmtSF']), index=test.index)\n",
    "test['HasBsmt'] = 0 \n",
    "test.loc[test['TotalBsmtSF']>0,'HasBsmt'] = 1\n",
    "test.loc[test['HasBsmt']==1,'TotalBsmtSF'] = np.log(test['TotalBsmtSF'])\n",
    "\n",
    "train['1stFlrSF'] = np.log(train['1stFlrSF'])\n",
    "test['1stFlrSF'] = np.log(test['1stFlrSF'])\n",
    "\n",
    "train['HasBsmtFin'] = pd.Series(len(train['BsmtFinSF1']), index=train.index)\n",
    "train['HasBsmtFin'] = 0 \n",
    "train.loc[train['BsmtFinSF1']>0,'HasBsmtFin'] = 1\n",
    "train.loc[train['HasBsmtFin']==1,'BsmtFinSF1'] = np.log(train['BsmtFinSF1'])\n",
    "test['HasBsmtFin'] = pd.Series(len(test['BsmtFinSF1']), index=test.index)\n",
    "test['HasBsmtFin'] = 0 \n",
    "test.loc[test['BsmtFinSF1']>0,'HasBsmtFin'] = 1\n",
    "test.loc[test['HasBsmtFin']==1,'BsmtFinSF1'] = np.log(test['BsmtFinSF1'])\n",
    "\n",
    "train['HasWoodDeck'] = pd.Series(len(train['WoodDeckSF']), index=train.index)\n",
    "train['HasWoodDeck'] = 0 \n",
    "train.loc[train['WoodDeckSF']>0,'HasWoodDeck'] = 1\n",
    "train.loc[train['HasWoodDeck']==1,'WoodDeckSF'] = np.log(train['WoodDeckSF'])\n",
    "test['HasWoodDeck'] = pd.Series(len(test['WoodDeckSF']), index=test.index)\n",
    "test['HasWoodDeck'] = 0 \n",
    "test.loc[test['WoodDeckSF']>0,'HasWoodDeck'] = 1\n",
    "test.loc[test['HasWoodDeck']==1,'WoodDeckSF'] = np.log(test['WoodDeckSF'])\n"
   ]
  },
  {
   "cell_type": "code",
   "execution_count": 8,
   "metadata": {},
   "outputs": [
    {
     "data": {
      "text/plain": [
       "SalePrice        1.000000\n",
       "OverallQual      0.817184\n",
       "GrLivArea        0.730255\n",
       "GarageCars       0.680625\n",
       "GarageArea       0.650888\n",
       "1stFlrSF         0.608947\n",
       "FullBath         0.594771\n",
       "YearBuilt        0.586570\n",
       "YearRemodAdd     0.565608\n",
       "TotRmsAbvGrd     0.534422\n",
       "GarageYrBlt      0.495794\n",
       "Fireplaces       0.489449\n",
       "MasVnrArea       0.426775\n",
       "TotalBsmtSF      0.373009\n",
       "WoodDeckSF       0.343269\n",
       "LotFrontage      0.335292\n",
       "OpenPorchSF      0.321053\n",
       "HasWoodDeck      0.320349\n",
       "2ndFlrSF         0.319300\n",
       "HalfBath         0.313982\n",
       "LotArea          0.257320\n",
       "BsmtFullBath     0.236224\n",
       "BsmtUnfSF        0.221985\n",
       "BedroomAbvGr     0.209044\n",
       "BsmtFinSF1       0.207962\n",
       "HasBsmt          0.199634\n",
       "HasBsmtFin       0.162231\n",
       "ScreenPorch      0.121208\n",
       "PoolArea         0.069798\n",
       "MoSold           0.057329\n",
       "3SsnPorch        0.054900\n",
       "BsmtFinSF2       0.004832\n",
       "BsmtHalfBath    -0.005149\n",
       "Id              -0.017942\n",
       "MiscVal         -0.020021\n",
       "OverallCond     -0.036868\n",
       "YrSold          -0.037263\n",
       "LowQualFinSF    -0.037963\n",
       "MSSubClass      -0.073959\n",
       "KitchenAbvGr    -0.147548\n",
       "EnclosedPorch   -0.149050\n",
       "Name: SalePrice, dtype: float64"
      ]
     },
     "execution_count": 8,
     "metadata": {},
     "output_type": "execute_result"
    }
   ],
   "source": [
    "corr_matrix = train.corr()\n",
    "corr_matrix[\"SalePrice\"].sort_values(ascending=False)"
   ]
  },
  {
   "cell_type": "code",
   "execution_count": 9,
   "metadata": {},
   "outputs": [
    {
     "name": "stdout",
     "output_type": "stream",
     "text": [
      "<class 'pandas.core.frame.DataFrame'>\n",
      "RangeIndex: 1460 entries, 0 to 1459\n",
      "Data columns (total 46 columns):\n",
      "MSSubClass       1460 non-null int64\n",
      "LotFrontage      1460 non-null float64\n",
      "LotArea          1460 non-null int64\n",
      "OverallQual      1460 non-null int64\n",
      "OverallCond      1460 non-null int64\n",
      "YearBuilt        1460 non-null int64\n",
      "YearRemodAdd     1460 non-null int64\n",
      "MasVnrArea       1460 non-null float64\n",
      "BsmtFinSF1       1460 non-null float64\n",
      "BsmtUnfSF        1460 non-null int64\n",
      "TotalBsmtSF      1460 non-null float64\n",
      "1stFlrSF         1460 non-null float64\n",
      "2ndFlrSF         1460 non-null int64\n",
      "GrLivArea        1460 non-null float64\n",
      "BsmtFullBath     1460 non-null int64\n",
      "FullBath         1460 non-null int64\n",
      "HalfBath         1460 non-null int64\n",
      "BedroomAbvGr     1460 non-null int64\n",
      "KitchenAbvGr     1460 non-null int64\n",
      "TotRmsAbvGrd     1460 non-null int64\n",
      "Fireplaces       1460 non-null int64\n",
      "GarageYrBlt      1460 non-null float64\n",
      "GarageCars       1460 non-null int64\n",
      "GarageArea       1460 non-null int64\n",
      "WoodDeckSF       1460 non-null float64\n",
      "OpenPorchSF      1460 non-null int64\n",
      "EnclosedPorch    1460 non-null int64\n",
      "YrSold           1460 non-null int64\n",
      "Neighborhood     1460 non-null object\n",
      "BldgType         1460 non-null object\n",
      "Heating          1460 non-null object\n",
      "HeatingQC        1460 non-null object\n",
      "CentralAir       1460 non-null object\n",
      "Street           1460 non-null object\n",
      "LotShape         1460 non-null object\n",
      "LandContour      1460 non-null object\n",
      "LotConfig        1460 non-null object\n",
      "LandSlope        1460 non-null object\n",
      "Condition1       1460 non-null object\n",
      "HouseStyle       1460 non-null object\n",
      "RoofStyle        1460 non-null object\n",
      "ExterQual        1460 non-null object\n",
      "ExterCond        1460 non-null object\n",
      "Foundation       1460 non-null object\n",
      "PavedDrive       1460 non-null object\n",
      "SaleCondition    1460 non-null object\n",
      "dtypes: float64(8), int64(20), object(18)\n",
      "memory usage: 524.8+ KB\n",
      "<class 'pandas.core.frame.DataFrame'>\n",
      "RangeIndex: 1459 entries, 0 to 1458\n",
      "Data columns (total 46 columns):\n",
      "MSSubClass       1459 non-null int64\n",
      "LotFrontage      1459 non-null float64\n",
      "LotArea          1459 non-null int64\n",
      "OverallQual      1459 non-null int64\n",
      "OverallCond      1459 non-null int64\n",
      "YearBuilt        1459 non-null int64\n",
      "YearRemodAdd     1459 non-null int64\n",
      "MasVnrArea       1459 non-null float64\n",
      "BsmtFinSF1       1459 non-null float64\n",
      "BsmtUnfSF        1459 non-null float64\n",
      "TotalBsmtSF      1459 non-null float64\n",
      "1stFlrSF         1459 non-null float64\n",
      "2ndFlrSF         1459 non-null int64\n",
      "GrLivArea        1459 non-null float64\n",
      "BsmtFullBath     1459 non-null float64\n",
      "FullBath         1459 non-null int64\n",
      "HalfBath         1459 non-null int64\n",
      "BedroomAbvGr     1459 non-null int64\n",
      "KitchenAbvGr     1459 non-null int64\n",
      "TotRmsAbvGrd     1459 non-null int64\n",
      "Fireplaces       1459 non-null int64\n",
      "GarageYrBlt      1459 non-null float64\n",
      "GarageCars       1459 non-null float64\n",
      "GarageArea       1459 non-null float64\n",
      "WoodDeckSF       1459 non-null float64\n",
      "OpenPorchSF      1459 non-null int64\n",
      "EnclosedPorch    1459 non-null int64\n",
      "YrSold           1459 non-null int64\n",
      "Neighborhood     1459 non-null object\n",
      "BldgType         1459 non-null object\n",
      "Heating          1459 non-null object\n",
      "HeatingQC        1459 non-null object\n",
      "CentralAir       1459 non-null object\n",
      "Street           1459 non-null object\n",
      "LotShape         1459 non-null object\n",
      "LandContour      1459 non-null object\n",
      "LotConfig        1459 non-null object\n",
      "LandSlope        1459 non-null object\n",
      "Condition1       1459 non-null object\n",
      "HouseStyle       1459 non-null object\n",
      "RoofStyle        1459 non-null object\n",
      "ExterQual        1459 non-null object\n",
      "ExterCond        1459 non-null object\n",
      "Foundation       1459 non-null object\n",
      "PavedDrive       1459 non-null object\n",
      "SaleCondition    1459 non-null object\n",
      "dtypes: float64(12), int64(16), object(18)\n",
      "memory usage: 524.5+ KB\n",
      "<class 'pandas.core.frame.DataFrame'>\n",
      "Int64Index: 2919 entries, 0 to 1458\n",
      "Data columns (total 46 columns):\n",
      "MSSubClass       2919 non-null int64\n",
      "LotFrontage      2919 non-null float64\n",
      "LotArea          2919 non-null int64\n",
      "OverallQual      2919 non-null int64\n",
      "OverallCond      2919 non-null int64\n",
      "YearBuilt        2919 non-null int64\n",
      "YearRemodAdd     2919 non-null int64\n",
      "MasVnrArea       2919 non-null float64\n",
      "BsmtFinSF1       2919 non-null float64\n",
      "BsmtUnfSF        2919 non-null float64\n",
      "TotalBsmtSF      2919 non-null float64\n",
      "1stFlrSF         2919 non-null float64\n",
      "2ndFlrSF         2919 non-null int64\n",
      "GrLivArea        2919 non-null float64\n",
      "BsmtFullBath     2919 non-null float64\n",
      "FullBath         2919 non-null int64\n",
      "HalfBath         2919 non-null int64\n",
      "BedroomAbvGr     2919 non-null int64\n",
      "KitchenAbvGr     2919 non-null int64\n",
      "TotRmsAbvGrd     2919 non-null int64\n",
      "Fireplaces       2919 non-null int64\n",
      "GarageYrBlt      2919 non-null float64\n",
      "GarageCars       2919 non-null float64\n",
      "GarageArea       2919 non-null float64\n",
      "WoodDeckSF       2919 non-null float64\n",
      "OpenPorchSF      2919 non-null int64\n",
      "EnclosedPorch    2919 non-null int64\n",
      "YrSold           2919 non-null int64\n",
      "Neighborhood     2919 non-null object\n",
      "BldgType         2919 non-null object\n",
      "Heating          2919 non-null object\n",
      "HeatingQC        2919 non-null object\n",
      "CentralAir       2919 non-null object\n",
      "Street           2919 non-null object\n",
      "LotShape         2919 non-null object\n",
      "LandContour      2919 non-null object\n",
      "LotConfig        2919 non-null object\n",
      "LandSlope        2919 non-null object\n",
      "Condition1       2919 non-null object\n",
      "HouseStyle       2919 non-null object\n",
      "RoofStyle        2919 non-null object\n",
      "ExterQual        2919 non-null object\n",
      "ExterCond        2919 non-null object\n",
      "Foundation       2919 non-null object\n",
      "PavedDrive       2919 non-null object\n",
      "SaleCondition    2919 non-null object\n",
      "dtypes: float64(12), int64(16), object(18)\n",
      "memory usage: 1.0+ MB\n"
     ]
    }
   ],
   "source": [
    "train2 = train[num_att + cat_att]\n",
    "train2.info()\n",
    "test2 = test[num_att + cat_att]\n",
    "test2.info()\n",
    "\n",
    "merged_df = pd.concat([train2, test2])\n",
    "merged_df.info()"
   ]
  },
  {
   "cell_type": "code",
   "execution_count": 10,
   "metadata": {},
   "outputs": [],
   "source": [
    "from sklearn.pipeline import Pipeline\n",
    "from sklearn.preprocessing import StandardScaler\n",
    "from sklearn.impute import SimpleImputer\n",
    "from sklearn.compose import ColumnTransformer\n",
    "from sklearn.preprocessing import OneHotEncoder\n",
    "\n",
    "num_pipeline = Pipeline([\n",
    "        ('imputer', SimpleImputer(strategy=\"median\")),\n",
    "        ('std_scaler', StandardScaler()),\n",
    "    ])\n",
    "train_prepared = num_pipeline.fit_transform(train[num_att])\n",
    "test_prepared  = num_pipeline.transform(test[num_att])\n",
    "\n",
    "\n",
    "full_pipeline = ColumnTransformer([\n",
    "        (\"num\", num_pipeline, num_att),\n",
    "        (\"cat\", OneHotEncoder(), cat_att),\n",
    "    ])\n",
    "\n",
    "train_test_full_prepared = full_pipeline.fit_transform(merged_df)\n",
    "train_full_prepared = full_pipeline.transform(train2)\n",
    "test_full_prepared = full_pipeline.transform(test2)\n"
   ]
  },
  {
   "cell_type": "code",
   "execution_count": 11,
   "metadata": {},
   "outputs": [
    {
     "name": "stdout",
     "output_type": "stream",
     "text": [
      "(1460, 28)\n",
      "(1459, 28)\n",
      "(1460, 136)\n",
      "(1459, 136)\n"
     ]
    }
   ],
   "source": [
    "print(train_prepared.shape)\n",
    "print(test_prepared.shape)\n",
    "print(train_full_prepared.shape)\n",
    "print(test_full_prepared.shape)"
   ]
  },
  {
   "cell_type": "code",
   "execution_count": 12,
   "metadata": {},
   "outputs": [
    {
     "data": {
      "text/plain": [
       "0.0014825291181033247"
      ]
     },
     "execution_count": 12,
     "metadata": {},
     "output_type": "execute_result"
    }
   ],
   "source": [
    "from sklearn.metrics import mean_squared_error\n",
    "from sklearn.ensemble import RandomForestRegressor\n",
    "\n",
    "forest_reg = RandomForestRegressor(bootstrap=False, n_estimators=350, max_features=32, random_state=42)\n",
    "forest_reg.fit(train_full_prepared, train_y)\n",
    "\n",
    "housing_predictions = forest_reg.predict(train_full_prepared)\n",
    "\n",
    "forest_mse = mean_squared_error(train_y, housing_predictions)\n",
    "forest_rmse = np.sqrt(forest_mse)\n",
    "forest_rmse"
   ]
  },
  {
   "cell_type": "code",
   "execution_count": 14,
   "metadata": {},
   "outputs": [
    {
     "name": "stdout",
     "output_type": "stream",
     "text": [
      "12.247694320220951\n",
      "12.247694320220994\n"
     ]
    }
   ],
   "source": [
    "print(housing_predictions[0])\n",
    "print(train_y[0])"
   ]
  },
  {
   "cell_type": "code",
   "execution_count": 15,
   "metadata": {},
   "outputs": [
    {
     "data": {
      "text/plain": [
       "207.04701674619645"
      ]
     },
     "execution_count": 15,
     "metadata": {},
     "output_type": "execute_result"
    }
   ],
   "source": [
    "train_y_normal = np.e**train_y\n",
    "pred_normal = np.e**housing_predictions\n",
    "\n",
    "forest_mse = mean_squared_error(train_y_normal, pred_normal)\n",
    "forest_rmse = np.sqrt(forest_mse)\n",
    "forest_rmse"
   ]
  },
  {
   "cell_type": "code",
   "execution_count": 16,
   "metadata": {},
   "outputs": [
    {
     "name": "stdout",
     "output_type": "stream",
     "text": [
      "208500.0\n",
      "208499.9999999911\n"
     ]
    }
   ],
   "source": [
    "print(train_y_normal[0])\n",
    "print(pred_normal[0])"
   ]
  },
  {
   "cell_type": "code",
   "execution_count": 17,
   "metadata": {
    "scrolled": false
   },
   "outputs": [
    {
     "data": {
      "text/plain": [
       "[(0.1942425614716327, 'OverallQual'),\n",
       " (0.1442918845025435, 'GrLivArea'),\n",
       " (0.08322035351634488, 'YearBuilt'),\n",
       " (0.058084999814616296, 'GarageCars'),\n",
       " (0.04970163924925954, 'TA'),\n",
       " (0.04766876234826631, 'TotalBsmtSF'),\n",
       " (0.04447200046562686, '1stFlrSF'),\n",
       " (0.04221128596710223, 'GarageArea'),\n",
       " (0.03684493744210098, 'FullBath'),\n",
       " (0.02919974501231452, 'GarageYrBlt'),\n",
       " (0.023812869489629303, 'LotArea'),\n",
       " (0.02201497892159069, 'BsmtFinSF1'),\n",
       " (0.02182485022063001, 'YearRemodAdd'),\n",
       " (0.01649848165461701, '2ndFlrSF'),\n",
       " (0.014914407015928192, 'Fireplaces'),\n",
       " (0.012072796061941296, 'PConc'),\n",
       " (0.011445778417693338, 'LotFrontage'),\n",
       " (0.010691321046635041, 'Y'),\n",
       " (0.010651139716122034, 'OverallCond'),\n",
       " (0.010434983835584031, 'TotRmsAbvGrd'),\n",
       " (0.01010028676828266, 'N'),\n",
       " (0.007642570045551836, 'BsmtUnfSF'),\n",
       " (0.006325983289939014, 'OpenPorchSF'),\n",
       " (0.0051900791416590935, 'MSSubClass'),\n",
       " (0.005183353256397817, 'Gd'),\n",
       " (0.0044920584957858795, 'MasVnrArea'),\n",
       " (0.004474978480839343, 'Ex'),\n",
       " (0.004307695131438523, 'BedroomAbvGr'),\n",
       " (0.0036869695438103748, 'WoodDeckSF'),\n",
       " (0.003379766757086677, 'HalfBath'),\n",
       " (0.0027132070244590273, 'BsmtFullBath'),\n",
       " (0.0026937861563818793, 'Ex'),\n",
       " (0.0025113320707784974, 'YrSold'),\n",
       " (0.002233287588138808, 'EnclosedPorch'),\n",
       " (0.002036864916807785, 'KitchenAbvGr'),\n",
       " (0.0017005477665637003, '1Fam'),\n",
       " (0.0016844749977911488, 'Crawfor'),\n",
       " (0.001676840643060618, 'N'),\n",
       " (0.001569591103140634, 'Normal'),\n",
       " (0.001515885459359516, 'OldTown'),\n",
       " (0.0015096122128792574, 'Fa'),\n",
       " (0.001437659326396912, 'Abnorml'),\n",
       " (0.0014004989006976415, '1Story'),\n",
       " (0.0013841971120983822, 'Reg'),\n",
       " (0.0013735435653420497, 'Edwards'),\n",
       " (0.0013697817283585287, 'Y'),\n",
       " (0.001287485205377235, 'Fa'),\n",
       " (0.0012753352050531295, 'Gable'),\n",
       " (0.0011708668492808063, '2Story'),\n",
       " (0.001107089477647073, 'IDOTRR'),\n",
       " (0.0010969671007230878, 'Bnk'),\n",
       " (0.0010284795242337665, 'Hip'),\n",
       " (0.0009467252457538139, 'NridgHt'),\n",
       " (0.0009438426909315968, 'IR1'),\n",
       " (0.0009243646812776049, 'CBlock'),\n",
       " (0.0008495263180202321, 'Norm'),\n",
       " (0.0008463310121446375, 'TA'),\n",
       " (0.0008154452729778539, 'Gtl'),\n",
       " (0.0008091556162326148, 'Lvl'),\n",
       " (0.0008013320279515332, 'TA'),\n",
       " (0.0007779284083404299, 'BrkTil'),\n",
       " (0.000669438974230651, 'Inside'),\n",
       " (0.0006084795950035012, 'Fa'),\n",
       " (0.0006012117169663333, '1.5Fin'),\n",
       " (0.0005933974471950788, 'NAmes'),\n",
       " (0.0005719955621776714, 'Corner'),\n",
       " (0.0005502886998643891, 'Mod'),\n",
       " (0.0005473533747831459, 'Gd'),\n",
       " (0.0005338501430106589, 'Partial'),\n",
       " (0.0005305048329035759, 'ClearCr'),\n",
       " (0.0005247998728896032, 'Artery'),\n",
       " (0.0005019019159361437, 'Gd'),\n",
       " (0.0004961496996524266, 'Low'),\n",
       " (0.0004898192882024595, 'Family'),\n",
       " (0.0004729650537721762, 'Feedr'),\n",
       " (0.0004505333064365475, 'Sawyer'),\n",
       " (0.00044731013222691185, 'Duplex'),\n",
       " (0.0004307541195278999, 'Flat'),\n",
       " (0.00036462474971035887, 'HLS'),\n",
       " (0.00035192024988761253, 'BrkSide'),\n",
       " (0.00034456210336204947, 'CollgCr'),\n",
       " (0.0003284335039544174, 'CulDSac'),\n",
       " (0.00032267741079660284, 'P'),\n",
       " (0.00031375520970821914, 'Gambrel'),\n",
       " (0.0003019291052746532, 'Somerst'),\n",
       " (0.0002888080700005021, 'Grav'),\n",
       " (0.00028649764822928983, 'MeadowV'),\n",
       " (0.0002791358561473284, 'Mitchel'),\n",
       " (0.0002693024350353508, 'NoRidge'),\n",
       " (0.0002550125777854088, 'TwnhsE'),\n",
       " (0.0002492109546751486, 'GasA'),\n",
       " (0.00024122435774391498, 'Slab'),\n",
       " (0.00023520196029860578, 'StoneBr'),\n",
       " (0.00023070777212280737, 'Alloca'),\n",
       " (0.00020595528424004333, 'Sev'),\n",
       " (0.000202580143402108, 'SLvl'),\n",
       " (0.00020186427772176616, 'IR2'),\n",
       " (0.00020075617319888496, 'FR2'),\n",
       " (0.00019575815613175, 'NWAmes'),\n",
       " (0.0001857272785956305, 'Twnhs'),\n",
       " (0.0001848730214155783, 'SWISU'),\n",
       " (0.00017412611505406947, 'GasW'),\n",
       " (0.00017026431541373752, 'PosN'),\n",
       " (0.00015284127415013938, 'SawyerW'),\n",
       " (0.00014927852626206152, 'Gilbert'),\n",
       " (0.0001440598619967638, 'BrDale'),\n",
       " (0.0001353581128560256, '2fmCon'),\n",
       " (0.0001346951919582646, 'RRAn'),\n",
       " (0.00012828037698137977, 'IR3'),\n",
       " (0.00011904951264886974, 'Timber'),\n",
       " (0.00011421804486037457, 'Pave'),\n",
       " (0.00011071035915159359, 'RRAe'),\n",
       " (0.00010111751813671164, 'Grvl'),\n",
       " (9.704335429298038e-05, '1.5Unf'),\n",
       " (7.839782049986311e-05, 'Veenker'),\n",
       " (7.349638829997716e-05, '2.5Unf'),\n",
       " (6.473051163775252e-05, '2.5Fin'),\n",
       " (5.976032495175068e-05, 'OthW'),\n",
       " (4.3901199741425174e-05, 'SFoyer'),\n",
       " (4.068952039110287e-05, 'Blmngtn'),\n",
       " (4.063377855207121e-05, 'PosA'),\n",
       " (3.871187588835784e-05, 'AdjLand'),\n",
       " (3.401973589505533e-05, 'Po'),\n",
       " (2.6325995460117897e-05, 'NPkVill'),\n",
       " (2.0271924100446612e-05, 'FR3'),\n",
       " (1.967991019948465e-05, 'Wood'),\n",
       " (1.9439468870351986e-05, 'Mansard'),\n",
       " (1.6532170339138492e-05, 'Stone'),\n",
       " (9.362054079339273e-06, 'Shed'),\n",
       " (9.256988709453533e-06, 'Floor'),\n",
       " (8.493467599393637e-06, 'Ex'),\n",
       " (8.251920374225136e-06, 'Wall'),\n",
       " (7.711752921688873e-06, 'RRNn'),\n",
       " (6.666200650571107e-06, 'Blueste'),\n",
       " (3.34722173215605e-06, 'Po'),\n",
       " (2.5028819563686258e-06, 'RRNe')]"
      ]
     },
     "execution_count": 17,
     "metadata": {},
     "output_type": "execute_result"
    }
   ],
   "source": [
    "# forest_reg.feature_importances_\n",
    "\n",
    "cat_encoder = full_pipeline.named_transformers_[\"cat\"]\n",
    "cat_one_hot_attribs = []\n",
    "for a in cat_encoder.categories_:\n",
    "    for b in a:\n",
    "        cat_one_hot_attribs.append(b)\n",
    "# print(cat_one_hot_attribs)\n",
    "attributes = num_att + cat_one_hot_attribs\n",
    "sorted(zip(forest_reg.feature_importances_, attributes), reverse=True)"
   ]
  },
  {
   "cell_type": "code",
   "execution_count": 19,
   "metadata": {},
   "outputs": [
    {
     "name": "stdout",
     "output_type": "stream",
     "text": [
      "scores: [0.13160333 0.12329128 0.13362631 0.16813374 0.1606399  0.11284673\n",
      " 0.13064878 0.11615301 0.12470106 0.13583349]\n",
      "mean: 0.13374776292614637\n",
      "std: 0.01691673644121433\n",
      "count    10.000000\n",
      "mean      0.133748\n",
      "std       0.017832\n",
      "min       0.112847\n",
      "25%       0.123644\n",
      "50%       0.131126\n",
      "75%       0.135282\n",
      "max       0.168134\n",
      "dtype: float64\n"
     ]
    }
   ],
   "source": [
    "from sklearn.model_selection import cross_val_score\n",
    "def display_scores(scores):\n",
    "    print(\"scores:\", scores)\n",
    "    print(\"mean:\", scores.mean())\n",
    "    print(\"std:\", scores.std())\n",
    "\n",
    "forest_reg = RandomForestRegressor(bootstrap=False, n_estimators=200, max_features=32, random_state=42)\n",
    "forest_reg.fit(train_full_prepared, train_y)\n",
    "\n",
    "forest_scores = cross_val_score(forest_reg, train_full_prepared, train_y,\n",
    "                                scoring=\"neg_mean_squared_error\", cv=10)\n",
    "forest_rmse_scores = np.sqrt(-forest_scores)\n",
    "display_scores(forest_rmse_scores)\n",
    "\n",
    "print(pd.Series(forest_rmse_scores).describe())"
   ]
  },
  {
   "cell_type": "code",
   "execution_count": 18,
   "metadata": {},
   "outputs": [
    {
     "data": {
      "text/plain": [
       "GridSearchCV(cv=10, error_score='raise-deprecating',\n",
       "             estimator=RandomForestRegressor(bootstrap=True, criterion='mse',\n",
       "                                             max_depth=None,\n",
       "                                             max_features='auto',\n",
       "                                             max_leaf_nodes=None,\n",
       "                                             min_impurity_decrease=0.0,\n",
       "                                             min_impurity_split=None,\n",
       "                                             min_samples_leaf=1,\n",
       "                                             min_samples_split=2,\n",
       "                                             min_weight_fraction_leaf=0.0,\n",
       "                                             n_estimators='warn', n_jobs=None,\n",
       "                                             oob_score=False, random_state=42,\n",
       "                                             verbose=0, warm_start=False),\n",
       "             iid='warn', n_jobs=None,\n",
       "             param_grid=[{'max_features': [16, 32, 64],\n",
       "                          'n_estimators': [100, 200, 300, 350, 400, 450]},\n",
       "                         {'bootstrap': [False], 'max_features': [16, 32, 64],\n",
       "                          'n_estimators': [100, 200, 300, 350, 400, 450]}],\n",
       "             pre_dispatch='2*n_jobs', refit=True, return_train_score=True,\n",
       "             scoring='neg_mean_squared_error', verbose=0)"
      ]
     },
     "execution_count": 18,
     "metadata": {},
     "output_type": "execute_result"
    }
   ],
   "source": [
    "from sklearn.model_selection import GridSearchCV\n",
    "\n",
    "param_grid = [\n",
    "    # sprawdza 12 (3×4) kombinacji hiperparametrów\n",
    "    {'n_estimators': [100, 200, 300, 350, 400, 450], 'max_features': [16, 32, 64]},\n",
    "    # następnie sprawdza 6 (2×3) kombinacji z wyłączonym parametrem bootstrap (False)\n",
    "    {'bootstrap': [False], 'n_estimators': [100, 200, 300, 350, 400, 450], \n",
    "     'max_features': [16, 32, 64]},\n",
    "  ]\n",
    "\n",
    "forest_reg = RandomForestRegressor(random_state=42)\n",
    "# przeprowadza proces uczenia na pięciu podzbiorach, czyli łącznie (12+6)*5=90 przebiegów \n",
    "grid_search = GridSearchCV(forest_reg, param_grid, cv=10,\n",
    "                           scoring='neg_mean_squared_error',\n",
    "                           return_train_score=True)\n",
    "grid_search.fit(train_full_prepared, train_y)"
   ]
  },
  {
   "cell_type": "code",
   "execution_count": 19,
   "metadata": {},
   "outputs": [
    {
     "data": {
      "text/plain": [
       "{'bootstrap': False, 'max_features': 32, 'n_estimators': 400}"
      ]
     },
     "execution_count": 19,
     "metadata": {},
     "output_type": "execute_result"
    }
   ],
   "source": [
    "grid_search.best_params_"
   ]
  },
  {
   "cell_type": "code",
   "execution_count": 20,
   "metadata": {},
   "outputs": [
    {
     "data": {
      "text/plain": [
       "RandomForestRegressor(bootstrap=False, criterion='mse', max_depth=None,\n",
       "                      max_features=32, max_leaf_nodes=None,\n",
       "                      min_impurity_decrease=0.0, min_impurity_split=None,\n",
       "                      min_samples_leaf=1, min_samples_split=2,\n",
       "                      min_weight_fraction_leaf=0.0, n_estimators=400,\n",
       "                      n_jobs=None, oob_score=False, random_state=42, verbose=0,\n",
       "                      warm_start=False)"
      ]
     },
     "execution_count": 20,
     "metadata": {},
     "output_type": "execute_result"
    }
   ],
   "source": [
    "grid_search.best_estimator_"
   ]
  },
  {
   "cell_type": "code",
   "execution_count": 21,
   "metadata": {},
   "outputs": [
    {
     "name": "stdout",
     "output_type": "stream",
     "text": [
      "0.14142717259286067 {'max_features': 16, 'n_estimators': 100}\n",
      "0.1406576756786934 {'max_features': 16, 'n_estimators': 200}\n",
      "0.13986988197021058 {'max_features': 16, 'n_estimators': 300}\n",
      "0.13999540087390547 {'max_features': 16, 'n_estimators': 350}\n",
      "0.13992532849793246 {'max_features': 16, 'n_estimators': 400}\n",
      "0.13979292855662553 {'max_features': 16, 'n_estimators': 450}\n",
      "0.1379880736170526 {'max_features': 32, 'n_estimators': 100}\n",
      "0.1371305551952646 {'max_features': 32, 'n_estimators': 200}\n",
      "0.1372129764151732 {'max_features': 32, 'n_estimators': 300}\n",
      "0.13676720307921494 {'max_features': 32, 'n_estimators': 350}\n",
      "0.13688480332790107 {'max_features': 32, 'n_estimators': 400}\n",
      "0.13681156382996648 {'max_features': 32, 'n_estimators': 450}\n",
      "0.1373453335592961 {'max_features': 64, 'n_estimators': 100}\n",
      "0.13703779673380387 {'max_features': 64, 'n_estimators': 200}\n",
      "0.13702967147582804 {'max_features': 64, 'n_estimators': 300}\n",
      "0.13695297369705056 {'max_features': 64, 'n_estimators': 350}\n",
      "0.13693461545072944 {'max_features': 64, 'n_estimators': 400}\n",
      "0.13688955790222243 {'max_features': 64, 'n_estimators': 450}\n",
      "0.1367677559596467 {'bootstrap': False, 'max_features': 16, 'n_estimators': 100}\n",
      "0.13667540645461548 {'bootstrap': False, 'max_features': 16, 'n_estimators': 200}\n",
      "0.1366599863388747 {'bootstrap': False, 'max_features': 16, 'n_estimators': 300}\n",
      "0.13674891192255542 {'bootstrap': False, 'max_features': 16, 'n_estimators': 350}\n",
      "0.1366016483680114 {'bootstrap': False, 'max_features': 16, 'n_estimators': 400}\n",
      "0.13662397934397463 {'bootstrap': False, 'max_features': 16, 'n_estimators': 450}\n",
      "0.13538253096641978 {'bootstrap': False, 'max_features': 32, 'n_estimators': 100}\n",
      "0.13483414271836952 {'bootstrap': False, 'max_features': 32, 'n_estimators': 200}\n",
      "0.1347125550549293 {'bootstrap': False, 'max_features': 32, 'n_estimators': 300}\n",
      "0.1345843737387022 {'bootstrap': False, 'max_features': 32, 'n_estimators': 350}\n",
      "0.13457064367651428 {'bootstrap': False, 'max_features': 32, 'n_estimators': 400}\n",
      "0.13466542949202748 {'bootstrap': False, 'max_features': 32, 'n_estimators': 450}\n",
      "0.1368900041908795 {'bootstrap': False, 'max_features': 64, 'n_estimators': 100}\n",
      "0.13616893884986195 {'bootstrap': False, 'max_features': 64, 'n_estimators': 200}\n",
      "0.13598676284851413 {'bootstrap': False, 'max_features': 64, 'n_estimators': 300}\n",
      "0.13598049671432813 {'bootstrap': False, 'max_features': 64, 'n_estimators': 350}\n",
      "0.13594896429508427 {'bootstrap': False, 'max_features': 64, 'n_estimators': 400}\n",
      "0.13605249030404032 {'bootstrap': False, 'max_features': 64, 'n_estimators': 450}\n"
     ]
    }
   ],
   "source": [
    "cvres = grid_search.cv_results_\n",
    "for mean_score, params in zip(cvres[\"mean_test_score\"], cvres[\"params\"]):\n",
    "    print(np.sqrt(-mean_score), params)"
   ]
  },
  {
   "cell_type": "code",
   "execution_count": 22,
   "metadata": {},
   "outputs": [
    {
     "data": {
      "text/plain": [
       "array([5.18430901e-03, 1.16430210e-02, 2.40304081e-02, 1.95569647e-01,\n",
       "       1.06485060e-02, 8.16243911e-02, 2.23428451e-02, 4.52937323e-03,\n",
       "       2.23843290e-02, 7.64327953e-03, 4.75548132e-02, 4.40835771e-02,\n",
       "       1.65891690e-02, 1.42545548e-01, 2.66832210e-03, 3.77129125e-02,\n",
       "       3.25558172e-03, 4.36176511e-03, 2.14519675e-03, 1.01978535e-02,\n",
       "       1.57914178e-02, 3.08966020e-02, 5.65108775e-02, 4.27205130e-02,\n",
       "       3.67287066e-03, 6.26268384e-03, 2.24211519e-03, 2.48373991e-03,\n",
       "       4.36749624e-05, 5.84603957e-06, 1.36299949e-04, 3.44169092e-04,\n",
       "       5.21013406e-04, 3.51918280e-04, 1.65656338e-03, 1.36525208e-03,\n",
       "       1.63735853e-04, 1.05860248e-03, 2.78467039e-04, 2.68464429e-04,\n",
       "       5.75218722e-04, 2.75973761e-05, 1.97123692e-04, 2.68072752e-04,\n",
       "       8.45905712e-04, 1.47189028e-03, 1.70097635e-04, 4.36040219e-04,\n",
       "       1.58379809e-04, 3.02188307e-04, 2.41867255e-04, 1.16503876e-04,\n",
       "       8.02584629e-05, 1.80801612e-03, 1.33712321e-04, 4.11984632e-04,\n",
       "       1.77894815e-04, 2.40437304e-04, 8.09986512e-06, 2.36458051e-04,\n",
       "       1.71817866e-04, 2.65870321e-04, 6.32834934e-05, 1.10743471e-05,\n",
       "       4.05129120e-03, 6.39015947e-04, 5.56853717e-04, 2.96627694e-06,\n",
       "       8.04259973e-04, 9.74521454e-03, 1.11898250e-02, 1.15939701e-04,\n",
       "       1.05942336e-04, 9.77344434e-04, 1.88247784e-04, 1.29909517e-04,\n",
       "       1.37551318e-03, 1.04964298e-03, 3.60129032e-04, 4.93665853e-04,\n",
       "       8.07629941e-04, 5.72421249e-04, 3.21236028e-04, 2.01921029e-04,\n",
       "       2.04730518e-05, 6.58680059e-04, 8.21557565e-04, 5.38442368e-04,\n",
       "       1.93137651e-04, 5.22169574e-04, 4.59020813e-04, 8.54375162e-04,\n",
       "       4.15747771e-05, 1.60453170e-04, 1.18540301e-04, 1.33753667e-04,\n",
       "       2.72349458e-06, 7.89253849e-06, 5.92588864e-04, 8.86431011e-05,\n",
       "       1.38548572e-03, 6.74597875e-05, 7.10182297e-05, 1.14871210e-03,\n",
       "       5.16797961e-05, 2.20365189e-04, 4.02680485e-04, 1.20828974e-03,\n",
       "       3.05939200e-04, 1.02077647e-03, 1.77743438e-05, 8.19179732e-06,\n",
       "       2.46073153e-03, 1.33559965e-03, 5.21959511e-03, 5.07244082e-02,\n",
       "       9.45973284e-06, 1.44409202e-03, 5.05596532e-04, 3.08536857e-05,\n",
       "       8.55969690e-04, 7.57658196e-04, 9.43790725e-04, 1.10890153e-02,\n",
       "       2.31996419e-04, 1.56705862e-05, 1.73409526e-05, 1.63879556e-03,\n",
       "       3.31298619e-04, 1.34081332e-03, 1.46332942e-03, 3.81676340e-05,\n",
       "       2.38580318e-04, 5.03355531e-04, 1.53624872e-03, 5.46795552e-04])"
      ]
     },
     "execution_count": 22,
     "metadata": {},
     "output_type": "execute_result"
    }
   ],
   "source": [
    "feature_importances = grid_search.best_estimator_.feature_importances_\n",
    "feature_importances"
   ]
  },
  {
   "cell_type": "code",
   "execution_count": 23,
   "metadata": {
    "scrolled": false
   },
   "outputs": [
    {
     "data": {
      "text/plain": [
       "[(0.1955696471727524, 'OverallQual'),\n",
       " (0.14254554776643158, 'GrLivArea'),\n",
       " (0.08162439106419615, 'YearBuilt'),\n",
       " (0.05651087754963999, 'GarageCars'),\n",
       " (0.05072440821058059, 'TA'),\n",
       " (0.04755481322520188, 'TotalBsmtSF'),\n",
       " (0.04408357711232804, '1stFlrSF'),\n",
       " (0.04272051297369011, 'GarageArea'),\n",
       " (0.0377129125150437, 'FullBath'),\n",
       " (0.03089660198966294, 'GarageYrBlt'),\n",
       " (0.0240304081149964, 'LotArea'),\n",
       " (0.02238432904193994, 'BsmtFinSF1'),\n",
       " (0.022342845141007497, 'YearRemodAdd'),\n",
       " (0.016589168965037506, '2ndFlrSF'),\n",
       " (0.01579141782611618, 'Fireplaces'),\n",
       " (0.01164302096398584, 'LotFrontage'),\n",
       " (0.011189825027967169, 'Y'),\n",
       " (0.011089015298773664, 'PConc'),\n",
       " (0.010648506020801064, 'OverallCond'),\n",
       " (0.01019785350571371, 'TotRmsAbvGrd'),\n",
       " (0.009745214542488119, 'N'),\n",
       " (0.007643279529142774, 'BsmtUnfSF'),\n",
       " (0.006262683836674279, 'OpenPorchSF'),\n",
       " (0.005219595111146036, 'Gd'),\n",
       " (0.005184309011293091, 'MSSubClass'),\n",
       " (0.00452937323167521, 'MasVnrArea'),\n",
       " (0.004361765108110089, 'BedroomAbvGr'),\n",
       " (0.004051291195865139, 'Ex'),\n",
       " (0.0036728706559010964, 'WoodDeckSF'),\n",
       " (0.0032555817154503765, 'HalfBath'),\n",
       " (0.0026683221040308294, 'BsmtFullBath'),\n",
       " (0.002483739912194347, 'YrSold'),\n",
       " (0.0024607315325714464, 'Ex'),\n",
       " (0.0022421151922611426, 'EnclosedPorch'),\n",
       " (0.0021451967481857415, 'KitchenAbvGr'),\n",
       " (0.001808016120971847, '1Fam'),\n",
       " (0.001656563383906496, 'Crawfor'),\n",
       " (0.0016387955571046601, 'N'),\n",
       " (0.0015362487241824213, 'Normal'),\n",
       " (0.0014718902816279386, 'OldTown'),\n",
       " (0.0014633294168983073, 'Abnorml'),\n",
       " (0.001444092021566109, 'Fa'),\n",
       " (0.0013854857163893295, '1Story'),\n",
       " (0.0013755131752469852, 'Reg'),\n",
       " (0.0013652520841273628, 'Edwards'),\n",
       " (0.0013408133217116306, 'Y'),\n",
       " (0.0013355996456060613, 'Fa'),\n",
       " (0.00120828973776407, 'Gable'),\n",
       " (0.0011487121018339756, '2Story'),\n",
       " (0.0010586024825900177, 'IDOTRR'),\n",
       " (0.0010496429831525903, 'Bnk'),\n",
       " (0.0010207764741942712, 'Hip'),\n",
       " (0.0009773444340710092, 'IR1'),\n",
       " (0.0009437907247261311, 'CBlock'),\n",
       " (0.0008559696902242797, 'TA'),\n",
       " (0.0008543751617515803, 'Norm'),\n",
       " (0.0008459057120800011, 'NridgHt'),\n",
       " (0.0008215575647943476, 'Gtl'),\n",
       " (0.0008076299411587506, 'Lvl'),\n",
       " (0.0008042599726717141, 'TA'),\n",
       " (0.0007576581955553379, 'BrkTil'),\n",
       " (0.0006586800588833949, 'Inside'),\n",
       " (0.0006390159467784345, 'Fa'),\n",
       " (0.0005925888635005611, '1.5Fin'),\n",
       " (0.000575218722308918, 'NAmes'),\n",
       " (0.0005724212486490209, 'Corner'),\n",
       " (0.0005568537166987821, 'Gd'),\n",
       " (0.0005467955516526636, 'Partial'),\n",
       " (0.0005384423677261842, 'Mod'),\n",
       " (0.0005221695743238835, 'Artery'),\n",
       " (0.0005210134063120248, 'ClearCr'),\n",
       " (0.0005055965317767247, 'Gd'),\n",
       " (0.0005033555312472214, 'Family'),\n",
       " (0.0004936658530677267, 'Low'),\n",
       " (0.0004590208131771412, 'Feedr'),\n",
       " (0.0004360402186213027, 'Sawyer'),\n",
       " (0.0004119846317300211, 'Duplex'),\n",
       " (0.0004026804851105229, 'Flat'),\n",
       " (0.00036012903220951576, 'HLS'),\n",
       " (0.00035191828004909606, 'CollgCr'),\n",
       " (0.00034416909172900863, 'BrkSide'),\n",
       " (0.00033129861864265956, 'P'),\n",
       " (0.0003212360282833498, 'CulDSac'),\n",
       " (0.0003059391998570272, 'Gambrel'),\n",
       " (0.0003021883070603058, 'Somerst'),\n",
       " (0.00027846703934683104, 'MeadowV'),\n",
       " (0.0002684644288044463, 'Mitchel'),\n",
       " (0.00026807275156030016, 'NoRidge'),\n",
       " (0.00026587032113196236, 'Grav'),\n",
       " (0.0002418672545546352, 'StoneBr'),\n",
       " (0.00024043730441230485, 'TwnhsE'),\n",
       " (0.0002385803179356064, 'Alloca'),\n",
       " (0.00023645805083231993, 'GasA'),\n",
       " (0.00023199641942533799, 'Slab'),\n",
       " (0.00022036518901993253, 'SLvl'),\n",
       " (0.0002019210290368452, 'FR2'),\n",
       " (0.00019712369174454595, 'NWAmes'),\n",
       " (0.00019313765052770505, 'Sev'),\n",
       " (0.00018824778357596638, 'IR2'),\n",
       " (0.00017789481478175037, 'Twnhs'),\n",
       " (0.0001718178661883874, 'GasW'),\n",
       " (0.00017009763513062807, 'SWISU'),\n",
       " (0.00016373585336085957, 'Gilbert'),\n",
       " (0.0001604531697642494, 'PosN'),\n",
       " (0.00015837980941371075, 'SawyerW'),\n",
       " (0.0001362999492847379, 'BrDale'),\n",
       " (0.00013375366748080237, 'RRAn'),\n",
       " (0.000133712320750663, '2fmCon'),\n",
       " (0.00012990951716976192, 'IR3'),\n",
       " (0.000118540301440054, 'RRAe'),\n",
       " (0.00011650387555324478, 'Timber'),\n",
       " (0.00011593970094730855, 'Grvl'),\n",
       " (0.00010594233634120188, 'Pave'),\n",
       " (8.86431010773969e-05, '1.5Unf'),\n",
       " (8.025846287788231e-05, 'Veenker'),\n",
       " (7.101822966835061e-05, '2.5Unf'),\n",
       " (6.745978754035778e-05, '2.5Fin'),\n",
       " (6.328349341263465e-05, 'OthW'),\n",
       " (5.1679796094568235e-05, 'SFoyer'),\n",
       " (4.367496238505382e-05, 'Blmngtn'),\n",
       " (4.157477714099625e-05, 'PosA'),\n",
       " (3.816763397633283e-05, 'AdjLand'),\n",
       " (3.085368567839221e-05, 'Po'),\n",
       " (2.7597376091135357e-05, 'NPkVill'),\n",
       " (2.0473051751518342e-05, 'FR3'),\n",
       " (1.7774343796574735e-05, 'Mansard'),\n",
       " (1.7340952631962904e-05, 'Wood'),\n",
       " (1.5670586219220872e-05, 'Stone'),\n",
       " (1.1074347122895606e-05, 'Wall'),\n",
       " (9.459732843352433e-06, 'Ex'),\n",
       " (8.191797319421864e-06, 'Shed'),\n",
       " (8.099865120771843e-06, 'Floor'),\n",
       " (7.892538489951046e-06, 'RRNn'),\n",
       " (5.846039565072635e-06, 'Blueste'),\n",
       " (2.966276942623407e-06, 'Po'),\n",
       " (2.723494578709327e-06, 'RRNe')]"
      ]
     },
     "execution_count": 23,
     "metadata": {},
     "output_type": "execute_result"
    }
   ],
   "source": [
    "cat_encoder = full_pipeline.named_transformers_[\"cat\"]\n",
    "cat_one_hot_attribs = []\n",
    "for a in cat_encoder.categories_:\n",
    "    for b in a:\n",
    "        cat_one_hot_attribs.append(b)\n",
    "# print(cat_one_hot_attribs)\n",
    "attributes = num_att + cat_one_hot_attribs\n",
    "sorted(zip(feature_importances, attributes), reverse=True)"
   ]
  },
  {
   "cell_type": "code",
   "execution_count": 24,
   "metadata": {},
   "outputs": [],
   "source": [
    "# y_pred = forest_reg.predict(test_full_prepared)\n",
    "y_pred = grid_search.predict(test_full_prepared)\n",
    "y_pred_normal = np.e**y_pred\n",
    "sub = pd.DataFrame({'Id': test['Id'], 'SalePrice': y_pred_normal})"
   ]
  },
  {
   "cell_type": "code",
   "execution_count": 25,
   "metadata": {},
   "outputs": [],
   "source": [
    "sub.to_csv(\"data/submission_script22_norm_WoodDeckSF.csv\", index=False)"
   ]
  },
  {
   "cell_type": "code",
   "execution_count": 26,
   "metadata": {},
   "outputs": [
    {
     "data": {
      "text/plain": [
       "(1459, 2)"
      ]
     },
     "execution_count": 26,
     "metadata": {},
     "output_type": "execute_result"
    }
   ],
   "source": [
    "sub.shape"
   ]
  },
  {
   "cell_type": "code",
   "execution_count": null,
   "metadata": {},
   "outputs": [],
   "source": []
  }
 ],
 "metadata": {
  "kernelspec": {
   "display_name": "Python 3",
   "language": "python",
   "name": "python3"
  },
  "language_info": {
   "codemirror_mode": {
    "name": "ipython",
    "version": 3
   },
   "file_extension": ".py",
   "mimetype": "text/x-python",
   "name": "python",
   "nbconvert_exporter": "python",
   "pygments_lexer": "ipython3",
   "version": "3.7.4"
  }
 },
 "nbformat": 4,
 "nbformat_minor": 2
}
