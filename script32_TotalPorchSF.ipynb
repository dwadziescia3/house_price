{
 "cells": [
  {
   "cell_type": "code",
   "execution_count": 1,
   "metadata": {},
   "outputs": [],
   "source": [
    "import sys\n",
    "assert sys.version_info >= (3, 5)\n",
    "\n",
    "import sklearn\n",
    "assert sklearn.__version__ >= \"0.20\"\n",
    "\n",
    "import numpy as np\n",
    "import os\n",
    "\n",
    "import matplotlib as mpl\n",
    "import matplotlib.pyplot as plt\n",
    "mpl.rc('axes', labelsize=14)\n",
    "mpl.rc('xtick', labelsize=12)\n",
    "mpl.rc('ytick', labelsize=12)\n",
    "\n",
    "import warnings\n",
    "warnings.filterwarnings(action=\"ignore\", message=\"^internal gelsd\")"
   ]
  },
  {
   "cell_type": "code",
   "execution_count": 2,
   "metadata": {},
   "outputs": [],
   "source": [
    "import pandas as pd\n",
    "\n",
    "def load_housing_data(housing_path='data'):\n",
    "    train_csv_path = os.path.join(housing_path, \"train.csv\")\n",
    "    test_csv_path = os.path.join(housing_path, \"test.csv\")\n",
    "    return pd.read_csv(train_csv_path), pd.read_csv(test_csv_path)\n",
    "\n",
    "train, test = load_housing_data()"
   ]
  },
  {
   "cell_type": "code",
   "execution_count": 3,
   "metadata": {},
   "outputs": [],
   "source": [
    "train['TotalLivingSF'] = train['BsmtFinSF1'] + train['BsmtFinSF2'] + train['1stFlrSF'] + train['2ndFlrSF']\n",
    "test['TotalLivingSF'] = test['BsmtFinSF1'] + test['BsmtFinSF2'] + test['1stFlrSF'] + test['2ndFlrSF']\n",
    "\n",
    "train['TotalLivingSF'] = np.log(train['TotalLivingSF'])\n",
    "test['TotalLivingSF'] = np.log(test['TotalLivingSF'])"
   ]
  },
  {
   "cell_type": "code",
   "execution_count": 4,
   "metadata": {},
   "outputs": [],
   "source": [
    "train['TotalBthm'] = train['FullBath'] + 0.5*train['HalfBath'] + train['BsmtFullBath'] + 0.5*train['BsmtHalfBath']\n",
    "test['TotalBthm'] = test['FullBath'] + 0.5*test['HalfBath'] + test['BsmtFullBath'] + 0.5*test['BsmtHalfBath']\n",
    "\n",
    "train['TotalBthm'] = np.log(train['TotalBthm'])\n",
    "test['TotalBthm'] = np.log(test['TotalBthm'])"
   ]
  },
  {
   "cell_type": "code",
   "execution_count": 5,
   "metadata": {},
   "outputs": [],
   "source": [
    "train['TotalPorchSF'] = train['OpenPorchSF'] + train['3SsnPorch'] + train['EnclosedPorch'] + train['ScreenPorch'] + train['WoodDeckSF']\n",
    "test['TotalPorchSF'] = test['OpenPorchSF'] + test['3SsnPorch'] + test['EnclosedPorch'] + test['ScreenPorch'] + test['WoodDeckSF']"
   ]
  },
  {
   "cell_type": "code",
   "execution_count": 7,
   "metadata": {},
   "outputs": [
    {
     "data": {
      "text/plain": [
       "SalePrice        1.000000\n",
       "OverallQual      0.790982\n",
       "GrLivArea        0.708624\n",
       "TotalLivingSF    0.698827\n",
       "GarageCars       0.640409\n",
       "GarageArea       0.623431\n",
       "TotalBsmtSF      0.613581\n",
       "1stFlrSF         0.605852\n",
       "TotalBthm        0.603681\n",
       "FullBath         0.560664\n",
       "TotRmsAbvGrd     0.533723\n",
       "YearBuilt        0.522897\n",
       "YearRemodAdd     0.507101\n",
       "GarageYrBlt      0.486362\n",
       "MasVnrArea       0.477493\n",
       "Fireplaces       0.466929\n",
       "TotalPorchSF     0.390993\n",
       "BsmtFinSF1       0.386420\n",
       "LotFrontage      0.351799\n",
       "WoodDeckSF       0.324413\n",
       "2ndFlrSF         0.319334\n",
       "OpenPorchSF      0.315856\n",
       "HalfBath         0.284108\n",
       "LotArea          0.263843\n",
       "BsmtFullBath     0.227122\n",
       "BsmtUnfSF        0.214479\n",
       "BedroomAbvGr     0.168213\n",
       "ScreenPorch      0.111447\n",
       "PoolArea         0.092404\n",
       "MoSold           0.046432\n",
       "3SsnPorch        0.044584\n",
       "BsmtFinSF2      -0.011378\n",
       "BsmtHalfBath    -0.016844\n",
       "MiscVal         -0.021190\n",
       "Id              -0.021917\n",
       "LowQualFinSF    -0.025606\n",
       "YrSold          -0.028923\n",
       "OverallCond     -0.077856\n",
       "MSSubClass      -0.084284\n",
       "EnclosedPorch   -0.128578\n",
       "KitchenAbvGr    -0.135907\n",
       "Name: SalePrice, dtype: float64"
      ]
     },
     "execution_count": 7,
     "metadata": {},
     "output_type": "execute_result"
    }
   ],
   "source": [
    "corr_matrix = train.corr()\n",
    "corr_matrix[\"SalePrice\"].sort_values(ascending=False)"
   ]
  },
  {
   "cell_type": "code",
   "execution_count": 8,
   "metadata": {},
   "outputs": [],
   "source": [
    "train['MSSubClass'] = train['MSSubClass'].apply(str)\n",
    "train['YrSold'] = train['YrSold'].astype(str)\n",
    "train['MoSold'] = train['MoSold'].astype(str)\n",
    "\n",
    "test['MSSubClass'] = test['MSSubClass'].apply(str)\n",
    "test['YrSold'] = test['YrSold'].astype(str)\n",
    "test['MoSold'] = test['MoSold'].astype(str)"
   ]
  },
  {
   "cell_type": "code",
   "execution_count": 9,
   "metadata": {},
   "outputs": [
    {
     "name": "stdout",
     "output_type": "stream",
     "text": [
      "['LotFrontage', 'LotArea', 'OverallQual', 'OverallCond', 'YearBuilt', 'YearRemodAdd', 'MasVnrArea', 'BsmtFinSF1', 'BsmtUnfSF', 'TotalBsmtSF', '1stFlrSF', '2ndFlrSF', 'GrLivArea', 'BsmtFullBath', 'FullBath', 'HalfBath', 'BedroomAbvGr', 'KitchenAbvGr', 'TotRmsAbvGrd', 'Fireplaces', 'GarageYrBlt', 'GarageCars', 'GarageArea', 'WoodDeckSF', 'OpenPorchSF', 'EnclosedPorch', 'TotalLivingSF', 'TotalBthm', 'TotalPorchSF']\n"
     ]
    }
   ],
   "source": [
    "num_att = list(train.select_dtypes([np.number]).columns)\n",
    "\n",
    "# att = ['OverallQual', 'GrLivArea']\n",
    "\n",
    "# to_remove = ['BsmtFinSF2', 'MoSold', '3SsnPorch', 'BsmtHalfBath', 'MiscVal', 'LowQualFinSF', 'YrSold',\n",
    "#             'PoolArea', 'OverallCond', 'MSSubClass', 'ScreenPorch']\n",
    "\n",
    "to_remove = ['PoolArea', 'BsmtHalfBath', 'MiscVal', 'LowQualFinSF', 'ScreenPorch', '3SsnPorch',\n",
    "            'BsmtFinSF2', 'MoSold', 'YrSold',\n",
    "            'GarageArea', 'TotalBsmtSF']\n",
    "\n",
    "to_remove = ['PoolArea', 'BsmtHalfBath', 'MiscVal', 'LowQualFinSF', 'ScreenPorch', '3SsnPorch',\n",
    "            'BsmtFinSF2']\n",
    "\n",
    "for t in to_remove:\n",
    "    num_att.remove(t)\n",
    "num_att.remove('Id')\n",
    "num_att.remove('SalePrice')\n",
    "\n",
    "# num_att = ['OverallQual', 'GrLivArea', 'GarageCars', '1stFlrSF', 'FullBath', 'YearBuilt']\n",
    "\n",
    "print(num_att)"
   ]
  },
  {
   "cell_type": "code",
   "execution_count": 10,
   "metadata": {},
   "outputs": [
    {
     "name": "stdout",
     "output_type": "stream",
     "text": [
      "['Neighborhood', 'BldgType', 'Heating', 'HeatingQC', 'CentralAir', 'Street', 'LotShape', 'LandContour', 'LotConfig', 'LandSlope', 'Condition1', 'HouseStyle', 'RoofStyle', 'ExterQual', 'ExterCond', 'Foundation', 'PavedDrive', 'SaleCondition', 'MoSold', 'YrSold', 'MSSubClass']\n"
     ]
    }
   ],
   "source": [
    "cat_att = ['BldgType', 'CentralAir', 'Foundation', \n",
    "           'PavedDrive', 'SaleCondition']\n",
    "cat_att = ['Neighborhood', 'BldgType', 'Heating', 'HeatingQC', 'CentralAir', \n",
    "           'Street', 'LotShape', 'LandContour', 'LotConfig',\n",
    "           'LandSlope', 'Condition1', 'HouseStyle', 'RoofStyle', \n",
    "           'ExterQual', 'ExterCond', 'Foundation', 'PavedDrive', 'SaleCondition'\n",
    "          , 'MoSold', 'YrSold', 'MSSubClass']\n",
    "\n",
    "# TO ADD = Exterior1st, KitchenQual, Functional, SaleType, Alley, Condition2\n",
    "\n",
    "# cat_att = ['Neighborhood', 'BldgType']\n",
    "print(cat_att)"
   ]
  },
  {
   "cell_type": "code",
   "execution_count": 11,
   "metadata": {},
   "outputs": [],
   "source": [
    "for a in num_att:\n",
    "    median = train[a].median()\n",
    "    train[a].fillna(median, inplace=True)\n",
    "    \n",
    "#     median = test[a].median()\n",
    "    test[a].fillna(median, inplace=True)"
   ]
  },
  {
   "cell_type": "code",
   "execution_count": 12,
   "metadata": {},
   "outputs": [
    {
     "name": "stderr",
     "output_type": "stream",
     "text": [
      "/home/marek/anaconda3/lib/python3.7/site-packages/pandas/core/series.py:853: RuntimeWarning: divide by zero encountered in log\n",
      "  result = getattr(ufunc, method)(*inputs, **kwargs)\n"
     ]
    }
   ],
   "source": [
    "import seaborn as sns\n",
    "from scipy.stats import norm\n",
    "from scipy import stats\n",
    "\n",
    "train['SalePrice'] = np.log(train['SalePrice'])\n",
    "train_y = train[\"SalePrice\"].copy()\n",
    "\n",
    "train['GrLivArea'] = np.log(train['GrLivArea'])\n",
    "test['GrLivArea'] = np.log(test['GrLivArea'])\n",
    "\n",
    "train['HasBsmt'] = pd.Series(len(train['TotalBsmtSF']), index=train.index)\n",
    "train['HasBsmt'] = 0 \n",
    "train.loc[train['TotalBsmtSF']>0,'HasBsmt'] = 1\n",
    "train.loc[train['HasBsmt']==1,'TotalBsmtSF'] = np.log(train['TotalBsmtSF'])\n",
    "test['HasBsmt'] = pd.Series(len(test['TotalBsmtSF']), index=test.index)\n",
    "test['HasBsmt'] = 0 \n",
    "test.loc[test['TotalBsmtSF']>0,'HasBsmt'] = 1\n",
    "test.loc[test['HasBsmt']==1,'TotalBsmtSF'] = np.log(test['TotalBsmtSF'])\n",
    "\n",
    "train['1stFlrSF'] = np.log(train['1stFlrSF'])\n",
    "test['1stFlrSF'] = np.log(test['1stFlrSF'])\n",
    "\n",
    "train['HasBsmtFin'] = pd.Series(len(train['BsmtFinSF1']), index=train.index)\n",
    "train['HasBsmtFin'] = 0 \n",
    "train.loc[train['BsmtFinSF1']>0,'HasBsmtFin'] = 1\n",
    "train.loc[train['HasBsmtFin']==1,'BsmtFinSF1'] = np.log(train['BsmtFinSF1'])\n",
    "test['HasBsmtFin'] = pd.Series(len(test['BsmtFinSF1']), index=test.index)\n",
    "test['HasBsmtFin'] = 0 \n",
    "test.loc[test['BsmtFinSF1']>0,'HasBsmtFin'] = 1\n",
    "test.loc[test['HasBsmtFin']==1,'BsmtFinSF1'] = np.log(test['BsmtFinSF1'])\n",
    "\n",
    "train['HasWoodDeck'] = pd.Series(len(train['WoodDeckSF']), index=train.index)\n",
    "train['HasWoodDeck'] = 0 \n",
    "train.loc[train['WoodDeckSF']>0,'HasWoodDeck'] = 1\n",
    "train.loc[train['HasWoodDeck']==1,'WoodDeckSF'] = np.log(train['WoodDeckSF'])\n",
    "test['HasWoodDeck'] = pd.Series(len(test['WoodDeckSF']), index=test.index)\n",
    "test['HasWoodDeck'] = 0 \n",
    "test.loc[test['WoodDeckSF']>0,'HasWoodDeck'] = 1\n",
    "test.loc[test['HasWoodDeck']==1,'WoodDeckSF'] = np.log(test['WoodDeckSF'])\n"
   ]
  },
  {
   "cell_type": "code",
   "execution_count": 13,
   "metadata": {},
   "outputs": [
    {
     "data": {
      "text/plain": [
       "SalePrice        1.000000\n",
       "OverallQual      0.817184\n",
       "TotalLivingSF    0.741062\n",
       "GrLivArea        0.730255\n",
       "GarageCars       0.680625\n",
       "TotalBthm        0.668685\n",
       "GarageArea       0.650888\n",
       "1stFlrSF         0.608947\n",
       "FullBath         0.594771\n",
       "YearBuilt        0.586570\n",
       "YearRemodAdd     0.565608\n",
       "TotRmsAbvGrd     0.534422\n",
       "GarageYrBlt      0.495794\n",
       "Fireplaces       0.489449\n",
       "MasVnrArea       0.426775\n",
       "TotalPorchSF     0.398387\n",
       "TotalBsmtSF      0.373009\n",
       "WoodDeckSF       0.343269\n",
       "LotFrontage      0.335292\n",
       "OpenPorchSF      0.321053\n",
       "HasWoodDeck      0.320349\n",
       "2ndFlrSF         0.319300\n",
       "HalfBath         0.313982\n",
       "LotArea          0.257320\n",
       "BsmtFullBath     0.236224\n",
       "BsmtUnfSF        0.221985\n",
       "BedroomAbvGr     0.209044\n",
       "BsmtFinSF1       0.207962\n",
       "HasBsmt          0.199634\n",
       "HasBsmtFin       0.162231\n",
       "ScreenPorch      0.121208\n",
       "PoolArea         0.069798\n",
       "3SsnPorch        0.054900\n",
       "BsmtFinSF2       0.004832\n",
       "BsmtHalfBath    -0.005149\n",
       "Id              -0.017942\n",
       "MiscVal         -0.020021\n",
       "OverallCond     -0.036868\n",
       "LowQualFinSF    -0.037963\n",
       "KitchenAbvGr    -0.147548\n",
       "EnclosedPorch   -0.149050\n",
       "Name: SalePrice, dtype: float64"
      ]
     },
     "execution_count": 13,
     "metadata": {},
     "output_type": "execute_result"
    }
   ],
   "source": [
    "corr_matrix = train.corr()\n",
    "corr_matrix[\"SalePrice\"].sort_values(ascending=False)"
   ]
  },
  {
   "cell_type": "code",
   "execution_count": 14,
   "metadata": {},
   "outputs": [
    {
     "name": "stdout",
     "output_type": "stream",
     "text": [
      "<class 'pandas.core.frame.DataFrame'>\n",
      "RangeIndex: 1460 entries, 0 to 1459\n",
      "Data columns (total 50 columns):\n",
      "LotFrontage      1460 non-null float64\n",
      "LotArea          1460 non-null int64\n",
      "OverallQual      1460 non-null int64\n",
      "OverallCond      1460 non-null int64\n",
      "YearBuilt        1460 non-null int64\n",
      "YearRemodAdd     1460 non-null int64\n",
      "MasVnrArea       1460 non-null float64\n",
      "BsmtFinSF1       1460 non-null float64\n",
      "BsmtUnfSF        1460 non-null int64\n",
      "TotalBsmtSF      1460 non-null float64\n",
      "1stFlrSF         1460 non-null float64\n",
      "2ndFlrSF         1460 non-null int64\n",
      "GrLivArea        1460 non-null float64\n",
      "BsmtFullBath     1460 non-null int64\n",
      "FullBath         1460 non-null int64\n",
      "HalfBath         1460 non-null int64\n",
      "BedroomAbvGr     1460 non-null int64\n",
      "KitchenAbvGr     1460 non-null int64\n",
      "TotRmsAbvGrd     1460 non-null int64\n",
      "Fireplaces       1460 non-null int64\n",
      "GarageYrBlt      1460 non-null float64\n",
      "GarageCars       1460 non-null int64\n",
      "GarageArea       1460 non-null int64\n",
      "WoodDeckSF       1460 non-null float64\n",
      "OpenPorchSF      1460 non-null int64\n",
      "EnclosedPorch    1460 non-null int64\n",
      "TotalLivingSF    1460 non-null float64\n",
      "TotalBthm        1460 non-null float64\n",
      "TotalPorchSF     1460 non-null int64\n",
      "Neighborhood     1460 non-null object\n",
      "BldgType         1460 non-null object\n",
      "Heating          1460 non-null object\n",
      "HeatingQC        1460 non-null object\n",
      "CentralAir       1460 non-null object\n",
      "Street           1460 non-null object\n",
      "LotShape         1460 non-null object\n",
      "LandContour      1460 non-null object\n",
      "LotConfig        1460 non-null object\n",
      "LandSlope        1460 non-null object\n",
      "Condition1       1460 non-null object\n",
      "HouseStyle       1460 non-null object\n",
      "RoofStyle        1460 non-null object\n",
      "ExterQual        1460 non-null object\n",
      "ExterCond        1460 non-null object\n",
      "Foundation       1460 non-null object\n",
      "PavedDrive       1460 non-null object\n",
      "SaleCondition    1460 non-null object\n",
      "MoSold           1460 non-null object\n",
      "YrSold           1460 non-null object\n",
      "MSSubClass       1460 non-null object\n",
      "dtypes: float64(10), int64(19), object(21)\n",
      "memory usage: 570.4+ KB\n",
      "<class 'pandas.core.frame.DataFrame'>\n",
      "RangeIndex: 1459 entries, 0 to 1458\n",
      "Data columns (total 50 columns):\n",
      "LotFrontage      1459 non-null float64\n",
      "LotArea          1459 non-null int64\n",
      "OverallQual      1459 non-null int64\n",
      "OverallCond      1459 non-null int64\n",
      "YearBuilt        1459 non-null int64\n",
      "YearRemodAdd     1459 non-null int64\n",
      "MasVnrArea       1459 non-null float64\n",
      "BsmtFinSF1       1459 non-null float64\n",
      "BsmtUnfSF        1459 non-null float64\n",
      "TotalBsmtSF      1459 non-null float64\n",
      "1stFlrSF         1459 non-null float64\n",
      "2ndFlrSF         1459 non-null int64\n",
      "GrLivArea        1459 non-null float64\n",
      "BsmtFullBath     1459 non-null float64\n",
      "FullBath         1459 non-null int64\n",
      "HalfBath         1459 non-null int64\n",
      "BedroomAbvGr     1459 non-null int64\n",
      "KitchenAbvGr     1459 non-null int64\n",
      "TotRmsAbvGrd     1459 non-null int64\n",
      "Fireplaces       1459 non-null int64\n",
      "GarageYrBlt      1459 non-null float64\n",
      "GarageCars       1459 non-null float64\n",
      "GarageArea       1459 non-null float64\n",
      "WoodDeckSF       1459 non-null float64\n",
      "OpenPorchSF      1459 non-null int64\n",
      "EnclosedPorch    1459 non-null int64\n",
      "TotalLivingSF    1459 non-null float64\n",
      "TotalBthm        1459 non-null float64\n",
      "TotalPorchSF     1459 non-null int64\n",
      "Neighborhood     1459 non-null object\n",
      "BldgType         1459 non-null object\n",
      "Heating          1459 non-null object\n",
      "HeatingQC        1459 non-null object\n",
      "CentralAir       1459 non-null object\n",
      "Street           1459 non-null object\n",
      "LotShape         1459 non-null object\n",
      "LandContour      1459 non-null object\n",
      "LotConfig        1459 non-null object\n",
      "LandSlope        1459 non-null object\n",
      "Condition1       1459 non-null object\n",
      "HouseStyle       1459 non-null object\n",
      "RoofStyle        1459 non-null object\n",
      "ExterQual        1459 non-null object\n",
      "ExterCond        1459 non-null object\n",
      "Foundation       1459 non-null object\n",
      "PavedDrive       1459 non-null object\n",
      "SaleCondition    1459 non-null object\n",
      "MoSold           1459 non-null object\n",
      "YrSold           1459 non-null object\n",
      "MSSubClass       1459 non-null object\n",
      "dtypes: float64(14), int64(15), object(21)\n",
      "memory usage: 570.0+ KB\n",
      "<class 'pandas.core.frame.DataFrame'>\n",
      "Int64Index: 2919 entries, 0 to 1458\n",
      "Data columns (total 50 columns):\n",
      "LotFrontage      2919 non-null float64\n",
      "LotArea          2919 non-null int64\n",
      "OverallQual      2919 non-null int64\n",
      "OverallCond      2919 non-null int64\n",
      "YearBuilt        2919 non-null int64\n",
      "YearRemodAdd     2919 non-null int64\n",
      "MasVnrArea       2919 non-null float64\n",
      "BsmtFinSF1       2919 non-null float64\n",
      "BsmtUnfSF        2919 non-null float64\n",
      "TotalBsmtSF      2919 non-null float64\n",
      "1stFlrSF         2919 non-null float64\n",
      "2ndFlrSF         2919 non-null int64\n",
      "GrLivArea        2919 non-null float64\n",
      "BsmtFullBath     2919 non-null float64\n",
      "FullBath         2919 non-null int64\n",
      "HalfBath         2919 non-null int64\n",
      "BedroomAbvGr     2919 non-null int64\n",
      "KitchenAbvGr     2919 non-null int64\n",
      "TotRmsAbvGrd     2919 non-null int64\n",
      "Fireplaces       2919 non-null int64\n",
      "GarageYrBlt      2919 non-null float64\n",
      "GarageCars       2919 non-null float64\n",
      "GarageArea       2919 non-null float64\n",
      "WoodDeckSF       2919 non-null float64\n",
      "OpenPorchSF      2919 non-null int64\n",
      "EnclosedPorch    2919 non-null int64\n",
      "TotalLivingSF    2919 non-null float64\n",
      "TotalBthm        2919 non-null float64\n",
      "TotalPorchSF     2919 non-null int64\n",
      "Neighborhood     2919 non-null object\n",
      "BldgType         2919 non-null object\n",
      "Heating          2919 non-null object\n",
      "HeatingQC        2919 non-null object\n",
      "CentralAir       2919 non-null object\n",
      "Street           2919 non-null object\n",
      "LotShape         2919 non-null object\n",
      "LandContour      2919 non-null object\n",
      "LotConfig        2919 non-null object\n",
      "LandSlope        2919 non-null object\n",
      "Condition1       2919 non-null object\n",
      "HouseStyle       2919 non-null object\n",
      "RoofStyle        2919 non-null object\n",
      "ExterQual        2919 non-null object\n",
      "ExterCond        2919 non-null object\n",
      "Foundation       2919 non-null object\n",
      "PavedDrive       2919 non-null object\n",
      "SaleCondition    2919 non-null object\n",
      "MoSold           2919 non-null object\n",
      "YrSold           2919 non-null object\n",
      "MSSubClass       2919 non-null object\n",
      "dtypes: float64(14), int64(15), object(21)\n",
      "memory usage: 1.1+ MB\n"
     ]
    }
   ],
   "source": [
    "train2 = train[num_att + cat_att]\n",
    "train2.info()\n",
    "test2 = test[num_att + cat_att]\n",
    "test2.info()\n",
    "\n",
    "merged_df = pd.concat([train2, test2])\n",
    "merged_df.info()"
   ]
  },
  {
   "cell_type": "code",
   "execution_count": 15,
   "metadata": {},
   "outputs": [],
   "source": [
    "from sklearn.pipeline import Pipeline\n",
    "from sklearn.preprocessing import StandardScaler\n",
    "from sklearn.impute import SimpleImputer\n",
    "from sklearn.compose import ColumnTransformer\n",
    "from sklearn.preprocessing import OneHotEncoder\n",
    "\n",
    "num_pipeline = Pipeline([\n",
    "        ('imputer', SimpleImputer(strategy=\"median\")),\n",
    "        ('std_scaler', StandardScaler()),\n",
    "    ])\n",
    "train_prepared = num_pipeline.fit_transform(train[num_att])\n",
    "test_prepared  = num_pipeline.transform(test[num_att])\n",
    "\n",
    "\n",
    "full_pipeline = ColumnTransformer([\n",
    "        (\"num\", num_pipeline, num_att),\n",
    "        (\"cat\", OneHotEncoder(), cat_att),\n",
    "    ])\n",
    "\n",
    "train_test_full_prepared = full_pipeline.fit_transform(merged_df)\n",
    "train_full_prepared = full_pipeline.transform(train2)\n",
    "test_full_prepared = full_pipeline.transform(test2)\n"
   ]
  },
  {
   "cell_type": "code",
   "execution_count": 16,
   "metadata": {},
   "outputs": [
    {
     "name": "stdout",
     "output_type": "stream",
     "text": [
      "(1460, 29)\n",
      "(1459, 29)\n",
      "(1460, 170)\n",
      "(1459, 170)\n"
     ]
    }
   ],
   "source": [
    "print(train_prepared.shape)\n",
    "print(test_prepared.shape)\n",
    "print(train_full_prepared.shape)\n",
    "print(test_full_prepared.shape)"
   ]
  },
  {
   "cell_type": "code",
   "execution_count": 17,
   "metadata": {},
   "outputs": [
    {
     "data": {
      "text/plain": [
       "0.0010585301369543663"
      ]
     },
     "execution_count": 17,
     "metadata": {},
     "output_type": "execute_result"
    }
   ],
   "source": [
    "from sklearn.metrics import mean_squared_error\n",
    "from sklearn.ensemble import RandomForestRegressor\n",
    "\n",
    "forest_reg = RandomForestRegressor(bootstrap=False, n_estimators=350, max_features=32, random_state=42)\n",
    "forest_reg.fit(train_full_prepared, train_y)\n",
    "\n",
    "housing_predictions = forest_reg.predict(train_full_prepared)\n",
    "\n",
    "forest_mse = mean_squared_error(train_y, housing_predictions)\n",
    "forest_rmse = np.sqrt(forest_mse)\n",
    "forest_rmse"
   ]
  },
  {
   "cell_type": "code",
   "execution_count": 18,
   "metadata": {},
   "outputs": [
    {
     "name": "stdout",
     "output_type": "stream",
     "text": [
      "12.247694320220951\n",
      "12.247694320220994\n"
     ]
    }
   ],
   "source": [
    "print(housing_predictions[0])\n",
    "print(train_y[0])"
   ]
  },
  {
   "cell_type": "code",
   "execution_count": 19,
   "metadata": {},
   "outputs": [
    {
     "data": {
      "text/plain": [
       "153.6254025931759"
      ]
     },
     "execution_count": 19,
     "metadata": {},
     "output_type": "execute_result"
    }
   ],
   "source": [
    "train_y_normal = np.e**train_y\n",
    "pred_normal = np.e**housing_predictions\n",
    "\n",
    "forest_mse = mean_squared_error(train_y_normal, pred_normal)\n",
    "forest_rmse = np.sqrt(forest_mse)\n",
    "forest_rmse"
   ]
  },
  {
   "cell_type": "code",
   "execution_count": 20,
   "metadata": {},
   "outputs": [
    {
     "name": "stdout",
     "output_type": "stream",
     "text": [
      "208500.0\n",
      "208499.9999999911\n"
     ]
    }
   ],
   "source": [
    "print(train_y_normal[0])\n",
    "print(pred_normal[0])"
   ]
  },
  {
   "cell_type": "code",
   "execution_count": 21,
   "metadata": {
    "scrolled": false
   },
   "outputs": [
    {
     "data": {
      "text/plain": [
       "[(0.1497229891865234, 'OverallQual'),\n",
       " (0.12172791117044851, 'TotalLivingSF'),\n",
       " (0.10859796153293774, 'GrLivArea'),\n",
       " (0.06344490442184272, 'YearBuilt'),\n",
       " (0.058485556859633143, 'TA'),\n",
       " (0.05081410671209815, 'GarageCars'),\n",
       " (0.04708318559987379, 'TotalBthm'),\n",
       " (0.04078558206939883, 'TotalBsmtSF'),\n",
       " (0.03573613653727939, 'GarageArea'),\n",
       " (0.03348609293738521, 'GarageYrBlt'),\n",
       " (0.03215133958472686, '1stFlrSF'),\n",
       " (0.02223702521140665, 'FullBath'),\n",
       " (0.017251766758627562, 'LotArea'),\n",
       " (0.01623048770574905, 'YearRemodAdd'),\n",
       " (0.01564724179471059, 'Fireplaces'),\n",
       " (0.01193544890104099, 'BsmtFinSF1'),\n",
       " (0.011632594657045147, '2ndFlrSF'),\n",
       " (0.009329901375067064, 'OverallCond'),\n",
       " (0.009251004845818016, 'PConc'),\n",
       " (0.008945808994978656, 'LotFrontage'),\n",
       " (0.008550184442473215, 'N'),\n",
       " (0.00843006075730467, 'TotRmsAbvGrd'),\n",
       " (0.008378693497111147, 'Gd'),\n",
       " (0.008041385704583383, 'Y'),\n",
       " (0.007960098038479123, 'BsmtUnfSF'),\n",
       " (0.007150966483969983, 'TotalPorchSF'),\n",
       " (0.005693296402914842, 'OpenPorchSF'),\n",
       " (0.004050965987020877, 'MasVnrArea'),\n",
       " (0.0036163793079010955, 'BedroomAbvGr'),\n",
       " (0.0032587579891993606, 'Ex'),\n",
       " (0.003112110850153382, 'WoodDeckSF'),\n",
       " (0.00248254484335685, '60'),\n",
       " (0.0020086211594606894, 'Ex'),\n",
       " (0.0019823240885075304, '30'),\n",
       " (0.001832246693647593, 'KitchenAbvGr'),\n",
       " (0.0017633698729076267, 'Crawfor'),\n",
       " (0.0017440198874356938, 'HalfBath'),\n",
       " (0.0016445608495554882, 'EnclosedPorch'),\n",
       " (0.0016180479660558608, '1Fam'),\n",
       " (0.0016080511607384435, 'N'),\n",
       " (0.001459357470760777, 'Fa'),\n",
       " (0.0013824876600178396, 'Normal'),\n",
       " (0.001292272764037927, 'Edwards'),\n",
       " (0.0012175791141787189, 'BsmtFullBath'),\n",
       " (0.001180303570282012, 'Abnorml'),\n",
       " (0.0011698116050566773, 'OldTown'),\n",
       " (0.0011494702324683892, 'Reg'),\n",
       " (0.0011081667355585462, '2Story'),\n",
       " (0.0010082106026373695, 'CBlock'),\n",
       " (0.0009621929430532936, 'Fa'),\n",
       " (0.0009403697590259465, 'IR1'),\n",
       " (0.0009281001038026675, 'Gable'),\n",
       " (0.0009248583408585023, 'Hip'),\n",
       " (0.0009008969879454768, 'Bnk'),\n",
       " (0.0008914648062468562, '20'),\n",
       " (0.0008034394687704596, '1Story'),\n",
       " (0.0007942724662958228, 'Lvl'),\n",
       " (0.0007596191697030729, '12'),\n",
       " (0.000759465143051883, 'TA'),\n",
       " (0.0007581860452230055, 'NridgHt'),\n",
       " (0.0007517437378665446, '160'),\n",
       " (0.0007430587978034725, 'Y'),\n",
       " (0.0007391417846885494, '2009'),\n",
       " (0.0007383517597791108, 'Norm'),\n",
       " (0.0007244351097772107, 'IDOTRR'),\n",
       " (0.0006934384561251661, 'Partial'),\n",
       " (0.0006705765274030523, 'Gtl'),\n",
       " (0.0006669667010657317, 'TA'),\n",
       " (0.0006258003215653388, 'Fa'),\n",
       " (0.0006230692576906909, '2006'),\n",
       " (0.0006071837938569234, 'Inside'),\n",
       " (0.000584471221994973, 'NAmes'),\n",
       " (0.0005824632165535522, '2007'),\n",
       " (0.0005610525939472928, 'BrkTil'),\n",
       " (0.0005487100891974964, '2008'),\n",
       " (0.0005201791191597914, '7'),\n",
       " (0.0005199274683071706, 'Corner'),\n",
       " (0.000508066904377784, '11'),\n",
       " (0.0004732647860500507, '3'),\n",
       " (0.0004715070543023295, '6'),\n",
       " (0.0004714498742202358, 'Artery'),\n",
       " (0.0004647313960618951, 'Gd'),\n",
       " (0.0004621391410546828, 'Feedr'),\n",
       " (0.00045920111493950557, '10'),\n",
       " (0.00045446371552058793, '5'),\n",
       " (0.0004489587945850447, '4'),\n",
       " (0.0004416628068037372, 'Family'),\n",
       " (0.0004374191499151315, '2010'),\n",
       " (0.0004302747137333836, '8'),\n",
       " (0.0004292420119009723, '50'),\n",
       " (0.00042524074298248333, 'Sawyer'),\n",
       " (0.000424756228576623, '1.5Fin'),\n",
       " (0.00041436509982367275, 'Duplex'),\n",
       " (0.0004107674966413758, 'MeadowV'),\n",
       " (0.00039991393165244156, 'Mod'),\n",
       " (0.00039934450204067253, 'HLS'),\n",
       " (0.00039638738186896516, 'Gd'),\n",
       " (0.00038707111073759835, 'ClearCr'),\n",
       " (0.00037740651201343816, '1'),\n",
       " (0.0003652225031500399, '70'),\n",
       " (0.0003577747867518366, 'Low'),\n",
       " (0.0003296198586068136, 'BrkSide'),\n",
       " (0.0003219451058170728, 'CulDSac'),\n",
       " (0.00031064609508393837, 'NoRidge'),\n",
       " (0.00030202132241115894, 'Flat'),\n",
       " (0.00029879105570914874, 'Gambrel'),\n",
       " (0.00029505435934807695, '2'),\n",
       " (0.00028295890120685625, '90'),\n",
       " (0.0002645266120737331, 'CollgCr'),\n",
       " (0.00026275384815059295, 'NWAmes'),\n",
       " (0.0002552939751361799, 'P'),\n",
       " (0.0002505739809187401, 'Somerst'),\n",
       " (0.00024467128953027005, 'GasA'),\n",
       " (0.0002368377171247769, 'TwnhsE'),\n",
       " (0.0002246270407768819, 'StoneBr'),\n",
       " (0.00022279007714667718, 'Alloca'),\n",
       " (0.00022036315339483143, '9'),\n",
       " (0.00021802722348541193, 'Slab'),\n",
       " (0.00020022639811326527, '120'),\n",
       " (0.0001970245576855926, 'IR2'),\n",
       " (0.00018843049811336453, '80'),\n",
       " (0.00018631531221868073, 'Mitchel'),\n",
       " (0.0001783285759426417, 'FR2'),\n",
       " (0.00017341569328523207, 'BrDale'),\n",
       " (0.0001733768843884322, 'Gilbert'),\n",
       " (0.00017181638720643189, 'SLvl'),\n",
       " (0.00017180448477946493, 'Twnhs'),\n",
       " (0.00016289861027782307, 'Grav'),\n",
       " (0.00015843068268838438, '2fmCon'),\n",
       " (0.00015355358530162662, 'SWISU'),\n",
       " (0.00014428254717749957, 'GasW'),\n",
       " (0.0001424074347294029, '190'),\n",
       " (0.00013941312500075016, 'SawyerW'),\n",
       " (0.00013902558833294527, 'Pave'),\n",
       " (0.00013273805619019746, 'Grvl'),\n",
       " (0.00012363063378690827, 'PosN'),\n",
       " (0.00011538784292287596, 'Timber'),\n",
       " (0.00011392430816241544, 'Sev'),\n",
       " (0.00010721577011686464, '75'),\n",
       " (0.00010652789267945894, 'RRAn'),\n",
       " (0.00010640043335482118, 'RRAe'),\n",
       " (9.0145471598419e-05, 'IR3'),\n",
       " (6.699062965168595e-05, '40'),\n",
       " (6.631210885883201e-05, '2.5Fin'),\n",
       " (6.398267096865939e-05, 'PosA'),\n",
       " (6.196606802910535e-05, '2.5Unf'),\n",
       " (5.702359986367657e-05, '45'),\n",
       " (5.6635589337930605e-05, 'SFoyer'),\n",
       " (5.1022253793112564e-05, 'Blmngtn'),\n",
       " (5.013027823082769e-05, '1.5Unf'),\n",
       " (4.473780404041163e-05, 'Veenker'),\n",
       " (4.43982311033865e-05, 'OthW'),\n",
       " (3.482059547189418e-05, '85'),\n",
       " (2.8690706242562083e-05, 'NPkVill'),\n",
       " (2.439983628286548e-05, 'Ex'),\n",
       " (2.4368061800040147e-05, '180'),\n",
       " (2.393016621140105e-05, 'Mansard'),\n",
       " (2.2699016738049986e-05, 'Wall'),\n",
       " (2.2439412335094067e-05, 'Po'),\n",
       " (1.7774231307916183e-05, 'Stone'),\n",
       " (1.7432982599484063e-05, 'AdjLand'),\n",
       " (1.4862872427545557e-05, 'RRNn'),\n",
       " (1.4669392688301316e-05, 'FR3'),\n",
       " (1.3293256518556752e-05, 'Wood'),\n",
       " (1.2625666538050623e-05, 'Floor'),\n",
       " (8.226422936029225e-06, 'Po'),\n",
       " (6.923141225908339e-06, 'Shed'),\n",
       " (3.8113168341212686e-06, 'Blueste'),\n",
       " (2.1517531598472704e-06, 'RRNe'),\n",
       " (0.0, '150')]"
      ]
     },
     "execution_count": 21,
     "metadata": {},
     "output_type": "execute_result"
    }
   ],
   "source": [
    "# forest_reg.feature_importances_\n",
    "\n",
    "cat_encoder = full_pipeline.named_transformers_[\"cat\"]\n",
    "cat_one_hot_attribs = []\n",
    "for a in cat_encoder.categories_:\n",
    "    for b in a:\n",
    "        cat_one_hot_attribs.append(b)\n",
    "# print(cat_one_hot_attribs)\n",
    "attributes = num_att + cat_one_hot_attribs\n",
    "sorted(zip(forest_reg.feature_importances_, attributes), reverse=True)"
   ]
  },
  {
   "cell_type": "code",
   "execution_count": 20,
   "metadata": {},
   "outputs": [
    {
     "name": "stdout",
     "output_type": "stream",
     "text": [
      "scores: [0.12616554 0.1202385  0.13232691 0.16505326 0.15857345 0.11361385\n",
      " 0.13296055 0.11908776 0.13273273 0.13271584]\n",
      "mean: 0.13334683943625408\n",
      "std: 0.015683608249294528\n",
      "count    10.000000\n",
      "mean      0.133347\n",
      "std       0.016532\n",
      "min       0.113614\n",
      "25%       0.121720\n",
      "50%       0.132521\n",
      "75%       0.132904\n",
      "max       0.165053\n",
      "dtype: float64\n"
     ]
    }
   ],
   "source": [
    "from sklearn.model_selection import cross_val_score\n",
    "def display_scores(scores):\n",
    "    print(\"scores:\", scores)\n",
    "    print(\"mean:\", scores.mean())\n",
    "    print(\"std:\", scores.std())\n",
    "\n",
    "forest_reg = RandomForestRegressor(bootstrap=False, n_estimators=200, max_features=32, random_state=42)\n",
    "forest_reg.fit(train_full_prepared, train_y)\n",
    "\n",
    "forest_scores = cross_val_score(forest_reg, train_full_prepared, train_y,\n",
    "                                scoring=\"neg_mean_squared_error\", cv=10)\n",
    "forest_rmse_scores = np.sqrt(-forest_scores)\n",
    "display_scores(forest_rmse_scores)\n",
    "\n",
    "print(pd.Series(forest_rmse_scores).describe())"
   ]
  },
  {
   "cell_type": "code",
   "execution_count": 30,
   "metadata": {},
   "outputs": [
    {
     "name": "stdout",
     "output_type": "stream",
     "text": [
      "Fitting 10 folds for each of 21 candidates, totalling 210 fits\n"
     ]
    },
    {
     "name": "stderr",
     "output_type": "stream",
     "text": [
      "[Parallel(n_jobs=-1)]: Using backend LokyBackend with 12 concurrent workers.\n",
      "[Parallel(n_jobs=-1)]: Done   8 tasks      | elapsed:    2.5s\n",
      "/home/marek/anaconda3/lib/python3.7/site-packages/joblib/externals/loky/process_executor.py:706: UserWarning: A worker stopped while some jobs were given to the executor. This can be caused by a too short worker timeout or by a memory leak.\n",
      "  \"timeout or by a memory leak.\", UserWarning\n",
      "[Parallel(n_jobs=-1)]: Done 104 tasks      | elapsed:  2.1min\n",
      "[Parallel(n_jobs=-1)]: Done 210 out of 210 | elapsed:  6.4min finished\n"
     ]
    },
    {
     "data": {
      "text/plain": [
       "GridSearchCV(cv=10, error_score='raise-deprecating',\n",
       "             estimator=RandomForestRegressor(bootstrap=True, criterion='mse',\n",
       "                                             max_depth=None,\n",
       "                                             max_features='auto',\n",
       "                                             max_leaf_nodes=None,\n",
       "                                             min_impurity_decrease=0.0,\n",
       "                                             min_impurity_split=None,\n",
       "                                             min_samples_leaf=1,\n",
       "                                             min_samples_split=2,\n",
       "                                             min_weight_fraction_leaf=0.0,\n",
       "                                             n_estimators='warn', n_jobs=None,\n",
       "                                             oob_score=False, random_state=42,\n",
       "                                             verbose=0, warm_start=False),\n",
       "             iid='warn', n_jobs=-1,\n",
       "             param_grid=[{'bootstrap': [False], 'max_features': [16, 32, 48],\n",
       "                          'n_estimators': [100, 300, 400, 500, 600, 700, 800]}],\n",
       "             pre_dispatch='2*n_jobs', refit=True, return_train_score=True,\n",
       "             scoring='neg_mean_squared_error', verbose=3)"
      ]
     },
     "execution_count": 30,
     "metadata": {},
     "output_type": "execute_result"
    }
   ],
   "source": [
    "from sklearn.model_selection import GridSearchCV\n",
    "\n",
    "param_grid = [\n",
    "    # sprawdza 12 (3×4) kombinacji hiperparametrów\n",
    "#     {'n_estimators': [100, 300, 400, 500, 600], 'max_features': [16, 32, 48, 'auto']},\n",
    "    # następnie sprawdza 6 (2×3) kombinacji z wyłączonym parametrem bootstrap (False)\n",
    "    {'bootstrap': [False], 'n_estimators': [200, 600, 700, 800, 900, 1000], \n",
    "     'max_features': [16, 32, 40]},\n",
    "  ]\n",
    "\n",
    "forest_reg = RandomForestRegressor(random_state=42)\n",
    "# przeprowadza proces uczenia na pięciu podzbiorach, czyli łącznie (12+6)*5=90 przebiegów \n",
    "grid_search = GridSearchCV(forest_reg, param_grid, cv=10,\n",
    "                           scoring='neg_mean_squared_error',\n",
    "                           return_train_score=True, verbose=3, n_jobs=-1)\n",
    "grid_search.fit(train_full_prepared, train_y)"
   ]
  },
  {
   "cell_type": "code",
   "execution_count": 31,
   "metadata": {},
   "outputs": [
    {
     "data": {
      "text/plain": [
       "{'bootstrap': False, 'max_features': 32, 'n_estimators': 800}"
      ]
     },
     "execution_count": 31,
     "metadata": {},
     "output_type": "execute_result"
    }
   ],
   "source": [
    "grid_search.best_params_"
   ]
  },
  {
   "cell_type": "code",
   "execution_count": 32,
   "metadata": {},
   "outputs": [
    {
     "data": {
      "text/plain": [
       "RandomForestRegressor(bootstrap=False, criterion='mse', max_depth=None,\n",
       "                      max_features=32, max_leaf_nodes=None,\n",
       "                      min_impurity_decrease=0.0, min_impurity_split=None,\n",
       "                      min_samples_leaf=1, min_samples_split=2,\n",
       "                      min_weight_fraction_leaf=0.0, n_estimators=800,\n",
       "                      n_jobs=None, oob_score=False, random_state=42, verbose=0,\n",
       "                      warm_start=False)"
      ]
     },
     "execution_count": 32,
     "metadata": {},
     "output_type": "execute_result"
    }
   ],
   "source": [
    "grid_search.best_estimator_"
   ]
  },
  {
   "cell_type": "code",
   "execution_count": 33,
   "metadata": {},
   "outputs": [
    {
     "name": "stdout",
     "output_type": "stream",
     "text": [
      "0.13655060491617357 {'bootstrap': False, 'max_features': 16, 'n_estimators': 100}\n",
      "0.1346442798633848 {'bootstrap': False, 'max_features': 16, 'n_estimators': 300}\n",
      "0.134547648771774 {'bootstrap': False, 'max_features': 16, 'n_estimators': 400}\n",
      "0.134783750821842 {'bootstrap': False, 'max_features': 16, 'n_estimators': 500}\n",
      "0.13474246273622587 {'bootstrap': False, 'max_features': 16, 'n_estimators': 600}\n",
      "0.13469211711545553 {'bootstrap': False, 'max_features': 16, 'n_estimators': 700}\n",
      "0.134620770253791 {'bootstrap': False, 'max_features': 16, 'n_estimators': 800}\n",
      "0.13492534878332188 {'bootstrap': False, 'max_features': 32, 'n_estimators': 100}\n",
      "0.13444637659332354 {'bootstrap': False, 'max_features': 32, 'n_estimators': 300}\n",
      "0.13432322092437884 {'bootstrap': False, 'max_features': 32, 'n_estimators': 400}\n",
      "0.13427393932613446 {'bootstrap': False, 'max_features': 32, 'n_estimators': 500}\n",
      "0.1341166984093464 {'bootstrap': False, 'max_features': 32, 'n_estimators': 600}\n",
      "0.1339400355289388 {'bootstrap': False, 'max_features': 32, 'n_estimators': 700}\n",
      "0.13393146135239764 {'bootstrap': False, 'max_features': 32, 'n_estimators': 800}\n",
      "0.13561184921729638 {'bootstrap': False, 'max_features': 48, 'n_estimators': 100}\n",
      "0.13459145452575869 {'bootstrap': False, 'max_features': 48, 'n_estimators': 300}\n",
      "0.1346354286779608 {'bootstrap': False, 'max_features': 48, 'n_estimators': 400}\n",
      "0.13454791797083404 {'bootstrap': False, 'max_features': 48, 'n_estimators': 500}\n",
      "0.13455737512349789 {'bootstrap': False, 'max_features': 48, 'n_estimators': 600}\n",
      "0.13449333541601413 {'bootstrap': False, 'max_features': 48, 'n_estimators': 700}\n",
      "0.13443275641618932 {'bootstrap': False, 'max_features': 48, 'n_estimators': 800}\n"
     ]
    }
   ],
   "source": [
    "cvres = grid_search.cv_results_\n",
    "for mean_score, params in zip(cvres[\"mean_test_score\"], cvres[\"params\"]):\n",
    "    print(np.sqrt(-mean_score), params)"
   ]
  },
  {
   "cell_type": "code",
   "execution_count": 26,
   "metadata": {},
   "outputs": [
    {
     "data": {
      "text/plain": [
       "array([8.88258673e-03, 1.75396694e-02, 1.57635806e-01, 9.29867936e-03,\n",
       "       6.46732898e-02, 1.90954771e-02, 4.51349633e-03, 1.21457582e-02,\n",
       "       8.43273725e-03, 4.16521599e-02, 3.22777811e-02, 1.21285819e-02,\n",
       "       1.08751808e-01, 1.25225069e-03, 2.47746307e-02, 1.70565372e-03,\n",
       "       3.68529457e-03, 1.86683764e-03, 7.86642935e-03, 1.45698123e-02,\n",
       "       2.65855785e-02, 4.87907010e-02, 3.66162867e-02, 2.95868301e-03,\n",
       "       5.38355690e-03, 1.69172551e-03, 1.17020517e-01, 4.73769334e-02,\n",
       "       7.09293919e-03, 3.93502234e-05, 4.72141532e-06, 1.47172997e-04,\n",
       "       3.17838009e-04, 3.90789261e-04, 2.72432448e-04, 1.70256453e-03,\n",
       "       1.27962269e-03, 1.54621640e-04, 6.49431480e-04, 4.15442817e-04,\n",
       "       1.83492156e-04, 6.01642757e-04, 2.61448360e-05, 2.68484796e-04,\n",
       "       2.81395576e-04, 6.14319594e-04, 1.30183922e-03, 1.55612141e-04,\n",
       "       4.29872225e-04, 1.38734239e-04, 2.35999230e-04, 2.24163227e-04,\n",
       "       1.14295908e-04, 5.18850735e-05, 1.56853777e-03, 1.40348937e-04,\n",
       "       4.00172366e-04, 1.79438151e-04, 2.41315336e-04, 1.14247413e-05,\n",
       "       2.47738612e-04, 1.37555975e-04, 1.79748992e-04, 6.27809437e-05,\n",
       "       2.12267270e-05, 2.29146945e-03, 6.26781549e-04, 4.56112673e-04,\n",
       "       6.15610244e-06, 8.18675659e-04, 8.36599488e-03, 7.72697891e-03,\n",
       "       1.35336325e-04, 1.32447776e-04, 9.08975229e-04, 2.08953973e-04,\n",
       "       1.06532764e-04, 1.19595697e-03, 9.55052892e-04, 3.66553160e-04,\n",
       "       3.49114943e-04, 8.18453573e-04, 5.00741851e-04, 3.62839857e-04,\n",
       "       1.86276074e-04, 1.29828200e-05, 6.24177952e-04, 6.34786637e-04,\n",
       "       4.20844623e-04, 1.16304071e-04, 4.81433848e-04, 4.53163835e-04,\n",
       "       7.59497873e-04, 5.79908285e-05, 1.45646639e-04, 9.45104340e-05,\n",
       "       1.05958201e-04, 1.86481157e-06, 1.30478927e-05, 4.32447605e-04,\n",
       "       3.99451185e-05, 7.73171410e-04, 7.09491536e-05, 6.38088563e-05,\n",
       "       9.20791822e-04, 7.31717049e-05, 1.80617683e-04, 3.21620575e-04,\n",
       "       8.49182201e-04, 3.27233140e-04, 8.53669449e-04, 1.67107508e-05,\n",
       "       7.39461901e-06, 3.32486266e-03, 1.02586975e-03, 7.47590272e-03,\n",
       "       5.71360520e-02, 1.85674600e-05, 1.49175474e-03, 3.90040168e-04,\n",
       "       2.30419670e-05, 7.07169720e-04, 5.76985072e-04, 9.51544140e-04,\n",
       "       8.82478418e-03, 2.13927123e-04, 1.37886071e-05, 1.57313701e-05,\n",
       "       1.61112779e-03, 2.55662849e-04, 9.71031789e-04, 1.19041187e-03,\n",
       "       1.70359559e-05, 2.19278561e-04, 4.34183017e-04, 1.33320776e-03,\n",
       "       7.08244496e-04, 3.44164927e-04, 4.82011428e-04, 5.35199674e-04,\n",
       "       7.56633438e-04, 2.68052490e-04, 4.71680729e-04, 4.63965713e-04,\n",
       "       4.40371125e-04, 4.74707318e-04, 5.08116401e-04, 4.37730057e-04,\n",
       "       2.24183884e-04, 6.15903764e-04, 5.84739786e-04, 5.30401603e-04,\n",
       "       7.64814424e-04, 4.46398006e-04, 1.75563276e-04, 0.00000000e+00,\n",
       "       6.97099763e-04, 2.68083303e-05, 1.40807657e-04, 8.82948424e-04,\n",
       "       2.03794025e-03, 6.72070918e-05, 5.23765463e-05, 4.21654208e-04,\n",
       "       2.35743374e-03, 3.98441571e-04, 1.00176634e-04, 1.92925605e-04,\n",
       "       2.89250432e-05, 3.10263334e-04])"
      ]
     },
     "execution_count": 26,
     "metadata": {},
     "output_type": "execute_result"
    }
   ],
   "source": [
    "feature_importances = grid_search.best_estimator_.feature_importances_\n",
    "feature_importances"
   ]
  },
  {
   "cell_type": "code",
   "execution_count": 34,
   "metadata": {
    "scrolled": false
   },
   "outputs": [
    {
     "data": {
      "text/plain": [
       "[(0.15763580586860243, 'OverallQual'),\n",
       " (0.11702051725260323, 'TotalLivingSF'),\n",
       " (0.10875180847421279, 'GrLivArea'),\n",
       " (0.06467328980302149, 'YearBuilt'),\n",
       " (0.05713605199751599, 'TA'),\n",
       " (0.04879070100958845, 'GarageCars'),\n",
       " (0.04737693337645752, 'TotalBthm'),\n",
       " (0.04165215985303291, 'TotalBsmtSF'),\n",
       " (0.03661628666107135, 'GarageArea'),\n",
       " (0.032277781055446673, '1stFlrSF'),\n",
       " (0.02658557853249495, 'GarageYrBlt'),\n",
       " (0.0247746306927246, 'FullBath'),\n",
       " (0.0190954771403491, 'YearRemodAdd'),\n",
       " (0.01753966939822502, 'LotArea'),\n",
       " (0.01456981232892561, 'Fireplaces'),\n",
       " (0.012145758178916574, 'BsmtFinSF1'),\n",
       " (0.012128581925820036, '2ndFlrSF'),\n",
       " (0.009298679355932716, 'OverallCond'),\n",
       " (0.008882586729884333, 'LotFrontage'),\n",
       " (0.008824784182956827, 'PConc'),\n",
       " (0.008432737250513488, 'BsmtUnfSF'),\n",
       " (0.008365994876678896, 'N'),\n",
       " (0.007866429345453453, 'TotRmsAbvGrd'),\n",
       " (0.007726978908054227, 'Y'),\n",
       " (0.007475902722687278, 'Gd'),\n",
       " (0.007092939190878228, 'TotalPorchSF'),\n",
       " (0.005383556904181021, 'OpenPorchSF'),\n",
       " (0.004513496325135342, 'MasVnrArea'),\n",
       " (0.0036852945741290897, 'BedroomAbvGr'),\n",
       " (0.003324862664523807, 'Ex'),\n",
       " (0.0029586830127551413, 'WoodDeckSF'),\n",
       " (0.002357433738351859, '60'),\n",
       " (0.0022914694462677775, 'Ex'),\n",
       " (0.002037940250200868, '30'),\n",
       " (0.0018668376431342007, 'KitchenAbvGr'),\n",
       " (0.0017056537230372793, 'HalfBath'),\n",
       " (0.0017025645297480438, 'Crawfor'),\n",
       " (0.0016917255128754383, 'EnclosedPorch'),\n",
       " (0.0016111277882929966, 'N'),\n",
       " (0.0015685377747421145, '1Fam'),\n",
       " (0.0014917547371287795, 'Fa'),\n",
       " (0.0013332077551018457, 'Normal'),\n",
       " (0.001301839222993172, 'OldTown'),\n",
       " (0.0012796226868593418, 'Edwards'),\n",
       " (0.0012522506865120801, 'BsmtFullBath'),\n",
       " (0.0011959569663269774, 'Reg'),\n",
       " (0.001190411868155632, 'Abnorml'),\n",
       " (0.0010258697504055268, 'Fa'),\n",
       " (0.0009710317894590676, 'Y'),\n",
       " (0.0009550528920318985, 'Bnk'),\n",
       " (0.0009515441395743483, 'CBlock'),\n",
       " (0.0009207918222378037, '2Story'),\n",
       " (0.0009089752293289791, 'IR1'),\n",
       " (0.0008829484244968344, '20'),\n",
       " (0.0008536694492139033, 'Hip'),\n",
       " (0.0008491822014401614, 'Gable'),\n",
       " (0.0008186756591644441, 'TA'),\n",
       " (0.000818453572797916, 'Lvl'),\n",
       " (0.0007731714103968117, '1Story'),\n",
       " (0.0007648144236303145, '2009'),\n",
       " (0.0007594978729113137, 'Norm'),\n",
       " (0.0007566334379504495, '12'),\n",
       " (0.0007082444964000835, 'Partial'),\n",
       " (0.0007071697197230986, 'TA'),\n",
       " (0.0006970997626259824, '160'),\n",
       " (0.0006494314795353047, 'IDOTRR'),\n",
       " (0.0006347866372307744, 'Gtl'),\n",
       " (0.0006267815491031664, 'Fa'),\n",
       " (0.0006241779524627038, 'Inside'),\n",
       " (0.0006159037635568389, '2006'),\n",
       " (0.0006143195938332235, 'NridgHt'),\n",
       " (0.0006016427567108194, 'NAmes'),\n",
       " (0.0005847397857724302, '2007'),\n",
       " (0.0005769850717077864, 'BrkTil'),\n",
       " (0.0005351996738283282, '11'),\n",
       " (0.0005304016034243245, '2008'),\n",
       " (0.0005081164008474281, '7'),\n",
       " (0.0005007418509129901, 'Corner'),\n",
       " (0.0004820114275507727, '10'),\n",
       " (0.0004814338476338252, 'Artery'),\n",
       " (0.00047470731849447666, '6'),\n",
       " (0.00047168072920223146, '3'),\n",
       " (0.0004639657128203836, '4'),\n",
       " (0.00045611267339705665, 'Gd'),\n",
       " (0.0004531638349990665, 'Feedr'),\n",
       " (0.00044639800604162996, '2010'),\n",
       " (0.00044037112459750197, '5'),\n",
       " (0.0004377300572395449, '8'),\n",
       " (0.0004341830165500469, 'Family'),\n",
       " (0.00043244760487221875, '1.5Fin'),\n",
       " (0.0004298722248542608, 'Sawyer'),\n",
       " (0.00042165420760630995, '50'),\n",
       " (0.00042084462319333317, 'Mod'),\n",
       " (0.000415442816934716, 'MeadowV'),\n",
       " (0.0004001723661279814, 'Duplex'),\n",
       " (0.00039844157122584096, '70'),\n",
       " (0.00039078926097765594, 'ClearCr'),\n",
       " (0.0003900401683241078, 'Gd'),\n",
       " (0.0003665531596834394, 'HLS'),\n",
       " (0.0003628398573544215, 'CulDSac'),\n",
       " (0.0003491149431596137, 'Low'),\n",
       " (0.0003441649265587229, '1'),\n",
       " (0.000327233139711398, 'Gambrel'),\n",
       " (0.000321620575467054, 'Flat'),\n",
       " (0.00031783800913172514, 'BrkSide'),\n",
       " (0.00031026333429907, '90'),\n",
       " (0.00028139557557122315, 'NoRidge'),\n",
       " (0.00027243244772268843, 'CollgCr'),\n",
       " (0.0002684847958965967, 'NWAmes'),\n",
       " (0.0002680524903903024, '2'),\n",
       " (0.00025566284864792356, 'P'),\n",
       " (0.0002477386119484034, 'GasA'),\n",
       " (0.00024131533648822696, 'TwnhsE'),\n",
       " (0.00023599923002319895, 'Somerst'),\n",
       " (0.00022418388408309648, '9'),\n",
       " (0.00022416322661504575, 'StoneBr'),\n",
       " (0.00021927856117586668, 'Alloca'),\n",
       " (0.00021392712309001175, 'Slab'),\n",
       " (0.0002089539732164427, 'IR2'),\n",
       " (0.0001929256048789406, '80'),\n",
       " (0.00018627607428148963, 'FR2'),\n",
       " (0.00018349215627039902, 'Mitchel'),\n",
       " (0.000180617683030398, 'SLvl'),\n",
       " (0.00017974899163989281, 'Grav'),\n",
       " (0.0001794381510370636, 'Twnhs'),\n",
       " (0.00017556327607354076, '120'),\n",
       " (0.00015561214088507123, 'SWISU'),\n",
       " (0.000154621639516821, 'Gilbert'),\n",
       " (0.0001471729971997493, 'BrDale'),\n",
       " (0.00014564663888275045, 'PosN'),\n",
       " (0.00014080765676898236, '190'),\n",
       " (0.0001403489370059466, '2fmCon'),\n",
       " (0.00013873423851588318, 'SawyerW'),\n",
       " (0.0001375559745370557, 'GasW'),\n",
       " (0.0001353363246487476, 'Grvl'),\n",
       " (0.00013244777556159279, 'Pave'),\n",
       " (0.00011630407051909621, 'Sev'),\n",
       " (0.00011429590751095532, 'Timber'),\n",
       " (0.0001065327636596592, 'IR3'),\n",
       " (0.00010595820107203881, 'RRAn'),\n",
       " (0.00010017663415747151, '75'),\n",
       " (9.451043400773963e-05, 'RRAe'),\n",
       " (7.317170490652385e-05, 'SFoyer'),\n",
       " (7.094915357673972e-05, '2.5Fin'),\n",
       " (6.72070917808775e-05, '40'),\n",
       " (6.380885627318496e-05, '2.5Unf'),\n",
       " (6.278094374652263e-05, 'OthW'),\n",
       " (5.799082845458087e-05, 'PosA'),\n",
       " (5.237654634491885e-05, '45'),\n",
       " (5.1885073512423615e-05, 'Veenker'),\n",
       " (3.994511849723647e-05, '1.5Unf'),\n",
       " (3.935022342076351e-05, 'Blmngtn'),\n",
       " (2.89250431723214e-05, '85'),\n",
       " (2.680833030805308e-05, '180'),\n",
       " (2.6144836039991525e-05, 'NPkVill'),\n",
       " (2.30419670325454e-05, 'Po'),\n",
       " (2.1226726954180595e-05, 'Wall'),\n",
       " (1.856745998111727e-05, 'Ex'),\n",
       " (1.7035955855057027e-05, 'AdjLand'),\n",
       " (1.6710750838425696e-05, 'Mansard'),\n",
       " (1.57313701055263e-05, 'Wood'),\n",
       " (1.37886070786458e-05, 'Stone'),\n",
       " (1.3047892654011956e-05, 'RRNn'),\n",
       " (1.298282002404947e-05, 'FR3'),\n",
       " (1.142474134907312e-05, 'Floor'),\n",
       " (7.394619005004648e-06, 'Shed'),\n",
       " (6.156102437844987e-06, 'Po'),\n",
       " (4.7214153234267225e-06, 'Blueste'),\n",
       " (1.8648115722086464e-06, 'RRNe'),\n",
       " (0.0, '150')]"
      ]
     },
     "execution_count": 34,
     "metadata": {},
     "output_type": "execute_result"
    }
   ],
   "source": [
    "cat_encoder = full_pipeline.named_transformers_[\"cat\"]\n",
    "cat_one_hot_attribs = []\n",
    "for a in cat_encoder.categories_:\n",
    "    for b in a:\n",
    "        cat_one_hot_attribs.append(b)\n",
    "# print(cat_one_hot_attribs)\n",
    "attributes = num_att + cat_one_hot_attribs\n",
    "sorted(zip(feature_importances, attributes), reverse=True)"
   ]
  },
  {
   "cell_type": "code",
   "execution_count": 35,
   "metadata": {},
   "outputs": [],
   "source": [
    "# y_pred = forest_reg.predict(test_full_prepared)\n",
    "y_pred = grid_search.predict(test_full_prepared)\n",
    "y_pred_normal = np.e**y_pred\n",
    "sub = pd.DataFrame({'Id': test['Id'], 'SalePrice': y_pred_normal})"
   ]
  },
  {
   "cell_type": "code",
   "execution_count": 36,
   "metadata": {},
   "outputs": [],
   "source": [
    "sub.to_csv(\"data/submission_script32_TotalPorchSF_2.csv\", index=False)"
   ]
  },
  {
   "cell_type": "code",
   "execution_count": 31,
   "metadata": {},
   "outputs": [
    {
     "data": {
      "text/plain": [
       "(1459, 2)"
      ]
     },
     "execution_count": 31,
     "metadata": {},
     "output_type": "execute_result"
    }
   ],
   "source": [
    "sub.shape"
   ]
  },
  {
   "cell_type": "code",
   "execution_count": null,
   "metadata": {},
   "outputs": [],
   "source": []
  }
 ],
 "metadata": {
  "kernelspec": {
   "display_name": "Python 3",
   "language": "python",
   "name": "python3"
  },
  "language_info": {
   "codemirror_mode": {
    "name": "ipython",
    "version": 3
   },
   "file_extension": ".py",
   "mimetype": "text/x-python",
   "name": "python",
   "nbconvert_exporter": "python",
   "pygments_lexer": "ipython3",
   "version": "3.7.4"
  }
 },
 "nbformat": 4,
 "nbformat_minor": 2
}
