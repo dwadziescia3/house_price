{
 "cells": [
  {
   "cell_type": "code",
   "execution_count": 1,
   "metadata": {},
   "outputs": [],
   "source": [
    "import sys\n",
    "assert sys.version_info >= (3, 5)\n",
    "\n",
    "import sklearn\n",
    "assert sklearn.__version__ >= \"0.20\"\n",
    "\n",
    "import numpy as np\n",
    "import os\n",
    "\n",
    "import matplotlib as mpl\n",
    "import matplotlib.pyplot as plt\n",
    "mpl.rc('axes', labelsize=14)\n",
    "mpl.rc('xtick', labelsize=12)\n",
    "mpl.rc('ytick', labelsize=12)\n",
    "\n",
    "import warnings\n",
    "warnings.filterwarnings(action=\"ignore\", message=\"^internal gelsd\")"
   ]
  },
  {
   "cell_type": "code",
   "execution_count": 2,
   "metadata": {},
   "outputs": [],
   "source": [
    "import pandas as pd\n",
    "\n",
    "def load_housing_data(housing_path='data'):\n",
    "    train_csv_path = os.path.join(housing_path, \"train.csv\")\n",
    "    test_csv_path = os.path.join(housing_path, \"test.csv\")\n",
    "    return pd.read_csv(train_csv_path), pd.read_csv(test_csv_path)\n",
    "\n",
    "train, test = load_housing_data()"
   ]
  },
  {
   "cell_type": "code",
   "execution_count": 3,
   "metadata": {},
   "outputs": [],
   "source": [
    "train['TotalLivingSF'] = train['BsmtFinSF1'] + train['BsmtFinSF2'] + train['1stFlrSF'] + train['2ndFlrSF']\n",
    "test['TotalLivingSF'] = test['BsmtFinSF1'] + test['BsmtFinSF2'] + test['1stFlrSF'] + test['2ndFlrSF']\n",
    "\n",
    "train['TotalLivingSF'] = np.log(train['TotalLivingSF'])\n",
    "test['TotalLivingSF'] = np.log(test['TotalLivingSF'])"
   ]
  },
  {
   "cell_type": "code",
   "execution_count": 4,
   "metadata": {},
   "outputs": [],
   "source": [
    "train['MSSubClass'] = train['MSSubClass'].apply(str)\n",
    "train['YrSold'] = train['YrSold'].astype(str)\n",
    "train['MoSold'] = train['MoSold'].astype(str)\n",
    "\n",
    "test['MSSubClass'] = test['MSSubClass'].apply(str)\n",
    "test['YrSold'] = test['YrSold'].astype(str)\n",
    "test['MoSold'] = test['MoSold'].astype(str)"
   ]
  },
  {
   "cell_type": "code",
   "execution_count": 5,
   "metadata": {},
   "outputs": [],
   "source": [
    "train['Electrical'] = train['Electrical'].fillna(\"SBrkr\")"
   ]
  },
  {
   "cell_type": "code",
   "execution_count": 6,
   "metadata": {},
   "outputs": [],
   "source": [
    "train['FireplaceQu'] = train['FireplaceQu'].fillna(\"None\") \n",
    "test['FireplaceQu'] = test['FireplaceQu'].fillna(\"None\") "
   ]
  },
  {
   "cell_type": "code",
   "execution_count": 7,
   "metadata": {},
   "outputs": [],
   "source": [
    "train['TotalPorchSF'] = train['OpenPorchSF'] + train['3SsnPorch'] + train['EnclosedPorch'] + train['ScreenPorch'] + train['WoodDeckSF']\n",
    "test['TotalPorchSF'] = test['OpenPorchSF'] + test['3SsnPorch'] + test['EnclosedPorch'] + test['ScreenPorch'] + test['WoodDeckSF']"
   ]
  },
  {
   "cell_type": "code",
   "execution_count": 8,
   "metadata": {},
   "outputs": [],
   "source": [
    "test['SaleType'] = test['SaleType'].fillna(test['SaleType'].mode()[0])"
   ]
  },
  {
   "cell_type": "code",
   "execution_count": 9,
   "metadata": {},
   "outputs": [],
   "source": [
    "test['KitchenQual'] = test['KitchenQual'].fillna(\"TA\") "
   ]
  },
  {
   "cell_type": "code",
   "execution_count": 10,
   "metadata": {},
   "outputs": [],
   "source": [
    "bsmt_cat_att = ['BsmtQual', 'BsmtCond', 'BsmtExposure', 'BsmtFinType1', 'BsmtFinType2']\n",
    "\n",
    "for a in bsmt_cat_att:\n",
    "    train[a].fillna('NB', inplace=True)\n",
    "    test[a].fillna('NB', inplace=True)"
   ]
  },
  {
   "cell_type": "code",
   "execution_count": 11,
   "metadata": {},
   "outputs": [],
   "source": [
    "test['Exterior1st'] = test['Exterior1st'].fillna(test['Exterior1st'].mode()[0])"
   ]
  },
  {
   "cell_type": "code",
   "execution_count": 12,
   "metadata": {},
   "outputs": [],
   "source": [
    "test['MSZoning'] = test.groupby('MSSubClass')['MSZoning'].transform(lambda x: x.fillna(x.mode()[0]))"
   ]
  },
  {
   "cell_type": "code",
   "execution_count": 13,
   "metadata": {},
   "outputs": [],
   "source": [
    "train['Alley'] = train['Alley'].fillna(\"NA\")\n",
    "test['Alley'] = test['Alley'].fillna(\"NA\")"
   ]
  },
  {
   "cell_type": "code",
   "execution_count": 14,
   "metadata": {},
   "outputs": [],
   "source": [
    "train['Has2ndFloor'] = train['2ndFlrSF'].apply(lambda x: 1 if x > 0 else 0)\n",
    "test['Has2ndFloor'] = test['2ndFlrSF'].apply(lambda x: 1 if x > 0 else 0)"
   ]
  },
  {
   "cell_type": "code",
   "execution_count": 15,
   "metadata": {},
   "outputs": [],
   "source": [
    "test['Exterior2nd'] = test['Exterior2nd'].fillna(test['Exterior2nd'].mode()[0])"
   ]
  },
  {
   "cell_type": "code",
   "execution_count": 16,
   "metadata": {},
   "outputs": [],
   "source": [
    "train['MasVnrType'] = train['MasVnrType'].fillna(train['MasVnrType'].mode()[0])\n",
    "test['MasVnrType'] = test['MasVnrType'].fillna(test['MasVnrType'].mode()[0])"
   ]
  },
  {
   "cell_type": "code",
   "execution_count": 17,
   "metadata": {},
   "outputs": [],
   "source": [
    "garage_cat_att = ['GarageType', 'GarageFinish', 'GarageQual', 'GarageCond']\n",
    "\n",
    "for a in garage_cat_att:\n",
    "    train[a].fillna('NG', inplace=True)\n",
    "    test[a].fillna('NG', inplace=True)\n",
    "    "
   ]
  },
  {
   "cell_type": "code",
   "execution_count": 18,
   "metadata": {},
   "outputs": [],
   "source": [
    "train['Fence'] = train['Fence'].fillna(\"NF\")\n",
    "test['Fence'] = test['Fence'].fillna(\"NF\")"
   ]
  },
  {
   "cell_type": "code",
   "execution_count": 19,
   "metadata": {},
   "outputs": [],
   "source": [
    "test['Functional'] = test['Functional'].fillna(\"Typ\")"
   ]
  },
  {
   "cell_type": "code",
   "execution_count": 20,
   "metadata": {},
   "outputs": [],
   "source": [
    "train['MiscFeature'] = train['MiscFeature'].fillna(\"None\")\n",
    "test['MiscFeature'] = test['MiscFeature'].fillna(\"None\")"
   ]
  },
  {
   "cell_type": "code",
   "execution_count": 21,
   "metadata": {},
   "outputs": [
    {
     "data": {
      "text/plain": [
       "SalePrice        1.000000\n",
       "OverallQual      0.790982\n",
       "GrLivArea        0.708624\n",
       "TotalLivingSF    0.698827\n",
       "GarageCars       0.640409\n",
       "GarageArea       0.623431\n",
       "TotalBsmtSF      0.613581\n",
       "1stFlrSF         0.605852\n",
       "FullBath         0.560664\n",
       "TotRmsAbvGrd     0.533723\n",
       "YearBuilt        0.522897\n",
       "YearRemodAdd     0.507101\n",
       "GarageYrBlt      0.486362\n",
       "MasVnrArea       0.477493\n",
       "Fireplaces       0.466929\n",
       "TotalPorchSF     0.390993\n",
       "BsmtFinSF1       0.386420\n",
       "LotFrontage      0.351799\n",
       "WoodDeckSF       0.324413\n",
       "2ndFlrSF         0.319334\n",
       "OpenPorchSF      0.315856\n",
       "HalfBath         0.284108\n",
       "LotArea          0.263843\n",
       "BsmtFullBath     0.227122\n",
       "BsmtUnfSF        0.214479\n",
       "BedroomAbvGr     0.168213\n",
       "Has2ndFloor      0.137656\n",
       "ScreenPorch      0.111447\n",
       "PoolArea         0.092404\n",
       "3SsnPorch        0.044584\n",
       "BsmtFinSF2      -0.011378\n",
       "BsmtHalfBath    -0.016844\n",
       "MiscVal         -0.021190\n",
       "Id              -0.021917\n",
       "LowQualFinSF    -0.025606\n",
       "OverallCond     -0.077856\n",
       "EnclosedPorch   -0.128578\n",
       "KitchenAbvGr    -0.135907\n",
       "Name: SalePrice, dtype: float64"
      ]
     },
     "execution_count": 21,
     "metadata": {},
     "output_type": "execute_result"
    }
   ],
   "source": [
    "corr_matrix = train.corr()\n",
    "corr_matrix[\"SalePrice\"].sort_values(ascending=False)"
   ]
  },
  {
   "cell_type": "code",
   "execution_count": 22,
   "metadata": {},
   "outputs": [
    {
     "name": "stdout",
     "output_type": "stream",
     "text": [
      "['LotFrontage', 'LotArea', 'OverallQual', 'OverallCond', 'YearBuilt', 'YearRemodAdd', 'MasVnrArea', 'BsmtFinSF1', 'BsmtUnfSF', 'TotalBsmtSF', '1stFlrSF', '2ndFlrSF', 'GrLivArea', 'BsmtFullBath', 'FullBath', 'HalfBath', 'BedroomAbvGr', 'KitchenAbvGr', 'TotRmsAbvGrd', 'Fireplaces', 'GarageYrBlt', 'GarageCars', 'GarageArea', 'WoodDeckSF', 'OpenPorchSF', 'EnclosedPorch', 'TotalLivingSF', 'TotalPorchSF', 'Has2ndFloor']\n"
     ]
    }
   ],
   "source": [
    "num_att = list(train.select_dtypes([np.number]).columns)\n",
    "\n",
    "# att = ['OverallQual', 'GrLivArea']\n",
    "\n",
    "# to_remove = ['BsmtFinSF2', 'MoSold', '3SsnPorch', 'BsmtHalfBath', 'MiscVal', 'LowQualFinSF', 'YrSold',\n",
    "#             'PoolArea', 'OverallCond', 'MSSubClass', 'ScreenPorch']\n",
    "\n",
    "to_remove = ['PoolArea', 'BsmtHalfBath', 'MiscVal', 'LowQualFinSF', 'ScreenPorch', '3SsnPorch',\n",
    "            'BsmtFinSF2', 'MoSold', 'YrSold',\n",
    "            'GarageArea', 'TotalBsmtSF']\n",
    "\n",
    "to_remove = ['PoolArea', 'BsmtHalfBath', 'MiscVal', 'LowQualFinSF', 'ScreenPorch', '3SsnPorch',\n",
    "            'BsmtFinSF2']\n",
    "\n",
    "for t in to_remove:\n",
    "    num_att.remove(t)\n",
    "num_att.remove('Id')\n",
    "num_att.remove('SalePrice')\n",
    "\n",
    "# num_att = ['OverallQual', 'GrLivArea', 'GarageCars', '1stFlrSF', 'FullBath', 'YearBuilt']\n",
    "\n",
    "print(num_att)"
   ]
  },
  {
   "cell_type": "code",
   "execution_count": 23,
   "metadata": {},
   "outputs": [
    {
     "name": "stdout",
     "output_type": "stream",
     "text": [
      "['Neighborhood', 'BldgType', 'Heating', 'HeatingQC', 'CentralAir', 'Street', 'LotShape', 'LandContour', 'LotConfig', 'LandSlope', 'Condition1', 'HouseStyle', 'RoofStyle', 'ExterQual', 'ExterCond', 'Foundation', 'PavedDrive', 'SaleCondition', 'KitchenQual', 'BsmtQual', 'MoSold', 'YrSold', 'MSSubClass', 'SaleType', 'Electrical', 'BsmtExposure', 'FireplaceQu', 'Exterior1st', 'MSZoning', 'Alley', 'Condition2', 'RoofMatl', 'Exterior2nd', 'MasVnrType', 'BsmtCond', 'BsmtFinType1', 'BsmtFinType2', 'Functional', 'GarageType', 'GarageFinish', 'GarageQual', 'GarageCond', 'Fence', 'MiscFeature']\n",
      "44\n",
      "44\n"
     ]
    }
   ],
   "source": [
    "cat_att = ['BldgType', 'CentralAir', 'Foundation', \n",
    "           'PavedDrive', 'SaleCondition']\n",
    "cat_att = ['Neighborhood', 'BldgType', 'Heating', 'HeatingQC', 'CentralAir', \n",
    "           'Street', 'LotShape', 'LandContour', 'LotConfig',\n",
    "           'LandSlope', 'Condition1', 'HouseStyle', 'RoofStyle', \n",
    "           'ExterQual', 'ExterCond', 'Foundation', 'PavedDrive', 'SaleCondition',\n",
    "           'KitchenQual', 'BsmtQual', 'MoSold', 'YrSold', 'MSSubClass',\n",
    "           'SaleType', 'Electrical', 'BsmtExposure', 'FireplaceQu',\n",
    "           'Exterior1st', 'MSZoning', 'Alley',\n",
    "           'Condition2', 'RoofMatl', 'Exterior2nd', 'MasVnrType', 'BsmtCond',\n",
    "           'BsmtFinType1', 'BsmtFinType2', 'Functional',\n",
    "           'GarageType', 'GarageFinish', 'GarageQual', 'GarageCond',\n",
    "           'Fence', 'MiscFeature']\n",
    "\n",
    "# TO ADD = Exterior1st, KitchenQual, Functional, SaleType, Alley, Condition2\n",
    "\n",
    "# cat_att = ['Neighborhood', 'BldgType']\n",
    "print(cat_att)\n",
    "print(len(cat_att))\n",
    "print(len(set(cat_att)))"
   ]
  },
  {
   "cell_type": "code",
   "execution_count": 24,
   "metadata": {},
   "outputs": [],
   "source": [
    "for a in num_att:\n",
    "    median = train[a].median()\n",
    "    train[a].fillna(0, inplace=True)\n",
    "    \n",
    "#     median = test[a].median()\n",
    "    test[a].fillna(0, inplace=True)"
   ]
  },
  {
   "cell_type": "code",
   "execution_count": 25,
   "metadata": {},
   "outputs": [
    {
     "name": "stderr",
     "output_type": "stream",
     "text": [
      "/home/marek/anaconda3/lib/python3.7/site-packages/pandas/core/series.py:853: RuntimeWarning: divide by zero encountered in log\n",
      "  result = getattr(ufunc, method)(*inputs, **kwargs)\n"
     ]
    }
   ],
   "source": [
    "import seaborn as sns\n",
    "from scipy.stats import norm\n",
    "from scipy import stats\n",
    "\n",
    "train['SalePrice'] = np.log(train['SalePrice'])\n",
    "train_y = train[\"SalePrice\"].copy()\n",
    "\n",
    "train['GrLivArea'] = np.log(train['GrLivArea'])\n",
    "test['GrLivArea'] = np.log(test['GrLivArea'])\n",
    "\n",
    "train['HasBsmt'] = pd.Series(len(train['TotalBsmtSF']), index=train.index)\n",
    "train['HasBsmt'] = 0 \n",
    "train.loc[train['TotalBsmtSF']>0,'HasBsmt'] = 1\n",
    "train.loc[train['HasBsmt']==1,'TotalBsmtSF'] = np.log(train['TotalBsmtSF'])\n",
    "test['HasBsmt'] = pd.Series(len(test['TotalBsmtSF']), index=test.index)\n",
    "test['HasBsmt'] = 0 \n",
    "test.loc[test['TotalBsmtSF']>0,'HasBsmt'] = 1\n",
    "test.loc[test['HasBsmt']==1,'TotalBsmtSF'] = np.log(test['TotalBsmtSF'])\n",
    "\n",
    "train['1stFlrSF'] = np.log(train['1stFlrSF'])\n",
    "test['1stFlrSF'] = np.log(test['1stFlrSF'])\n",
    "\n",
    "train['HasBsmtFin'] = pd.Series(len(train['BsmtFinSF1']), index=train.index)\n",
    "train['HasBsmtFin'] = 0 \n",
    "train.loc[train['BsmtFinSF1']>0,'HasBsmtFin'] = 1\n",
    "train.loc[train['HasBsmtFin']==1,'BsmtFinSF1'] = np.log(train['BsmtFinSF1'])\n",
    "test['HasBsmtFin'] = pd.Series(len(test['BsmtFinSF1']), index=test.index)\n",
    "test['HasBsmtFin'] = 0 \n",
    "test.loc[test['BsmtFinSF1']>0,'HasBsmtFin'] = 1\n",
    "test.loc[test['HasBsmtFin']==1,'BsmtFinSF1'] = np.log(test['BsmtFinSF1'])\n",
    "\n",
    "train['HasWoodDeck'] = pd.Series(len(train['WoodDeckSF']), index=train.index)\n",
    "train['HasWoodDeck'] = 0 \n",
    "train.loc[train['WoodDeckSF']>0,'HasWoodDeck'] = 1\n",
    "train.loc[train['HasWoodDeck']==1,'WoodDeckSF'] = np.log(train['WoodDeckSF'])\n",
    "test['HasWoodDeck'] = pd.Series(len(test['WoodDeckSF']), index=test.index)\n",
    "test['HasWoodDeck'] = 0 \n",
    "test.loc[test['WoodDeckSF']>0,'HasWoodDeck'] = 1\n",
    "test.loc[test['HasWoodDeck']==1,'WoodDeckSF'] = np.log(test['WoodDeckSF'])\n"
   ]
  },
  {
   "cell_type": "code",
   "execution_count": 26,
   "metadata": {},
   "outputs": [
    {
     "data": {
      "text/plain": [
       "SalePrice        1.000000\n",
       "OverallQual      0.817184\n",
       "TotalLivingSF    0.741062\n",
       "GrLivArea        0.730255\n",
       "GarageCars       0.680625\n",
       "GarageArea       0.650888\n",
       "1stFlrSF         0.608947\n",
       "FullBath         0.594771\n",
       "YearBuilt        0.586570\n",
       "YearRemodAdd     0.565608\n",
       "TotRmsAbvGrd     0.534422\n",
       "Fireplaces       0.489449\n",
       "MasVnrArea       0.426775\n",
       "TotalPorchSF     0.398387\n",
       "TotalBsmtSF      0.373009\n",
       "GarageYrBlt      0.349014\n",
       "WoodDeckSF       0.343269\n",
       "OpenPorchSF      0.321053\n",
       "HasWoodDeck      0.320349\n",
       "2ndFlrSF         0.319300\n",
       "HalfBath         0.313982\n",
       "LotArea          0.257320\n",
       "BsmtFullBath     0.236224\n",
       "BsmtUnfSF        0.221985\n",
       "BedroomAbvGr     0.209044\n",
       "BsmtFinSF1       0.207962\n",
       "HasBsmt          0.199634\n",
       "LotFrontage      0.179303\n",
       "HasBsmtFin       0.162231\n",
       "Has2ndFloor      0.150549\n",
       "ScreenPorch      0.121208\n",
       "PoolArea         0.069798\n",
       "3SsnPorch        0.054900\n",
       "BsmtFinSF2       0.004832\n",
       "BsmtHalfBath    -0.005149\n",
       "Id              -0.017942\n",
       "MiscVal         -0.020021\n",
       "OverallCond     -0.036868\n",
       "LowQualFinSF    -0.037963\n",
       "KitchenAbvGr    -0.147548\n",
       "EnclosedPorch   -0.149050\n",
       "Name: SalePrice, dtype: float64"
      ]
     },
     "execution_count": 26,
     "metadata": {},
     "output_type": "execute_result"
    }
   ],
   "source": [
    "corr_matrix = train.corr()\n",
    "corr_matrix[\"SalePrice\"].sort_values(ascending=False)"
   ]
  },
  {
   "cell_type": "code",
   "execution_count": 27,
   "metadata": {
    "scrolled": false
   },
   "outputs": [
    {
     "name": "stdout",
     "output_type": "stream",
     "text": [
      "<class 'pandas.core.frame.DataFrame'>\n",
      "Int64Index: 2919 entries, 0 to 1458\n",
      "Data columns (total 73 columns):\n",
      "LotFrontage      2919 non-null float64\n",
      "LotArea          2919 non-null int64\n",
      "OverallQual      2919 non-null int64\n",
      "OverallCond      2919 non-null int64\n",
      "YearBuilt        2919 non-null int64\n",
      "YearRemodAdd     2919 non-null int64\n",
      "MasVnrArea       2919 non-null float64\n",
      "BsmtFinSF1       2919 non-null float64\n",
      "BsmtUnfSF        2919 non-null float64\n",
      "TotalBsmtSF      2919 non-null float64\n",
      "1stFlrSF         2919 non-null float64\n",
      "2ndFlrSF         2919 non-null int64\n",
      "GrLivArea        2919 non-null float64\n",
      "BsmtFullBath     2919 non-null float64\n",
      "FullBath         2919 non-null int64\n",
      "HalfBath         2919 non-null int64\n",
      "BedroomAbvGr     2919 non-null int64\n",
      "KitchenAbvGr     2919 non-null int64\n",
      "TotRmsAbvGrd     2919 non-null int64\n",
      "Fireplaces       2919 non-null int64\n",
      "GarageYrBlt      2919 non-null float64\n",
      "GarageCars       2919 non-null float64\n",
      "GarageArea       2919 non-null float64\n",
      "WoodDeckSF       2919 non-null float64\n",
      "OpenPorchSF      2919 non-null int64\n",
      "EnclosedPorch    2919 non-null int64\n",
      "TotalLivingSF    2919 non-null float64\n",
      "TotalPorchSF     2919 non-null int64\n",
      "Has2ndFloor      2919 non-null int64\n",
      "Neighborhood     2919 non-null object\n",
      "BldgType         2919 non-null object\n",
      "Heating          2919 non-null object\n",
      "HeatingQC        2919 non-null object\n",
      "CentralAir       2919 non-null object\n",
      "Street           2919 non-null object\n",
      "LotShape         2919 non-null object\n",
      "LandContour      2919 non-null object\n",
      "LotConfig        2919 non-null object\n",
      "LandSlope        2919 non-null object\n",
      "Condition1       2919 non-null object\n",
      "HouseStyle       2919 non-null object\n",
      "RoofStyle        2919 non-null object\n",
      "ExterQual        2919 non-null object\n",
      "ExterCond        2919 non-null object\n",
      "Foundation       2919 non-null object\n",
      "PavedDrive       2919 non-null object\n",
      "SaleCondition    2919 non-null object\n",
      "KitchenQual      2919 non-null object\n",
      "BsmtQual         2919 non-null object\n",
      "MoSold           2919 non-null object\n",
      "YrSold           2919 non-null object\n",
      "MSSubClass       2919 non-null object\n",
      "SaleType         2919 non-null object\n",
      "Electrical       2919 non-null object\n",
      "BsmtExposure     2919 non-null object\n",
      "FireplaceQu      2919 non-null object\n",
      "Exterior1st      2919 non-null object\n",
      "MSZoning         2919 non-null object\n",
      "Alley            2919 non-null object\n",
      "Condition2       2919 non-null object\n",
      "RoofMatl         2919 non-null object\n",
      "Exterior2nd      2919 non-null object\n",
      "MasVnrType       2919 non-null object\n",
      "BsmtCond         2919 non-null object\n",
      "BsmtFinType1     2919 non-null object\n",
      "BsmtFinType2     2919 non-null object\n",
      "Functional       2919 non-null object\n",
      "GarageType       2919 non-null object\n",
      "GarageFinish     2919 non-null object\n",
      "GarageQual       2919 non-null object\n",
      "GarageCond       2919 non-null object\n",
      "Fence            2919 non-null object\n",
      "MiscFeature      2919 non-null object\n",
      "dtypes: float64(13), int64(16), object(44)\n",
      "memory usage: 1.6+ MB\n"
     ]
    }
   ],
   "source": [
    "train2 = train[num_att + cat_att]\n",
    "# train2.info()\n",
    "test2 = test[num_att + cat_att]\n",
    "# test2.info()\n",
    "\n",
    "merged_df = pd.concat([train2, test2])\n",
    "merged_df.info()"
   ]
  },
  {
   "cell_type": "code",
   "execution_count": 1,
   "metadata": {},
   "outputs": [
    {
     "ename": "NameError",
     "evalue": "name 'train' is not defined",
     "output_type": "error",
     "traceback": [
      "\u001b[0;31m---------------------------------------------------------------------------\u001b[0m",
      "\u001b[0;31mNameError\u001b[0m                                 Traceback (most recent call last)",
      "\u001b[0;32m<ipython-input-1-c77c83086276>\u001b[0m in \u001b[0;36m<module>\u001b[0;34m\u001b[0m\n\u001b[1;32m      9\u001b[0m         \u001b[0;34m(\u001b[0m\u001b[0;34m'std_scaler'\u001b[0m\u001b[0;34m,\u001b[0m \u001b[0mStandardScaler\u001b[0m\u001b[0;34m(\u001b[0m\u001b[0;34m)\u001b[0m\u001b[0;34m)\u001b[0m\u001b[0;34m,\u001b[0m\u001b[0;34m\u001b[0m\u001b[0;34m\u001b[0m\u001b[0m\n\u001b[1;32m     10\u001b[0m     ])\n\u001b[0;32m---> 11\u001b[0;31m \u001b[0mtrain_prepared\u001b[0m \u001b[0;34m=\u001b[0m \u001b[0mnum_pipeline\u001b[0m\u001b[0;34m.\u001b[0m\u001b[0mfit_transform\u001b[0m\u001b[0;34m(\u001b[0m\u001b[0mtrain\u001b[0m\u001b[0;34m[\u001b[0m\u001b[0mnum_att\u001b[0m\u001b[0;34m]\u001b[0m\u001b[0;34m)\u001b[0m\u001b[0;34m\u001b[0m\u001b[0;34m\u001b[0m\u001b[0m\n\u001b[0m\u001b[1;32m     12\u001b[0m \u001b[0mtest_prepared\u001b[0m  \u001b[0;34m=\u001b[0m \u001b[0mnum_pipeline\u001b[0m\u001b[0;34m.\u001b[0m\u001b[0mtransform\u001b[0m\u001b[0;34m(\u001b[0m\u001b[0mtest\u001b[0m\u001b[0;34m[\u001b[0m\u001b[0mnum_att\u001b[0m\u001b[0;34m]\u001b[0m\u001b[0;34m)\u001b[0m\u001b[0;34m\u001b[0m\u001b[0;34m\u001b[0m\u001b[0m\n\u001b[1;32m     13\u001b[0m \u001b[0;34m\u001b[0m\u001b[0m\n",
      "\u001b[0;31mNameError\u001b[0m: name 'train' is not defined"
     ]
    }
   ],
   "source": [
    "from sklearn.pipeline import Pipeline\n",
    "from sklearn.preprocessing import StandardScaler\n",
    "from sklearn.impute import SimpleImputer\n",
    "from sklearn.compose import ColumnTransformer\n",
    "from sklearn.preprocessing import OneHotEncoder\n",
    "\n",
    "num_pipeline = Pipeline([\n",
    "        ('imputer', SimpleImputer(strategy=\"median\")),\n",
    "        ('std_scaler', StandardScaler()),\n",
    "    ])\n",
    "train_prepared = num_pipeline.fit_transform(train[num_att])\n",
    "test_prepared  = num_pipeline.transform(test[num_att])\n",
    "\n",
    "\n",
    "full_pipeline = ColumnTransformer([\n",
    "        (\"num\", num_pipeline, num_att),\n",
    "        (\"cat\", OneHotEncoder(), cat_att),\n",
    "    ])\n",
    "\n",
    "train_test_full_prepared = full_pipeline.fit_transform(merged_df)\n",
    "train_full_prepared = full_pipeline.transform(train2)\n",
    "test_full_prepared = full_pipeline.transform(test2)\n"
   ]
  },
  {
   "cell_type": "code",
   "execution_count": 29,
   "metadata": {},
   "outputs": [
    {
     "name": "stdout",
     "output_type": "stream",
     "text": [
      "(1460, 29)\n",
      "(1459, 29)\n",
      "(1460, 322)\n",
      "(1459, 322)\n"
     ]
    }
   ],
   "source": [
    "print(train_prepared.shape)\n",
    "print(test_prepared.shape)\n",
    "print(train_full_prepared.shape)\n",
    "print(test_full_prepared.shape)"
   ]
  },
  {
   "cell_type": "code",
   "execution_count": 30,
   "metadata": {},
   "outputs": [
    {
     "name": "stdout",
     "output_type": "stream",
     "text": [
      "Fitting 30 folds for each of 30 candidates, totalling 900 fits\n"
     ]
    },
    {
     "name": "stderr",
     "output_type": "stream",
     "text": [
      "[Parallel(n_jobs=-1)]: Using backend LokyBackend with 12 concurrent workers.\n",
      "[Parallel(n_jobs=-1)]: Done   8 tasks      | elapsed:    2.9s\n",
      "[Parallel(n_jobs=-1)]: Done 104 tasks      | elapsed:    5.9s\n",
      "[Parallel(n_jobs=-1)]: Done 264 tasks      | elapsed:   10.4s\n",
      "[Parallel(n_jobs=-1)]: Done 488 tasks      | elapsed:   16.1s\n",
      "[Parallel(n_jobs=-1)]: Done 776 tasks      | elapsed:   22.7s\n"
     ]
    },
    {
     "name": "stdout",
     "output_type": "stream",
     "text": [
      "MAE: -0.015\n",
      "Config: {'alpha': 0.00058}\n"
     ]
    },
    {
     "name": "stderr",
     "output_type": "stream",
     "text": [
      "[Parallel(n_jobs=-1)]: Done 900 out of 900 | elapsed:   25.3s finished\n"
     ]
    }
   ],
   "source": [
    "from numpy import arange\n",
    "from pandas import read_csv\n",
    "from sklearn.model_selection import GridSearchCV\n",
    "from sklearn.model_selection import RepeatedKFold\n",
    "from sklearn.linear_model import Lasso\n",
    "# define model\n",
    "model = Lasso(max_iter=1e9)\n",
    "# define model evaluation method\n",
    "cv = RepeatedKFold(n_splits=10, n_repeats=3, random_state=1)\n",
    "# define grid\n",
    "grid = dict()\n",
    "grid['alpha'] = [0.0001, 0.0002, 0.0003, 0.0004, 0.0005, 0.0006, 0.0007, 0.0008]\n",
    "grid['alpha'] = [5e-05, 0.0001, 0.0002, 0.0003, 0.0004, 0.0005, 0.0006, 0.0007, 0.0008]\n",
    "grid['alpha'] = np.arange(0.0002, 0.0008, 0.00002)\n",
    "# define search\n",
    "search = GridSearchCV(model, grid, scoring='neg_mean_squared_error', cv=cv, n_jobs=-1, verbose=3)\n",
    "# perform the search\n",
    "results = search.fit(train_full_prepared, train_y)\n",
    "# summarize\n",
    "print('MAE: %.3f' % results.best_score_)\n",
    "print('Config: %s' % results.best_params_)\n"
   ]
  },
  {
   "cell_type": "code",
   "execution_count": 31,
   "metadata": {},
   "outputs": [
    {
     "name": "stdout",
     "output_type": "stream",
     "text": [
      "0.12708768637722961 {'alpha': 0.0002}\n",
      "0.12667320204673427 {'alpha': 0.00022}\n",
      "0.12630477311471594 {'alpha': 0.00024}\n",
      "0.12598402493157335 {'alpha': 0.00026000000000000003}\n",
      "0.1257129730874295 {'alpha': 0.00028}\n",
      "0.12548442326734002 {'alpha': 0.00030000000000000003}\n",
      "0.12529002954946755 {'alpha': 0.00031999999999999997}\n",
      "0.12514133701993416 {'alpha': 0.00034}\n",
      "0.125010165291219 {'alpha': 0.00035999999999999997}\n",
      "0.12488741971962233 {'alpha': 0.00038}\n",
      "0.12478838179967253 {'alpha': 0.00039999999999999996}\n",
      "0.12470496186827641 {'alpha': 0.00042}\n",
      "0.12463158967728216 {'alpha': 0.00043999999999999996}\n",
      "0.12457914728033141 {'alpha': 0.00046}\n",
      "0.12453393075791347 {'alpha': 0.00047999999999999996}\n",
      "0.12449360770415874 {'alpha': 0.0005}\n",
      "0.12446458196101874 {'alpha': 0.00052}\n",
      "0.1244488622969336 {'alpha': 0.00054}\n",
      "0.12444202054531156 {'alpha': 0.00056}\n",
      "0.1244410956525053 {'alpha': 0.00058}\n",
      "0.124449715266775 {'alpha': 0.0006}\n",
      "0.12446587748483798 {'alpha': 0.00062}\n",
      "0.12449404184806981 {'alpha': 0.0006399999999999999}\n",
      "0.12453400970300778 {'alpha': 0.00066}\n",
      "0.12458461503210025 {'alpha': 0.0006799999999999999}\n",
      "0.12464615334053353 {'alpha': 0.0007}\n",
      "0.12471444009970699 {'alpha': 0.0007199999999999999}\n",
      "0.12479430890293766 {'alpha': 0.0007399999999999999}\n",
      "0.12488127185002801 {'alpha': 0.0007599999999999999}\n",
      "0.12497542430334718 {'alpha': 0.00078}\n"
     ]
    }
   ],
   "source": [
    "cvres = results.cv_results_\n",
    "for mean_score, params in zip(cvres[\"mean_test_score\"], cvres[\"params\"]):\n",
    "    print(np.sqrt(-mean_score), params)\n",
    "    \n",
    "# 12483177514831173"
   ]
  },
  {
   "cell_type": "code",
   "execution_count": 33,
   "metadata": {},
   "outputs": [
    {
     "name": "stdout",
     "output_type": "stream",
     "text": [
      "[2.e-05 4.e-05 6.e-05]\n"
     ]
    }
   ],
   "source": [
    "print(np.arange(0.00002, 0.00008, 0.00002))"
   ]
  },
  {
   "cell_type": "code",
   "execution_count": 34,
   "metadata": {},
   "outputs": [
    {
     "name": "stdout",
     "output_type": "stream",
     "text": [
      "Fitting 20 folds for each of 90 candidates, totalling 1800 fits\n"
     ]
    },
    {
     "name": "stderr",
     "output_type": "stream",
     "text": [
      "[Parallel(n_jobs=-1)]: Using backend LokyBackend with 12 concurrent workers.\n",
      "[Parallel(n_jobs=-1)]: Done   8 tasks      | elapsed:   13.1s\n",
      "[Parallel(n_jobs=-1)]: Done 104 tasks      | elapsed:  2.0min\n",
      "[Parallel(n_jobs=-1)]: Done 264 tasks      | elapsed:  5.0min\n",
      "[Parallel(n_jobs=-1)]: Done 488 tasks      | elapsed:  9.2min\n",
      "[Parallel(n_jobs=-1)]: Done 776 tasks      | elapsed: 14.5min\n",
      "[Parallel(n_jobs=-1)]: Done 1128 tasks      | elapsed: 21.1min\n",
      "[Parallel(n_jobs=-1)]: Done 1544 tasks      | elapsed: 28.7min\n",
      "[Parallel(n_jobs=-1)]: Done 1800 out of 1800 | elapsed: 33.4min finished\n"
     ]
    },
    {
     "name": "stdout",
     "output_type": "stream",
     "text": [
      "[11:29:37] WARNING: /home/conda/feedstock_root/build_artifacts/xgboost_1598185621802/work/src/objective/regression_obj.cu:174: reg:linear is now deprecated in favor of reg:squarederror.\n",
      "[11:29:43] WARNING: /home/conda/feedstock_root/build_artifacts/xgboost_1598185621802/work/src/objective/regression_obj.cu:174: reg:linear is now deprecated in favor of reg:squarederror.\n",
      "MAE: -0.014\n",
      "Config: {'alpha': 0.0002, 'reg_alpha': 2e-05}\n"
     ]
    }
   ],
   "source": [
    "from xgboost import XGBRegressor\n",
    "cv = RepeatedKFold(n_splits=10, n_repeats=2, random_state=1)\n",
    "model = XGBRegressor(learning_rate=0.01,n_estimators=3460,\n",
    "                                     max_depth=3, min_child_weight=0,\n",
    "                                     gamma=0, subsample=0.7,\n",
    "                                     colsample_bytree=0.7,\n",
    "                                     objective='reg:linear', nthread=-1,\n",
    "                                     scale_pos_weight=1, seed=42)\n",
    "\n",
    "grid['reg_alpha'] = np.arange(0.00002, 0.00008, 0.00002)\n",
    "# define search\n",
    "search = GridSearchCV(model, grid, scoring='neg_mean_squared_error', cv=cv, n_jobs=-1, verbose=3)\n",
    "# perform the search\n",
    "results = search.fit(train_full_prepared, train_y)\n",
    "# summarize\n",
    "print('MAE: %.3f' % results.best_score_)\n",
    "print('Config: %s' % results.best_params_)\n",
    "\n",
    "\n"
   ]
  },
  {
   "cell_type": "code",
   "execution_count": 35,
   "metadata": {},
   "outputs": [
    {
     "name": "stdout",
     "output_type": "stream",
     "text": [
      "0.12003308968287267 {'alpha': 0.0002, 'reg_alpha': 2e-05}\n",
      "0.12004182915708028 {'alpha': 0.0002, 'reg_alpha': 4e-05}\n",
      "0.12018624907019247 {'alpha': 0.0002, 'reg_alpha': 6.000000000000001e-05}\n",
      "0.12003308968287267 {'alpha': 0.00022, 'reg_alpha': 2e-05}\n",
      "0.12004182915708028 {'alpha': 0.00022, 'reg_alpha': 4e-05}\n",
      "0.12018624907019247 {'alpha': 0.00022, 'reg_alpha': 6.000000000000001e-05}\n",
      "0.12003308968287267 {'alpha': 0.00024, 'reg_alpha': 2e-05}\n",
      "0.12004182915708028 {'alpha': 0.00024, 'reg_alpha': 4e-05}\n",
      "0.12018624907019247 {'alpha': 0.00024, 'reg_alpha': 6.000000000000001e-05}\n",
      "0.12003308968287267 {'alpha': 0.00026000000000000003, 'reg_alpha': 2e-05}\n",
      "0.12004182915708028 {'alpha': 0.00026000000000000003, 'reg_alpha': 4e-05}\n",
      "0.12018624907019247 {'alpha': 0.00026000000000000003, 'reg_alpha': 6.000000000000001e-05}\n",
      "0.12003308968287267 {'alpha': 0.00028, 'reg_alpha': 2e-05}\n",
      "0.12004182915708028 {'alpha': 0.00028, 'reg_alpha': 4e-05}\n",
      "0.12018624907019247 {'alpha': 0.00028, 'reg_alpha': 6.000000000000001e-05}\n",
      "0.12003308968287267 {'alpha': 0.00030000000000000003, 'reg_alpha': 2e-05}\n",
      "0.12004182915708028 {'alpha': 0.00030000000000000003, 'reg_alpha': 4e-05}\n",
      "0.12018624907019247 {'alpha': 0.00030000000000000003, 'reg_alpha': 6.000000000000001e-05}\n",
      "0.12003308968287267 {'alpha': 0.00031999999999999997, 'reg_alpha': 2e-05}\n",
      "0.12004182915708028 {'alpha': 0.00031999999999999997, 'reg_alpha': 4e-05}\n",
      "0.12018624907019247 {'alpha': 0.00031999999999999997, 'reg_alpha': 6.000000000000001e-05}\n",
      "0.12003308968287267 {'alpha': 0.00034, 'reg_alpha': 2e-05}\n",
      "0.12004182915708028 {'alpha': 0.00034, 'reg_alpha': 4e-05}\n",
      "0.12018624907019247 {'alpha': 0.00034, 'reg_alpha': 6.000000000000001e-05}\n",
      "0.12003308968287267 {'alpha': 0.00035999999999999997, 'reg_alpha': 2e-05}\n",
      "0.12004182915708028 {'alpha': 0.00035999999999999997, 'reg_alpha': 4e-05}\n",
      "0.12018624907019247 {'alpha': 0.00035999999999999997, 'reg_alpha': 6.000000000000001e-05}\n",
      "0.12003308968287267 {'alpha': 0.00038, 'reg_alpha': 2e-05}\n",
      "0.12004182915708028 {'alpha': 0.00038, 'reg_alpha': 4e-05}\n",
      "0.12018624907019247 {'alpha': 0.00038, 'reg_alpha': 6.000000000000001e-05}\n",
      "0.12003308968287267 {'alpha': 0.00039999999999999996, 'reg_alpha': 2e-05}\n",
      "0.12004182915708028 {'alpha': 0.00039999999999999996, 'reg_alpha': 4e-05}\n",
      "0.12018624907019247 {'alpha': 0.00039999999999999996, 'reg_alpha': 6.000000000000001e-05}\n",
      "0.12003308968287267 {'alpha': 0.00042, 'reg_alpha': 2e-05}\n",
      "0.12004182915708028 {'alpha': 0.00042, 'reg_alpha': 4e-05}\n",
      "0.12018624907019247 {'alpha': 0.00042, 'reg_alpha': 6.000000000000001e-05}\n",
      "0.12003308968287267 {'alpha': 0.00043999999999999996, 'reg_alpha': 2e-05}\n",
      "0.12004182915708028 {'alpha': 0.00043999999999999996, 'reg_alpha': 4e-05}\n",
      "0.12018624907019247 {'alpha': 0.00043999999999999996, 'reg_alpha': 6.000000000000001e-05}\n",
      "0.12003308968287267 {'alpha': 0.00046, 'reg_alpha': 2e-05}\n",
      "0.12004182915708028 {'alpha': 0.00046, 'reg_alpha': 4e-05}\n",
      "0.12018624907019247 {'alpha': 0.00046, 'reg_alpha': 6.000000000000001e-05}\n",
      "0.12003308968287267 {'alpha': 0.00047999999999999996, 'reg_alpha': 2e-05}\n",
      "0.12004182915708028 {'alpha': 0.00047999999999999996, 'reg_alpha': 4e-05}\n",
      "0.12018624907019247 {'alpha': 0.00047999999999999996, 'reg_alpha': 6.000000000000001e-05}\n",
      "0.12003308968287267 {'alpha': 0.0005, 'reg_alpha': 2e-05}\n",
      "0.12004182915708028 {'alpha': 0.0005, 'reg_alpha': 4e-05}\n",
      "0.12018624907019247 {'alpha': 0.0005, 'reg_alpha': 6.000000000000001e-05}\n",
      "0.12003308968287267 {'alpha': 0.00052, 'reg_alpha': 2e-05}\n",
      "0.12004182915708028 {'alpha': 0.00052, 'reg_alpha': 4e-05}\n",
      "0.12018624907019247 {'alpha': 0.00052, 'reg_alpha': 6.000000000000001e-05}\n",
      "0.12003308968287267 {'alpha': 0.00054, 'reg_alpha': 2e-05}\n",
      "0.12004182915708028 {'alpha': 0.00054, 'reg_alpha': 4e-05}\n",
      "0.12018624907019247 {'alpha': 0.00054, 'reg_alpha': 6.000000000000001e-05}\n",
      "0.12003308968287267 {'alpha': 0.00056, 'reg_alpha': 2e-05}\n",
      "0.12004182915708028 {'alpha': 0.00056, 'reg_alpha': 4e-05}\n",
      "0.12018624907019247 {'alpha': 0.00056, 'reg_alpha': 6.000000000000001e-05}\n",
      "0.12003308968287267 {'alpha': 0.00058, 'reg_alpha': 2e-05}\n",
      "0.12004182915708028 {'alpha': 0.00058, 'reg_alpha': 4e-05}\n",
      "0.12018624907019247 {'alpha': 0.00058, 'reg_alpha': 6.000000000000001e-05}\n",
      "0.12003308968287267 {'alpha': 0.0006, 'reg_alpha': 2e-05}\n",
      "0.12004182915708028 {'alpha': 0.0006, 'reg_alpha': 4e-05}\n",
      "0.12018624907019247 {'alpha': 0.0006, 'reg_alpha': 6.000000000000001e-05}\n",
      "0.12003308968287267 {'alpha': 0.00062, 'reg_alpha': 2e-05}\n",
      "0.12004182915708028 {'alpha': 0.00062, 'reg_alpha': 4e-05}\n",
      "0.12018624907019247 {'alpha': 0.00062, 'reg_alpha': 6.000000000000001e-05}\n",
      "0.12003308968287267 {'alpha': 0.0006399999999999999, 'reg_alpha': 2e-05}\n",
      "0.12004182915708028 {'alpha': 0.0006399999999999999, 'reg_alpha': 4e-05}\n",
      "0.12018624907019247 {'alpha': 0.0006399999999999999, 'reg_alpha': 6.000000000000001e-05}\n",
      "0.12003308968287267 {'alpha': 0.00066, 'reg_alpha': 2e-05}\n",
      "0.12004182915708028 {'alpha': 0.00066, 'reg_alpha': 4e-05}\n",
      "0.12018624907019247 {'alpha': 0.00066, 'reg_alpha': 6.000000000000001e-05}\n",
      "0.12003308968287267 {'alpha': 0.0006799999999999999, 'reg_alpha': 2e-05}\n",
      "0.12004182915708028 {'alpha': 0.0006799999999999999, 'reg_alpha': 4e-05}\n",
      "0.12018624907019247 {'alpha': 0.0006799999999999999, 'reg_alpha': 6.000000000000001e-05}\n",
      "0.12003308968287267 {'alpha': 0.0007, 'reg_alpha': 2e-05}\n",
      "0.12004182915708028 {'alpha': 0.0007, 'reg_alpha': 4e-05}\n",
      "0.12018624907019247 {'alpha': 0.0007, 'reg_alpha': 6.000000000000001e-05}\n",
      "0.12003308968287267 {'alpha': 0.0007199999999999999, 'reg_alpha': 2e-05}\n",
      "0.12004182915708028 {'alpha': 0.0007199999999999999, 'reg_alpha': 4e-05}\n",
      "0.12018624907019247 {'alpha': 0.0007199999999999999, 'reg_alpha': 6.000000000000001e-05}\n",
      "0.12003308968287267 {'alpha': 0.0007399999999999999, 'reg_alpha': 2e-05}\n",
      "0.12004182915708028 {'alpha': 0.0007399999999999999, 'reg_alpha': 4e-05}\n",
      "0.12018624907019247 {'alpha': 0.0007399999999999999, 'reg_alpha': 6.000000000000001e-05}\n",
      "0.12003308968287267 {'alpha': 0.0007599999999999999, 'reg_alpha': 2e-05}\n",
      "0.12004182915708028 {'alpha': 0.0007599999999999999, 'reg_alpha': 4e-05}\n",
      "0.12018624907019247 {'alpha': 0.0007599999999999999, 'reg_alpha': 6.000000000000001e-05}\n",
      "0.12003308968287267 {'alpha': 0.00078, 'reg_alpha': 2e-05}\n",
      "0.12004182915708028 {'alpha': 0.00078, 'reg_alpha': 4e-05}\n",
      "0.12018624907019247 {'alpha': 0.00078, 'reg_alpha': 6.000000000000001e-05}\n"
     ]
    }
   ],
   "source": [
    "cvres = results.cv_results_\n",
    "for mean_score, params in zip(cvres[\"mean_test_score\"], cvres[\"params\"]):\n",
    "    print(np.sqrt(-mean_score), params)\n",
    "    \n",
    "# 12483177514831173"
   ]
  },
  {
   "cell_type": "code",
   "execution_count": 44,
   "metadata": {},
   "outputs": [
    {
     "ename": "TypeError",
     "evalue": "'NoneType' object is not callable",
     "output_type": "error",
     "traceback": [
      "\u001b[0;31m---------------------------------------------------------------------------\u001b[0m",
      "\u001b[0;31mTypeError\u001b[0m                                 Traceback (most recent call last)",
      "\u001b[0;32m<ipython-input-44-583c2c36a40d>\u001b[0m in \u001b[0;36m<module>\u001b[0;34m\u001b[0m\n\u001b[1;32m      1\u001b[0m \u001b[0;32mfrom\u001b[0m \u001b[0mcollections\u001b[0m \u001b[0;32mimport\u001b[0m \u001b[0mOrderedDict\u001b[0m\u001b[0;34m\u001b[0m\u001b[0;34m\u001b[0m\u001b[0m\n\u001b[0;32m----> 2\u001b[0;31m \u001b[0mOrderedDict\u001b[0m\u001b[0;34m(\u001b[0m\u001b[0msorted\u001b[0m\u001b[0;34m(\u001b[0m\u001b[0mresults\u001b[0m\u001b[0;34m.\u001b[0m\u001b[0mbest_estimator_\u001b[0m\u001b[0;34m.\u001b[0m\u001b[0mbooster\u001b[0m\u001b[0;34m(\u001b[0m\u001b[0;34m)\u001b[0m\u001b[0;34m.\u001b[0m\u001b[0mget_fscore\u001b[0m\u001b[0;34m(\u001b[0m\u001b[0;34m)\u001b[0m\u001b[0;34m.\u001b[0m\u001b[0mitems\u001b[0m\u001b[0;34m(\u001b[0m\u001b[0;34m)\u001b[0m\u001b[0;34m,\u001b[0m \u001b[0mkey\u001b[0m\u001b[0;34m=\u001b[0m\u001b[0;32mlambda\u001b[0m \u001b[0mt\u001b[0m\u001b[0;34m:\u001b[0m \u001b[0mt\u001b[0m\u001b[0;34m[\u001b[0m\u001b[0;36m1\u001b[0m\u001b[0;34m]\u001b[0m\u001b[0;34m,\u001b[0m \u001b[0mreverse\u001b[0m\u001b[0;34m=\u001b[0m\u001b[0;32mTrue\u001b[0m\u001b[0;34m)\u001b[0m\u001b[0;34m)\u001b[0m\u001b[0;34m\u001b[0m\u001b[0;34m\u001b[0m\u001b[0m\n\u001b[0m",
      "\u001b[0;31mTypeError\u001b[0m: 'NoneType' object is not callable"
     ]
    }
   ],
   "source": [
    "from collections import OrderedDict\n",
    "OrderedDict(sorted(results.best_estimator_.booster().get_fscore().items(), key=lambda t: t[1], reverse=True))"
   ]
  },
  {
   "cell_type": "code",
   "execution_count": null,
   "metadata": {},
   "outputs": [],
   "source": [
    "#for tuning parameters\n",
    "#parameters_for_testing = {\n",
    "#    'colsample_bytree':[0.4,0.6,0.8],\n",
    "#    'gamma':[0,0.03,0.1,0.3],\n",
    "#    'min_child_weight':[1.5,6,10],\n",
    "#    'learning_rate':[0.1,0.07],\n",
    "#    'max_depth':[3,5],\n",
    "#    'n_estimators':[10000],\n",
    "#    'reg_alpha':[1e-5, 1e-2,  0.75],\n",
    "#    'reg_lambda':[1e-5, 1e-2, 0.45],\n",
    "#    'subsample':[0.6,0.95]  \n",
    "#}"
   ]
  },
  {
   "cell_type": "code",
   "execution_count": 36,
   "metadata": {},
   "outputs": [],
   "source": [
    "housing_predictions = results.predict(train_full_prepared)"
   ]
  },
  {
   "cell_type": "code",
   "execution_count": 37,
   "metadata": {},
   "outputs": [
    {
     "name": "stdout",
     "output_type": "stream",
     "text": [
      "12.223828\n",
      "12.247694320220994\n"
     ]
    }
   ],
   "source": [
    "print(housing_predictions[0])\n",
    "print(train_y[0])"
   ]
  },
  {
   "cell_type": "code",
   "execution_count": 38,
   "metadata": {},
   "outputs": [
    {
     "data": {
      "text/plain": [
       "9437.120641237976"
      ]
     },
     "execution_count": 38,
     "metadata": {},
     "output_type": "execute_result"
    }
   ],
   "source": [
    "from sklearn.metrics import mean_squared_error\n",
    "train_y_normal = np.e**train_y\n",
    "pred_normal = np.e**housing_predictions\n",
    "\n",
    "forest_mse = mean_squared_error(train_y_normal, pred_normal)\n",
    "forest_rmse = np.sqrt(forest_mse)\n",
    "forest_rmse"
   ]
  },
  {
   "cell_type": "code",
   "execution_count": 39,
   "metadata": {},
   "outputs": [
    {
     "name": "stdout",
     "output_type": "stream",
     "text": [
      "208500.0\n",
      "203582.77\n"
     ]
    }
   ],
   "source": [
    "print(train_y_normal[0])\n",
    "print(pred_normal[0])"
   ]
  },
  {
   "cell_type": "code",
   "execution_count": 40,
   "metadata": {},
   "outputs": [],
   "source": [
    "# y_pred = forest_reg.predict(test_full_prepared)\n",
    "# y_pred = grid_search.predict(test_full_prepared)\n",
    "y_pred = results.predict(test_full_prepared)\n",
    "\n",
    "\n",
    "y_pred_normal = np.e**y_pred\n",
    "sub = pd.DataFrame({'Id': test['Id'], 'SalePrice': y_pred_normal})"
   ]
  },
  {
   "cell_type": "code",
   "execution_count": 41,
   "metadata": {},
   "outputs": [],
   "source": [
    "sub.to_csv(\"data/submission_script54_xgb_regressor.csv\", index=False)"
   ]
  },
  {
   "cell_type": "code",
   "execution_count": 26,
   "metadata": {},
   "outputs": [
    {
     "data": {
      "text/plain": [
       "(1459, 2)"
      ]
     },
     "execution_count": 26,
     "metadata": {},
     "output_type": "execute_result"
    }
   ],
   "source": [
    "sub.shape"
   ]
  },
  {
   "cell_type": "code",
   "execution_count": null,
   "metadata": {},
   "outputs": [],
   "source": []
  }
 ],
 "metadata": {
  "kernelspec": {
   "display_name": "Python 3",
   "language": "python",
   "name": "python3"
  },
  "language_info": {
   "codemirror_mode": {
    "name": "ipython",
    "version": 3
   },
   "file_extension": ".py",
   "mimetype": "text/x-python",
   "name": "python",
   "nbconvert_exporter": "python",
   "pygments_lexer": "ipython3",
   "version": "3.7.4"
  }
 },
 "nbformat": 4,
 "nbformat_minor": 2
}
