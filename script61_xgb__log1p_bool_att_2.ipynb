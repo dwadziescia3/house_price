{
 "cells": [
  {
   "cell_type": "code",
   "execution_count": 1,
   "metadata": {},
   "outputs": [],
   "source": [
    "import sys\n",
    "assert sys.version_info >= (3, 5)\n",
    "\n",
    "import sklearn\n",
    "assert sklearn.__version__ >= \"0.20\"\n",
    "\n",
    "import numpy as np\n",
    "import os\n",
    "\n",
    "import matplotlib as mpl\n",
    "import matplotlib.pyplot as plt\n",
    "mpl.rc('axes', labelsize=14)\n",
    "mpl.rc('xtick', labelsize=12)\n",
    "mpl.rc('ytick', labelsize=12)\n",
    "\n",
    "import warnings\n",
    "warnings.filterwarnings(action=\"ignore\", message=\"^internal gelsd\")"
   ]
  },
  {
   "cell_type": "code",
   "execution_count": 7,
   "metadata": {},
   "outputs": [],
   "source": [
    "import pandas as pd\n",
    "\n",
    "def load_housing_data(housing_path='data'):\n",
    "    train_csv_path = os.path.join(housing_path, \"train.csv\")\n",
    "    test_csv_path = os.path.join(housing_path, \"test.csv\")\n",
    "    return pd.read_csv(train_csv_path), pd.read_csv(test_csv_path)\n",
    "\n",
    "train, test = load_housing_data()"
   ]
  },
  {
   "cell_type": "code",
   "execution_count": 8,
   "metadata": {},
   "outputs": [],
   "source": [
    "train['TotalLivingSF'] = train['BsmtFinSF1'] + train['BsmtFinSF2'] + train['1stFlrSF'] + train['2ndFlrSF']\n",
    "test['TotalLivingSF'] = test['BsmtFinSF1'] + test['BsmtFinSF2'] + test['1stFlrSF'] + test['2ndFlrSF']\n",
    "\n",
    "train['MSSubClass'] = train['MSSubClass'].apply(str)\n",
    "train['YrSold'] = train['YrSold'].astype(str)\n",
    "train['MoSold'] = train['MoSold'].astype(str)\n",
    "test['MSSubClass'] = test['MSSubClass'].apply(str)\n",
    "test['YrSold'] = test['YrSold'].astype(str)\n",
    "test['MoSold'] = test['MoSold'].astype(str)\n",
    "\n",
    "train['Electrical'] = train['Electrical'].fillna(\"SBrkr\")\n",
    "\n",
    "train['FireplaceQu'] = train['FireplaceQu'].fillna(\"None\") \n",
    "test['FireplaceQu'] = test['FireplaceQu'].fillna(\"None\") \n",
    "\n",
    "train['TotalPorchSF'] = train['OpenPorchSF'] + train['3SsnPorch'] + train['EnclosedPorch'] + train['ScreenPorch'] + train['WoodDeckSF']\n",
    "test['TotalPorchSF'] = test['OpenPorchSF'] + test['3SsnPorch'] + test['EnclosedPorch'] + test['ScreenPorch'] + test['WoodDeckSF']\n",
    "\n",
    "test['SaleType'] = test['SaleType'].fillna(test['SaleType'].mode()[0])\n",
    "\n",
    "test['KitchenQual'] = test['KitchenQual'].fillna(\"TA\") \n",
    "\n",
    "bsmt_cat_att = ['BsmtQual', 'BsmtCond', 'BsmtExposure', 'BsmtFinType1', 'BsmtFinType2']\n",
    "for a in bsmt_cat_att:\n",
    "    train[a].fillna('NB', inplace=True)\n",
    "    test[a].fillna('NB', inplace=True)\n",
    "    \n",
    "test['Exterior1st'] = test['Exterior1st'].fillna(test['Exterior1st'].mode()[0])\n",
    "test['Exterior2nd'] = test['Exterior2nd'].fillna(test['Exterior2nd'].mode()[0])\n",
    "\n",
    "test['MSZoning'] = test.groupby('MSSubClass')['MSZoning'].transform(lambda x: x.fillna(x.mode()[0]))\n",
    "\n",
    "train['Alley'] = train['Alley'].fillna(\"NA\")\n",
    "test['Alley'] = test['Alley'].fillna(\"NA\")\n",
    "\n",
    "train['MasVnrType'] = train['MasVnrType'].fillna(train['MasVnrType'].mode()[0])\n",
    "test['MasVnrType'] = test['MasVnrType'].fillna(test['MasVnrType'].mode()[0])\n",
    "\n",
    "garage_cat_att = ['GarageType', 'GarageFinish', 'GarageQual', 'GarageCond']\n",
    "\n",
    "for a in garage_cat_att:\n",
    "    train[a].fillna('NG', inplace=True)\n",
    "    test[a].fillna('NG', inplace=True)\n",
    "    \n",
    "train['Fence'] = train['Fence'].fillna(\"NF\")\n",
    "test['Fence'] = test['Fence'].fillna(\"NF\")\n",
    "\n",
    "test['Functional'] = test['Functional'].fillna(\"Typ\")\n",
    "\n",
    "train['MiscFeature'] = train['MiscFeature'].fillna(\"None\")\n",
    "test['MiscFeature'] = test['MiscFeature'].fillna(\"None\")\n",
    "\n",
    "train['TotalBthm'] = train['FullBath'] + 0.5*train['HalfBath'] + train['BsmtFullBath'] + 0.5*train['BsmtHalfBath']\n",
    "test['TotalBthm'] = test['FullBath'] + 0.5*test['HalfBath'] + test['BsmtFullBath'] + 0.5*test['BsmtHalfBath']"
   ]
  },
  {
   "cell_type": "code",
   "execution_count": 9,
   "metadata": {},
   "outputs": [],
   "source": [
    "train['YrBltAndRemod']=train['YearBuilt']+train['YearRemodAdd']\n",
    "\n",
    "test['YrBltAndRemod']=test['YearBuilt']+train['YearRemodAdd']\n"
   ]
  },
  {
   "cell_type": "code",
   "execution_count": 11,
   "metadata": {},
   "outputs": [],
   "source": [
    "num_att = list(train.select_dtypes([np.number]).columns)\n",
    "for a in num_att:\n",
    "    train[a].fillna(0, inplace=True)\n",
    "    if a != 'SalePrice':\n",
    "        test[a].fillna(0, inplace=True)\n"
   ]
  },
  {
   "cell_type": "code",
   "execution_count": 13,
   "metadata": {},
   "outputs": [
    {
     "name": "stdout",
     "output_type": "stream",
     "text": [
      "MiscVal          24.451640\n",
      "PoolArea         14.813135\n",
      "LotArea          12.195142\n",
      "3SsnPorch        10.293752\n",
      "LowQualFinSF      9.002080\n",
      "KitchenAbvGr      4.483784\n",
      "BsmtFinSF2        4.250888\n",
      "ScreenPorch       4.117977\n",
      "BsmtHalfBath      4.099186\n",
      "EnclosedPorch     3.086696\n",
      "MasVnrArea        2.674865\n",
      "OpenPorchSF       2.361912\n",
      "TotalLivingSF     2.161744\n",
      "SalePrice         1.880941\n",
      "BsmtFinSF1        1.683771\n",
      "WoodDeckSF        1.539792\n",
      "TotalBsmtSF       1.522688\n",
      "1stFlrSF          1.375342\n",
      "GrLivArea         1.365156\n",
      "TotalPorchSF      1.101180\n",
      "BsmtUnfSF         0.919323\n",
      "2ndFlrSF          0.812194\n",
      "OverallCond       0.692355\n",
      "TotRmsAbvGrd      0.675646\n",
      "HalfBath          0.675203\n",
      "Fireplaces        0.648898\n",
      "BsmtFullBath      0.595454\n",
      "dtype: float64\n"
     ]
    }
   ],
   "source": [
    "from scipy.stats import skew  # for some statistics\n",
    "from scipy.special import boxcox1p\n",
    "from scipy.stats import boxcox_normmax\n",
    "from numpy import log1p, expm1\n",
    "\n",
    "numeric_dtypes = ['int16', 'int32', 'int64', 'float16', 'float32', 'float64']\n",
    "numerics2 = []\n",
    "for i in train.columns:\n",
    "    if train[i].dtype in numeric_dtypes:\n",
    "        numerics2.append(i)\n",
    "skew_features = train[numerics2].apply(lambda x: skew(x)).sort_values(ascending=False)\n",
    "\n",
    "high_skew = skew_features[skew_features > 0.5]\n",
    "skew_index = high_skew.index\n",
    "print(high_skew)"
   ]
  },
  {
   "cell_type": "code",
   "execution_count": 14,
   "metadata": {},
   "outputs": [],
   "source": [
    "for i in skew_index:\n",
    "    if i != 'SalePrice':\n",
    "        train[i] = np.log1p(train[i])\n",
    "        test[i] =  np.log1p(test[i])"
   ]
  },
  {
   "cell_type": "code",
   "execution_count": 15,
   "metadata": {},
   "outputs": [],
   "source": [
    "import seaborn as sns\n",
    "from scipy.stats import norm\n",
    "from scipy import stats\n",
    "\n",
    "train['SalePrice'] = np.log(train['SalePrice'])\n",
    "train_y = train[\"SalePrice\"].copy()"
   ]
  },
  {
   "cell_type": "code",
   "execution_count": 16,
   "metadata": {},
   "outputs": [
    {
     "name": "stdout",
     "output_type": "stream",
     "text": [
      "PoolArea         14.348342\n",
      "3SsnPorch         7.727026\n",
      "LowQualFinSF      7.452650\n",
      "MiscVal           5.165390\n",
      "BsmtHalfBath      3.929022\n",
      "KitchenAbvGr      3.865437\n",
      "ScreenPorch       3.147171\n",
      "BsmtFinSF2        2.521100\n",
      "EnclosedPorch     2.110104\n",
      "HalfBath          0.565586\n",
      "MasVnrArea        0.503014\n",
      "BsmtFullBath      0.418782\n",
      "2ndFlrSF          0.289346\n",
      "LotFrontage       0.267547\n",
      "TotalBthm         0.264404\n",
      "OverallQual       0.216721\n",
      "BedroomAbvGr      0.211572\n",
      "dtype: float64\n"
     ]
    }
   ],
   "source": [
    "numeric_dtypes = ['int16', 'int32', 'int64', 'float16', 'float32', 'float64']\n",
    "numerics2 = []\n",
    "for i in train.columns:\n",
    "    if train[i].dtype in numeric_dtypes:\n",
    "        numerics2.append(i)\n",
    "skew_features = train[numerics2].apply(lambda x: skew(x)).sort_values(ascending=False)\n",
    "\n",
    "high_skew = skew_features[skew_features > 0.2]\n",
    "skew_index = high_skew.index\n",
    "print(high_skew)"
   ]
  },
  {
   "cell_type": "code",
   "execution_count": 17,
   "metadata": {},
   "outputs": [
    {
     "data": {
      "text/plain": [
       "SalePrice        1.000000\n",
       "OverallQual      0.817184\n",
       "TotalLivingSF    0.741065\n",
       "GrLivArea        0.730254\n",
       "GarageCars       0.680625\n",
       "TotalBthm        0.673011\n",
       "GarageArea       0.650888\n",
       "YrBltAndRemod    0.644833\n",
       "1stFlrSF         0.608955\n",
       "FullBath         0.594771\n",
       "YearBuilt        0.586570\n",
       "YearRemodAdd     0.565608\n",
       "TotRmsAbvGrd     0.539998\n",
       "Fireplaces       0.508925\n",
       "OpenPorchSF      0.459948\n",
       "MasVnrArea       0.413318\n",
       "LotArea          0.399923\n",
       "TotalPorchSF     0.375169\n",
       "TotalBsmtSF      0.372838\n",
       "GarageYrBlt      0.349014\n",
       "WoodDeckSF       0.343039\n",
       "HalfBath         0.320925\n",
       "BsmtFullBath     0.238945\n",
       "BedroomAbvGr     0.209044\n",
       "BsmtUnfSF        0.208233\n",
       "BsmtFinSF1       0.208099\n",
       "2ndFlrSF         0.180778\n",
       "LotFrontage      0.179303\n",
       "ScreenPorch      0.105858\n",
       "PoolArea         0.069949\n",
       "3SsnPorch        0.058827\n",
       "OverallCond     -0.001793\n",
       "BsmtHalfBath    -0.004890\n",
       "Id              -0.017942\n",
       "BsmtFinSF2      -0.030361\n",
       "LowQualFinSF    -0.054513\n",
       "MiscVal         -0.067054\n",
       "KitchenAbvGr    -0.144278\n",
       "EnclosedPorch   -0.207263\n",
       "Name: SalePrice, dtype: float64"
      ]
     },
     "execution_count": 17,
     "metadata": {},
     "output_type": "execute_result"
    }
   ],
   "source": [
    "corr_matrix = train.corr()\n",
    "corr_matrix[\"SalePrice\"].sort_values(ascending=False)"
   ]
  },
  {
   "cell_type": "code",
   "execution_count": 18,
   "metadata": {},
   "outputs": [],
   "source": [
    "train['Has2ndFloor'] = train['2ndFlrSF'].apply(lambda x: 1 if x > 0 else 0)\n",
    "test['Has2ndFloor'] = test['2ndFlrSF'].apply(lambda x: 1 if x > 0 else 0)\n",
    "\n",
    "train['haspool'] = train['PoolArea'].apply(lambda x: 1 if x > 0 else 0)\n",
    "train['hasgarage'] = train['GarageArea'].apply(lambda x: 1 if x > 0 else 0)\n",
    "train['hasbsmt'] = train['TotalBsmtSF'].apply(lambda x: 1 if x > 0 else 0)\n",
    "train['hasfireplace'] = train['Fireplaces'].apply(lambda x: 1 if x > 0 else 0)\n",
    "\n",
    "test['haspool'] = test['PoolArea'].apply(lambda x: 1 if x > 0 else 0)\n",
    "test['hasgarage'] = test['GarageArea'].apply(lambda x: 1 if x > 0 else 0)\n",
    "test['hasbsmt'] = test['TotalBsmtSF'].apply(lambda x: 1 if x > 0 else 0)\n",
    "test['hasfireplace'] = test['Fireplaces'].apply(lambda x: 1 if x > 0 else 0)"
   ]
  },
  {
   "cell_type": "code",
   "execution_count": 19,
   "metadata": {},
   "outputs": [
    {
     "name": "stdout",
     "output_type": "stream",
     "text": [
      "['LotFrontage', 'LotArea', 'OverallQual', 'OverallCond', 'YearBuilt', 'YearRemodAdd', 'MasVnrArea', 'BsmtFinSF1', 'BsmtFinSF2', 'BsmtUnfSF', 'TotalBsmtSF', '1stFlrSF', '2ndFlrSF', 'LowQualFinSF', 'GrLivArea', 'BsmtFullBath', 'BsmtHalfBath', 'FullBath', 'HalfBath', 'BedroomAbvGr', 'KitchenAbvGr', 'TotRmsAbvGrd', 'Fireplaces', 'GarageYrBlt', 'GarageCars', 'GarageArea', 'WoodDeckSF', 'OpenPorchSF', 'EnclosedPorch', '3SsnPorch', 'ScreenPorch', 'PoolArea', 'MiscVal', 'TotalLivingSF', 'TotalPorchSF', 'TotalBthm', 'YrBltAndRemod', 'Has2ndFloor', 'haspool', 'hasgarage', 'hasbsmt', 'hasfireplace']\n"
     ]
    }
   ],
   "source": [
    "num_att = list(train.select_dtypes([np.number]).columns)\n",
    "\n",
    "# att = ['OverallQual', 'GrLivArea']\n",
    "\n",
    "# to_remove = ['BsmtFinSF2', 'MoSold', '3SsnPorch', 'BsmtHalfBath', 'MiscVal', 'LowQualFinSF', 'YrSold',\n",
    "#             'PoolArea', 'OverallCond', 'MSSubClass', 'ScreenPorch']\n",
    "\n",
    "to_remove = ['PoolArea', 'BsmtHalfBath', 'MiscVal', 'LowQualFinSF', 'ScreenPorch', '3SsnPorch',\n",
    "            'BsmtFinSF2', 'MoSold', 'YrSold',\n",
    "            'GarageArea', 'TotalBsmtSF']\n",
    "\n",
    "to_remove = ['PoolArea', 'BsmtHalfBath', 'MiscVal', 'LowQualFinSF', 'ScreenPorch', '3SsnPorch',\n",
    "            'BsmtFinSF2']\n",
    "\n",
    "to_remove = []\n",
    "\n",
    "for t in to_remove:\n",
    "    num_att.remove(t)\n",
    "num_att.remove('Id')\n",
    "num_att.remove('SalePrice')\n",
    "\n",
    "# num_att = ['OverallQual', 'GrLivArea', 'GarageCars', '1stFlrSF', 'FullBath', 'YearBuilt']\n",
    "\n",
    "print(num_att)"
   ]
  },
  {
   "cell_type": "code",
   "execution_count": 20,
   "metadata": {},
   "outputs": [
    {
     "name": "stdout",
     "output_type": "stream",
     "text": [
      "['Neighborhood', 'BldgType', 'Heating', 'HeatingQC', 'CentralAir', 'Street', 'LotShape', 'LandContour', 'LotConfig', 'LandSlope', 'Condition1', 'HouseStyle', 'RoofStyle', 'ExterQual', 'ExterCond', 'Foundation', 'PavedDrive', 'SaleCondition', 'KitchenQual', 'BsmtQual', 'MoSold', 'YrSold', 'MSSubClass', 'SaleType', 'Electrical', 'BsmtExposure', 'FireplaceQu', 'Exterior1st', 'MSZoning', 'Alley', 'Condition2', 'RoofMatl', 'Exterior2nd', 'MasVnrType', 'BsmtCond', 'BsmtFinType1', 'BsmtFinType2', 'Functional', 'GarageType', 'GarageFinish', 'GarageQual', 'GarageCond', 'Fence', 'MiscFeature']\n",
      "44\n",
      "44\n"
     ]
    }
   ],
   "source": [
    "cat_att = ['BldgType', 'CentralAir', 'Foundation', \n",
    "           'PavedDrive', 'SaleCondition']\n",
    "cat_att = ['Neighborhood', 'BldgType', 'Heating', 'HeatingQC', 'CentralAir', \n",
    "           'Street', 'LotShape', 'LandContour', 'LotConfig',\n",
    "           'LandSlope', 'Condition1', 'HouseStyle', 'RoofStyle', \n",
    "           'ExterQual', 'ExterCond', 'Foundation', 'PavedDrive', 'SaleCondition',\n",
    "           'KitchenQual', 'BsmtQual', 'MoSold', 'YrSold', 'MSSubClass',\n",
    "           'SaleType', 'Electrical', 'BsmtExposure', 'FireplaceQu',\n",
    "           'Exterior1st', 'MSZoning', 'Alley',\n",
    "           'Condition2', 'RoofMatl', 'Exterior2nd', 'MasVnrType', 'BsmtCond',\n",
    "           'BsmtFinType1', 'BsmtFinType2', 'Functional',\n",
    "           'GarageType', 'GarageFinish', 'GarageQual', 'GarageCond',\n",
    "           'Fence', 'MiscFeature']\n",
    "\n",
    "# TO ADD = Exterior1st, KitchenQual, Functional, SaleType, Alley, Condition2\n",
    "\n",
    "# cat_att = ['Neighborhood', 'BldgType']\n",
    "print(cat_att)\n",
    "print(len(cat_att))\n",
    "print(len(set(cat_att)))"
   ]
  },
  {
   "cell_type": "code",
   "execution_count": 21,
   "metadata": {},
   "outputs": [
    {
     "data": {
      "text/plain": [
       "SalePrice        1.000000\n",
       "OverallQual      0.817184\n",
       "TotalLivingSF    0.741065\n",
       "GrLivArea        0.730254\n",
       "GarageCars       0.680625\n",
       "TotalBthm        0.673011\n",
       "GarageArea       0.650888\n",
       "YrBltAndRemod    0.644833\n",
       "1stFlrSF         0.608955\n",
       "FullBath         0.594771\n",
       "YearBuilt        0.586570\n",
       "YearRemodAdd     0.565608\n",
       "TotRmsAbvGrd     0.539998\n",
       "hasfireplace     0.510026\n",
       "Fireplaces       0.508925\n",
       "OpenPorchSF      0.459948\n",
       "MasVnrArea       0.413318\n",
       "LotArea          0.399923\n",
       "TotalPorchSF     0.375169\n",
       "TotalBsmtSF      0.372838\n",
       "GarageYrBlt      0.349014\n",
       "WoodDeckSF       0.343039\n",
       "hasgarage        0.322999\n",
       "HalfBath         0.320925\n",
       "BsmtFullBath     0.238945\n",
       "BedroomAbvGr     0.209044\n",
       "BsmtUnfSF        0.208233\n",
       "BsmtFinSF1       0.208099\n",
       "hasbsmt          0.199634\n",
       "2ndFlrSF         0.180778\n",
       "LotFrontage      0.179303\n",
       "Has2ndFloor      0.150549\n",
       "ScreenPorch      0.105858\n",
       "PoolArea         0.069949\n",
       "haspool          0.069835\n",
       "3SsnPorch        0.058827\n",
       "OverallCond     -0.001793\n",
       "BsmtHalfBath    -0.004890\n",
       "Id              -0.017942\n",
       "BsmtFinSF2      -0.030361\n",
       "LowQualFinSF    -0.054513\n",
       "MiscVal         -0.067054\n",
       "KitchenAbvGr    -0.144278\n",
       "EnclosedPorch   -0.207263\n",
       "Name: SalePrice, dtype: float64"
      ]
     },
     "execution_count": 21,
     "metadata": {},
     "output_type": "execute_result"
    }
   ],
   "source": [
    "corr_matrix = train.corr()\n",
    "corr_matrix[\"SalePrice\"].sort_values(ascending=False)"
   ]
  },
  {
   "cell_type": "code",
   "execution_count": 22,
   "metadata": {
    "scrolled": false
   },
   "outputs": [
    {
     "name": "stdout",
     "output_type": "stream",
     "text": [
      "<class 'pandas.core.frame.DataFrame'>\n",
      "Int64Index: 2919 entries, 0 to 1458\n",
      "Data columns (total 86 columns):\n",
      "LotFrontage      2919 non-null float64\n",
      "LotArea          2919 non-null float64\n",
      "OverallQual      2919 non-null int64\n",
      "OverallCond      2919 non-null float64\n",
      "YearBuilt        2919 non-null int64\n",
      "YearRemodAdd     2919 non-null int64\n",
      "MasVnrArea       2919 non-null float64\n",
      "BsmtFinSF1       2919 non-null float64\n",
      "BsmtFinSF2       2919 non-null float64\n",
      "BsmtUnfSF        2919 non-null float64\n",
      "TotalBsmtSF      2919 non-null float64\n",
      "1stFlrSF         2919 non-null float64\n",
      "2ndFlrSF         2919 non-null float64\n",
      "LowQualFinSF     2919 non-null float64\n",
      "GrLivArea        2919 non-null float64\n",
      "BsmtFullBath     2919 non-null float64\n",
      "BsmtHalfBath     2919 non-null float64\n",
      "FullBath         2919 non-null int64\n",
      "HalfBath         2919 non-null float64\n",
      "BedroomAbvGr     2919 non-null int64\n",
      "KitchenAbvGr     2919 non-null float64\n",
      "TotRmsAbvGrd     2919 non-null float64\n",
      "Fireplaces       2919 non-null float64\n",
      "GarageYrBlt      2919 non-null float64\n",
      "GarageCars       2919 non-null float64\n",
      "GarageArea       2919 non-null float64\n",
      "WoodDeckSF       2919 non-null float64\n",
      "OpenPorchSF      2919 non-null float64\n",
      "EnclosedPorch    2919 non-null float64\n",
      "3SsnPorch        2919 non-null float64\n",
      "ScreenPorch      2919 non-null float64\n",
      "PoolArea         2919 non-null float64\n",
      "MiscVal          2919 non-null float64\n",
      "TotalLivingSF    2919 non-null float64\n",
      "TotalPorchSF     2919 non-null float64\n",
      "TotalBthm        2919 non-null float64\n",
      "YrBltAndRemod    2919 non-null float64\n",
      "Has2ndFloor      2919 non-null int64\n",
      "haspool          2919 non-null int64\n",
      "hasgarage        2919 non-null int64\n",
      "hasbsmt          2919 non-null int64\n",
      "hasfireplace     2919 non-null int64\n",
      "Neighborhood     2919 non-null object\n",
      "BldgType         2919 non-null object\n",
      "Heating          2919 non-null object\n",
      "HeatingQC        2919 non-null object\n",
      "CentralAir       2919 non-null object\n",
      "Street           2919 non-null object\n",
      "LotShape         2919 non-null object\n",
      "LandContour      2919 non-null object\n",
      "LotConfig        2919 non-null object\n",
      "LandSlope        2919 non-null object\n",
      "Condition1       2919 non-null object\n",
      "HouseStyle       2919 non-null object\n",
      "RoofStyle        2919 non-null object\n",
      "ExterQual        2919 non-null object\n",
      "ExterCond        2919 non-null object\n",
      "Foundation       2919 non-null object\n",
      "PavedDrive       2919 non-null object\n",
      "SaleCondition    2919 non-null object\n",
      "KitchenQual      2919 non-null object\n",
      "BsmtQual         2919 non-null object\n",
      "MoSold           2919 non-null object\n",
      "YrSold           2919 non-null object\n",
      "MSSubClass       2919 non-null object\n",
      "SaleType         2919 non-null object\n",
      "Electrical       2919 non-null object\n",
      "BsmtExposure     2919 non-null object\n",
      "FireplaceQu      2919 non-null object\n",
      "Exterior1st      2919 non-null object\n",
      "MSZoning         2919 non-null object\n",
      "Alley            2919 non-null object\n",
      "Condition2       2919 non-null object\n",
      "RoofMatl         2919 non-null object\n",
      "Exterior2nd      2919 non-null object\n",
      "MasVnrType       2919 non-null object\n",
      "BsmtCond         2919 non-null object\n",
      "BsmtFinType1     2919 non-null object\n",
      "BsmtFinType2     2919 non-null object\n",
      "Functional       2919 non-null object\n",
      "GarageType       2919 non-null object\n",
      "GarageFinish     2919 non-null object\n",
      "GarageQual       2919 non-null object\n",
      "GarageCond       2919 non-null object\n",
      "Fence            2919 non-null object\n",
      "MiscFeature      2919 non-null object\n",
      "dtypes: float64(32), int64(10), object(44)\n",
      "memory usage: 1.9+ MB\n"
     ]
    }
   ],
   "source": [
    "train2 = train[num_att + cat_att]\n",
    "# train2.info()\n",
    "test2 = test[num_att + cat_att]\n",
    "# test2.info()\n",
    "\n",
    "merged_df = pd.concat([train2, test2])\n",
    "merged_df.info()"
   ]
  },
  {
   "cell_type": "code",
   "execution_count": 23,
   "metadata": {},
   "outputs": [],
   "source": [
    "from sklearn.pipeline import Pipeline\n",
    "from sklearn.preprocessing import StandardScaler\n",
    "from sklearn.impute import SimpleImputer\n",
    "from sklearn.compose import ColumnTransformer\n",
    "from sklearn.preprocessing import OneHotEncoder\n",
    "\n",
    "num_pipeline = Pipeline([\n",
    "        ('imputer', SimpleImputer(strategy=\"median\")),\n",
    "#         ('std_scaler', StandardScaler()),\n",
    "    ])\n",
    "train_prepared = num_pipeline.fit_transform(train[num_att])\n",
    "test_prepared  = num_pipeline.transform(test[num_att])\n",
    "\n",
    "\n",
    "full_pipeline = ColumnTransformer([\n",
    "        (\"num\", num_pipeline, num_att),\n",
    "        (\"cat\", OneHotEncoder(), cat_att),\n",
    "    ])\n",
    "\n",
    "train_test_full_prepared = full_pipeline.fit_transform(merged_df)\n",
    "train_full_prepared = full_pipeline.transform(train2)\n",
    "test_full_prepared = full_pipeline.transform(test2)\n"
   ]
  },
  {
   "cell_type": "code",
   "execution_count": 24,
   "metadata": {},
   "outputs": [
    {
     "name": "stdout",
     "output_type": "stream",
     "text": [
      "(1460, 42)\n",
      "(1459, 42)\n",
      "(1460, 335)\n",
      "(1459, 335)\n"
     ]
    }
   ],
   "source": [
    "print(train_prepared.shape)\n",
    "print(test_prepared.shape)\n",
    "print(train_full_prepared.shape)\n",
    "print(test_full_prepared.shape)"
   ]
  },
  {
   "cell_type": "code",
   "execution_count": 20,
   "metadata": {},
   "outputs": [
    {
     "name": "stdout",
     "output_type": "stream",
     "text": [
      "[1.e-05 2.e-05 3.e-05 4.e-05]\n"
     ]
    }
   ],
   "source": [
    "print(np.arange(0.00001, 0.00005, 0.00001))"
   ]
  },
  {
   "cell_type": "code",
   "execution_count": 26,
   "metadata": {},
   "outputs": [
    {
     "name": "stdout",
     "output_type": "stream",
     "text": [
      "Fitting 20 folds for each of 9 candidates, totalling 180 fits\n"
     ]
    },
    {
     "name": "stderr",
     "output_type": "stream",
     "text": [
      "[Parallel(n_jobs=-1)]: Using backend LokyBackend with 12 concurrent workers.\n",
      "[Parallel(n_jobs=-1)]: Done   8 tasks      | elapsed:   24.4s\n",
      "[Parallel(n_jobs=-1)]: Done 104 tasks      | elapsed:  2.6min\n",
      "[Parallel(n_jobs=-1)]: Done 180 out of 180 | elapsed:  4.2min finished\n"
     ]
    },
    {
     "name": "stdout",
     "output_type": "stream",
     "text": [
      "MAE: -0.014\n",
      "Config: {'reg_alpha': 8e-05}\n"
     ]
    }
   ],
   "source": [
    "from numpy import arange\n",
    "from sklearn.model_selection import GridSearchCV\n",
    "from sklearn.model_selection import RepeatedKFold\n",
    "from xgboost import XGBRegressor\n",
    "cv = RepeatedKFold(n_splits=10, n_repeats=2, random_state=1)\n",
    "model = XGBRegressor(learning_rate=0.01,n_estimators=3500,\n",
    "                                     max_depth=3, min_child_weight=0,\n",
    "                                     gamma=0, subsample=0.7,\n",
    "                                     colsample_bytree=0.7,\n",
    "                                     objective='reg:squarederror', nthread=-1,\n",
    "                                     scale_pos_weight=1, seed=42)\n",
    "\n",
    "grid = dict()\n",
    "grid['reg_alpha'] = np.arange(0.00001, 0.0001, 0.00001)\n",
    "# grid['reg_lambda'] = np.arange(0.00001, 0.0001, 0.00002)\n",
    "# define search\n",
    "search = GridSearchCV(model, grid, scoring='neg_mean_squared_error', cv=cv, n_jobs=-1, verbose=3)\n",
    "# perform the search\n",
    "results = search.fit(train_full_prepared, train_y)\n",
    "# summarize\n",
    "print('MAE: %.3f' % results.best_score_)\n",
    "print('Config: %s' % results.best_params_)\n",
    "\n",
    "\n"
   ]
  },
  {
   "cell_type": "code",
   "execution_count": 41,
   "metadata": {},
   "outputs": [
    {
     "name": "stdout",
     "output_type": "stream",
     "text": [
      "0.11973993863425028 {'reg_alpha': 5e-06, 'reg_lambda': 2.5e-05}\n",
      "0.11962975307896435 {'reg_alpha': 5e-06, 'reg_lambda': 3.5000000000000004e-05}\n",
      "0.11963636269253662 {'reg_alpha': 5e-06, 'reg_lambda': 4.500000000000001e-05}\n",
      "0.11959781470849254 {'reg_alpha': 5e-06, 'reg_lambda': 5.500000000000001e-05}\n",
      "0.11958743198978239 {'reg_alpha': 1e-05, 'reg_lambda': 2.5e-05}\n",
      "0.11956164453657428 {'reg_alpha': 1e-05, 'reg_lambda': 3.5000000000000004e-05}\n",
      "0.11956380993835439 {'reg_alpha': 1e-05, 'reg_lambda': 4.500000000000001e-05}\n",
      "0.11957084294220717 {'reg_alpha': 1e-05, 'reg_lambda': 5.500000000000001e-05}\n",
      "0.11962458619357662 {'reg_alpha': 1.5000000000000002e-05, 'reg_lambda': 2.5e-05}\n",
      "0.11957446941511268 {'reg_alpha': 1.5000000000000002e-05, 'reg_lambda': 3.5000000000000004e-05}\n",
      "0.11961696817737368 {'reg_alpha': 1.5000000000000002e-05, 'reg_lambda': 4.500000000000001e-05}\n",
      "0.11967006760730133 {'reg_alpha': 1.5000000000000002e-05, 'reg_lambda': 5.500000000000001e-05}\n",
      "0.11967132442581564 {'reg_alpha': 2e-05, 'reg_lambda': 2.5e-05}\n",
      "0.11967013640979399 {'reg_alpha': 2e-05, 'reg_lambda': 3.5000000000000004e-05}\n",
      "0.11961028318093048 {'reg_alpha': 2e-05, 'reg_lambda': 4.500000000000001e-05}\n",
      "0.11956941094704525 {'reg_alpha': 2e-05, 'reg_lambda': 5.500000000000001e-05}\n"
     ]
    }
   ],
   "source": [
    "cvres = results.cv_results_\n",
    "for mean_score, params in zip(cvres[\"mean_test_score\"], cvres[\"params\"]):\n",
    "    print(np.sqrt(-mean_score), params)\n",
    "    \n",
    "# 0.12003308968287267\n",
    "# 11958275120116191 reg_alpha': 4e-05"
   ]
  },
  {
   "cell_type": "code",
   "execution_count": 39,
   "metadata": {},
   "outputs": [
    {
     "name": "stdout",
     "output_type": "stream",
     "text": [
      "Fitting 20 folds for each of 16 candidates, totalling 320 fits\n"
     ]
    },
    {
     "name": "stderr",
     "output_type": "stream",
     "text": [
      "[Parallel(n_jobs=-1)]: Using backend LokyBackend with 12 concurrent workers.\n",
      "[Parallel(n_jobs=-1)]: Done   8 tasks      | elapsed:   54.8s\n",
      "[Parallel(n_jobs=-1)]: Done 104 tasks      | elapsed:  6.7min\n",
      "[Parallel(n_jobs=-1)]: Done 264 tasks      | elapsed: 16.8min\n",
      "[Parallel(n_jobs=-1)]: Done 320 out of 320 | elapsed: 20.3min finished\n"
     ]
    },
    {
     "ename": "NotFittedError",
     "evalue": "need to call fit or load_model beforehand",
     "output_type": "error",
     "traceback": [
      "\u001b[0;31m---------------------------------------------------------------------------\u001b[0m",
      "\u001b[0;31mNotFittedError\u001b[0m                            Traceback (most recent call last)",
      "\u001b[0;32m<ipython-input-39-1dbab17696fa>\u001b[0m in \u001b[0;36m<module>\u001b[0;34m\u001b[0m\n\u001b[1;32m     23\u001b[0m \u001b[0;34m\u001b[0m\u001b[0m\n\u001b[1;32m     24\u001b[0m \u001b[0;32mfrom\u001b[0m \u001b[0msklearn\u001b[0m\u001b[0;34m.\u001b[0m\u001b[0mmetrics\u001b[0m \u001b[0;32mimport\u001b[0m \u001b[0mmean_squared_error\u001b[0m\u001b[0;34m\u001b[0m\u001b[0;34m\u001b[0m\u001b[0m\n\u001b[0;32m---> 25\u001b[0;31m \u001b[0mhousing_predictions\u001b[0m \u001b[0;34m=\u001b[0m \u001b[0mmodel\u001b[0m\u001b[0;34m.\u001b[0m\u001b[0mpredict\u001b[0m\u001b[0;34m(\u001b[0m\u001b[0mtrain_full_prepared\u001b[0m\u001b[0;34m)\u001b[0m\u001b[0;34m\u001b[0m\u001b[0;34m\u001b[0m\u001b[0m\n\u001b[0m\u001b[1;32m     26\u001b[0m \u001b[0mxgb_mse\u001b[0m \u001b[0;34m=\u001b[0m \u001b[0mmean_squared_error\u001b[0m\u001b[0;34m(\u001b[0m\u001b[0mtrain_y\u001b[0m\u001b[0;34m,\u001b[0m \u001b[0mhousing_predictions\u001b[0m\u001b[0;34m)\u001b[0m\u001b[0;34m\u001b[0m\u001b[0;34m\u001b[0m\u001b[0m\n\u001b[1;32m     27\u001b[0m \u001b[0mxgb_rmse\u001b[0m \u001b[0;34m=\u001b[0m \u001b[0mnp\u001b[0m\u001b[0;34m.\u001b[0m\u001b[0msqrt\u001b[0m\u001b[0;34m(\u001b[0m\u001b[0mxgb_mse\u001b[0m\u001b[0;34m)\u001b[0m\u001b[0;34m\u001b[0m\u001b[0;34m\u001b[0m\u001b[0m\n",
      "\u001b[0;32m~/anaconda3/lib/python3.7/site-packages/xgboost/sklearn.py\u001b[0m in \u001b[0;36mpredict\u001b[0;34m(self, data, output_margin, ntree_limit, validate_features, base_margin)\u001b[0m\n\u001b[1;32m    599\u001b[0m         \u001b[0;32mif\u001b[0m \u001b[0mntree_limit\u001b[0m \u001b[0;32mis\u001b[0m \u001b[0;32mNone\u001b[0m\u001b[0;34m:\u001b[0m\u001b[0;34m\u001b[0m\u001b[0;34m\u001b[0m\u001b[0m\n\u001b[1;32m    600\u001b[0m             \u001b[0mntree_limit\u001b[0m \u001b[0;34m=\u001b[0m \u001b[0mgetattr\u001b[0m\u001b[0;34m(\u001b[0m\u001b[0mself\u001b[0m\u001b[0;34m,\u001b[0m \u001b[0;34m\"best_ntree_limit\"\u001b[0m\u001b[0;34m,\u001b[0m \u001b[0;36m0\u001b[0m\u001b[0;34m)\u001b[0m\u001b[0;34m\u001b[0m\u001b[0;34m\u001b[0m\u001b[0m\n\u001b[0;32m--> 601\u001b[0;31m         return self.get_booster().predict(test_dmatrix,\n\u001b[0m\u001b[1;32m    602\u001b[0m                                           \u001b[0moutput_margin\u001b[0m\u001b[0;34m=\u001b[0m\u001b[0moutput_margin\u001b[0m\u001b[0;34m,\u001b[0m\u001b[0;34m\u001b[0m\u001b[0;34m\u001b[0m\u001b[0m\n\u001b[1;32m    603\u001b[0m                                           \u001b[0mntree_limit\u001b[0m\u001b[0;34m=\u001b[0m\u001b[0mntree_limit\u001b[0m\u001b[0;34m,\u001b[0m\u001b[0;34m\u001b[0m\u001b[0;34m\u001b[0m\u001b[0m\n",
      "\u001b[0;32m~/anaconda3/lib/python3.7/site-packages/xgboost/sklearn.py\u001b[0m in \u001b[0;36mget_booster\u001b[0;34m(self)\u001b[0m\n\u001b[1;32m    260\u001b[0m         \u001b[0;32mif\u001b[0m \u001b[0;32mnot\u001b[0m \u001b[0mhasattr\u001b[0m\u001b[0;34m(\u001b[0m\u001b[0mself\u001b[0m\u001b[0;34m,\u001b[0m \u001b[0;34m'_Booster'\u001b[0m\u001b[0;34m)\u001b[0m\u001b[0;34m:\u001b[0m\u001b[0;34m\u001b[0m\u001b[0;34m\u001b[0m\u001b[0m\n\u001b[1;32m    261\u001b[0m             \u001b[0;32mfrom\u001b[0m \u001b[0msklearn\u001b[0m\u001b[0;34m.\u001b[0m\u001b[0mexceptions\u001b[0m \u001b[0;32mimport\u001b[0m \u001b[0mNotFittedError\u001b[0m\u001b[0;34m\u001b[0m\u001b[0;34m\u001b[0m\u001b[0m\n\u001b[0;32m--> 262\u001b[0;31m             \u001b[0;32mraise\u001b[0m \u001b[0mNotFittedError\u001b[0m\u001b[0;34m(\u001b[0m\u001b[0;34m'need to call fit or load_model beforehand'\u001b[0m\u001b[0;34m)\u001b[0m\u001b[0;34m\u001b[0m\u001b[0;34m\u001b[0m\u001b[0m\n\u001b[0m\u001b[1;32m    263\u001b[0m         \u001b[0;32mreturn\u001b[0m \u001b[0mself\u001b[0m\u001b[0;34m.\u001b[0m\u001b[0m_Booster\u001b[0m\u001b[0;34m\u001b[0m\u001b[0;34m\u001b[0m\u001b[0m\n\u001b[1;32m    264\u001b[0m \u001b[0;34m\u001b[0m\u001b[0m\n",
      "\u001b[0;31mNotFittedError\u001b[0m: need to call fit or load_model beforehand"
     ]
    }
   ],
   "source": [
    "from numpy import arange\n",
    "from sklearn.model_selection import GridSearchCV\n",
    "from sklearn.model_selection import RepeatedKFold\n",
    "from xgboost import XGBRegressor\n",
    "cv = RepeatedKFold(n_splits=10, n_repeats=2, random_state=1)\n",
    "model = XGBRegressor(learning_rate=0.005,n_estimators=10000,\n",
    "                                     max_depth=3, min_child_weight=0,\n",
    "                                     gamma=0, subsample=0.7,\n",
    "                                     colsample_bytree=0.7,\n",
    "                                     objective='reg:squarederror', nthread=-1,\n",
    "                                     scale_pos_weight=1, seed=42)\n",
    "\n",
    "grid = dict()\n",
    "grid['reg_alpha'] = np.arange(0.000005, 0.000025, 0.000005)\n",
    "grid['reg_lambda'] = np.arange(0.000025, 0.00006, 0.00001)\n",
    "# define search\n",
    "search = GridSearchCV(model, grid, scoring='neg_mean_squared_error', cv=cv, n_jobs=-1, verbose=3)\n",
    "# perform the search\n",
    "results = search.fit(train_full_prepared, train_y)\n",
    "# summarize\n",
    "# print('MAE: %.3f' % results.best_score_)\n",
    "# print('Config: %s' % results.best_params_)\n",
    "\n",
    "from sklearn.metrics import mean_squared_error\n",
    "housing_predictions = model.predict(train_full_prepared)\n",
    "xgb_mse = mean_squared_error(train_y, housing_predictions)\n",
    "xgb_rmse = np.sqrt(xgb_mse)\n",
    "print(xgb_rmse)\n"
   ]
  },
  {
   "cell_type": "code",
   "execution_count": 40,
   "metadata": {},
   "outputs": [
    {
     "name": "stdout",
     "output_type": "stream",
     "text": [
      "0.033912794442801646\n"
     ]
    }
   ],
   "source": [
    "from sklearn.metrics import mean_squared_error\n",
    "housing_predictions = results.predict(train_full_prepared)\n",
    "rgb_mse = mean_squared_error(train_y, housing_predictions)\n",
    "rgb_rmse = np.sqrt(rgb_mse)\n",
    "print(rgb_rmse)"
   ]
  },
  {
   "cell_type": "code",
   "execution_count": null,
   "metadata": {},
   "outputs": [],
   "source": [
    "#for tuning parameters\n",
    "#parameters_for_testing = {\n",
    "#    'colsample_bytree':[0.4,0.6,0.8],\n",
    "#    'gamma':[0,0.03,0.1,0.3],\n",
    "#    'min_child_weight':[1.5,6,10],\n",
    "#    'learning_rate':[0.1,0.07],\n",
    "#    'max_depth':[3,5],\n",
    "#    'n_estimators':[10000],\n",
    "#    'reg_alpha':[1e-5, 1e-2,  0.75],\n",
    "#    'reg_lambda':[1e-5, 1e-2, 0.45],\n",
    "#    'subsample':[0.6,0.95]  \n",
    "#}"
   ]
  },
  {
   "cell_type": "code",
   "execution_count": 45,
   "metadata": {},
   "outputs": [
    {
     "data": {
      "text/plain": [
       "9145.126966608408"
      ]
     },
     "execution_count": 45,
     "metadata": {},
     "output_type": "execute_result"
    }
   ],
   "source": [
    "from numpy import arange\n",
    "from sklearn.model_selection import GridSearchCV\n",
    "from sklearn.model_selection import RepeatedKFold\n",
    "from xgboost import XGBRegressor\n",
    "from sklearn.metrics import mean_squared_error\n",
    "\n",
    "model = XGBRegressor(learning_rate=0.01,n_estimators=3500,\n",
    "                                     max_depth=3, min_child_weight=0,\n",
    "                                     gamma=0, subsample=0.7,\n",
    "                                     colsample_bytree=0.7,\n",
    "                                     objective='reg:squarederror', nthread=-1,\n",
    "                                     scale_pos_weight=1, seed=42, reg_alpha=0.0006)\n",
    "\n",
    "results = model.fit(train_full_prepared, train_y)\n",
    "\n",
    "housing_predictions = model.predict(train_full_prepared)\n",
    "train_y_normal = np.e**train_y\n",
    "pred_normal = np.e**housing_predictions\n",
    "xgb_mse = mean_squared_error(train_y_normal, pred_normal)\n",
    "xgb_rmse = np.sqrt(xgb_mse)\n",
    "xgb_rmse"
   ]
  },
  {
   "cell_type": "code",
   "execution_count": 42,
   "metadata": {},
   "outputs": [
    {
     "name": "stdout",
     "output_type": "stream",
     "text": [
      "12.230625\n",
      "12.247694320220994\n"
     ]
    }
   ],
   "source": [
    "print(housing_predictions[0])\n",
    "print(train_y[0])"
   ]
  },
  {
   "cell_type": "code",
   "execution_count": 46,
   "metadata": {},
   "outputs": [
    {
     "data": {
      "text/plain": [
       "9145.126966608408"
      ]
     },
     "execution_count": 46,
     "metadata": {},
     "output_type": "execute_result"
    }
   ],
   "source": [
    "from sklearn.metrics import mean_squared_error\n",
    "train_y_normal = np.e**train_y\n",
    "pred_normal = np.e**housing_predictions\n",
    "\n",
    "forest_mse = mean_squared_error(train_y_normal, pred_normal)\n",
    "forest_rmse = np.sqrt(forest_mse)\n",
    "forest_rmse"
   ]
  },
  {
   "cell_type": "code",
   "execution_count": 31,
   "metadata": {},
   "outputs": [
    {
     "name": "stdout",
     "output_type": "stream",
     "text": [
      "208500.0\n",
      "204817.62\n"
     ]
    }
   ],
   "source": [
    "print(train_y_normal[0])\n",
    "print(pred_normal[0])"
   ]
  },
  {
   "cell_type": "code",
   "execution_count": 47,
   "metadata": {},
   "outputs": [],
   "source": [
    "# y_pred = forest_reg.predict(test_full_prepared)\n",
    "# y_pred = grid_search.predict(test_full_prepared)\n",
    "y_pred = results.predict(test_full_prepared)\n",
    "\n",
    "\n",
    "y_pred_normal = np.e**y_pred\n",
    "sub = pd.DataFrame({'Id': test['Id'], 'SalePrice': y_pred_normal})"
   ]
  },
  {
   "cell_type": "code",
   "execution_count": 48,
   "metadata": {},
   "outputs": [],
   "source": [
    "sub.to_csv(\"data/submission_script61_xgb_log1p_bool_att_2_04.csv\", index=False)"
   ]
  },
  {
   "cell_type": "code",
   "execution_count": 32,
   "metadata": {},
   "outputs": [
    {
     "data": {
      "text/plain": [
       "(1459, 2)"
      ]
     },
     "execution_count": 32,
     "metadata": {},
     "output_type": "execute_result"
    }
   ],
   "source": [
    "sub.shape"
   ]
  },
  {
   "cell_type": "code",
   "execution_count": null,
   "metadata": {},
   "outputs": [],
   "source": []
  }
 ],
 "metadata": {
  "kernelspec": {
   "display_name": "Python 3",
   "language": "python",
   "name": "python3"
  },
  "language_info": {
   "codemirror_mode": {
    "name": "ipython",
    "version": 3
   },
   "file_extension": ".py",
   "mimetype": "text/x-python",
   "name": "python",
   "nbconvert_exporter": "python",
   "pygments_lexer": "ipython3",
   "version": "3.7.4"
  }
 },
 "nbformat": 4,
 "nbformat_minor": 2
}
