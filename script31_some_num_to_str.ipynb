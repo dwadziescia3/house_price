{
 "cells": [
  {
   "cell_type": "code",
   "execution_count": 1,
   "metadata": {},
   "outputs": [],
   "source": [
    "import sys\n",
    "assert sys.version_info >= (3, 5)\n",
    "\n",
    "import sklearn\n",
    "assert sklearn.__version__ >= \"0.20\"\n",
    "\n",
    "import numpy as np\n",
    "import os\n",
    "\n",
    "import matplotlib as mpl\n",
    "import matplotlib.pyplot as plt\n",
    "mpl.rc('axes', labelsize=14)\n",
    "mpl.rc('xtick', labelsize=12)\n",
    "mpl.rc('ytick', labelsize=12)\n",
    "\n",
    "import warnings\n",
    "warnings.filterwarnings(action=\"ignore\", message=\"^internal gelsd\")"
   ]
  },
  {
   "cell_type": "code",
   "execution_count": 2,
   "metadata": {},
   "outputs": [],
   "source": [
    "import pandas as pd\n",
    "\n",
    "def load_housing_data(housing_path='data'):\n",
    "    train_csv_path = os.path.join(housing_path, \"train.csv\")\n",
    "    test_csv_path = os.path.join(housing_path, \"test.csv\")\n",
    "    return pd.read_csv(train_csv_path), pd.read_csv(test_csv_path)\n",
    "\n",
    "train, test = load_housing_data()"
   ]
  },
  {
   "cell_type": "code",
   "execution_count": 3,
   "metadata": {},
   "outputs": [],
   "source": [
    "train['TotalLivingSF'] = train['BsmtFinSF1'] + train['BsmtFinSF2'] + train['1stFlrSF'] + train['2ndFlrSF']\n",
    "test['TotalLivingSF'] = test['BsmtFinSF1'] + test['BsmtFinSF2'] + test['1stFlrSF'] + test['2ndFlrSF']\n",
    "\n",
    "train['TotalLivingSF'] = np.log(train['TotalLivingSF'])\n",
    "test['TotalLivingSF'] = np.log(test['TotalLivingSF'])"
   ]
  },
  {
   "cell_type": "code",
   "execution_count": 4,
   "metadata": {},
   "outputs": [],
   "source": [
    "train['TotalBthm'] = train['FullBath'] + 0.5*train['HalfBath'] + train['BsmtFullBath'] + 0.5*train['BsmtHalfBath']\n",
    "test['TotalBthm'] = test['FullBath'] + 0.5*test['HalfBath'] + test['BsmtFullBath'] + 0.5*test['BsmtHalfBath']\n",
    "\n",
    "train['TotalBthm'] = np.log(train['TotalBthm'])\n",
    "test['TotalBthm'] = np.log(test['TotalBthm'])"
   ]
  },
  {
   "cell_type": "code",
   "execution_count": 5,
   "metadata": {},
   "outputs": [
    {
     "data": {
      "text/plain": [
       "SalePrice        1.000000\n",
       "OverallQual      0.790982\n",
       "GrLivArea        0.708624\n",
       "TotalLivingSF    0.698827\n",
       "GarageCars       0.640409\n",
       "GarageArea       0.623431\n",
       "TotalBsmtSF      0.613581\n",
       "1stFlrSF         0.605852\n",
       "TotalBthm        0.603681\n",
       "FullBath         0.560664\n",
       "TotRmsAbvGrd     0.533723\n",
       "YearBuilt        0.522897\n",
       "YearRemodAdd     0.507101\n",
       "GarageYrBlt      0.486362\n",
       "MasVnrArea       0.477493\n",
       "Fireplaces       0.466929\n",
       "BsmtFinSF1       0.386420\n",
       "LotFrontage      0.351799\n",
       "WoodDeckSF       0.324413\n",
       "2ndFlrSF         0.319334\n",
       "OpenPorchSF      0.315856\n",
       "HalfBath         0.284108\n",
       "LotArea          0.263843\n",
       "BsmtFullBath     0.227122\n",
       "BsmtUnfSF        0.214479\n",
       "BedroomAbvGr     0.168213\n",
       "ScreenPorch      0.111447\n",
       "PoolArea         0.092404\n",
       "MoSold           0.046432\n",
       "3SsnPorch        0.044584\n",
       "BsmtFinSF2      -0.011378\n",
       "BsmtHalfBath    -0.016844\n",
       "MiscVal         -0.021190\n",
       "Id              -0.021917\n",
       "LowQualFinSF    -0.025606\n",
       "YrSold          -0.028923\n",
       "OverallCond     -0.077856\n",
       "MSSubClass      -0.084284\n",
       "EnclosedPorch   -0.128578\n",
       "KitchenAbvGr    -0.135907\n",
       "Name: SalePrice, dtype: float64"
      ]
     },
     "execution_count": 5,
     "metadata": {},
     "output_type": "execute_result"
    }
   ],
   "source": [
    "corr_matrix = train.corr()\n",
    "corr_matrix[\"SalePrice\"].sort_values(ascending=False)"
   ]
  },
  {
   "cell_type": "code",
   "execution_count": 6,
   "metadata": {},
   "outputs": [],
   "source": [
    "train['MSSubClass'] = train['MSSubClass'].apply(str)\n",
    "train['YrSold'] = train['YrSold'].astype(str)\n",
    "train['MoSold'] = train['MoSold'].astype(str)\n",
    "\n",
    "test['MSSubClass'] = test['MSSubClass'].apply(str)\n",
    "test['YrSold'] = test['YrSold'].astype(str)\n",
    "test['MoSold'] = test['MoSold'].astype(str)"
   ]
  },
  {
   "cell_type": "code",
   "execution_count": 7,
   "metadata": {},
   "outputs": [
    {
     "name": "stdout",
     "output_type": "stream",
     "text": [
      "['LotFrontage', 'LotArea', 'OverallQual', 'OverallCond', 'YearBuilt', 'YearRemodAdd', 'MasVnrArea', 'BsmtFinSF1', 'BsmtUnfSF', 'TotalBsmtSF', '1stFlrSF', '2ndFlrSF', 'GrLivArea', 'BsmtFullBath', 'FullBath', 'HalfBath', 'BedroomAbvGr', 'KitchenAbvGr', 'TotRmsAbvGrd', 'Fireplaces', 'GarageYrBlt', 'GarageCars', 'GarageArea', 'WoodDeckSF', 'OpenPorchSF', 'EnclosedPorch', 'TotalLivingSF', 'TotalBthm']\n"
     ]
    }
   ],
   "source": [
    "num_att = list(train.select_dtypes([np.number]).columns)\n",
    "\n",
    "# att = ['OverallQual', 'GrLivArea']\n",
    "\n",
    "# to_remove = ['BsmtFinSF2', 'MoSold', '3SsnPorch', 'BsmtHalfBath', 'MiscVal', 'LowQualFinSF', 'YrSold',\n",
    "#             'PoolArea', 'OverallCond', 'MSSubClass', 'ScreenPorch']\n",
    "\n",
    "to_remove = ['PoolArea', 'BsmtHalfBath', 'MiscVal', 'LowQualFinSF', 'ScreenPorch', '3SsnPorch',\n",
    "            'BsmtFinSF2', 'MoSold', 'YrSold',\n",
    "            'GarageArea', 'TotalBsmtSF']\n",
    "\n",
    "to_remove = ['PoolArea', 'BsmtHalfBath', 'MiscVal', 'LowQualFinSF', 'ScreenPorch', '3SsnPorch',\n",
    "            'BsmtFinSF2']\n",
    "\n",
    "for t in to_remove:\n",
    "    num_att.remove(t)\n",
    "num_att.remove('Id')\n",
    "num_att.remove('SalePrice')\n",
    "\n",
    "# num_att = ['OverallQual', 'GrLivArea', 'GarageCars', '1stFlrSF', 'FullBath', 'YearBuilt']\n",
    "\n",
    "print(num_att)"
   ]
  },
  {
   "cell_type": "code",
   "execution_count": 8,
   "metadata": {},
   "outputs": [
    {
     "name": "stdout",
     "output_type": "stream",
     "text": [
      "['Neighborhood', 'BldgType', 'Heating', 'HeatingQC', 'CentralAir', 'Street', 'LotShape', 'LandContour', 'LotConfig', 'LandSlope', 'Condition1', 'HouseStyle', 'RoofStyle', 'ExterQual', 'ExterCond', 'Foundation', 'PavedDrive', 'SaleCondition', 'MoSold', 'YrSold', 'MSSubClass']\n"
     ]
    }
   ],
   "source": [
    "cat_att = ['BldgType', 'CentralAir', 'Foundation', \n",
    "           'PavedDrive', 'SaleCondition']\n",
    "cat_att = ['Neighborhood', 'BldgType', 'Heating', 'HeatingQC', 'CentralAir', \n",
    "           'Street', 'LotShape', 'LandContour', 'LotConfig',\n",
    "           'LandSlope', 'Condition1', 'HouseStyle', 'RoofStyle', \n",
    "           'ExterQual', 'ExterCond', 'Foundation', 'PavedDrive', 'SaleCondition'\n",
    "          , 'MoSold', 'YrSold', 'MSSubClass']\n",
    "\n",
    "# TO ADD = Exterior1st, KitchenQual, Functional, SaleType, Alley, Condition2\n",
    "\n",
    "# cat_att = ['Neighborhood', 'BldgType']\n",
    "print(cat_att)"
   ]
  },
  {
   "cell_type": "code",
   "execution_count": 9,
   "metadata": {},
   "outputs": [],
   "source": [
    "for a in num_att:\n",
    "    median = train[a].median()\n",
    "    train[a].fillna(median, inplace=True)\n",
    "    \n",
    "#     median = test[a].median()\n",
    "    test[a].fillna(median, inplace=True)"
   ]
  },
  {
   "cell_type": "code",
   "execution_count": 10,
   "metadata": {},
   "outputs": [
    {
     "name": "stderr",
     "output_type": "stream",
     "text": [
      "/home/marek/anaconda3/lib/python3.7/site-packages/pandas/core/series.py:853: RuntimeWarning: divide by zero encountered in log\n",
      "  result = getattr(ufunc, method)(*inputs, **kwargs)\n"
     ]
    }
   ],
   "source": [
    "import seaborn as sns\n",
    "from scipy.stats import norm\n",
    "from scipy import stats\n",
    "\n",
    "train['SalePrice'] = np.log(train['SalePrice'])\n",
    "train_y = train[\"SalePrice\"].copy()\n",
    "\n",
    "train['GrLivArea'] = np.log(train['GrLivArea'])\n",
    "test['GrLivArea'] = np.log(test['GrLivArea'])\n",
    "\n",
    "train['HasBsmt'] = pd.Series(len(train['TotalBsmtSF']), index=train.index)\n",
    "train['HasBsmt'] = 0 \n",
    "train.loc[train['TotalBsmtSF']>0,'HasBsmt'] = 1\n",
    "train.loc[train['HasBsmt']==1,'TotalBsmtSF'] = np.log(train['TotalBsmtSF'])\n",
    "test['HasBsmt'] = pd.Series(len(test['TotalBsmtSF']), index=test.index)\n",
    "test['HasBsmt'] = 0 \n",
    "test.loc[test['TotalBsmtSF']>0,'HasBsmt'] = 1\n",
    "test.loc[test['HasBsmt']==1,'TotalBsmtSF'] = np.log(test['TotalBsmtSF'])\n",
    "\n",
    "train['1stFlrSF'] = np.log(train['1stFlrSF'])\n",
    "test['1stFlrSF'] = np.log(test['1stFlrSF'])\n",
    "\n",
    "train['HasBsmtFin'] = pd.Series(len(train['BsmtFinSF1']), index=train.index)\n",
    "train['HasBsmtFin'] = 0 \n",
    "train.loc[train['BsmtFinSF1']>0,'HasBsmtFin'] = 1\n",
    "train.loc[train['HasBsmtFin']==1,'BsmtFinSF1'] = np.log(train['BsmtFinSF1'])\n",
    "test['HasBsmtFin'] = pd.Series(len(test['BsmtFinSF1']), index=test.index)\n",
    "test['HasBsmtFin'] = 0 \n",
    "test.loc[test['BsmtFinSF1']>0,'HasBsmtFin'] = 1\n",
    "test.loc[test['HasBsmtFin']==1,'BsmtFinSF1'] = np.log(test['BsmtFinSF1'])\n",
    "\n",
    "train['HasWoodDeck'] = pd.Series(len(train['WoodDeckSF']), index=train.index)\n",
    "train['HasWoodDeck'] = 0 \n",
    "train.loc[train['WoodDeckSF']>0,'HasWoodDeck'] = 1\n",
    "train.loc[train['HasWoodDeck']==1,'WoodDeckSF'] = np.log(train['WoodDeckSF'])\n",
    "test['HasWoodDeck'] = pd.Series(len(test['WoodDeckSF']), index=test.index)\n",
    "test['HasWoodDeck'] = 0 \n",
    "test.loc[test['WoodDeckSF']>0,'HasWoodDeck'] = 1\n",
    "test.loc[test['HasWoodDeck']==1,'WoodDeckSF'] = np.log(test['WoodDeckSF'])\n"
   ]
  },
  {
   "cell_type": "code",
   "execution_count": 11,
   "metadata": {},
   "outputs": [
    {
     "data": {
      "text/plain": [
       "SalePrice        1.000000\n",
       "OverallQual      0.817184\n",
       "TotalLivingSF    0.741062\n",
       "GrLivArea        0.730255\n",
       "GarageCars       0.680625\n",
       "TotalBthm        0.668685\n",
       "GarageArea       0.650888\n",
       "1stFlrSF         0.608947\n",
       "FullBath         0.594771\n",
       "YearBuilt        0.586570\n",
       "YearRemodAdd     0.565608\n",
       "TotRmsAbvGrd     0.534422\n",
       "GarageYrBlt      0.495794\n",
       "Fireplaces       0.489449\n",
       "MasVnrArea       0.426775\n",
       "TotalBsmtSF      0.373009\n",
       "WoodDeckSF       0.343269\n",
       "LotFrontage      0.335292\n",
       "OpenPorchSF      0.321053\n",
       "HasWoodDeck      0.320349\n",
       "2ndFlrSF         0.319300\n",
       "HalfBath         0.313982\n",
       "LotArea          0.257320\n",
       "BsmtFullBath     0.236224\n",
       "BsmtUnfSF        0.221985\n",
       "BedroomAbvGr     0.209044\n",
       "BsmtFinSF1       0.207962\n",
       "HasBsmt          0.199634\n",
       "HasBsmtFin       0.162231\n",
       "ScreenPorch      0.121208\n",
       "PoolArea         0.069798\n",
       "3SsnPorch        0.054900\n",
       "BsmtFinSF2       0.004832\n",
       "BsmtHalfBath    -0.005149\n",
       "Id              -0.017942\n",
       "MiscVal         -0.020021\n",
       "OverallCond     -0.036868\n",
       "LowQualFinSF    -0.037963\n",
       "KitchenAbvGr    -0.147548\n",
       "EnclosedPorch   -0.149050\n",
       "Name: SalePrice, dtype: float64"
      ]
     },
     "execution_count": 11,
     "metadata": {},
     "output_type": "execute_result"
    }
   ],
   "source": [
    "corr_matrix = train.corr()\n",
    "corr_matrix[\"SalePrice\"].sort_values(ascending=False)"
   ]
  },
  {
   "cell_type": "code",
   "execution_count": 12,
   "metadata": {},
   "outputs": [
    {
     "name": "stdout",
     "output_type": "stream",
     "text": [
      "<class 'pandas.core.frame.DataFrame'>\n",
      "RangeIndex: 1460 entries, 0 to 1459\n",
      "Data columns (total 49 columns):\n",
      "LotFrontage      1460 non-null float64\n",
      "LotArea          1460 non-null int64\n",
      "OverallQual      1460 non-null int64\n",
      "OverallCond      1460 non-null int64\n",
      "YearBuilt        1460 non-null int64\n",
      "YearRemodAdd     1460 non-null int64\n",
      "MasVnrArea       1460 non-null float64\n",
      "BsmtFinSF1       1460 non-null float64\n",
      "BsmtUnfSF        1460 non-null int64\n",
      "TotalBsmtSF      1460 non-null float64\n",
      "1stFlrSF         1460 non-null float64\n",
      "2ndFlrSF         1460 non-null int64\n",
      "GrLivArea        1460 non-null float64\n",
      "BsmtFullBath     1460 non-null int64\n",
      "FullBath         1460 non-null int64\n",
      "HalfBath         1460 non-null int64\n",
      "BedroomAbvGr     1460 non-null int64\n",
      "KitchenAbvGr     1460 non-null int64\n",
      "TotRmsAbvGrd     1460 non-null int64\n",
      "Fireplaces       1460 non-null int64\n",
      "GarageYrBlt      1460 non-null float64\n",
      "GarageCars       1460 non-null int64\n",
      "GarageArea       1460 non-null int64\n",
      "WoodDeckSF       1460 non-null float64\n",
      "OpenPorchSF      1460 non-null int64\n",
      "EnclosedPorch    1460 non-null int64\n",
      "TotalLivingSF    1460 non-null float64\n",
      "TotalBthm        1460 non-null float64\n",
      "Neighborhood     1460 non-null object\n",
      "BldgType         1460 non-null object\n",
      "Heating          1460 non-null object\n",
      "HeatingQC        1460 non-null object\n",
      "CentralAir       1460 non-null object\n",
      "Street           1460 non-null object\n",
      "LotShape         1460 non-null object\n",
      "LandContour      1460 non-null object\n",
      "LotConfig        1460 non-null object\n",
      "LandSlope        1460 non-null object\n",
      "Condition1       1460 non-null object\n",
      "HouseStyle       1460 non-null object\n",
      "RoofStyle        1460 non-null object\n",
      "ExterQual        1460 non-null object\n",
      "ExterCond        1460 non-null object\n",
      "Foundation       1460 non-null object\n",
      "PavedDrive       1460 non-null object\n",
      "SaleCondition    1460 non-null object\n",
      "MoSold           1460 non-null object\n",
      "YrSold           1460 non-null object\n",
      "MSSubClass       1460 non-null object\n",
      "dtypes: float64(10), int64(18), object(21)\n",
      "memory usage: 559.0+ KB\n",
      "<class 'pandas.core.frame.DataFrame'>\n",
      "RangeIndex: 1459 entries, 0 to 1458\n",
      "Data columns (total 49 columns):\n",
      "LotFrontage      1459 non-null float64\n",
      "LotArea          1459 non-null int64\n",
      "OverallQual      1459 non-null int64\n",
      "OverallCond      1459 non-null int64\n",
      "YearBuilt        1459 non-null int64\n",
      "YearRemodAdd     1459 non-null int64\n",
      "MasVnrArea       1459 non-null float64\n",
      "BsmtFinSF1       1459 non-null float64\n",
      "BsmtUnfSF        1459 non-null float64\n",
      "TotalBsmtSF      1459 non-null float64\n",
      "1stFlrSF         1459 non-null float64\n",
      "2ndFlrSF         1459 non-null int64\n",
      "GrLivArea        1459 non-null float64\n",
      "BsmtFullBath     1459 non-null float64\n",
      "FullBath         1459 non-null int64\n",
      "HalfBath         1459 non-null int64\n",
      "BedroomAbvGr     1459 non-null int64\n",
      "KitchenAbvGr     1459 non-null int64\n",
      "TotRmsAbvGrd     1459 non-null int64\n",
      "Fireplaces       1459 non-null int64\n",
      "GarageYrBlt      1459 non-null float64\n",
      "GarageCars       1459 non-null float64\n",
      "GarageArea       1459 non-null float64\n",
      "WoodDeckSF       1459 non-null float64\n",
      "OpenPorchSF      1459 non-null int64\n",
      "EnclosedPorch    1459 non-null int64\n",
      "TotalLivingSF    1459 non-null float64\n",
      "TotalBthm        1459 non-null float64\n",
      "Neighborhood     1459 non-null object\n",
      "BldgType         1459 non-null object\n",
      "Heating          1459 non-null object\n",
      "HeatingQC        1459 non-null object\n",
      "CentralAir       1459 non-null object\n",
      "Street           1459 non-null object\n",
      "LotShape         1459 non-null object\n",
      "LandContour      1459 non-null object\n",
      "LotConfig        1459 non-null object\n",
      "LandSlope        1459 non-null object\n",
      "Condition1       1459 non-null object\n",
      "HouseStyle       1459 non-null object\n",
      "RoofStyle        1459 non-null object\n",
      "ExterQual        1459 non-null object\n",
      "ExterCond        1459 non-null object\n",
      "Foundation       1459 non-null object\n",
      "PavedDrive       1459 non-null object\n",
      "SaleCondition    1459 non-null object\n",
      "MoSold           1459 non-null object\n",
      "YrSold           1459 non-null object\n",
      "MSSubClass       1459 non-null object\n",
      "dtypes: float64(14), int64(14), object(21)\n",
      "memory usage: 558.6+ KB\n",
      "<class 'pandas.core.frame.DataFrame'>\n",
      "Int64Index: 2919 entries, 0 to 1458\n",
      "Data columns (total 49 columns):\n",
      "LotFrontage      2919 non-null float64\n",
      "LotArea          2919 non-null int64\n",
      "OverallQual      2919 non-null int64\n",
      "OverallCond      2919 non-null int64\n",
      "YearBuilt        2919 non-null int64\n",
      "YearRemodAdd     2919 non-null int64\n",
      "MasVnrArea       2919 non-null float64\n",
      "BsmtFinSF1       2919 non-null float64\n",
      "BsmtUnfSF        2919 non-null float64\n",
      "TotalBsmtSF      2919 non-null float64\n",
      "1stFlrSF         2919 non-null float64\n",
      "2ndFlrSF         2919 non-null int64\n",
      "GrLivArea        2919 non-null float64\n",
      "BsmtFullBath     2919 non-null float64\n",
      "FullBath         2919 non-null int64\n",
      "HalfBath         2919 non-null int64\n",
      "BedroomAbvGr     2919 non-null int64\n",
      "KitchenAbvGr     2919 non-null int64\n",
      "TotRmsAbvGrd     2919 non-null int64\n",
      "Fireplaces       2919 non-null int64\n",
      "GarageYrBlt      2919 non-null float64\n",
      "GarageCars       2919 non-null float64\n",
      "GarageArea       2919 non-null float64\n",
      "WoodDeckSF       2919 non-null float64\n",
      "OpenPorchSF      2919 non-null int64\n",
      "EnclosedPorch    2919 non-null int64\n",
      "TotalLivingSF    2919 non-null float64\n",
      "TotalBthm        2919 non-null float64\n",
      "Neighborhood     2919 non-null object\n",
      "BldgType         2919 non-null object\n",
      "Heating          2919 non-null object\n",
      "HeatingQC        2919 non-null object\n",
      "CentralAir       2919 non-null object\n",
      "Street           2919 non-null object\n",
      "LotShape         2919 non-null object\n",
      "LandContour      2919 non-null object\n",
      "LotConfig        2919 non-null object\n",
      "LandSlope        2919 non-null object\n",
      "Condition1       2919 non-null object\n",
      "HouseStyle       2919 non-null object\n",
      "RoofStyle        2919 non-null object\n",
      "ExterQual        2919 non-null object\n",
      "ExterCond        2919 non-null object\n",
      "Foundation       2919 non-null object\n",
      "PavedDrive       2919 non-null object\n",
      "SaleCondition    2919 non-null object\n",
      "MoSold           2919 non-null object\n",
      "YrSold           2919 non-null object\n",
      "MSSubClass       2919 non-null object\n",
      "dtypes: float64(14), int64(14), object(21)\n",
      "memory usage: 1.1+ MB\n"
     ]
    }
   ],
   "source": [
    "train2 = train[num_att + cat_att]\n",
    "train2.info()\n",
    "test2 = test[num_att + cat_att]\n",
    "test2.info()\n",
    "\n",
    "merged_df = pd.concat([train2, test2])\n",
    "merged_df.info()"
   ]
  },
  {
   "cell_type": "code",
   "execution_count": 13,
   "metadata": {},
   "outputs": [],
   "source": [
    "from sklearn.pipeline import Pipeline\n",
    "from sklearn.preprocessing import StandardScaler\n",
    "from sklearn.impute import SimpleImputer\n",
    "from sklearn.compose import ColumnTransformer\n",
    "from sklearn.preprocessing import OneHotEncoder\n",
    "\n",
    "num_pipeline = Pipeline([\n",
    "        ('imputer', SimpleImputer(strategy=\"median\")),\n",
    "        ('std_scaler', StandardScaler()),\n",
    "    ])\n",
    "train_prepared = num_pipeline.fit_transform(train[num_att])\n",
    "test_prepared  = num_pipeline.transform(test[num_att])\n",
    "\n",
    "\n",
    "full_pipeline = ColumnTransformer([\n",
    "        (\"num\", num_pipeline, num_att),\n",
    "        (\"cat\", OneHotEncoder(), cat_att),\n",
    "    ])\n",
    "\n",
    "train_test_full_prepared = full_pipeline.fit_transform(merged_df)\n",
    "train_full_prepared = full_pipeline.transform(train2)\n",
    "test_full_prepared = full_pipeline.transform(test2)\n"
   ]
  },
  {
   "cell_type": "code",
   "execution_count": 14,
   "metadata": {},
   "outputs": [
    {
     "name": "stdout",
     "output_type": "stream",
     "text": [
      "(1460, 28)\n",
      "(1459, 28)\n",
      "(1460, 169)\n",
      "(1459, 169)\n"
     ]
    }
   ],
   "source": [
    "print(train_prepared.shape)\n",
    "print(test_prepared.shape)\n",
    "print(train_full_prepared.shape)\n",
    "print(test_full_prepared.shape)"
   ]
  },
  {
   "cell_type": "code",
   "execution_count": 15,
   "metadata": {},
   "outputs": [
    {
     "data": {
      "text/plain": [
       "0.0010585272760561223"
      ]
     },
     "execution_count": 15,
     "metadata": {},
     "output_type": "execute_result"
    }
   ],
   "source": [
    "from sklearn.metrics import mean_squared_error\n",
    "from sklearn.ensemble import RandomForestRegressor\n",
    "\n",
    "forest_reg = RandomForestRegressor(bootstrap=False, n_estimators=350, max_features=32, random_state=42)\n",
    "forest_reg.fit(train_full_prepared, train_y)\n",
    "\n",
    "housing_predictions = forest_reg.predict(train_full_prepared)\n",
    "\n",
    "forest_mse = mean_squared_error(train_y, housing_predictions)\n",
    "forest_rmse = np.sqrt(forest_mse)\n",
    "forest_rmse"
   ]
  },
  {
   "cell_type": "code",
   "execution_count": 16,
   "metadata": {},
   "outputs": [
    {
     "name": "stdout",
     "output_type": "stream",
     "text": [
      "12.247694320220951\n",
      "12.247694320220994\n"
     ]
    }
   ],
   "source": [
    "print(housing_predictions[0])\n",
    "print(train_y[0])"
   ]
  },
  {
   "cell_type": "code",
   "execution_count": 17,
   "metadata": {},
   "outputs": [
    {
     "data": {
      "text/plain": [
       "153.62512485857778"
      ]
     },
     "execution_count": 17,
     "metadata": {},
     "output_type": "execute_result"
    }
   ],
   "source": [
    "train_y_normal = np.e**train_y\n",
    "pred_normal = np.e**housing_predictions\n",
    "\n",
    "forest_mse = mean_squared_error(train_y_normal, pred_normal)\n",
    "forest_rmse = np.sqrt(forest_mse)\n",
    "forest_rmse"
   ]
  },
  {
   "cell_type": "code",
   "execution_count": 18,
   "metadata": {},
   "outputs": [
    {
     "name": "stdout",
     "output_type": "stream",
     "text": [
      "208500.0\n",
      "208499.9999999911\n"
     ]
    }
   ],
   "source": [
    "print(train_y_normal[0])\n",
    "print(pred_normal[0])"
   ]
  },
  {
   "cell_type": "code",
   "execution_count": 19,
   "metadata": {
    "scrolled": false
   },
   "outputs": [
    {
     "data": {
      "text/plain": [
       "[(0.17165062284247423, 'OverallQual'),\n",
       " (0.12243428163748775, 'TotalLivingSF'),\n",
       " (0.10652061868102344, 'GrLivArea'),\n",
       " (0.07386382484376063, 'YearBuilt'),\n",
       " (0.045896432976724355, 'TA'),\n",
       " (0.04074335735051051, 'TotalBthm'),\n",
       " (0.04013810031210792, 'TotalBsmtSF'),\n",
       " (0.039388626374676466, 'GarageArea'),\n",
       " (0.03932470997601245, 'GarageCars'),\n",
       " (0.037229133863270016, '1stFlrSF'),\n",
       " (0.02597715740889589, 'GarageYrBlt'),\n",
       " (0.024326094204899864, 'FullBath'),\n",
       " (0.018073382096580812, 'Fireplaces'),\n",
       " (0.016141880687307528, 'LotArea'),\n",
       " (0.015659166343435803, 'YearRemodAdd'),\n",
       " (0.011861072588633123, 'BsmtFinSF1'),\n",
       " (0.011772459041788703, '2ndFlrSF'),\n",
       " (0.009979434370559672, 'OverallCond'),\n",
       " (0.009381700352678386, 'LotFrontage'),\n",
       " (0.008988483430512879, 'Y'),\n",
       " (0.008047860810650787, 'BsmtUnfSF'),\n",
       " (0.007858956588449862, 'N'),\n",
       " (0.007670356541884721, 'Gd'),\n",
       " (0.007625417779627717, 'PConc'),\n",
       " (0.007300706568555277, 'TotRmsAbvGrd'),\n",
       " (0.0058434255528495415, 'OpenPorchSF'),\n",
       " (0.004892580106427971, 'MasVnrArea'),\n",
       " (0.003936724841251942, 'Ex'),\n",
       " (0.0034213429918997684, 'BedroomAbvGr'),\n",
       " (0.0032556882268868063, 'WoodDeckSF'),\n",
       " (0.0032272265153298636, '60'),\n",
       " (0.002912514378797385, 'Ex'),\n",
       " (0.001830290644770131, 'EnclosedPorch'),\n",
       " (0.0018161403607361436, 'KitchenAbvGr'),\n",
       " (0.0016947963694061274, 'Crawfor'),\n",
       " (0.001678536962821313, '30'),\n",
       " (0.0016530882515434536, 'HalfBath'),\n",
       " (0.001592113173947494, 'Fa'),\n",
       " (0.0014942711170792232, 'OldTown'),\n",
       " (0.00146011216016261, 'Edwards'),\n",
       " (0.0013997789958501235, 'Fa'),\n",
       " (0.0013909764094116037, '1Fam'),\n",
       " (0.0013403737857551402, 'N'),\n",
       " (0.0012994270362708213, 'Reg'),\n",
       " (0.0012530612892168078, 'Normal'),\n",
       " (0.001228463321184503, 'NridgHt'),\n",
       " (0.0012248172779963345, 'Abnorml'),\n",
       " (0.001213740596007783, 'Hip'),\n",
       " (0.001126903944471694, 'BsmtFullBath'),\n",
       " (0.0009972525570532181, '1Story'),\n",
       " (0.0009564178604752541, 'IR1'),\n",
       " (0.0009118002566806189, 'Y'),\n",
       " (0.0009054250405998971, '20'),\n",
       " (0.0008909333261803281, 'Bnk'),\n",
       " (0.0008550532564962768, 'Gable'),\n",
       " (0.0008326909165223832, 'CBlock'),\n",
       " (0.0008125100875904165, 'Norm'),\n",
       " (0.0008045623650613467, 'TA'),\n",
       " (0.0008014136847133519, 'Lvl'),\n",
       " (0.0007986795280433108, '2Story'),\n",
       " (0.0007921343370606014, 'TA'),\n",
       " (0.0007658273990616086, '2009'),\n",
       " (0.0007589529555099019, '12'),\n",
       " (0.0007520824614660761, 'IDOTRR'),\n",
       " (0.000732061216296187, '160'),\n",
       " (0.00068580472184687, 'Gtl'),\n",
       " (0.000668064847885549, 'Partial'),\n",
       " (0.0006392299041877409, '2006'),\n",
       " (0.0006386562558857786, 'NAmes'),\n",
       " (0.0006331285567125994, '7'),\n",
       " (0.0006247926831012912, '11'),\n",
       " (0.0006188919254717448, 'Inside'),\n",
       " (0.0005990753994089727, '2007'),\n",
       " (0.0005647331067752914, '2008'),\n",
       " (0.000556239013468005, 'BrkTil'),\n",
       " (0.0005524009224563684, 'Fa'),\n",
       " (0.0005358457457771763, 'Family'),\n",
       " (0.000514812200017095, '4'),\n",
       " (0.000511854528821633, 'Artery'),\n",
       " (0.0005114694458731253, '6'),\n",
       " (0.0004969313124004883, 'Corner'),\n",
       " (0.0004963514607080534, '8'),\n",
       " (0.0004918573591254753, 'Gd'),\n",
       " (0.00048617900824708275, '5'),\n",
       " (0.0004800768057409415, 'Sawyer'),\n",
       " (0.0004749974913213889, '1.5Fin'),\n",
       " (0.0004713721453869938, '3'),\n",
       " (0.00047109906432261846, 'Mod'),\n",
       " (0.0004615073192945845, '2010'),\n",
       " (0.0004570408565719469, '10'),\n",
       " (0.0004340495720680692, '50'),\n",
       " (0.00040233401875410223, 'Feedr'),\n",
       " (0.0003878283538051538, 'Gd'),\n",
       " (0.0003853035287072509, '90'),\n",
       " (0.00038372634953823855, 'HLS'),\n",
       " (0.0003569888900256276, 'ClearCr'),\n",
       " (0.00035607328655548826, '1'),\n",
       " (0.0003497081112429809, 'Flat'),\n",
       " (0.0003443814378916273, 'Low'),\n",
       " (0.00034321842427052307, '70'),\n",
       " (0.0003427039458635259, 'MeadowV'),\n",
       " (0.00034187983020641995, 'Duplex'),\n",
       " (0.0003264567198530011, 'CulDSac'),\n",
       " (0.00031806191293695804, 'NoRidge'),\n",
       " (0.00031632712115232475, 'Gambrel'),\n",
       " (0.00030124966973021526, 'CollgCr'),\n",
       " (0.0002963309006669486, 'Somerst'),\n",
       " (0.0002791837875623769, 'Alloca'),\n",
       " (0.0002704916510303475, 'BrkSide'),\n",
       " (0.0002637979747054558, '2'),\n",
       " (0.0002544113399453164, 'NWAmes'),\n",
       " (0.0002515351956293091, 'GasA'),\n",
       " (0.0002486115044674801, 'P'),\n",
       " (0.00024270731785314495, 'Twnhs'),\n",
       " (0.00024242971187427562, '9'),\n",
       " (0.00021424681810316003, 'IR2'),\n",
       " (0.00019454425335623337, '80'),\n",
       " (0.00019021697476239834, 'TwnhsE'),\n",
       " (0.00018889996600961182, 'Grav'),\n",
       " (0.00018516738140333993, 'Slab'),\n",
       " (0.00018344594371355873, 'StoneBr'),\n",
       " (0.00017995257805163267, 'FR2'),\n",
       " (0.00017704833950276067, 'SLvl'),\n",
       " (0.00017460027754785345, 'Grvl'),\n",
       " (0.0001730498594710679, '120'),\n",
       " (0.00017290144780749168, 'SawyerW'),\n",
       " (0.00016956848370527133, 'Gilbert'),\n",
       " (0.0001662258674083304, 'Sev'),\n",
       " (0.0001658408220935367, 'BrDale'),\n",
       " (0.00016163835998570712, 'Mitchel'),\n",
       " (0.00015422948342551268, 'Pave'),\n",
       " (0.0001506419278446828, 'PosN'),\n",
       " (0.00014868494094273082, 'SWISU'),\n",
       " (0.0001416222231812731, '190'),\n",
       " (0.00013673551784846295, 'GasW'),\n",
       " (0.00011607442754278942, '2fmCon'),\n",
       " (0.00010811599690880273, 'RRAn'),\n",
       " (0.00010099514812990657, 'Timber'),\n",
       " (9.647766700803281e-05, '75'),\n",
       " (9.340352927666624e-05, '2.5Unf'),\n",
       " (9.039948157238996e-05, 'IR3'),\n",
       " (8.555373376900739e-05, 'RRAe'),\n",
       " (8.123256909480874e-05, 'Veenker'),\n",
       " (7.037364220674427e-05, '2.5Fin'),\n",
       " (7.036669163190348e-05, 'SFoyer'),\n",
       " (6.345423953483464e-05, '40'),\n",
       " (6.319890130918518e-05, '180'),\n",
       " (5.974223654946319e-05, '1.5Unf'),\n",
       " (4.715490523470066e-05, '45'),\n",
       " (4.483625702530194e-05, 'PosA'),\n",
       " (4.464047514163239e-05, 'Blmngtn'),\n",
       " (3.22067358767782e-05, 'Stone'),\n",
       " (3.146641821297229e-05, 'Wall'),\n",
       " (2.996334170557878e-05, 'NPkVill'),\n",
       " (2.3224871922052012e-05, '85'),\n",
       " (1.8136616844435936e-05, 'Po'),\n",
       " (1.7748700906914028e-05, 'Ex'),\n",
       " (1.4931854269740311e-05, 'FR3'),\n",
       " (1.4104997170099623e-05, 'OthW'),\n",
       " (1.409683862822889e-05, 'AdjLand'),\n",
       " (1.2521904436830456e-05, 'Mansard'),\n",
       " (9.939938275019065e-06, 'Wood'),\n",
       " (9.636461539082781e-06, 'Shed'),\n",
       " (7.986913286916682e-06, 'RRNn'),\n",
       " (3.7044909467336104e-06, 'Blueste'),\n",
       " (2.4366752535411145e-06, 'Floor'),\n",
       " (1.3301402022019931e-06, 'RRNe'),\n",
       " (1.049863883062498e-06, 'Po'),\n",
       " (0.0, '150')]"
      ]
     },
     "execution_count": 19,
     "metadata": {},
     "output_type": "execute_result"
    }
   ],
   "source": [
    "# forest_reg.feature_importances_\n",
    "\n",
    "cat_encoder = full_pipeline.named_transformers_[\"cat\"]\n",
    "cat_one_hot_attribs = []\n",
    "for a in cat_encoder.categories_:\n",
    "    for b in a:\n",
    "        cat_one_hot_attribs.append(b)\n",
    "# print(cat_one_hot_attribs)\n",
    "attributes = num_att + cat_one_hot_attribs\n",
    "sorted(zip(forest_reg.feature_importances_, attributes), reverse=True)"
   ]
  },
  {
   "cell_type": "code",
   "execution_count": 20,
   "metadata": {},
   "outputs": [
    {
     "name": "stdout",
     "output_type": "stream",
     "text": [
      "scores: [0.12616554 0.1202385  0.13232691 0.16505326 0.15857345 0.11361385\n",
      " 0.13296055 0.11908776 0.13273273 0.13271584]\n",
      "mean: 0.13334683943625408\n",
      "std: 0.015683608249294528\n",
      "count    10.000000\n",
      "mean      0.133347\n",
      "std       0.016532\n",
      "min       0.113614\n",
      "25%       0.121720\n",
      "50%       0.132521\n",
      "75%       0.132904\n",
      "max       0.165053\n",
      "dtype: float64\n"
     ]
    }
   ],
   "source": [
    "from sklearn.model_selection import cross_val_score\n",
    "def display_scores(scores):\n",
    "    print(\"scores:\", scores)\n",
    "    print(\"mean:\", scores.mean())\n",
    "    print(\"std:\", scores.std())\n",
    "\n",
    "forest_reg = RandomForestRegressor(bootstrap=False, n_estimators=200, max_features=32, random_state=42)\n",
    "forest_reg.fit(train_full_prepared, train_y)\n",
    "\n",
    "forest_scores = cross_val_score(forest_reg, train_full_prepared, train_y,\n",
    "                                scoring=\"neg_mean_squared_error\", cv=10)\n",
    "forest_rmse_scores = np.sqrt(-forest_scores)\n",
    "display_scores(forest_rmse_scores)\n",
    "\n",
    "print(pd.Series(forest_rmse_scores).describe())"
   ]
  },
  {
   "cell_type": "code",
   "execution_count": 21,
   "metadata": {},
   "outputs": [
    {
     "name": "stdout",
     "output_type": "stream",
     "text": [
      "Fitting 10 folds for each of 40 candidates, totalling 400 fits\n"
     ]
    },
    {
     "name": "stderr",
     "output_type": "stream",
     "text": [
      "[Parallel(n_jobs=-1)]: Using backend LokyBackend with 12 concurrent workers.\n",
      "[Parallel(n_jobs=-1)]: Done   8 tasks      | elapsed:    3.1s\n",
      "[Parallel(n_jobs=-1)]: Done 104 tasks      | elapsed:  1.2min\n",
      "/home/marek/anaconda3/lib/python3.7/site-packages/joblib/externals/loky/process_executor.py:706: UserWarning: A worker stopped while some jobs were given to the executor. This can be caused by a too short worker timeout or by a memory leak.\n",
      "  \"timeout or by a memory leak.\", UserWarning\n",
      "[Parallel(n_jobs=-1)]: Done 264 tasks      | elapsed:  5.7min\n",
      "[Parallel(n_jobs=-1)]: Done 400 out of 400 | elapsed: 12.2min finished\n"
     ]
    },
    {
     "data": {
      "text/plain": [
       "GridSearchCV(cv=10, error_score='raise-deprecating',\n",
       "             estimator=RandomForestRegressor(bootstrap=True, criterion='mse',\n",
       "                                             max_depth=None,\n",
       "                                             max_features='auto',\n",
       "                                             max_leaf_nodes=None,\n",
       "                                             min_impurity_decrease=0.0,\n",
       "                                             min_impurity_split=None,\n",
       "                                             min_samples_leaf=1,\n",
       "                                             min_samples_split=2,\n",
       "                                             min_weight_fraction_leaf=0.0,\n",
       "                                             n_estimators='warn', n_jobs=None,\n",
       "                                             oob_score=False, random_state=42,\n",
       "                                             verbose=0, warm_start=False),\n",
       "             iid='warn', n_jobs=-1,\n",
       "             param_grid=[{'max_features': [16, 32, 48, 'auto'],\n",
       "                          'n_estimators': [100, 300, 400, 500, 600]},\n",
       "                         {'bootstrap': [False],\n",
       "                          'max_features': [16, 32, 48, 'auto'],\n",
       "                          'n_estimators': [100, 300, 400, 500, 600]}],\n",
       "             pre_dispatch='2*n_jobs', refit=True, return_train_score=True,\n",
       "             scoring='neg_mean_squared_error', verbose=3)"
      ]
     },
     "execution_count": 21,
     "metadata": {},
     "output_type": "execute_result"
    }
   ],
   "source": [
    "from sklearn.model_selection import GridSearchCV\n",
    "\n",
    "param_grid = [\n",
    "    # sprawdza 12 (3×4) kombinacji hiperparametrów\n",
    "    {'n_estimators': [100, 300, 400, 500, 600], 'max_features': [16, 32, 48, 'auto']},\n",
    "    # następnie sprawdza 6 (2×3) kombinacji z wyłączonym parametrem bootstrap (False)\n",
    "    {'bootstrap': [False], 'n_estimators': [100, 300, 400, 500, 600], \n",
    "     'max_features': [16, 32, 48, 'auto']},\n",
    "  ]\n",
    "\n",
    "forest_reg = RandomForestRegressor(random_state=42)\n",
    "# przeprowadza proces uczenia na pięciu podzbiorach, czyli łącznie (12+6)*5=90 przebiegów \n",
    "grid_search = GridSearchCV(forest_reg, param_grid, cv=10,\n",
    "                           scoring='neg_mean_squared_error',\n",
    "                           return_train_score=True, verbose=3, n_jobs=-1)\n",
    "grid_search.fit(train_full_prepared, train_y)"
   ]
  },
  {
   "cell_type": "code",
   "execution_count": 22,
   "metadata": {},
   "outputs": [
    {
     "data": {
      "text/plain": [
       "{'bootstrap': False, 'max_features': 32, 'n_estimators': 500}"
      ]
     },
     "execution_count": 22,
     "metadata": {},
     "output_type": "execute_result"
    }
   ],
   "source": [
    "grid_search.best_params_"
   ]
  },
  {
   "cell_type": "code",
   "execution_count": 23,
   "metadata": {},
   "outputs": [
    {
     "data": {
      "text/plain": [
       "RandomForestRegressor(bootstrap=False, criterion='mse', max_depth=None,\n",
       "                      max_features=32, max_leaf_nodes=None,\n",
       "                      min_impurity_decrease=0.0, min_impurity_split=None,\n",
       "                      min_samples_leaf=1, min_samples_split=2,\n",
       "                      min_weight_fraction_leaf=0.0, n_estimators=500,\n",
       "                      n_jobs=None, oob_score=False, random_state=42, verbose=0,\n",
       "                      warm_start=False)"
      ]
     },
     "execution_count": 23,
     "metadata": {},
     "output_type": "execute_result"
    }
   ],
   "source": [
    "grid_search.best_estimator_"
   ]
  },
  {
   "cell_type": "code",
   "execution_count": 24,
   "metadata": {},
   "outputs": [
    {
     "name": "stdout",
     "output_type": "stream",
     "text": [
      "0.13889134458088828 {'max_features': 16, 'n_estimators': 100}\n",
      "0.13805678156225662 {'max_features': 16, 'n_estimators': 300}\n",
      "0.1380635530082062 {'max_features': 16, 'n_estimators': 400}\n",
      "0.13789514131133998 {'max_features': 16, 'n_estimators': 500}\n",
      "0.1379803034048139 {'max_features': 16, 'n_estimators': 600}\n",
      "0.1369595542003199 {'max_features': 32, 'n_estimators': 100}\n",
      "0.13646495407230075 {'max_features': 32, 'n_estimators': 300}\n",
      "0.1363620971701219 {'max_features': 32, 'n_estimators': 400}\n",
      "0.1361826243724687 {'max_features': 32, 'n_estimators': 500}\n",
      "0.1362476559885007 {'max_features': 32, 'n_estimators': 600}\n",
      "0.1369431516820824 {'max_features': 48, 'n_estimators': 100}\n",
      "0.13628079248333705 {'max_features': 48, 'n_estimators': 300}\n",
      "0.13613019287566547 {'max_features': 48, 'n_estimators': 400}\n",
      "0.1361451466484754 {'max_features': 48, 'n_estimators': 500}\n",
      "0.13616022330141261 {'max_features': 48, 'n_estimators': 600}\n",
      "0.14314179428475174 {'max_features': 'auto', 'n_estimators': 100}\n",
      "0.1426375340558311 {'max_features': 'auto', 'n_estimators': 300}\n",
      "0.14289672554202432 {'max_features': 'auto', 'n_estimators': 400}\n",
      "0.1428833778920446 {'max_features': 'auto', 'n_estimators': 500}\n",
      "0.14303789648984655 {'max_features': 'auto', 'n_estimators': 600}\n",
      "0.1359571393400998 {'bootstrap': False, 'max_features': 16, 'n_estimators': 100}\n",
      "0.1350940441833375 {'bootstrap': False, 'max_features': 16, 'n_estimators': 300}\n",
      "0.13502683218393938 {'bootstrap': False, 'max_features': 16, 'n_estimators': 400}\n",
      "0.13516109800384024 {'bootstrap': False, 'max_features': 16, 'n_estimators': 500}\n",
      "0.13513853917189347 {'bootstrap': False, 'max_features': 16, 'n_estimators': 600}\n",
      "0.1351663477512924 {'bootstrap': False, 'max_features': 32, 'n_estimators': 100}\n",
      "0.1344631715613486 {'bootstrap': False, 'max_features': 32, 'n_estimators': 300}\n",
      "0.13423883217484764 {'bootstrap': False, 'max_features': 32, 'n_estimators': 400}\n",
      "0.13409824142317536 {'bootstrap': False, 'max_features': 32, 'n_estimators': 500}\n",
      "0.13418789864081077 {'bootstrap': False, 'max_features': 32, 'n_estimators': 600}\n",
      "0.13630760626371674 {'bootstrap': False, 'max_features': 48, 'n_estimators': 100}\n",
      "0.1350703413875614 {'bootstrap': False, 'max_features': 48, 'n_estimators': 300}\n",
      "0.1346403711722058 {'bootstrap': False, 'max_features': 48, 'n_estimators': 400}\n",
      "0.13467569877065244 {'bootstrap': False, 'max_features': 48, 'n_estimators': 500}\n",
      "0.1346271752991229 {'bootstrap': False, 'max_features': 48, 'n_estimators': 600}\n",
      "0.20276094967079877 {'bootstrap': False, 'max_features': 'auto', 'n_estimators': 100}\n",
      "0.20261122643182955 {'bootstrap': False, 'max_features': 'auto', 'n_estimators': 300}\n",
      "0.20263894501148713 {'bootstrap': False, 'max_features': 'auto', 'n_estimators': 400}\n",
      "0.20259831176091858 {'bootstrap': False, 'max_features': 'auto', 'n_estimators': 500}\n",
      "0.2026215722661181 {'bootstrap': False, 'max_features': 'auto', 'n_estimators': 600}\n"
     ]
    }
   ],
   "source": [
    "cvres = grid_search.cv_results_\n",
    "for mean_score, params in zip(cvres[\"mean_test_score\"], cvres[\"params\"]):\n",
    "    print(np.sqrt(-mean_score), params)"
   ]
  },
  {
   "cell_type": "code",
   "execution_count": 25,
   "metadata": {},
   "outputs": [
    {
     "data": {
      "text/plain": [
       "array([9.50740547e-03, 1.62363958e-02, 1.67177552e-01, 9.76609364e-03,\n",
       "       7.02958912e-02, 1.75063867e-02, 5.26490454e-03, 1.16286820e-02,\n",
       "       8.57789790e-03, 4.03981369e-02, 3.69606724e-02, 1.24654629e-02,\n",
       "       1.02200052e-01, 1.17308809e-03, 2.67036641e-02, 1.62179372e-03,\n",
       "       3.47699820e-03, 1.72895512e-03, 7.75531939e-03, 1.70216275e-02,\n",
       "       2.37261925e-02, 4.09665111e-02, 4.01289944e-02, 3.15340965e-03,\n",
       "       5.56506752e-03, 1.84429078e-03, 1.19448350e-01, 4.92040080e-02,\n",
       "       3.83963448e-05, 4.95050293e-06, 1.63461558e-04, 2.85917386e-04,\n",
       "       3.47370892e-04, 2.90014218e-04, 1.72611941e-03, 1.39373740e-03,\n",
       "       1.54559963e-04, 7.32835271e-04, 3.40718720e-04, 1.67758759e-04,\n",
       "       6.32139559e-04, 3.22663265e-05, 2.77589037e-04, 3.15846380e-04,\n",
       "       1.03586371e-03, 1.34976404e-03, 1.47354654e-04, 4.79566468e-04,\n",
       "       1.65735317e-04, 3.01587048e-04, 1.98440709e-04, 1.13596233e-04,\n",
       "       7.52276099e-05, 1.42291039e-03, 1.30608457e-04, 3.46731086e-04,\n",
       "       2.56202047e-04, 1.91565633e-04, 6.21156430e-06, 2.74725309e-04,\n",
       "       1.34465346e-04, 1.65066961e-04, 3.01635492e-05, 2.37704174e-05,\n",
       "       3.65585372e-03, 5.68489040e-04, 4.88788857e-04, 2.30664281e-06,\n",
       "       8.86102903e-04, 8.60864095e-03, 8.07689429e-03, 1.74005933e-04,\n",
       "       1.55211406e-04, 9.36686937e-04, 2.19611559e-04, 1.04077869e-04,\n",
       "       1.24695771e-03, 8.83684635e-04, 3.84573056e-04, 3.54101249e-04,\n",
       "       7.77908821e-04, 5.13516593e-04, 3.29800857e-04, 1.85974668e-04,\n",
       "       1.32310406e-05, 6.45117822e-04, 6.73699291e-04, 4.57660296e-04,\n",
       "       1.56726539e-04, 4.81136144e-04, 4.34189628e-04, 8.07152196e-04,\n",
       "       4.57061256e-05, 1.48802309e-04, 9.23020145e-05, 1.06927134e-04,\n",
       "       1.68749718e-06, 9.40990631e-06, 4.56848517e-04, 5.68524451e-05,\n",
       "       9.64747647e-04, 8.11185680e-05, 8.68730304e-05, 8.25330778e-04,\n",
       "       6.97739195e-05, 1.79194320e-04, 3.53351461e-04, 9.24602430e-04,\n",
       "       3.14028042e-04, 1.15861067e-03, 1.28321932e-05, 9.01385186e-06,\n",
       "       3.16253863e-03, 1.68683358e-03, 8.28584694e-03, 4.67704119e-02,\n",
       "       1.44716264e-05, 1.35604692e-03, 3.99226034e-04, 1.49331820e-05,\n",
       "       8.10587369e-04, 5.78252461e-04, 8.75845411e-04, 8.11991287e-03,\n",
       "       1.85228390e-04, 3.19766846e-05, 1.28556689e-05, 1.40089395e-03,\n",
       "       2.60024412e-04, 1.07652827e-03, 1.27577267e-03, 1.66464757e-05,\n",
       "       2.55551763e-04, 5.49056201e-04, 1.29079192e-03, 6.08312650e-04,\n",
       "       3.52500422e-04, 4.53782770e-04, 5.90862707e-04, 7.14761476e-04,\n",
       "       2.43577300e-04, 4.66884073e-04, 5.00788158e-04, 5.05079084e-04,\n",
       "       5.06817083e-04, 6.39753428e-04, 4.73338896e-04, 2.29097886e-04,\n",
       "       6.23513216e-04, 6.06791564e-04, 5.81479294e-04, 7.58890609e-04,\n",
       "       4.55243081e-04, 1.71525656e-04, 0.00000000e+00, 6.94031503e-04,\n",
       "       5.95946690e-05, 1.43746224e-04, 9.23259333e-04, 2.09695640e-03,\n",
       "       6.30403796e-05, 4.34386758e-05, 4.28347813e-04, 3.23573001e-03,\n",
       "       3.67969706e-04, 9.15811630e-05, 1.74382489e-04, 2.39609456e-05,\n",
       "       3.63573182e-04])"
      ]
     },
     "execution_count": 25,
     "metadata": {},
     "output_type": "execute_result"
    }
   ],
   "source": [
    "feature_importances = grid_search.best_estimator_.feature_importances_\n",
    "feature_importances"
   ]
  },
  {
   "cell_type": "code",
   "execution_count": 26,
   "metadata": {
    "scrolled": false
   },
   "outputs": [
    {
     "data": {
      "text/plain": [
       "[(0.16717755179889904, 'OverallQual'),\n",
       " (0.11944834968079046, 'TotalLivingSF'),\n",
       " (0.10220005197126726, 'GrLivArea'),\n",
       " (0.07029589117531986, 'YearBuilt'),\n",
       " (0.049204008043703604, 'TotalBthm'),\n",
       " (0.04677041193628597, 'TA'),\n",
       " (0.04096651109215919, 'GarageCars'),\n",
       " (0.04039813692062273, 'TotalBsmtSF'),\n",
       " (0.04012899436108428, 'GarageArea'),\n",
       " (0.03696067235129968, '1stFlrSF'),\n",
       " (0.026703664145254352, 'FullBath'),\n",
       " (0.02372619250951935, 'GarageYrBlt'),\n",
       " (0.017506386748021577, 'YearRemodAdd'),\n",
       " (0.017021627494244275, 'Fireplaces'),\n",
       " (0.01623639575215714, 'LotArea'),\n",
       " (0.012465462873777037, '2ndFlrSF'),\n",
       " (0.011628682049304184, 'BsmtFinSF1'),\n",
       " (0.009766093637729213, 'OverallCond'),\n",
       " (0.009507405465183498, 'LotFrontage'),\n",
       " (0.008608640953262522, 'N'),\n",
       " (0.008577897903046172, 'BsmtUnfSF'),\n",
       " (0.00828584693823881, 'Gd'),\n",
       " (0.0081199128726032, 'PConc'),\n",
       " (0.008076894288407655, 'Y'),\n",
       " (0.007755319392383836, 'TotRmsAbvGrd'),\n",
       " (0.005565067523328516, 'OpenPorchSF'),\n",
       " (0.0052649045351827, 'MasVnrArea'),\n",
       " (0.0036558537221807394, 'Ex'),\n",
       " (0.0034769981961870243, 'BedroomAbvGr'),\n",
       " (0.0032357300092560144, '60'),\n",
       " (0.003162538627929947, 'Ex'),\n",
       " (0.0031534096532437363, 'WoodDeckSF'),\n",
       " (0.0020969564027342137, '30'),\n",
       " (0.0018442907761738636, 'EnclosedPorch'),\n",
       " (0.0017289551165954563, 'KitchenAbvGr'),\n",
       " (0.0017261194113941851, 'Crawfor'),\n",
       " (0.0016868335777475733, 'Fa'),\n",
       " (0.0016217937246567813, 'HalfBath'),\n",
       " (0.0014229103893591724, '1Fam'),\n",
       " (0.0014008939458088757, 'N'),\n",
       " (0.0013937374044781367, 'Edwards'),\n",
       " (0.0013560469207461402, 'Fa'),\n",
       " (0.0013497640355432578, 'OldTown'),\n",
       " (0.0012907919206179778, 'Normal'),\n",
       " (0.0012757726742464136, 'Abnorml'),\n",
       " (0.001246957708689739, 'Reg'),\n",
       " (0.001173088093613167, 'BsmtFullBath'),\n",
       " (0.0011586106745607094, 'Hip'),\n",
       " (0.0010765282715858458, 'Y'),\n",
       " (0.0010358637149122426, 'NridgHt'),\n",
       " (0.000964747646833583, '1Story'),\n",
       " (0.0009366869366466164, 'IR1'),\n",
       " (0.0009246024297523297, 'Gable'),\n",
       " (0.0009232593330222489, '20'),\n",
       " (0.0008861029026951297, 'TA'),\n",
       " (0.0008836846352312837, 'Bnk'),\n",
       " (0.0008758454108559646, 'CBlock'),\n",
       " (0.0008253307784857327, '2Story'),\n",
       " (0.0008105873685825356, 'TA'),\n",
       " (0.000807152196440862, 'Norm'),\n",
       " (0.0007779088207487651, 'Lvl'),\n",
       " (0.0007588906094692601, '2009'),\n",
       " (0.0007328352713038739, 'IDOTRR'),\n",
       " (0.0007147614764866537, '12'),\n",
       " (0.000694031503069241, '160'),\n",
       " (0.0006736992906805255, 'Gtl'),\n",
       " (0.000645117822240477, 'Inside'),\n",
       " (0.0006397534284479597, '7'),\n",
       " (0.0006321395594103334, 'NAmes'),\n",
       " (0.0006235132159506368, '2006'),\n",
       " (0.0006083126496932843, 'Partial'),\n",
       " (0.0006067915643136031, '2007'),\n",
       " (0.0005908627070354634, '11'),\n",
       " (0.000581479293909444, '2008'),\n",
       " (0.0005782524613390941, 'BrkTil'),\n",
       " (0.0005684890402300809, 'Fa'),\n",
       " (0.0005490562011316358, 'Family'),\n",
       " (0.0005135165925426984, 'Corner'),\n",
       " (0.0005068170829099957, '6'),\n",
       " (0.000505079084226883, '5'),\n",
       " (0.0005007881576728724, '4'),\n",
       " (0.0004887888574578136, 'Gd'),\n",
       " (0.0004811361442390337, 'Artery'),\n",
       " (0.00047956646847218635, 'Sawyer'),\n",
       " (0.0004733388959404052, '8'),\n",
       " (0.00046688407335032054, '3'),\n",
       " (0.00045766029644981747, 'Mod'),\n",
       " (0.000456848517139813, '1.5Fin'),\n",
       " (0.00045524308083381076, '2010'),\n",
       " (0.00045378277029681273, '10'),\n",
       " (0.00043418962799030985, 'Feedr'),\n",
       " (0.00042834781294002344, '50'),\n",
       " (0.0003992260342848789, 'Gd'),\n",
       " (0.0003845730559511184, 'HLS'),\n",
       " (0.00036796970612297346, '70'),\n",
       " (0.000363573182180517, '90'),\n",
       " (0.0003541012492062458, 'Low'),\n",
       " (0.000353351461103715, 'Flat'),\n",
       " (0.0003525004216554153, '1'),\n",
       " (0.0003473708921815567, 'ClearCr'),\n",
       " (0.00034673108566024883, 'Duplex'),\n",
       " (0.00034071871996738703, 'MeadowV'),\n",
       " (0.0003298008566892058, 'CulDSac'),\n",
       " (0.00031584638035718016, 'NoRidge'),\n",
       " (0.0003140280424347931, 'Gambrel'),\n",
       " (0.0003015870476295295, 'Somerst'),\n",
       " (0.0002900142184091417, 'CollgCr'),\n",
       " (0.0002859173860058868, 'BrkSide'),\n",
       " (0.0002775890372659634, 'NWAmes'),\n",
       " (0.00027472530863101617, 'GasA'),\n",
       " (0.00026002441226632696, 'P'),\n",
       " (0.00025620204682569184, 'Twnhs'),\n",
       " (0.0002555517631010173, 'Alloca'),\n",
       " (0.00024357729967572906, '2'),\n",
       " (0.0002290978857067029, '9'),\n",
       " (0.00021961155882766145, 'IR2'),\n",
       " (0.00019844070881099054, 'StoneBr'),\n",
       " (0.00019156563266729568, 'TwnhsE'),\n",
       " (0.00018597466845312195, 'FR2'),\n",
       " (0.00018522838956157225, 'Slab'),\n",
       " (0.00017919432046357062, 'SLvl'),\n",
       " (0.00017438248861497807, '80'),\n",
       " (0.00017400593267425136, 'Grvl'),\n",
       " (0.00017152565566826446, '120'),\n",
       " (0.0001677587593644574, 'Mitchel'),\n",
       " (0.00016573531690104108, 'SawyerW'),\n",
       " (0.0001650669613588346, 'Grav'),\n",
       " (0.00016346155811906214, 'BrDale'),\n",
       " (0.0001567265385567253, 'Sev'),\n",
       " (0.00015521140620328207, 'Pave'),\n",
       " (0.00015455996328663494, 'Gilbert'),\n",
       " (0.00014880230858463415, 'PosN'),\n",
       " (0.0001473546539500462, 'SWISU'),\n",
       " (0.00014374622410674113, '190'),\n",
       " (0.00013446534563498516, 'GasW'),\n",
       " (0.0001306084565156355, '2fmCon'),\n",
       " (0.0001135962328818737, 'Timber'),\n",
       " (0.00010692713406654462, 'RRAn'),\n",
       " (0.00010407786917168815, 'IR3'),\n",
       " (9.230201447266277e-05, 'RRAe'),\n",
       " (9.158116296648463e-05, '75'),\n",
       " (8.687303043554646e-05, '2.5Unf'),\n",
       " (8.111856796312493e-05, '2.5Fin'),\n",
       " (7.522760993063332e-05, 'Veenker'),\n",
       " (6.977391946131868e-05, 'SFoyer'),\n",
       " (6.304037956629076e-05, '40'),\n",
       " (5.959466896999447e-05, '180'),\n",
       " (5.685244509609809e-05, '1.5Unf'),\n",
       " (4.570612560586389e-05, 'PosA'),\n",
       " (4.343867577222473e-05, '45'),\n",
       " (3.839634477339074e-05, 'Blmngtn'),\n",
       " (3.2266326452080536e-05, 'NPkVill'),\n",
       " (3.19766846476855e-05, 'Stone'),\n",
       " (3.016354924789053e-05, 'OthW'),\n",
       " (2.3960945551284322e-05, '85'),\n",
       " (2.3770417377096214e-05, 'Wall'),\n",
       " (1.6646475675013216e-05, 'AdjLand'),\n",
       " (1.4933181998693632e-05, 'Po'),\n",
       " (1.4471626373859658e-05, 'Ex'),\n",
       " (1.3231040601058652e-05, 'FR3'),\n",
       " (1.2855668928739253e-05, 'Wood'),\n",
       " (1.2832193164506385e-05, 'Mansard'),\n",
       " (9.409906311612521e-06, 'RRNn'),\n",
       " (9.013851861054459e-06, 'Shed'),\n",
       " (6.211564304233645e-06, 'Floor'),\n",
       " (4.950502932759865e-06, 'Blueste'),\n",
       " (2.3066428131105457e-06, 'Po'),\n",
       " (1.6874971827106643e-06, 'RRNe'),\n",
       " (0.0, '150')]"
      ]
     },
     "execution_count": 26,
     "metadata": {},
     "output_type": "execute_result"
    }
   ],
   "source": [
    "cat_encoder = full_pipeline.named_transformers_[\"cat\"]\n",
    "cat_one_hot_attribs = []\n",
    "for a in cat_encoder.categories_:\n",
    "    for b in a:\n",
    "        cat_one_hot_attribs.append(b)\n",
    "# print(cat_one_hot_attribs)\n",
    "attributes = num_att + cat_one_hot_attribs\n",
    "sorted(zip(feature_importances, attributes), reverse=True)"
   ]
  },
  {
   "cell_type": "code",
   "execution_count": 27,
   "metadata": {},
   "outputs": [],
   "source": [
    "# y_pred = forest_reg.predict(test_full_prepared)\n",
    "y_pred = grid_search.predict(test_full_prepared)\n",
    "y_pred_normal = np.e**y_pred\n",
    "sub = pd.DataFrame({'Id': test['Id'], 'SalePrice': y_pred_normal})"
   ]
  },
  {
   "cell_type": "code",
   "execution_count": 28,
   "metadata": {},
   "outputs": [],
   "source": [
    "sub.to_csv(\"data/submission_script31_some_num_to_str.csv\", index=False)"
   ]
  },
  {
   "cell_type": "code",
   "execution_count": 31,
   "metadata": {},
   "outputs": [
    {
     "data": {
      "text/plain": [
       "(1459, 2)"
      ]
     },
     "execution_count": 31,
     "metadata": {},
     "output_type": "execute_result"
    }
   ],
   "source": [
    "sub.shape"
   ]
  },
  {
   "cell_type": "code",
   "execution_count": null,
   "metadata": {},
   "outputs": [],
   "source": []
  }
 ],
 "metadata": {
  "kernelspec": {
   "display_name": "Python 3",
   "language": "python",
   "name": "python3"
  },
  "language_info": {
   "codemirror_mode": {
    "name": "ipython",
    "version": 3
   },
   "file_extension": ".py",
   "mimetype": "text/x-python",
   "name": "python",
   "nbconvert_exporter": "python",
   "pygments_lexer": "ipython3",
   "version": "3.7.4"
  }
 },
 "nbformat": 4,
 "nbformat_minor": 2
}
