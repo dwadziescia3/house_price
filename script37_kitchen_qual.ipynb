{
 "cells": [
  {
   "cell_type": "code",
   "execution_count": 1,
   "metadata": {},
   "outputs": [],
   "source": [
    "import sys\n",
    "assert sys.version_info >= (3, 5)\n",
    "\n",
    "import sklearn\n",
    "assert sklearn.__version__ >= \"0.20\"\n",
    "\n",
    "import numpy as np\n",
    "import os\n",
    "\n",
    "import matplotlib as mpl\n",
    "import matplotlib.pyplot as plt\n",
    "mpl.rc('axes', labelsize=14)\n",
    "mpl.rc('xtick', labelsize=12)\n",
    "mpl.rc('ytick', labelsize=12)\n",
    "\n",
    "import warnings\n",
    "warnings.filterwarnings(action=\"ignore\", message=\"^internal gelsd\")"
   ]
  },
  {
   "cell_type": "code",
   "execution_count": 2,
   "metadata": {},
   "outputs": [],
   "source": [
    "import pandas as pd\n",
    "\n",
    "def load_housing_data(housing_path='data'):\n",
    "    train_csv_path = os.path.join(housing_path, \"train.csv\")\n",
    "    test_csv_path = os.path.join(housing_path, \"test.csv\")\n",
    "    return pd.read_csv(train_csv_path), pd.read_csv(test_csv_path)\n",
    "\n",
    "train, test = load_housing_data()"
   ]
  },
  {
   "cell_type": "code",
   "execution_count": 3,
   "metadata": {},
   "outputs": [],
   "source": [
    "train['TotalLivingSF'] = train['BsmtFinSF1'] + train['BsmtFinSF2'] + train['1stFlrSF'] + train['2ndFlrSF']\n",
    "test['TotalLivingSF'] = test['BsmtFinSF1'] + test['BsmtFinSF2'] + test['1stFlrSF'] + test['2ndFlrSF']\n",
    "\n",
    "train['TotalLivingSF'] = np.log(train['TotalLivingSF'])\n",
    "test['TotalLivingSF'] = np.log(test['TotalLivingSF'])"
   ]
  },
  {
   "cell_type": "code",
   "execution_count": 4,
   "metadata": {},
   "outputs": [
    {
     "data": {
      "text/plain": [
       "SalePrice        1.000000\n",
       "OverallQual      0.790982\n",
       "GrLivArea        0.708624\n",
       "TotalLivingSF    0.698827\n",
       "GarageCars       0.640409\n",
       "GarageArea       0.623431\n",
       "TotalBsmtSF      0.613581\n",
       "1stFlrSF         0.605852\n",
       "FullBath         0.560664\n",
       "TotRmsAbvGrd     0.533723\n",
       "YearBuilt        0.522897\n",
       "YearRemodAdd     0.507101\n",
       "GarageYrBlt      0.486362\n",
       "MasVnrArea       0.477493\n",
       "Fireplaces       0.466929\n",
       "BsmtFinSF1       0.386420\n",
       "LotFrontage      0.351799\n",
       "WoodDeckSF       0.324413\n",
       "2ndFlrSF         0.319334\n",
       "OpenPorchSF      0.315856\n",
       "HalfBath         0.284108\n",
       "LotArea          0.263843\n",
       "BsmtFullBath     0.227122\n",
       "BsmtUnfSF        0.214479\n",
       "BedroomAbvGr     0.168213\n",
       "ScreenPorch      0.111447\n",
       "PoolArea         0.092404\n",
       "MoSold           0.046432\n",
       "3SsnPorch        0.044584\n",
       "BsmtFinSF2      -0.011378\n",
       "BsmtHalfBath    -0.016844\n",
       "MiscVal         -0.021190\n",
       "Id              -0.021917\n",
       "LowQualFinSF    -0.025606\n",
       "YrSold          -0.028923\n",
       "OverallCond     -0.077856\n",
       "MSSubClass      -0.084284\n",
       "EnclosedPorch   -0.128578\n",
       "KitchenAbvGr    -0.135907\n",
       "Name: SalePrice, dtype: float64"
      ]
     },
     "execution_count": 4,
     "metadata": {},
     "output_type": "execute_result"
    }
   ],
   "source": [
    "corr_matrix = train.corr()\n",
    "corr_matrix[\"SalePrice\"].sort_values(ascending=False)"
   ]
  },
  {
   "cell_type": "code",
   "execution_count": 5,
   "metadata": {},
   "outputs": [
    {
     "name": "stdout",
     "output_type": "stream",
     "text": [
      "['MSSubClass', 'LotFrontage', 'LotArea', 'OverallQual', 'OverallCond', 'YearBuilt', 'YearRemodAdd', 'MasVnrArea', 'BsmtFinSF1', 'BsmtUnfSF', 'TotalBsmtSF', '1stFlrSF', '2ndFlrSF', 'GrLivArea', 'BsmtFullBath', 'FullBath', 'HalfBath', 'BedroomAbvGr', 'KitchenAbvGr', 'TotRmsAbvGrd', 'Fireplaces', 'GarageYrBlt', 'GarageCars', 'GarageArea', 'WoodDeckSF', 'OpenPorchSF', 'EnclosedPorch', 'YrSold', 'TotalLivingSF']\n"
     ]
    }
   ],
   "source": [
    "num_att = list(train.select_dtypes([np.number]).columns)\n",
    "\n",
    "# att = ['OverallQual', 'GrLivArea']\n",
    "\n",
    "# to_remove = ['BsmtFinSF2', 'MoSold', '3SsnPorch', 'BsmtHalfBath', 'MiscVal', 'LowQualFinSF', 'YrSold',\n",
    "#             'PoolArea', 'OverallCond', 'MSSubClass', 'ScreenPorch']\n",
    "\n",
    "to_remove = ['PoolArea', 'BsmtHalfBath', 'MiscVal', 'LowQualFinSF', 'ScreenPorch', '3SsnPorch',\n",
    "            'BsmtFinSF2', 'MoSold', 'YrSold',\n",
    "            'GarageArea', 'TotalBsmtSF']\n",
    "\n",
    "to_remove = ['PoolArea', 'BsmtHalfBath', 'MiscVal', 'LowQualFinSF', 'ScreenPorch', '3SsnPorch',\n",
    "            'BsmtFinSF2', 'MoSold']\n",
    "\n",
    "for t in to_remove:\n",
    "    num_att.remove(t)\n",
    "num_att.remove('Id')\n",
    "num_att.remove('SalePrice')\n",
    "\n",
    "# num_att = ['OverallQual', 'GrLivArea', 'GarageCars', '1stFlrSF', 'FullBath', 'YearBuilt']\n",
    "\n",
    "print(num_att)"
   ]
  },
  {
   "cell_type": "code",
   "execution_count": 14,
   "metadata": {},
   "outputs": [],
   "source": [
    "test['KitchenQual'] = test['KitchenQual'].fillna(\"TA\") "
   ]
  },
  {
   "cell_type": "code",
   "execution_count": 15,
   "metadata": {},
   "outputs": [
    {
     "name": "stdout",
     "output_type": "stream",
     "text": [
      "['Neighborhood', 'BldgType', 'Heating', 'HeatingQC', 'CentralAir', 'Street', 'LotShape', 'LandContour', 'LotConfig', 'LandSlope', 'Condition1', 'HouseStyle', 'RoofStyle', 'ExterQual', 'ExterCond', 'Foundation', 'PavedDrive', 'SaleCondition', 'KitchenQual']\n"
     ]
    }
   ],
   "source": [
    "cat_att = ['BldgType', 'CentralAir', 'Foundation', \n",
    "           'PavedDrive', 'SaleCondition']\n",
    "cat_att = ['Neighborhood', 'BldgType', 'Heating', 'HeatingQC', 'CentralAir', \n",
    "           'Street', 'LotShape', 'LandContour', 'LotConfig',\n",
    "           'LandSlope', 'Condition1', 'HouseStyle', 'RoofStyle', \n",
    "           'ExterQual', 'ExterCond', 'Foundation', 'PavedDrive', 'SaleCondition', 'KitchenQual']\n",
    "\n",
    "# TO ADD = Exterior1st, KitchenQual, Functional, SaleType, Alley, Condition2\n",
    "\n",
    "# cat_att = ['Neighborhood', 'BldgType']\n",
    "print(cat_att)"
   ]
  },
  {
   "cell_type": "code",
   "execution_count": 7,
   "metadata": {},
   "outputs": [],
   "source": [
    "for a in num_att:\n",
    "    median = train[a].median()\n",
    "    train[a].fillna(0, inplace=True)\n",
    "    \n",
    "#     median = test[a].median()\n",
    "    test[a].fillna(0, inplace=True)"
   ]
  },
  {
   "cell_type": "code",
   "execution_count": 8,
   "metadata": {},
   "outputs": [
    {
     "name": "stderr",
     "output_type": "stream",
     "text": [
      "/home/marek/anaconda3/lib/python3.7/site-packages/pandas/core/series.py:853: RuntimeWarning: divide by zero encountered in log\n",
      "  result = getattr(ufunc, method)(*inputs, **kwargs)\n"
     ]
    }
   ],
   "source": [
    "import seaborn as sns\n",
    "from scipy.stats import norm\n",
    "from scipy import stats\n",
    "\n",
    "train['SalePrice'] = np.log(train['SalePrice'])\n",
    "train_y = train[\"SalePrice\"].copy()\n",
    "\n",
    "train['GrLivArea'] = np.log(train['GrLivArea'])\n",
    "test['GrLivArea'] = np.log(test['GrLivArea'])\n",
    "\n",
    "train['HasBsmt'] = pd.Series(len(train['TotalBsmtSF']), index=train.index)\n",
    "train['HasBsmt'] = 0 \n",
    "train.loc[train['TotalBsmtSF']>0,'HasBsmt'] = 1\n",
    "train.loc[train['HasBsmt']==1,'TotalBsmtSF'] = np.log(train['TotalBsmtSF'])\n",
    "test['HasBsmt'] = pd.Series(len(test['TotalBsmtSF']), index=test.index)\n",
    "test['HasBsmt'] = 0 \n",
    "test.loc[test['TotalBsmtSF']>0,'HasBsmt'] = 1\n",
    "test.loc[test['HasBsmt']==1,'TotalBsmtSF'] = np.log(test['TotalBsmtSF'])\n",
    "\n",
    "train['1stFlrSF'] = np.log(train['1stFlrSF'])\n",
    "test['1stFlrSF'] = np.log(test['1stFlrSF'])\n",
    "\n",
    "train['HasBsmtFin'] = pd.Series(len(train['BsmtFinSF1']), index=train.index)\n",
    "train['HasBsmtFin'] = 0 \n",
    "train.loc[train['BsmtFinSF1']>0,'HasBsmtFin'] = 1\n",
    "train.loc[train['HasBsmtFin']==1,'BsmtFinSF1'] = np.log(train['BsmtFinSF1'])\n",
    "test['HasBsmtFin'] = pd.Series(len(test['BsmtFinSF1']), index=test.index)\n",
    "test['HasBsmtFin'] = 0 \n",
    "test.loc[test['BsmtFinSF1']>0,'HasBsmtFin'] = 1\n",
    "test.loc[test['HasBsmtFin']==1,'BsmtFinSF1'] = np.log(test['BsmtFinSF1'])\n",
    "\n",
    "train['HasWoodDeck'] = pd.Series(len(train['WoodDeckSF']), index=train.index)\n",
    "train['HasWoodDeck'] = 0 \n",
    "train.loc[train['WoodDeckSF']>0,'HasWoodDeck'] = 1\n",
    "train.loc[train['HasWoodDeck']==1,'WoodDeckSF'] = np.log(train['WoodDeckSF'])\n",
    "test['HasWoodDeck'] = pd.Series(len(test['WoodDeckSF']), index=test.index)\n",
    "test['HasWoodDeck'] = 0 \n",
    "test.loc[test['WoodDeckSF']>0,'HasWoodDeck'] = 1\n",
    "test.loc[test['HasWoodDeck']==1,'WoodDeckSF'] = np.log(test['WoodDeckSF'])\n"
   ]
  },
  {
   "cell_type": "code",
   "execution_count": 9,
   "metadata": {},
   "outputs": [
    {
     "data": {
      "text/plain": [
       "SalePrice        1.000000\n",
       "OverallQual      0.817184\n",
       "TotalLivingSF    0.741062\n",
       "GrLivArea        0.730255\n",
       "GarageCars       0.680625\n",
       "GarageArea       0.650888\n",
       "1stFlrSF         0.608947\n",
       "FullBath         0.594771\n",
       "YearBuilt        0.586570\n",
       "YearRemodAdd     0.565608\n",
       "TotRmsAbvGrd     0.534422\n",
       "Fireplaces       0.489449\n",
       "MasVnrArea       0.426775\n",
       "TotalBsmtSF      0.373009\n",
       "GarageYrBlt      0.349014\n",
       "WoodDeckSF       0.343269\n",
       "OpenPorchSF      0.321053\n",
       "HasWoodDeck      0.320349\n",
       "2ndFlrSF         0.319300\n",
       "HalfBath         0.313982\n",
       "LotArea          0.257320\n",
       "BsmtFullBath     0.236224\n",
       "BsmtUnfSF        0.221985\n",
       "BedroomAbvGr     0.209044\n",
       "BsmtFinSF1       0.207962\n",
       "HasBsmt          0.199634\n",
       "LotFrontage      0.179303\n",
       "HasBsmtFin       0.162231\n",
       "ScreenPorch      0.121208\n",
       "PoolArea         0.069798\n",
       "MoSold           0.057329\n",
       "3SsnPorch        0.054900\n",
       "BsmtFinSF2       0.004832\n",
       "BsmtHalfBath    -0.005149\n",
       "Id              -0.017942\n",
       "MiscVal         -0.020021\n",
       "OverallCond     -0.036868\n",
       "YrSold          -0.037263\n",
       "LowQualFinSF    -0.037963\n",
       "MSSubClass      -0.073959\n",
       "KitchenAbvGr    -0.147548\n",
       "EnclosedPorch   -0.149050\n",
       "Name: SalePrice, dtype: float64"
      ]
     },
     "execution_count": 9,
     "metadata": {},
     "output_type": "execute_result"
    }
   ],
   "source": [
    "corr_matrix = train.corr()\n",
    "corr_matrix[\"SalePrice\"].sort_values(ascending=False)"
   ]
  },
  {
   "cell_type": "code",
   "execution_count": 16,
   "metadata": {
    "scrolled": false
   },
   "outputs": [
    {
     "name": "stdout",
     "output_type": "stream",
     "text": [
      "<class 'pandas.core.frame.DataFrame'>\n",
      "RangeIndex: 1460 entries, 0 to 1459\n",
      "Data columns (total 48 columns):\n",
      "MSSubClass       1460 non-null int64\n",
      "LotFrontage      1460 non-null float64\n",
      "LotArea          1460 non-null int64\n",
      "OverallQual      1460 non-null int64\n",
      "OverallCond      1460 non-null int64\n",
      "YearBuilt        1460 non-null int64\n",
      "YearRemodAdd     1460 non-null int64\n",
      "MasVnrArea       1460 non-null float64\n",
      "BsmtFinSF1       1460 non-null float64\n",
      "BsmtUnfSF        1460 non-null int64\n",
      "TotalBsmtSF      1460 non-null float64\n",
      "1stFlrSF         1460 non-null float64\n",
      "2ndFlrSF         1460 non-null int64\n",
      "GrLivArea        1460 non-null float64\n",
      "BsmtFullBath     1460 non-null int64\n",
      "FullBath         1460 non-null int64\n",
      "HalfBath         1460 non-null int64\n",
      "BedroomAbvGr     1460 non-null int64\n",
      "KitchenAbvGr     1460 non-null int64\n",
      "TotRmsAbvGrd     1460 non-null int64\n",
      "Fireplaces       1460 non-null int64\n",
      "GarageYrBlt      1460 non-null float64\n",
      "GarageCars       1460 non-null int64\n",
      "GarageArea       1460 non-null int64\n",
      "WoodDeckSF       1460 non-null float64\n",
      "OpenPorchSF      1460 non-null int64\n",
      "EnclosedPorch    1460 non-null int64\n",
      "YrSold           1460 non-null int64\n",
      "TotalLivingSF    1460 non-null float64\n",
      "Neighborhood     1460 non-null object\n",
      "BldgType         1460 non-null object\n",
      "Heating          1460 non-null object\n",
      "HeatingQC        1460 non-null object\n",
      "CentralAir       1460 non-null object\n",
      "Street           1460 non-null object\n",
      "LotShape         1460 non-null object\n",
      "LandContour      1460 non-null object\n",
      "LotConfig        1460 non-null object\n",
      "LandSlope        1460 non-null object\n",
      "Condition1       1460 non-null object\n",
      "HouseStyle       1460 non-null object\n",
      "RoofStyle        1460 non-null object\n",
      "ExterQual        1460 non-null object\n",
      "ExterCond        1460 non-null object\n",
      "Foundation       1460 non-null object\n",
      "PavedDrive       1460 non-null object\n",
      "SaleCondition    1460 non-null object\n",
      "KitchenQual      1460 non-null object\n",
      "dtypes: float64(9), int64(20), object(19)\n",
      "memory usage: 547.6+ KB\n",
      "<class 'pandas.core.frame.DataFrame'>\n",
      "RangeIndex: 1459 entries, 0 to 1458\n",
      "Data columns (total 48 columns):\n",
      "MSSubClass       1459 non-null int64\n",
      "LotFrontage      1459 non-null float64\n",
      "LotArea          1459 non-null int64\n",
      "OverallQual      1459 non-null int64\n",
      "OverallCond      1459 non-null int64\n",
      "YearBuilt        1459 non-null int64\n",
      "YearRemodAdd     1459 non-null int64\n",
      "MasVnrArea       1459 non-null float64\n",
      "BsmtFinSF1       1459 non-null float64\n",
      "BsmtUnfSF        1459 non-null float64\n",
      "TotalBsmtSF      1459 non-null float64\n",
      "1stFlrSF         1459 non-null float64\n",
      "2ndFlrSF         1459 non-null int64\n",
      "GrLivArea        1459 non-null float64\n",
      "BsmtFullBath     1459 non-null float64\n",
      "FullBath         1459 non-null int64\n",
      "HalfBath         1459 non-null int64\n",
      "BedroomAbvGr     1459 non-null int64\n",
      "KitchenAbvGr     1459 non-null int64\n",
      "TotRmsAbvGrd     1459 non-null int64\n",
      "Fireplaces       1459 non-null int64\n",
      "GarageYrBlt      1459 non-null float64\n",
      "GarageCars       1459 non-null float64\n",
      "GarageArea       1459 non-null float64\n",
      "WoodDeckSF       1459 non-null float64\n",
      "OpenPorchSF      1459 non-null int64\n",
      "EnclosedPorch    1459 non-null int64\n",
      "YrSold           1459 non-null int64\n",
      "TotalLivingSF    1459 non-null float64\n",
      "Neighborhood     1459 non-null object\n",
      "BldgType         1459 non-null object\n",
      "Heating          1459 non-null object\n",
      "HeatingQC        1459 non-null object\n",
      "CentralAir       1459 non-null object\n",
      "Street           1459 non-null object\n",
      "LotShape         1459 non-null object\n",
      "LandContour      1459 non-null object\n",
      "LotConfig        1459 non-null object\n",
      "LandSlope        1459 non-null object\n",
      "Condition1       1459 non-null object\n",
      "HouseStyle       1459 non-null object\n",
      "RoofStyle        1459 non-null object\n",
      "ExterQual        1459 non-null object\n",
      "ExterCond        1459 non-null object\n",
      "Foundation       1459 non-null object\n",
      "PavedDrive       1459 non-null object\n",
      "SaleCondition    1459 non-null object\n",
      "KitchenQual      1459 non-null object\n",
      "dtypes: float64(13), int64(16), object(19)\n",
      "memory usage: 547.2+ KB\n",
      "<class 'pandas.core.frame.DataFrame'>\n",
      "Int64Index: 2919 entries, 0 to 1458\n",
      "Data columns (total 48 columns):\n",
      "MSSubClass       2919 non-null int64\n",
      "LotFrontage      2919 non-null float64\n",
      "LotArea          2919 non-null int64\n",
      "OverallQual      2919 non-null int64\n",
      "OverallCond      2919 non-null int64\n",
      "YearBuilt        2919 non-null int64\n",
      "YearRemodAdd     2919 non-null int64\n",
      "MasVnrArea       2919 non-null float64\n",
      "BsmtFinSF1       2919 non-null float64\n",
      "BsmtUnfSF        2919 non-null float64\n",
      "TotalBsmtSF      2919 non-null float64\n",
      "1stFlrSF         2919 non-null float64\n",
      "2ndFlrSF         2919 non-null int64\n",
      "GrLivArea        2919 non-null float64\n",
      "BsmtFullBath     2919 non-null float64\n",
      "FullBath         2919 non-null int64\n",
      "HalfBath         2919 non-null int64\n",
      "BedroomAbvGr     2919 non-null int64\n",
      "KitchenAbvGr     2919 non-null int64\n",
      "TotRmsAbvGrd     2919 non-null int64\n",
      "Fireplaces       2919 non-null int64\n",
      "GarageYrBlt      2919 non-null float64\n",
      "GarageCars       2919 non-null float64\n",
      "GarageArea       2919 non-null float64\n",
      "WoodDeckSF       2919 non-null float64\n",
      "OpenPorchSF      2919 non-null int64\n",
      "EnclosedPorch    2919 non-null int64\n",
      "YrSold           2919 non-null int64\n",
      "TotalLivingSF    2919 non-null float64\n",
      "Neighborhood     2919 non-null object\n",
      "BldgType         2919 non-null object\n",
      "Heating          2919 non-null object\n",
      "HeatingQC        2919 non-null object\n",
      "CentralAir       2919 non-null object\n",
      "Street           2919 non-null object\n",
      "LotShape         2919 non-null object\n",
      "LandContour      2919 non-null object\n",
      "LotConfig        2919 non-null object\n",
      "LandSlope        2919 non-null object\n",
      "Condition1       2919 non-null object\n",
      "HouseStyle       2919 non-null object\n",
      "RoofStyle        2919 non-null object\n",
      "ExterQual        2919 non-null object\n",
      "ExterCond        2919 non-null object\n",
      "Foundation       2919 non-null object\n",
      "PavedDrive       2919 non-null object\n",
      "SaleCondition    2919 non-null object\n",
      "KitchenQual      2919 non-null object\n",
      "dtypes: float64(13), int64(16), object(19)\n",
      "memory usage: 1.1+ MB\n"
     ]
    }
   ],
   "source": [
    "train2 = train[num_att + cat_att]\n",
    "train2.info()\n",
    "test2 = test[num_att + cat_att]\n",
    "test2.info()\n",
    "\n",
    "merged_df = pd.concat([train2, test2])\n",
    "merged_df.info()"
   ]
  },
  {
   "cell_type": "code",
   "execution_count": 17,
   "metadata": {},
   "outputs": [],
   "source": [
    "from sklearn.pipeline import Pipeline\n",
    "from sklearn.preprocessing import StandardScaler\n",
    "from sklearn.impute import SimpleImputer\n",
    "from sklearn.compose import ColumnTransformer\n",
    "from sklearn.preprocessing import OneHotEncoder\n",
    "\n",
    "num_pipeline = Pipeline([\n",
    "        ('imputer', SimpleImputer(strategy=\"median\")),\n",
    "        ('std_scaler', StandardScaler()),\n",
    "    ])\n",
    "train_prepared = num_pipeline.fit_transform(train[num_att])\n",
    "test_prepared  = num_pipeline.transform(test[num_att])\n",
    "\n",
    "\n",
    "full_pipeline = ColumnTransformer([\n",
    "        (\"num\", num_pipeline, num_att),\n",
    "        (\"cat\", OneHotEncoder(), cat_att),\n",
    "    ])\n",
    "\n",
    "train_test_full_prepared = full_pipeline.fit_transform(merged_df)\n",
    "train_full_prepared = full_pipeline.transform(train2)\n",
    "test_full_prepared = full_pipeline.transform(test2)\n"
   ]
  },
  {
   "cell_type": "code",
   "execution_count": 18,
   "metadata": {},
   "outputs": [
    {
     "name": "stdout",
     "output_type": "stream",
     "text": [
      "(1460, 29)\n",
      "(1459, 29)\n",
      "(1460, 141)\n",
      "(1459, 141)\n"
     ]
    }
   ],
   "source": [
    "print(train_prepared.shape)\n",
    "print(test_prepared.shape)\n",
    "print(train_full_prepared.shape)\n",
    "print(test_full_prepared.shape)"
   ]
  },
  {
   "cell_type": "code",
   "execution_count": 19,
   "metadata": {},
   "outputs": [
    {
     "data": {
      "text/plain": [
       "0.0014825298226834821"
      ]
     },
     "execution_count": 19,
     "metadata": {},
     "output_type": "execute_result"
    }
   ],
   "source": [
    "from sklearn.metrics import mean_squared_error\n",
    "from sklearn.ensemble import RandomForestRegressor\n",
    "\n",
    "forest_reg = RandomForestRegressor(bootstrap=False, n_estimators=350, max_features=32, random_state=42)\n",
    "forest_reg.fit(train_full_prepared, train_y)\n",
    "\n",
    "housing_predictions = forest_reg.predict(train_full_prepared)\n",
    "\n",
    "forest_mse = mean_squared_error(train_y, housing_predictions)\n",
    "forest_rmse = np.sqrt(forest_mse)\n",
    "forest_rmse"
   ]
  },
  {
   "cell_type": "code",
   "execution_count": 20,
   "metadata": {},
   "outputs": [
    {
     "name": "stdout",
     "output_type": "stream",
     "text": [
      "12.247694320220951\n",
      "12.247694320220994\n"
     ]
    }
   ],
   "source": [
    "print(housing_predictions[0])\n",
    "print(train_y[0])"
   ]
  },
  {
   "cell_type": "code",
   "execution_count": 21,
   "metadata": {},
   "outputs": [
    {
     "data": {
      "text/plain": [
       "207.04794834858018"
      ]
     },
     "execution_count": 21,
     "metadata": {},
     "output_type": "execute_result"
    }
   ],
   "source": [
    "train_y_normal = np.e**train_y\n",
    "pred_normal = np.e**housing_predictions\n",
    "\n",
    "forest_mse = mean_squared_error(train_y_normal, pred_normal)\n",
    "forest_rmse = np.sqrt(forest_mse)\n",
    "forest_rmse"
   ]
  },
  {
   "cell_type": "code",
   "execution_count": 22,
   "metadata": {},
   "outputs": [
    {
     "name": "stdout",
     "output_type": "stream",
     "text": [
      "208500.0\n",
      "208499.9999999911\n"
     ]
    }
   ],
   "source": [
    "print(train_y_normal[0])\n",
    "print(pred_normal[0])"
   ]
  },
  {
   "cell_type": "code",
   "execution_count": 23,
   "metadata": {
    "scrolled": false
   },
   "outputs": [
    {
     "data": {
      "text/plain": [
       "[(0.17240796926884971, 'OverallQual'),\n",
       " (0.12745671912477852, 'GrLivArea'),\n",
       " (0.12477737500631556, 'TotalLivingSF'),\n",
       " (0.08847751229536438, 'YearBuilt'),\n",
       " (0.05479658621139709, 'TA'),\n",
       " (0.04710481964311229, 'GarageCars'),\n",
       " (0.03795046074759423, 'TotalBsmtSF'),\n",
       " (0.03484128125636639, 'GarageArea'),\n",
       " (0.03272322801120425, 'FullBath'),\n",
       " (0.02866668843242418, '1stFlrSF'),\n",
       " (0.028593994754733367, 'GarageYrBlt'),\n",
       " (0.018063647915900333, 'LotArea'),\n",
       " (0.013972715615123612, 'YearRemodAdd'),\n",
       " (0.013198504391967044, 'BsmtFinSF1'),\n",
       " (0.01299747672089102, 'Fireplaces'),\n",
       " (0.011839572169022547, '2ndFlrSF'),\n",
       " (0.00929204374992814, 'OverallCond'),\n",
       " (0.008822179656077766, 'N'),\n",
       " (0.008782829877781012, 'Y'),\n",
       " (0.008178604252855213, 'TA'),\n",
       " (0.007535282662345672, 'BsmtUnfSF'),\n",
       " (0.0073934910916752285, 'PConc'),\n",
       " (0.006522130824028453, 'TotRmsAbvGrd'),\n",
       " (0.0056748709644532346, 'OpenPorchSF'),\n",
       " (0.00533509492555899, 'LotFrontage'),\n",
       " (0.004826773348007669, 'MSSubClass'),\n",
       " (0.004775518279139705, 'Ex'),\n",
       " (0.004479343884978195, 'Gd'),\n",
       " (0.004312425770350033, 'MasVnrArea'),\n",
       " (0.0037165284111634537, 'BedroomAbvGr'),\n",
       " (0.0035713170301377916, 'Gd'),\n",
       " (0.003254325582721079, 'WoodDeckSF'),\n",
       " (0.0027571267981718953, 'HalfBath'),\n",
       " (0.0023325660509400737, 'YrSold'),\n",
       " (0.0019547924187944808, 'KitchenAbvGr'),\n",
       " (0.0019397124812722873, 'EnclosedPorch'),\n",
       " (0.0015425784333725264, 'Ex'),\n",
       " (0.0014641635119426975, '2Story'),\n",
       " (0.0014641045841656745, 'OldTown'),\n",
       " (0.0014492916680580508, 'Crawfor'),\n",
       " (0.001436063448657284, 'Edwards'),\n",
       " (0.0013829324518180772, 'BsmtFullBath'),\n",
       " (0.001376474807590201, 'Abnorml'),\n",
       " (0.001360371475924348, 'N'),\n",
       " (0.0013491150528715658, 'Normal'),\n",
       " (0.001342566317929643, 'Ex'),\n",
       " (0.0012387300184946036, 'Fa'),\n",
       " (0.0011953322827728203, '1Fam'),\n",
       " (0.0011884086150766018, 'Reg'),\n",
       " (0.001111983490025639, 'Fa'),\n",
       " (0.0009886936257040278, 'Y'),\n",
       " (0.0009504449192685839, 'Hip'),\n",
       " (0.0009486583290498363, 'Bnk'),\n",
       " (0.0009123530816062718, 'Gable'),\n",
       " (0.0008953355136770469, 'TA'),\n",
       " (0.0008318770590875391, 'Lvl'),\n",
       " (0.0007746561370155275, 'IR1'),\n",
       " (0.0007691165133362829, 'TA'),\n",
       " (0.000764049968699223, 'CBlock'),\n",
       " (0.0007601290364365873, 'IDOTRR'),\n",
       " (0.000693146567484142, 'Gtl'),\n",
       " (0.0006800825129633502, 'BrkTil'),\n",
       " (0.0006751562761806121, 'Norm'),\n",
       " (0.0006597427908008064, '1Story'),\n",
       " (0.0006585104724254853, 'NAmes'),\n",
       " (0.0006557056291974159, 'Inside'),\n",
       " (0.0005958536412980199, 'Fa'),\n",
       " (0.0005568743780101891, 'Partial'),\n",
       " (0.0005425234674018206, '1.5Fin'),\n",
       " (0.0005217467504097044, 'Corner'),\n",
       " (0.0005166926587051738, 'Gd'),\n",
       " (0.000493152303649236, 'Mod'),\n",
       " (0.0004890921138985427, 'Fa'),\n",
       " (0.0004790775550056224, 'Artery'),\n",
       " (0.0004732505620340452, 'Family'),\n",
       " (0.00045202101878401865, 'Gd'),\n",
       " (0.00043646773610992096, 'ClearCr'),\n",
       " (0.00042595157671810924, 'Sawyer'),\n",
       " (0.00040307988659530697, 'Feedr'),\n",
       " (0.00036640336487065426, 'CulDSac'),\n",
       " (0.0003571567987874035, 'Low'),\n",
       " (0.0003490202594924405, 'HLS'),\n",
       " (0.00032410057278887754, 'MeadowV'),\n",
       " (0.0003122543902931933, 'Alloca'),\n",
       " (0.00031134758380328844, 'Somerst'),\n",
       " (0.0002962410123625783, 'Gambrel'),\n",
       " (0.0002775457443664555, 'BrkSide'),\n",
       " (0.0002617027511331645, 'Flat'),\n",
       " (0.0002580212524660212, 'NWAmes'),\n",
       " (0.00025791875122434363, 'P'),\n",
       " (0.00025637022439903225, 'NoRidge'),\n",
       " (0.00024912024502126345, 'CollgCr'),\n",
       " (0.0002474132434458441, 'NridgHt'),\n",
       " (0.00023533280403823442, 'StoneBr'),\n",
       " (0.0002279910055777183, 'Slab'),\n",
       " (0.00022381058722635054, 'GasA'),\n",
       " (0.00020067471825649375, 'Grav'),\n",
       " (0.00020052323769101306, 'TwnhsE'),\n",
       " (0.0001976118435380713, 'SLvl'),\n",
       " (0.00018895587568435327, 'FR2'),\n",
       " (0.00018647267612387515, 'Mitchel'),\n",
       " (0.0001864203224273838, 'Duplex'),\n",
       " (0.00018251514691903793, 'IR2'),\n",
       " (0.00017317599456735916, 'Gilbert'),\n",
       " (0.0001629110459575553, 'Twnhs'),\n",
       " (0.00015804731435177925, 'GasW'),\n",
       " (0.00015609200244841138, 'Sev'),\n",
       " (0.00015579747714265777, 'PosN'),\n",
       " (0.00015088426767942005, 'Pave'),\n",
       " (0.00015060901809661563, 'BrDale'),\n",
       " (0.00014824131207865853, 'SawyerW'),\n",
       " (0.00014501499174761153, 'SWISU'),\n",
       " (0.00012625272796668342, 'Timber'),\n",
       " (0.00011928431130904795, '2fmCon'),\n",
       " (0.00011778161758434024, 'RRAn'),\n",
       " (0.00011220508201089428, 'RRAe'),\n",
       " (0.00010483061310133082, 'Grvl'),\n",
       " (8.32264312614678e-05, 'IR3'),\n",
       " (6.022101059834057e-05, '2.5Unf'),\n",
       " (5.4843881101000446e-05, '1.5Unf'),\n",
       " (5.211133111244139e-05, '2.5Fin'),\n",
       " (4.778319703637676e-05, 'SFoyer'),\n",
       " (4.6694739769598156e-05, 'OthW'),\n",
       " (4.271303026186589e-05, 'Blmngtn'),\n",
       " (4.190978654422349e-05, 'PosA'),\n",
       " (3.346592345297666e-05, 'Veenker'),\n",
       " (2.3957653480683314e-05, 'NPkVill'),\n",
       " (1.8479404876220763e-05, 'Po'),\n",
       " (1.8471151145083513e-05, 'Stone'),\n",
       " (1.7856064925266338e-05, 'Mansard'),\n",
       " (1.622198282663103e-05, 'Ex'),\n",
       " (1.613417194525848e-05, 'FR3'),\n",
       " (1.5746164775703784e-05, 'Wood'),\n",
       " (1.1519286200494555e-05, 'RRNn'),\n",
       " (1.0346064421494115e-05, 'AdjLand'),\n",
       " (5.271684337209378e-06, 'Blueste'),\n",
       " (4.76051388337226e-06, 'Shed'),\n",
       " (4.744008456386775e-06, 'Wall'),\n",
       " (3.7273036836104086e-06, 'Floor'),\n",
       " (1.7671040289362986e-06, 'RRNe'),\n",
       " (9.080562187932166e-07, 'Po')]"
      ]
     },
     "execution_count": 23,
     "metadata": {},
     "output_type": "execute_result"
    }
   ],
   "source": [
    "# forest_reg.feature_importances_\n",
    "\n",
    "cat_encoder = full_pipeline.named_transformers_[\"cat\"]\n",
    "cat_one_hot_attribs = []\n",
    "for a in cat_encoder.categories_:\n",
    "    for b in a:\n",
    "        cat_one_hot_attribs.append(b)\n",
    "# print(cat_one_hot_attribs)\n",
    "attributes = num_att + cat_one_hot_attribs\n",
    "sorted(zip(forest_reg.feature_importances_, attributes), reverse=True)"
   ]
  },
  {
   "cell_type": "code",
   "execution_count": 18,
   "metadata": {},
   "outputs": [
    {
     "name": "stdout",
     "output_type": "stream",
     "text": [
      "scores: [0.13157721 0.12080204 0.13062403 0.17242126 0.15596222 0.11296874\n",
      " 0.13557137 0.11685503 0.12921487 0.13700726]\n",
      "mean: 0.13430040425834927\n",
      "std: 0.01708729678845549\n",
      "count    10.000000\n",
      "mean      0.134300\n",
      "std       0.018012\n",
      "min       0.112969\n",
      "25%       0.122905\n",
      "50%       0.131101\n",
      "75%       0.136648\n",
      "max       0.172421\n",
      "dtype: float64\n"
     ]
    }
   ],
   "source": [
    "from sklearn.model_selection import cross_val_score\n",
    "def display_scores(scores):\n",
    "    print(\"scores:\", scores)\n",
    "    print(\"mean:\", scores.mean())\n",
    "    print(\"std:\", scores.std())\n",
    "\n",
    "forest_reg = RandomForestRegressor(bootstrap=False, n_estimators=450, max_features=32, random_state=42)\n",
    "forest_reg.fit(train_full_prepared, train_y)\n",
    "\n",
    "forest_scores = cross_val_score(forest_reg, train_full_prepared, train_y,\n",
    "                                scoring=\"neg_mean_squared_error\", cv=10)\n",
    "forest_rmse_scores = np.sqrt(-forest_scores)\n",
    "display_scores(forest_rmse_scores)\n",
    "\n",
    "print(pd.Series(forest_rmse_scores).describe())"
   ]
  },
  {
   "cell_type": "code",
   "execution_count": 24,
   "metadata": {},
   "outputs": [
    {
     "name": "stdout",
     "output_type": "stream",
     "text": [
      "Fitting 10 folds for each of 15 candidates, totalling 150 fits\n"
     ]
    },
    {
     "name": "stderr",
     "output_type": "stream",
     "text": [
      "[Parallel(n_jobs=-1)]: Using backend LokyBackend with 12 concurrent workers.\n",
      "[Parallel(n_jobs=-1)]: Done   8 tasks      | elapsed:    3.2s\n",
      "/home/marek/anaconda3/lib/python3.7/site-packages/joblib/externals/loky/process_executor.py:706: UserWarning: A worker stopped while some jobs were given to the executor. This can be caused by a too short worker timeout or by a memory leak.\n",
      "  \"timeout or by a memory leak.\", UserWarning\n",
      "[Parallel(n_jobs=-1)]: Done 104 tasks      | elapsed:   54.7s\n",
      "[Parallel(n_jobs=-1)]: Done 150 out of 150 | elapsed:  1.6min finished\n"
     ]
    },
    {
     "data": {
      "text/plain": [
       "GridSearchCV(cv=10, error_score='raise-deprecating',\n",
       "             estimator=RandomForestRegressor(bootstrap=True, criterion='mse',\n",
       "                                             max_depth=None,\n",
       "                                             max_features='auto',\n",
       "                                             max_leaf_nodes=None,\n",
       "                                             min_impurity_decrease=0.0,\n",
       "                                             min_impurity_split=None,\n",
       "                                             min_samples_leaf=1,\n",
       "                                             min_samples_split=2,\n",
       "                                             min_weight_fraction_leaf=0.0,\n",
       "                                             n_estimators='warn', n_jobs=None,\n",
       "                                             oob_score=False, random_state=42,\n",
       "                                             verbose=0, warm_start=False),\n",
       "             iid='warn', n_jobs=-1,\n",
       "             param_grid=[{'bootstrap': [False], 'max_features': [16, 32, 48],\n",
       "                          'n_estimators': [100, 300, 400, 500, 600]}],\n",
       "             pre_dispatch='2*n_jobs', refit=True, return_train_score=True,\n",
       "             scoring='neg_mean_squared_error', verbose=3)"
      ]
     },
     "execution_count": 24,
     "metadata": {},
     "output_type": "execute_result"
    }
   ],
   "source": [
    "from sklearn.model_selection import GridSearchCV\n",
    "\n",
    "param_grid = [\n",
    "    # sprawdza 12 (3×4) kombinacji hiperparametrów\n",
    "#     {'n_estimators': [100, 200, 300, 350, 400, 450], 'max_features': [16, 32, 64]},\n",
    "    # następnie sprawdza 6 (2×3) kombinacji z wyłączonym parametrem bootstrap (False)\n",
    "    {'bootstrap': [False], 'n_estimators': [100, 300, 400, 500, 600], \n",
    "     'max_features': [16, 32, 48]},\n",
    "  ]\n",
    "\n",
    "forest_reg = RandomForestRegressor(random_state=42)\n",
    "# przeprowadza proces uczenia na pięciu podzbiorach, czyli łącznie (12+6)*5=90 przebiegów \n",
    "grid_search = GridSearchCV(forest_reg, param_grid, cv=10,\n",
    "                           scoring='neg_mean_squared_error',\n",
    "                           return_train_score=True, verbose=3, n_jobs=-1)\n",
    "grid_search.fit(train_full_prepared, train_y)"
   ]
  },
  {
   "cell_type": "code",
   "execution_count": 25,
   "metadata": {},
   "outputs": [
    {
     "data": {
      "text/plain": [
       "{'bootstrap': False, 'max_features': 32, 'n_estimators': 500}"
      ]
     },
     "execution_count": 25,
     "metadata": {},
     "output_type": "execute_result"
    }
   ],
   "source": [
    "grid_search.best_params_"
   ]
  },
  {
   "cell_type": "code",
   "execution_count": 22,
   "metadata": {},
   "outputs": [
    {
     "data": {
      "text/plain": [
       "RandomForestRegressor(bootstrap=False, criterion='mse', max_depth=None,\n",
       "                      max_features=32, max_leaf_nodes=None,\n",
       "                      min_impurity_decrease=0.0, min_impurity_split=None,\n",
       "                      min_samples_leaf=1, min_samples_split=2,\n",
       "                      min_weight_fraction_leaf=0.0, n_estimators=450,\n",
       "                      n_jobs=None, oob_score=False, random_state=42, verbose=0,\n",
       "                      warm_start=False)"
      ]
     },
     "execution_count": 22,
     "metadata": {},
     "output_type": "execute_result"
    }
   ],
   "source": [
    "grid_search.best_estimator_"
   ]
  },
  {
   "cell_type": "code",
   "execution_count": 26,
   "metadata": {},
   "outputs": [
    {
     "name": "stdout",
     "output_type": "stream",
     "text": [
      "0.13509855489372385 {'bootstrap': False, 'max_features': 16, 'n_estimators': 100}\n",
      "0.1350214956385819 {'bootstrap': False, 'max_features': 16, 'n_estimators': 300}\n",
      "0.13490501002012575 {'bootstrap': False, 'max_features': 16, 'n_estimators': 400}\n",
      "0.13479577643464272 {'bootstrap': False, 'max_features': 16, 'n_estimators': 500}\n",
      "0.1347853903105565 {'bootstrap': False, 'max_features': 16, 'n_estimators': 600}\n",
      "0.13575921832697382 {'bootstrap': False, 'max_features': 32, 'n_estimators': 100}\n",
      "0.13447746949185804 {'bootstrap': False, 'max_features': 32, 'n_estimators': 300}\n",
      "0.13405718887201848 {'bootstrap': False, 'max_features': 32, 'n_estimators': 400}\n",
      "0.13394454746542164 {'bootstrap': False, 'max_features': 32, 'n_estimators': 500}\n",
      "0.13397329999713675 {'bootstrap': False, 'max_features': 32, 'n_estimators': 600}\n",
      "0.1356974940724025 {'bootstrap': False, 'max_features': 48, 'n_estimators': 100}\n",
      "0.13476219388148505 {'bootstrap': False, 'max_features': 48, 'n_estimators': 300}\n",
      "0.1349789448592089 {'bootstrap': False, 'max_features': 48, 'n_estimators': 400}\n",
      "0.13493759635963562 {'bootstrap': False, 'max_features': 48, 'n_estimators': 500}\n",
      "0.13498047669872903 {'bootstrap': False, 'max_features': 48, 'n_estimators': 600}\n"
     ]
    }
   ],
   "source": [
    "cvres = grid_search.cv_results_\n",
    "for mean_score, params in zip(cvres[\"mean_test_score\"], cvres[\"params\"]):\n",
    "    print(np.sqrt(-mean_score), params)"
   ]
  },
  {
   "cell_type": "code",
   "execution_count": 27,
   "metadata": {},
   "outputs": [
    {
     "data": {
      "text/plain": [
       "array([4.75200194e-03, 5.42105940e-03, 1.79027194e-02, 1.75817269e-01,\n",
       "       9.02261180e-03, 8.17900368e-02, 1.49511421e-02, 4.01375284e-03,\n",
       "       1.28762117e-02, 7.49236741e-03, 3.73697403e-02, 3.04633329e-02,\n",
       "       1.20439237e-02, 1.30217533e-01, 1.44763979e-03, 3.13069074e-02,\n",
       "       2.70619616e-03, 3.70236354e-03, 2.01907802e-03, 6.54129353e-03,\n",
       "       1.33137014e-02, 2.82529355e-02, 4.78086006e-02, 3.53502767e-02,\n",
       "       3.26204936e-03, 5.67645824e-03, 1.92686197e-03, 2.29946273e-03,\n",
       "       1.22970983e-01, 3.96523399e-05, 5.98348214e-06, 1.44288888e-04,\n",
       "       2.96083182e-04, 4.15994799e-04, 2.43848956e-04, 1.40908352e-03,\n",
       "       1.41904382e-03, 1.65808982e-04, 7.59230662e-04, 3.16655856e-04,\n",
       "       1.91143357e-04, 6.76448773e-04, 2.55915011e-05, 2.40751651e-04,\n",
       "       2.24659871e-04, 2.70802004e-04, 1.41750005e-03, 1.58140005e-04,\n",
       "       4.14862305e-04, 1.48515920e-04, 3.25781173e-04, 2.15533256e-04,\n",
       "       1.25468216e-04, 4.07327771e-05, 1.17385369e-03, 1.21643388e-04,\n",
       "       2.22924789e-04, 1.56678008e-04, 2.09801629e-04, 4.95843879e-06,\n",
       "       2.27306387e-04, 1.55215133e-04, 1.95418981e-04, 5.78966749e-05,\n",
       "       3.82135889e-06, 1.57046443e-03, 6.39731328e-04, 4.93369226e-04,\n",
       "       1.40781531e-06, 7.35468274e-04, 8.53432604e-03, 8.57631161e-03,\n",
       "       1.15847499e-04, 1.37675965e-04, 7.86370446e-04, 1.80468121e-04,\n",
       "       1.04443947e-04, 1.22852135e-03, 1.03213551e-03, 3.68526037e-04,\n",
       "       3.48302891e-04, 7.85531792e-04, 5.20168978e-04, 3.43378075e-04,\n",
       "       1.83149541e-04, 1.56791433e-05, 6.45265986e-04, 6.37995386e-04,\n",
       "       4.99610042e-04, 1.45651327e-04, 4.82117511e-04, 4.15230052e-04,\n",
       "       6.75911922e-04, 3.80892445e-05, 1.52825679e-04, 1.15077381e-04,\n",
       "       1.19248774e-04, 1.85204473e-06, 1.01374232e-05, 5.54977487e-04,\n",
       "       6.39178559e-05, 6.89681622e-04, 6.65722865e-05, 6.55495072e-05,\n",
       "       1.34552066e-03, 5.55388664e-05, 1.93483285e-04, 2.84362403e-04,\n",
       "       8.76890589e-04, 2.79279265e-04, 8.36853391e-04, 1.55133975e-05,\n",
       "       4.83593836e-06, 1.72658241e-03, 1.18947860e-03, 4.76748295e-03,\n",
       "       5.44724347e-02, 1.62762353e-05, 1.31278228e-03, 4.47180684e-04,\n",
       "       1.89976614e-05, 8.44838770e-04, 6.86962108e-04, 7.54512896e-04,\n",
       "       6.07792213e-03, 2.00949502e-04, 1.79912811e-05, 1.61418027e-05,\n",
       "       1.28227574e-03, 2.50474987e-04, 1.03245139e-03, 1.37756657e-03,\n",
       "       1.33653139e-05, 2.81984240e-04, 4.78030568e-04, 1.34242004e-03,\n",
       "       5.89423712e-04, 4.58132161e-03, 6.12829816e-04, 3.53962518e-03,\n",
       "       1.11547955e-02])"
      ]
     },
     "execution_count": 27,
     "metadata": {},
     "output_type": "execute_result"
    }
   ],
   "source": [
    "feature_importances = grid_search.best_estimator_.feature_importances_\n",
    "feature_importances"
   ]
  },
  {
   "cell_type": "code",
   "execution_count": 28,
   "metadata": {
    "scrolled": false
   },
   "outputs": [
    {
     "data": {
      "text/plain": [
       "[(0.17581726856172833, 'OverallQual'),\n",
       " (0.1302175334503982, 'GrLivArea'),\n",
       " (0.1229709827799691, 'TotalLivingSF'),\n",
       " (0.08179003676465492, 'YearBuilt'),\n",
       " (0.05447243473111387, 'TA'),\n",
       " (0.04780860055424814, 'GarageCars'),\n",
       " (0.037369740305999495, 'TotalBsmtSF'),\n",
       " (0.035350276728189585, 'GarageArea'),\n",
       " (0.031306907447632086, 'FullBath'),\n",
       " (0.03046333293458179, '1stFlrSF'),\n",
       " (0.02825293554774832, 'GarageYrBlt'),\n",
       " (0.017902719361605937, 'LotArea'),\n",
       " (0.014951142075388857, 'YearRemodAdd'),\n",
       " (0.013313701428322753, 'Fireplaces'),\n",
       " (0.012876211664319449, 'BsmtFinSF1'),\n",
       " (0.012043923748304548, '2ndFlrSF'),\n",
       " (0.011154795512933403, 'TA'),\n",
       " (0.009022611795706723, 'OverallCond'),\n",
       " (0.00857631160946941, 'Y'),\n",
       " (0.008534326040249998, 'N'),\n",
       " (0.007492367408264524, 'BsmtUnfSF'),\n",
       " (0.006541293532809927, 'TotRmsAbvGrd'),\n",
       " (0.00607792213492522, 'PConc'),\n",
       " (0.00567645824383866, 'OpenPorchSF'),\n",
       " (0.0054210594037579505, 'LotFrontage'),\n",
       " (0.004767482951733318, 'Gd'),\n",
       " (0.0047520019427712565, 'MSSubClass'),\n",
       " (0.004581321614329727, 'Ex'),\n",
       " (0.004013752844928777, 'MasVnrArea'),\n",
       " (0.0037023635352181755, 'BedroomAbvGr'),\n",
       " (0.0035396251752868742, 'Gd'),\n",
       " (0.0032620493594562577, 'WoodDeckSF'),\n",
       " (0.0027061961633039764, 'HalfBath'),\n",
       " (0.0022994627311518187, 'YrSold'),\n",
       " (0.002019078024506761, 'KitchenAbvGr'),\n",
       " (0.0019268619689708335, 'EnclosedPorch'),\n",
       " (0.0017265824068782077, 'Ex'),\n",
       " (0.0015704644338101767, 'Ex'),\n",
       " (0.001447639788106183, 'BsmtFullBath'),\n",
       " (0.0014190438200662088, 'Edwards'),\n",
       " (0.0014175000527773362, 'OldTown'),\n",
       " (0.0014090835192062442, 'Crawfor'),\n",
       " (0.0013775665744708968, 'Abnorml'),\n",
       " (0.0013455206552620762, '2Story'),\n",
       " (0.001342420044957816, 'Normal'),\n",
       " (0.001312782281691057, 'Fa'),\n",
       " (0.0012822757367790044, 'N'),\n",
       " (0.0012285213504336782, 'Reg'),\n",
       " (0.0011894786038054, 'Fa'),\n",
       " (0.0011738536903858094, '1Fam'),\n",
       " (0.0010324513899936105, 'Y'),\n",
       " (0.0010321355087223685, 'Bnk'),\n",
       " (0.0008768905890655166, 'Gable'),\n",
       " (0.0008448387697413889, 'TA'),\n",
       " (0.000836853391481373, 'Hip'),\n",
       " (0.0007863704462965958, 'IR1'),\n",
       " (0.000785531791794519, 'Lvl'),\n",
       " (0.0007592306624146013, 'IDOTRR'),\n",
       " (0.0007545128963953772, 'CBlock'),\n",
       " (0.0007354682738610851, 'TA'),\n",
       " (0.0006896816218806307, '1Story'),\n",
       " (0.0006869621080123481, 'BrkTil'),\n",
       " (0.0006764487725818478, 'NAmes'),\n",
       " (0.0006759119218189285, 'Norm'),\n",
       " (0.0006452659855341179, 'Inside'),\n",
       " (0.0006397313277996396, 'Fa'),\n",
       " (0.0006379953864719508, 'Gtl'),\n",
       " (0.0006128298156132528, 'Fa'),\n",
       " (0.0005894237120567704, 'Partial'),\n",
       " (0.0005549774870334136, '1.5Fin'),\n",
       " (0.0005201689777330083, 'Corner'),\n",
       " (0.0004996100417386534, 'Mod'),\n",
       " (0.0004933692258857264, 'Gd'),\n",
       " (0.0004821175110526787, 'Artery'),\n",
       " (0.00047803056769650136, 'Family'),\n",
       " (0.00044718068438905686, 'Gd'),\n",
       " (0.0004159947990910566, 'ClearCr'),\n",
       " (0.0004152300518709338, 'Feedr'),\n",
       " (0.000414862305034556, 'Sawyer'),\n",
       " (0.000368526036775985, 'HLS'),\n",
       " (0.00034830289094158265, 'Low'),\n",
       " (0.0003433780748079388, 'CulDSac'),\n",
       " (0.0003257811725877578, 'Somerst'),\n",
       " (0.000316655855809442, 'MeadowV'),\n",
       " (0.000296083181776459, 'BrkSide'),\n",
       " (0.00028436240307337684, 'Flat'),\n",
       " (0.0002819842398648686, 'Alloca'),\n",
       " (0.0002792792645850819, 'Gambrel'),\n",
       " (0.0002708020043419509, 'NridgHt'),\n",
       " (0.0002504749869328151, 'P'),\n",
       " (0.00024384895617764565, 'CollgCr'),\n",
       " (0.00024075165123162173, 'NWAmes'),\n",
       " (0.00022730638733999483, 'GasA'),\n",
       " (0.0002246598710192419, 'NoRidge'),\n",
       " (0.00022292478922231946, 'Duplex'),\n",
       " (0.00021553325575619214, 'StoneBr'),\n",
       " (0.00020980162907759735, 'TwnhsE'),\n",
       " (0.000200949501835222, 'Slab'),\n",
       " (0.00019541898092618004, 'Grav'),\n",
       " (0.00019348328481624358, 'SLvl'),\n",
       " (0.00019114335677531647, 'Mitchel'),\n",
       " (0.00018314954050132644, 'FR2'),\n",
       " (0.00018046812119296382, 'IR2'),\n",
       " (0.00016580898181374726, 'Gilbert'),\n",
       " (0.00015814000492777463, 'SWISU'),\n",
       " (0.00015667800835575087, 'Twnhs'),\n",
       " (0.00015521513299510568, 'GasW'),\n",
       " (0.00015282567870219244, 'PosN'),\n",
       " (0.00014851592001184104, 'SawyerW'),\n",
       " (0.00014565132711155692, 'Sev'),\n",
       " (0.00014428888825306153, 'BrDale'),\n",
       " (0.00013767596499703424, 'Pave'),\n",
       " (0.00012546821593883417, 'Timber'),\n",
       " (0.00012164338754339087, '2fmCon'),\n",
       " (0.00011924877435999497, 'RRAn'),\n",
       " (0.0001158474991971969, 'Grvl'),\n",
       " (0.00011507738118729844, 'RRAe'),\n",
       " (0.00010444394741735418, 'IR3'),\n",
       " (6.65722865033481e-05, '2.5Fin'),\n",
       " (6.554950723575252e-05, '2.5Unf'),\n",
       " (6.39178559195672e-05, '1.5Unf'),\n",
       " (5.789667492439433e-05, 'OthW'),\n",
       " (5.553886643723477e-05, 'SFoyer'),\n",
       " (4.073277707488133e-05, 'Veenker'),\n",
       " (3.9652339909616525e-05, 'Blmngtn'),\n",
       " (3.8089244545993374e-05, 'PosA'),\n",
       " (2.559150113383018e-05, 'NPkVill'),\n",
       " (1.8997661375683537e-05, 'Po'),\n",
       " (1.799128114756766e-05, 'Stone'),\n",
       " (1.6276235255841075e-05, 'Ex'),\n",
       " (1.614180270414545e-05, 'Wood'),\n",
       " (1.567914330425455e-05, 'FR3'),\n",
       " (1.5513397474968258e-05, 'Mansard'),\n",
       " (1.3365313887896213e-05, 'AdjLand'),\n",
       " (1.0137423246913628e-05, 'RRNn'),\n",
       " (5.9834821401617125e-06, 'Blueste'),\n",
       " (4.958438792367115e-06, 'Floor'),\n",
       " (4.835938359722868e-06, 'Shed'),\n",
       " (3.821358888426192e-06, 'Wall'),\n",
       " (1.8520447325721691e-06, 'RRNe'),\n",
       " (1.407815313057778e-06, 'Po')]"
      ]
     },
     "execution_count": 28,
     "metadata": {},
     "output_type": "execute_result"
    }
   ],
   "source": [
    "cat_encoder = full_pipeline.named_transformers_[\"cat\"]\n",
    "cat_one_hot_attribs = []\n",
    "for a in cat_encoder.categories_:\n",
    "    for b in a:\n",
    "        cat_one_hot_attribs.append(b)\n",
    "# print(cat_one_hot_attribs)\n",
    "attributes = num_att + cat_one_hot_attribs\n",
    "sorted(zip(feature_importances, attributes), reverse=True)"
   ]
  },
  {
   "cell_type": "code",
   "execution_count": 30,
   "metadata": {},
   "outputs": [],
   "source": [
    "# y_pred = forest_reg.predict(test_full_prepared)\n",
    "y_pred = grid_search.predict(test_full_prepared)\n",
    "y_pred_normal = np.e**y_pred\n",
    "sub = pd.DataFrame({'Id': test['Id'], 'SalePrice': y_pred_normal})"
   ]
  },
  {
   "cell_type": "code",
   "execution_count": 31,
   "metadata": {},
   "outputs": [],
   "source": [
    "sub.to_csv(\"data/submission_script37_kitchen_qual.csv\", index=False)"
   ]
  },
  {
   "cell_type": "code",
   "execution_count": 28,
   "metadata": {},
   "outputs": [
    {
     "data": {
      "text/plain": [
       "(1459, 2)"
      ]
     },
     "execution_count": 28,
     "metadata": {},
     "output_type": "execute_result"
    }
   ],
   "source": [
    "sub.shape"
   ]
  },
  {
   "cell_type": "code",
   "execution_count": null,
   "metadata": {},
   "outputs": [],
   "source": []
  }
 ],
 "metadata": {
  "kernelspec": {
   "display_name": "Python 3",
   "language": "python",
   "name": "python3"
  },
  "language_info": {
   "codemirror_mode": {
    "name": "ipython",
    "version": 3
   },
   "file_extension": ".py",
   "mimetype": "text/x-python",
   "name": "python",
   "nbconvert_exporter": "python",
   "pygments_lexer": "ipython3",
   "version": "3.7.4"
  }
 },
 "nbformat": 4,
 "nbformat_minor": 2
}
