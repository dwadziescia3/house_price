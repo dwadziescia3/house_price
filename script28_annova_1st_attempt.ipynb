{
 "cells": [
  {
   "cell_type": "code",
   "execution_count": 1,
   "metadata": {},
   "outputs": [],
   "source": [
    "import sys\n",
    "assert sys.version_info >= (3, 5)\n",
    "\n",
    "import sklearn\n",
    "assert sklearn.__version__ >= \"0.20\"\n",
    "\n",
    "import numpy as np\n",
    "import os\n",
    "\n",
    "import matplotlib as mpl\n",
    "import matplotlib.pyplot as plt\n",
    "mpl.rc('axes', labelsize=14)\n",
    "mpl.rc('xtick', labelsize=12)\n",
    "mpl.rc('ytick', labelsize=12)\n",
    "\n",
    "import warnings\n",
    "warnings.filterwarnings(action=\"ignore\", message=\"^internal gelsd\")"
   ]
  },
  {
   "cell_type": "code",
   "execution_count": 2,
   "metadata": {},
   "outputs": [],
   "source": [
    "import pandas as pd\n",
    "\n",
    "def load_housing_data(housing_path='data'):\n",
    "    train_csv_path = os.path.join(housing_path, \"train.csv\")\n",
    "    test_csv_path = os.path.join(housing_path, \"test.csv\")\n",
    "    return pd.read_csv(train_csv_path), pd.read_csv(test_csv_path)\n",
    "\n",
    "train, test = load_housing_data()"
   ]
  },
  {
   "cell_type": "code",
   "execution_count": 3,
   "metadata": {},
   "outputs": [
    {
     "data": {
      "text/plain": [
       "SalePrice        1.000000\n",
       "OverallQual      0.790982\n",
       "GrLivArea        0.708624\n",
       "GarageCars       0.640409\n",
       "GarageArea       0.623431\n",
       "TotalBsmtSF      0.613581\n",
       "1stFlrSF         0.605852\n",
       "FullBath         0.560664\n",
       "TotRmsAbvGrd     0.533723\n",
       "YearBuilt        0.522897\n",
       "YearRemodAdd     0.507101\n",
       "GarageYrBlt      0.486362\n",
       "MasVnrArea       0.477493\n",
       "Fireplaces       0.466929\n",
       "BsmtFinSF1       0.386420\n",
       "LotFrontage      0.351799\n",
       "WoodDeckSF       0.324413\n",
       "2ndFlrSF         0.319334\n",
       "OpenPorchSF      0.315856\n",
       "HalfBath         0.284108\n",
       "LotArea          0.263843\n",
       "BsmtFullBath     0.227122\n",
       "BsmtUnfSF        0.214479\n",
       "BedroomAbvGr     0.168213\n",
       "ScreenPorch      0.111447\n",
       "PoolArea         0.092404\n",
       "MoSold           0.046432\n",
       "3SsnPorch        0.044584\n",
       "BsmtFinSF2      -0.011378\n",
       "BsmtHalfBath    -0.016844\n",
       "MiscVal         -0.021190\n",
       "Id              -0.021917\n",
       "LowQualFinSF    -0.025606\n",
       "YrSold          -0.028923\n",
       "OverallCond     -0.077856\n",
       "MSSubClass      -0.084284\n",
       "EnclosedPorch   -0.128578\n",
       "KitchenAbvGr    -0.135907\n",
       "Name: SalePrice, dtype: float64"
      ]
     },
     "execution_count": 3,
     "metadata": {},
     "output_type": "execute_result"
    }
   ],
   "source": [
    "corr_matrix = train.corr()\n",
    "corr_matrix[\"SalePrice\"].sort_values(ascending=False)"
   ]
  },
  {
   "cell_type": "code",
   "execution_count": 4,
   "metadata": {},
   "outputs": [
    {
     "name": "stdout",
     "output_type": "stream",
     "text": [
      "['MSSubClass', 'LotFrontage', 'LotArea', 'OverallQual', 'OverallCond', 'YearBuilt', 'YearRemodAdd', 'MasVnrArea', 'BsmtFinSF1', 'BsmtUnfSF', 'TotalBsmtSF', '1stFlrSF', '2ndFlrSF', 'GrLivArea', 'BsmtFullBath', 'FullBath', 'HalfBath', 'BedroomAbvGr', 'KitchenAbvGr', 'TotRmsAbvGrd', 'Fireplaces', 'GarageYrBlt', 'GarageCars', 'GarageArea', 'WoodDeckSF', 'OpenPorchSF', 'EnclosedPorch', 'YrSold']\n"
     ]
    }
   ],
   "source": [
    "num_att = list(train.select_dtypes([np.number]).columns)\n",
    "\n",
    "# att = ['OverallQual', 'GrLivArea']\n",
    "\n",
    "# to_remove = ['BsmtFinSF2', 'MoSold', '3SsnPorch', 'BsmtHalfBath', 'MiscVal', 'LowQualFinSF', 'YrSold',\n",
    "#             'PoolArea', 'OverallCond', 'MSSubClass', 'ScreenPorch']\n",
    "\n",
    "to_remove = ['PoolArea', 'BsmtHalfBath', 'MiscVal', 'LowQualFinSF', 'ScreenPorch', '3SsnPorch',\n",
    "            'BsmtFinSF2', 'MoSold', 'YrSold',\n",
    "            'GarageArea', 'TotalBsmtSF']\n",
    "\n",
    "to_remove = ['PoolArea', 'BsmtHalfBath', 'MiscVal', 'LowQualFinSF', 'ScreenPorch', '3SsnPorch',\n",
    "            'BsmtFinSF2', 'MoSold']\n",
    "\n",
    "for t in to_remove:\n",
    "    num_att.remove(t)\n",
    "num_att.remove('Id')\n",
    "num_att.remove('SalePrice')\n",
    "\n",
    "# num_att = ['OverallQual', 'GrLivArea', 'GarageCars', '1stFlrSF', 'FullBath', 'YearBuilt']\n",
    "\n",
    "print(num_att)"
   ]
  },
  {
   "cell_type": "code",
   "execution_count": 5,
   "metadata": {},
   "outputs": [
    {
     "name": "stdout",
     "output_type": "stream",
     "text": [
      "['LotShape', 'LandContour', 'Neighborhood', 'BldgType', 'HouseStyle', 'RoofStyle', 'ExterQual', 'Foundation', 'BsmtQual', 'BsmtCond', 'BsmtExposure', 'BsmtFinType1', 'HeatingQC', 'CentralAir', 'PavedDrive', 'SaleCondition']\n"
     ]
    }
   ],
   "source": [
    "cat_att = ['BldgType', 'CentralAir', 'Foundation', \n",
    "           'PavedDrive', 'SaleCondition']\n",
    "cat_att = ['Neighborhood', 'BldgType', 'Heating', 'HeatingQC', 'CentralAir', \n",
    "           'Street', 'LotShape', 'LandContour', 'LotConfig',\n",
    "           'LandSlope', 'Condition1', 'HouseStyle', 'RoofStyle', \n",
    "           'ExterQual', 'ExterCond', 'Foundation', 'PavedDrive', 'SaleCondition']\n",
    "\n",
    "cat_att = ['LotShape', 'LandContour', 'Neighborhood', 'BldgType', 'HouseStyle', 'RoofStyle', \n",
    "           'ExterQual', 'Foundation', 'BsmtQual', 'BsmtCond', 'BsmtExposure', 'BsmtFinType1', \n",
    "           'HeatingQC', 'CentralAir', 'PavedDrive', 'SaleCondition']\n",
    "\n",
    "bsmt_cat_att = ['BsmtQual', 'BsmtCond', 'BsmtExposure', 'BsmtFinType1']\n",
    "for a in bsmt_cat_att:\n",
    "    train[a].fillna('NB', inplace=True)\n",
    "    test[a].fillna('NB', inplace=True)\n",
    "    \n",
    "# TO ADD = Exterior1st, KitchenQual, Functional, SaleType, Alley, Condition2\n",
    "\n",
    "# cat_att = ['Neighborhood', 'BldgType']\n",
    "print(cat_att)"
   ]
  },
  {
   "cell_type": "code",
   "execution_count": 6,
   "metadata": {},
   "outputs": [],
   "source": [
    "for a in num_att:\n",
    "    median = train[a].median()\n",
    "    train[a].fillna(median, inplace=True)\n",
    "    \n",
    "#     median = test[a].median()\n",
    "    test[a].fillna(median, inplace=True)"
   ]
  },
  {
   "cell_type": "code",
   "execution_count": 7,
   "metadata": {},
   "outputs": [
    {
     "name": "stderr",
     "output_type": "stream",
     "text": [
      "/home/marek/anaconda3/lib/python3.7/site-packages/pandas/core/series.py:853: RuntimeWarning: divide by zero encountered in log\n",
      "  result = getattr(ufunc, method)(*inputs, **kwargs)\n"
     ]
    }
   ],
   "source": [
    "import seaborn as sns\n",
    "from scipy.stats import norm\n",
    "from scipy import stats\n",
    "\n",
    "train['SalePrice'] = np.log(train['SalePrice'])\n",
    "train_y = train[\"SalePrice\"].copy()\n",
    "\n",
    "train['GrLivArea'] = np.log(train['GrLivArea'])\n",
    "test['GrLivArea'] = np.log(test['GrLivArea'])\n",
    "\n",
    "train['HasBsmt'] = pd.Series(len(train['TotalBsmtSF']), index=train.index)\n",
    "train['HasBsmt'] = 0 \n",
    "train.loc[train['TotalBsmtSF']>0,'HasBsmt'] = 1\n",
    "train.loc[train['HasBsmt']==1,'TotalBsmtSF'] = np.log(train['TotalBsmtSF'])\n",
    "test['HasBsmt'] = pd.Series(len(test['TotalBsmtSF']), index=test.index)\n",
    "test['HasBsmt'] = 0 \n",
    "test.loc[test['TotalBsmtSF']>0,'HasBsmt'] = 1\n",
    "test.loc[test['HasBsmt']==1,'TotalBsmtSF'] = np.log(test['TotalBsmtSF'])\n",
    "\n",
    "train['1stFlrSF'] = np.log(train['1stFlrSF'])\n",
    "test['1stFlrSF'] = np.log(test['1stFlrSF'])\n",
    "\n",
    "train['HasBsmtFin'] = pd.Series(len(train['BsmtFinSF1']), index=train.index)\n",
    "train['HasBsmtFin'] = 0 \n",
    "train.loc[train['BsmtFinSF1']>0,'HasBsmtFin'] = 1\n",
    "train.loc[train['HasBsmtFin']==1,'BsmtFinSF1'] = np.log(train['BsmtFinSF1'])\n",
    "test['HasBsmtFin'] = pd.Series(len(test['BsmtFinSF1']), index=test.index)\n",
    "test['HasBsmtFin'] = 0 \n",
    "test.loc[test['BsmtFinSF1']>0,'HasBsmtFin'] = 1\n",
    "test.loc[test['HasBsmtFin']==1,'BsmtFinSF1'] = np.log(test['BsmtFinSF1'])\n",
    "\n",
    "train['HasWoodDeck'] = pd.Series(len(train['WoodDeckSF']), index=train.index)\n",
    "train['HasWoodDeck'] = 0 \n",
    "train.loc[train['WoodDeckSF']>0,'HasWoodDeck'] = 1\n",
    "train.loc[train['HasWoodDeck']==1,'WoodDeckSF'] = np.log(train['WoodDeckSF'])\n",
    "test['HasWoodDeck'] = pd.Series(len(test['WoodDeckSF']), index=test.index)\n",
    "test['HasWoodDeck'] = 0 \n",
    "test.loc[test['WoodDeckSF']>0,'HasWoodDeck'] = 1\n",
    "test.loc[test['HasWoodDeck']==1,'WoodDeckSF'] = np.log(test['WoodDeckSF'])\n"
   ]
  },
  {
   "cell_type": "code",
   "execution_count": 8,
   "metadata": {},
   "outputs": [
    {
     "data": {
      "text/plain": [
       "SalePrice        1.000000\n",
       "OverallQual      0.817184\n",
       "GrLivArea        0.730255\n",
       "GarageCars       0.680625\n",
       "GarageArea       0.650888\n",
       "1stFlrSF         0.608947\n",
       "FullBath         0.594771\n",
       "YearBuilt        0.586570\n",
       "YearRemodAdd     0.565608\n",
       "TotRmsAbvGrd     0.534422\n",
       "GarageYrBlt      0.495794\n",
       "Fireplaces       0.489449\n",
       "MasVnrArea       0.426775\n",
       "TotalBsmtSF      0.373009\n",
       "WoodDeckSF       0.343269\n",
       "LotFrontage      0.335292\n",
       "OpenPorchSF      0.321053\n",
       "HasWoodDeck      0.320349\n",
       "2ndFlrSF         0.319300\n",
       "HalfBath         0.313982\n",
       "LotArea          0.257320\n",
       "BsmtFullBath     0.236224\n",
       "BsmtUnfSF        0.221985\n",
       "BedroomAbvGr     0.209044\n",
       "BsmtFinSF1       0.207962\n",
       "HasBsmt          0.199634\n",
       "HasBsmtFin       0.162231\n",
       "ScreenPorch      0.121208\n",
       "PoolArea         0.069798\n",
       "MoSold           0.057329\n",
       "3SsnPorch        0.054900\n",
       "BsmtFinSF2       0.004832\n",
       "BsmtHalfBath    -0.005149\n",
       "Id              -0.017942\n",
       "MiscVal         -0.020021\n",
       "OverallCond     -0.036868\n",
       "YrSold          -0.037263\n",
       "LowQualFinSF    -0.037963\n",
       "MSSubClass      -0.073959\n",
       "KitchenAbvGr    -0.147548\n",
       "EnclosedPorch   -0.149050\n",
       "Name: SalePrice, dtype: float64"
      ]
     },
     "execution_count": 8,
     "metadata": {},
     "output_type": "execute_result"
    }
   ],
   "source": [
    "corr_matrix = train.corr()\n",
    "corr_matrix[\"SalePrice\"].sort_values(ascending=False)"
   ]
  },
  {
   "cell_type": "code",
   "execution_count": 9,
   "metadata": {},
   "outputs": [
    {
     "name": "stdout",
     "output_type": "stream",
     "text": [
      "<class 'pandas.core.frame.DataFrame'>\n",
      "RangeIndex: 1460 entries, 0 to 1459\n",
      "Data columns (total 44 columns):\n",
      "MSSubClass       1460 non-null int64\n",
      "LotFrontage      1460 non-null float64\n",
      "LotArea          1460 non-null int64\n",
      "OverallQual      1460 non-null int64\n",
      "OverallCond      1460 non-null int64\n",
      "YearBuilt        1460 non-null int64\n",
      "YearRemodAdd     1460 non-null int64\n",
      "MasVnrArea       1460 non-null float64\n",
      "BsmtFinSF1       1460 non-null float64\n",
      "BsmtUnfSF        1460 non-null int64\n",
      "TotalBsmtSF      1460 non-null float64\n",
      "1stFlrSF         1460 non-null float64\n",
      "2ndFlrSF         1460 non-null int64\n",
      "GrLivArea        1460 non-null float64\n",
      "BsmtFullBath     1460 non-null int64\n",
      "FullBath         1460 non-null int64\n",
      "HalfBath         1460 non-null int64\n",
      "BedroomAbvGr     1460 non-null int64\n",
      "KitchenAbvGr     1460 non-null int64\n",
      "TotRmsAbvGrd     1460 non-null int64\n",
      "Fireplaces       1460 non-null int64\n",
      "GarageYrBlt      1460 non-null float64\n",
      "GarageCars       1460 non-null int64\n",
      "GarageArea       1460 non-null int64\n",
      "WoodDeckSF       1460 non-null float64\n",
      "OpenPorchSF      1460 non-null int64\n",
      "EnclosedPorch    1460 non-null int64\n",
      "YrSold           1460 non-null int64\n",
      "LotShape         1460 non-null object\n",
      "LandContour      1460 non-null object\n",
      "Neighborhood     1460 non-null object\n",
      "BldgType         1460 non-null object\n",
      "HouseStyle       1460 non-null object\n",
      "RoofStyle        1460 non-null object\n",
      "ExterQual        1460 non-null object\n",
      "Foundation       1460 non-null object\n",
      "BsmtQual         1460 non-null object\n",
      "BsmtCond         1460 non-null object\n",
      "BsmtExposure     1460 non-null object\n",
      "BsmtFinType1     1460 non-null object\n",
      "HeatingQC        1460 non-null object\n",
      "CentralAir       1460 non-null object\n",
      "PavedDrive       1460 non-null object\n",
      "SaleCondition    1460 non-null object\n",
      "dtypes: float64(8), int64(20), object(16)\n",
      "memory usage: 502.0+ KB\n",
      "<class 'pandas.core.frame.DataFrame'>\n",
      "RangeIndex: 1459 entries, 0 to 1458\n",
      "Data columns (total 44 columns):\n",
      "MSSubClass       1459 non-null int64\n",
      "LotFrontage      1459 non-null float64\n",
      "LotArea          1459 non-null int64\n",
      "OverallQual      1459 non-null int64\n",
      "OverallCond      1459 non-null int64\n",
      "YearBuilt        1459 non-null int64\n",
      "YearRemodAdd     1459 non-null int64\n",
      "MasVnrArea       1459 non-null float64\n",
      "BsmtFinSF1       1459 non-null float64\n",
      "BsmtUnfSF        1459 non-null float64\n",
      "TotalBsmtSF      1459 non-null float64\n",
      "1stFlrSF         1459 non-null float64\n",
      "2ndFlrSF         1459 non-null int64\n",
      "GrLivArea        1459 non-null float64\n",
      "BsmtFullBath     1459 non-null float64\n",
      "FullBath         1459 non-null int64\n",
      "HalfBath         1459 non-null int64\n",
      "BedroomAbvGr     1459 non-null int64\n",
      "KitchenAbvGr     1459 non-null int64\n",
      "TotRmsAbvGrd     1459 non-null int64\n",
      "Fireplaces       1459 non-null int64\n",
      "GarageYrBlt      1459 non-null float64\n",
      "GarageCars       1459 non-null float64\n",
      "GarageArea       1459 non-null float64\n",
      "WoodDeckSF       1459 non-null float64\n",
      "OpenPorchSF      1459 non-null int64\n",
      "EnclosedPorch    1459 non-null int64\n",
      "YrSold           1459 non-null int64\n",
      "LotShape         1459 non-null object\n",
      "LandContour      1459 non-null object\n",
      "Neighborhood     1459 non-null object\n",
      "BldgType         1459 non-null object\n",
      "HouseStyle       1459 non-null object\n",
      "RoofStyle        1459 non-null object\n",
      "ExterQual        1459 non-null object\n",
      "Foundation       1459 non-null object\n",
      "BsmtQual         1459 non-null object\n",
      "BsmtCond         1459 non-null object\n",
      "BsmtExposure     1459 non-null object\n",
      "BsmtFinType1     1459 non-null object\n",
      "HeatingQC        1459 non-null object\n",
      "CentralAir       1459 non-null object\n",
      "PavedDrive       1459 non-null object\n",
      "SaleCondition    1459 non-null object\n",
      "dtypes: float64(12), int64(16), object(16)\n",
      "memory usage: 501.7+ KB\n",
      "<class 'pandas.core.frame.DataFrame'>\n",
      "Int64Index: 2919 entries, 0 to 1458\n",
      "Data columns (total 44 columns):\n",
      "MSSubClass       2919 non-null int64\n",
      "LotFrontage      2919 non-null float64\n",
      "LotArea          2919 non-null int64\n",
      "OverallQual      2919 non-null int64\n",
      "OverallCond      2919 non-null int64\n",
      "YearBuilt        2919 non-null int64\n",
      "YearRemodAdd     2919 non-null int64\n",
      "MasVnrArea       2919 non-null float64\n",
      "BsmtFinSF1       2919 non-null float64\n",
      "BsmtUnfSF        2919 non-null float64\n",
      "TotalBsmtSF      2919 non-null float64\n",
      "1stFlrSF         2919 non-null float64\n",
      "2ndFlrSF         2919 non-null int64\n",
      "GrLivArea        2919 non-null float64\n",
      "BsmtFullBath     2919 non-null float64\n",
      "FullBath         2919 non-null int64\n",
      "HalfBath         2919 non-null int64\n",
      "BedroomAbvGr     2919 non-null int64\n",
      "KitchenAbvGr     2919 non-null int64\n",
      "TotRmsAbvGrd     2919 non-null int64\n",
      "Fireplaces       2919 non-null int64\n",
      "GarageYrBlt      2919 non-null float64\n",
      "GarageCars       2919 non-null float64\n",
      "GarageArea       2919 non-null float64\n",
      "WoodDeckSF       2919 non-null float64\n",
      "OpenPorchSF      2919 non-null int64\n",
      "EnclosedPorch    2919 non-null int64\n",
      "YrSold           2919 non-null int64\n",
      "LotShape         2919 non-null object\n",
      "LandContour      2919 non-null object\n",
      "Neighborhood     2919 non-null object\n",
      "BldgType         2919 non-null object\n",
      "HouseStyle       2919 non-null object\n",
      "RoofStyle        2919 non-null object\n",
      "ExterQual        2919 non-null object\n",
      "Foundation       2919 non-null object\n",
      "BsmtQual         2919 non-null object\n",
      "BsmtCond         2919 non-null object\n",
      "BsmtExposure     2919 non-null object\n",
      "BsmtFinType1     2919 non-null object\n",
      "HeatingQC        2919 non-null object\n",
      "CentralAir       2919 non-null object\n",
      "PavedDrive       2919 non-null object\n",
      "SaleCondition    2919 non-null object\n",
      "dtypes: float64(12), int64(16), object(16)\n",
      "memory usage: 1.0+ MB\n"
     ]
    }
   ],
   "source": [
    "train2 = train[num_att + cat_att]\n",
    "train2.info()\n",
    "test2 = test[num_att + cat_att]\n",
    "test2.info()\n",
    "\n",
    "merged_df = pd.concat([train2, test2])\n",
    "merged_df.info()"
   ]
  },
  {
   "cell_type": "code",
   "execution_count": 10,
   "metadata": {},
   "outputs": [],
   "source": [
    "from sklearn.pipeline import Pipeline\n",
    "from sklearn.preprocessing import StandardScaler\n",
    "from sklearn.impute import SimpleImputer\n",
    "from sklearn.compose import ColumnTransformer\n",
    "from sklearn.preprocessing import OneHotEncoder\n",
    "\n",
    "num_pipeline = Pipeline([\n",
    "        ('imputer', SimpleImputer(strategy=\"median\")),\n",
    "        ('std_scaler', StandardScaler()),\n",
    "    ])\n",
    "train_prepared = num_pipeline.fit_transform(train[num_att])\n",
    "test_prepared  = num_pipeline.transform(test[num_att])\n",
    "\n",
    "\n",
    "full_pipeline = ColumnTransformer([\n",
    "        (\"num\", num_pipeline, num_att),\n",
    "        (\"cat\", OneHotEncoder(), cat_att),\n",
    "    ])\n",
    "\n",
    "train_test_full_prepared = full_pipeline.fit_transform(merged_df)\n",
    "train_full_prepared = full_pipeline.transform(train2)\n",
    "test_full_prepared = full_pipeline.transform(test2)\n"
   ]
  },
  {
   "cell_type": "code",
   "execution_count": 11,
   "metadata": {},
   "outputs": [
    {
     "name": "stdout",
     "output_type": "stream",
     "text": [
      "(1460, 28)\n",
      "(1459, 28)\n",
      "(1460, 128)\n",
      "(1459, 128)\n"
     ]
    }
   ],
   "source": [
    "print(train_prepared.shape)\n",
    "print(test_prepared.shape)\n",
    "print(train_full_prepared.shape)\n",
    "print(test_full_prepared.shape)"
   ]
  },
  {
   "cell_type": "code",
   "execution_count": 12,
   "metadata": {},
   "outputs": [
    {
     "data": {
      "text/plain": [
       "0.0010380244879687696"
      ]
     },
     "execution_count": 12,
     "metadata": {},
     "output_type": "execute_result"
    }
   ],
   "source": [
    "from sklearn.metrics import mean_squared_error\n",
    "from sklearn.ensemble import RandomForestRegressor\n",
    "\n",
    "forest_reg = RandomForestRegressor(bootstrap=False, n_estimators=350, max_features=32, random_state=42)\n",
    "forest_reg.fit(train_full_prepared, train_y)\n",
    "\n",
    "housing_predictions = forest_reg.predict(train_full_prepared)\n",
    "\n",
    "forest_mse = mean_squared_error(train_y, housing_predictions)\n",
    "forest_rmse = np.sqrt(forest_mse)\n",
    "forest_rmse"
   ]
  },
  {
   "cell_type": "code",
   "execution_count": 13,
   "metadata": {},
   "outputs": [
    {
     "name": "stdout",
     "output_type": "stream",
     "text": [
      "12.247694320220951\n",
      "12.247694320220994\n"
     ]
    }
   ],
   "source": [
    "print(housing_predictions[0])\n",
    "print(train_y[0])"
   ]
  },
  {
   "cell_type": "code",
   "execution_count": 14,
   "metadata": {},
   "outputs": [
    {
     "data": {
      "text/plain": [
       "138.8239561265225"
      ]
     },
     "execution_count": 14,
     "metadata": {},
     "output_type": "execute_result"
    }
   ],
   "source": [
    "train_y_normal = np.e**train_y\n",
    "pred_normal = np.e**housing_predictions\n",
    "\n",
    "forest_mse = mean_squared_error(train_y_normal, pred_normal)\n",
    "forest_rmse = np.sqrt(forest_mse)\n",
    "forest_rmse"
   ]
  },
  {
   "cell_type": "code",
   "execution_count": 15,
   "metadata": {},
   "outputs": [
    {
     "name": "stdout",
     "output_type": "stream",
     "text": [
      "208500.0\n",
      "208499.9999999911\n"
     ]
    }
   ],
   "source": [
    "print(train_y_normal[0])\n",
    "print(pred_normal[0])"
   ]
  },
  {
   "cell_type": "code",
   "execution_count": 16,
   "metadata": {
    "scrolled": false
   },
   "outputs": [
    {
     "data": {
      "text/plain": [
       "[(0.21291380453716174, 'OverallQual'),\n",
       " (0.13924006417756377, 'GrLivArea'),\n",
       " (0.07774348427078645, 'YearBuilt'),\n",
       " (0.05009751007392967, 'TA'),\n",
       " (0.04922647264647009, 'TotalBsmtSF'),\n",
       " (0.047486137211906206, 'GarageCars'),\n",
       " (0.04484399296531045, 'GarageArea'),\n",
       " (0.03997052211576378, 'FullBath'),\n",
       " (0.03916783633451459, '1stFlrSF'),\n",
       " (0.03765085902211672, 'GarageYrBlt'),\n",
       " (0.021440261496741015, 'LotArea'),\n",
       " (0.020607373570149985, 'Fireplaces'),\n",
       " (0.01936579004788021, 'BsmtFinSF1'),\n",
       " (0.017397413629657073, '2ndFlrSF'),\n",
       " (0.013964436409320177, 'YearRemodAdd'),\n",
       " (0.010911020785489653, 'LotFrontage'),\n",
       " (0.0107440442849584, 'OverallCond'),\n",
       " (0.010240100690355037, 'Y'),\n",
       " (0.009427904207625945, 'Ex'),\n",
       " (0.008787422891256828, 'N'),\n",
       " (0.008692816558520318, 'TotRmsAbvGrd'),\n",
       " (0.00707634632720354, 'BsmtUnfSF'),\n",
       " (0.006071379983271603, 'OpenPorchSF'),\n",
       " (0.005951250572534313, 'PConc'),\n",
       " (0.005672957820804968, 'Gd'),\n",
       " (0.004868605605401451, 'MSSubClass'),\n",
       " (0.0046943407486131385, 'BedroomAbvGr'),\n",
       " (0.004279992679183322, 'MasVnrArea'),\n",
       " (0.0036524709720233903, 'WoodDeckSF'),\n",
       " (0.0034465825269026245, 'Gd'),\n",
       " (0.0025477865156991763, 'HalfBath'),\n",
       " (0.002424814562706105, 'YrSold'),\n",
       " (0.002319222031938574, 'TA'),\n",
       " (0.002275079875966253, 'BsmtFullBath'),\n",
       " (0.0022519064801128016, 'EnclosedPorch'),\n",
       " (0.0022172663606744095, 'KitchenAbvGr'),\n",
       " (0.0018594980639830806, 'GLQ'),\n",
       " (0.001752189694204904, 'Fa'),\n",
       " (0.001694924250736952, '1Fam'),\n",
       " (0.001643109082909066, 'OldTown'),\n",
       " (0.0016222820702267477, 'Ex'),\n",
       " (0.0016085023913618467, 'Abnorml'),\n",
       " (0.0015280739318245724, 'N'),\n",
       " (0.001518358299236014, 'Crawfor'),\n",
       " (0.0014693378289051913, 'Edwards'),\n",
       " (0.00145965634642634, 'Normal'),\n",
       " (0.0013484807039974506, 'Unf'),\n",
       " (0.0012288323425271878, 'Gd'),\n",
       " (0.0012211905598046538, 'Bnk'),\n",
       " (0.001198966537091052, 'Reg'),\n",
       " (0.0011081964532577853, 'No'),\n",
       " (0.0010330756663808473, 'Y'),\n",
       " (0.0010039383900059407, 'Ex'),\n",
       " (0.0010008129202773892, 'IDOTRR'),\n",
       " (0.000968424465921077, '2Story'),\n",
       " (0.000929436156418385, 'Gable'),\n",
       " (0.0009009406419307231, 'IR1'),\n",
       " (0.0008836025978936809, '1Story'),\n",
       " (0.0008390983395713604, 'Hip'),\n",
       " (0.0008117120079650474, 'Lvl'),\n",
       " (0.0007646994717680893, 'TA'),\n",
       " (0.0007608808487712698, 'BrkTil'),\n",
       " (0.000725466027120669, 'TA'),\n",
       " (0.0007166489019399402, 'CBlock'),\n",
       " (0.000665982845079773, 'Fa'),\n",
       " (0.0006212858548557301, 'ALQ'),\n",
       " (0.0005970513090877412, 'Fa'),\n",
       " (0.0005826386555557313, 'NAmes'),\n",
       " (0.0005289762166876129, '1.5Fin'),\n",
       " (0.000507741858324236, 'Gd'),\n",
       " (0.0005002166178392726, 'Family'),\n",
       " (0.0004929102831648436, 'Sawyer'),\n",
       " (0.00048085442571273634, 'Low'),\n",
       " (0.00045440392449415677, 'NB'),\n",
       " (0.0004501977183636767, 'Rec'),\n",
       " (0.0004394206295981953, 'Gambrel'),\n",
       " (0.0004392277809232035, 'Partial'),\n",
       " (0.00041332369217661567, 'NB'),\n",
       " (0.0004008055047418104, 'ClearCr'),\n",
       " (0.00039936486953574704, 'Av'),\n",
       " (0.00038459918871841303, 'NoRidge'),\n",
       " (0.0003751520657454823, 'Mn'),\n",
       " (0.0003591291048305856, 'Flat'),\n",
       " (0.00034663213668203216, 'BrkSide'),\n",
       " (0.00034628940552185026, 'Fa'),\n",
       " (0.00033563624476495065, 'P'),\n",
       " (0.0003250363009122094, 'NB'),\n",
       " (0.00032378948351842, 'NB'),\n",
       " (0.00032075243691415687, 'LwQ'),\n",
       " (0.0003184223479318299, 'Somerst'),\n",
       " (0.00030463132027865937, 'HLS'),\n",
       " (0.0002924513988046851, 'BLQ'),\n",
       " (0.0002858833451348141, 'CollgCr'),\n",
       " (0.00027542317161847156, 'Duplex'),\n",
       " (0.00027433550548258754, 'Alloca'),\n",
       " (0.00026788935536868136, 'SLvl'),\n",
       " (0.0002551702261835641, 'IR2'),\n",
       " (0.00025019830554288383, 'Gd'),\n",
       " (0.00024760555963790294, 'NridgHt'),\n",
       " (0.00024326015887778492, 'StoneBr'),\n",
       " (0.00020152917795154, 'MeadowV'),\n",
       " (0.00020080809445902724, 'NWAmes'),\n",
       " (0.00018865454955129655, 'Gilbert'),\n",
       " (0.00016310867045228345, 'Po'),\n",
       " (0.00015967041161747624, 'TwnhsE'),\n",
       " (0.0001554020520991561, 'Mitchel'),\n",
       " (0.0001487053544226259, 'SawyerW'),\n",
       " (0.00014180207000887777, 'Timber'),\n",
       " (0.00013031057458699036, 'Twnhs'),\n",
       " (0.0001286930872271839, 'SWISU'),\n",
       " (0.0001226323113510517, 'IR3'),\n",
       " (0.00012024894369599726, 'Slab'),\n",
       " (0.00011387123159175383, '2fmCon'),\n",
       " (0.00010871452305441004, 'BrDale'),\n",
       " (0.00010417865083210688, '2.5Unf'),\n",
       " (9.12713814474817e-05, 'Veenker'),\n",
       " (6.438283060674497e-05, '1.5Unf'),\n",
       " (5.211257851593042e-05, '2.5Fin'),\n",
       " (5.14088478249876e-05, 'SFoyer'),\n",
       " (4.6039257401171704e-05, 'Blmngtn'),\n",
       " (3.4730002336788716e-05, 'NPkVill'),\n",
       " (2.8320831503010837e-05, 'Stone'),\n",
       " (2.2844840601824622e-05, 'AdjLand'),\n",
       " (1.3140706983520408e-05, 'Wood'),\n",
       " (1.1617013028951872e-05, 'Mansard'),\n",
       " (8.157660349369192e-06, 'Shed'),\n",
       " (7.0692527821228454e-06, 'Po'),\n",
       " (4.279862134471981e-06, 'Blueste')]"
      ]
     },
     "execution_count": 16,
     "metadata": {},
     "output_type": "execute_result"
    }
   ],
   "source": [
    "# forest_reg.feature_importances_\n",
    "\n",
    "cat_encoder = full_pipeline.named_transformers_[\"cat\"]\n",
    "cat_one_hot_attribs = []\n",
    "for a in cat_encoder.categories_:\n",
    "    for b in a:\n",
    "        cat_one_hot_attribs.append(b)\n",
    "# print(cat_one_hot_attribs)\n",
    "attributes = num_att + cat_one_hot_attribs\n",
    "sorted(zip(forest_reg.feature_importances_, attributes), reverse=True)"
   ]
  },
  {
   "cell_type": "code",
   "execution_count": 17,
   "metadata": {},
   "outputs": [
    {
     "name": "stdout",
     "output_type": "stream",
     "text": [
      "scores: [0.13151602 0.11976503 0.13245626 0.16546516 0.16333717 0.1146201\n",
      " 0.12820989 0.11542195 0.12496702 0.13771727]\n",
      "mean: 0.1333475884440734\n",
      "std: 0.017050862411555293\n",
      "count    10.000000\n",
      "mean      0.133348\n",
      "std       0.017973\n",
      "min       0.114620\n",
      "25%       0.121066\n",
      "50%       0.129863\n",
      "75%       0.136402\n",
      "max       0.165465\n",
      "dtype: float64\n"
     ]
    }
   ],
   "source": [
    "from sklearn.model_selection import cross_val_score\n",
    "def display_scores(scores):\n",
    "    print(\"scores:\", scores)\n",
    "    print(\"mean:\", scores.mean())\n",
    "    print(\"std:\", scores.std())\n",
    "\n",
    "forest_reg = RandomForestRegressor(bootstrap=False, n_estimators=200, max_features=32, random_state=42)\n",
    "forest_reg.fit(train_full_prepared, train_y)\n",
    "\n",
    "forest_scores = cross_val_score(forest_reg, train_full_prepared, train_y,\n",
    "                                scoring=\"neg_mean_squared_error\", cv=10)\n",
    "forest_rmse_scores = np.sqrt(-forest_scores)\n",
    "display_scores(forest_rmse_scores)\n",
    "\n",
    "print(pd.Series(forest_rmse_scores).describe())"
   ]
  },
  {
   "cell_type": "code",
   "execution_count": 18,
   "metadata": {},
   "outputs": [
    {
     "data": {
      "text/plain": [
       "GridSearchCV(cv=10, error_score='raise-deprecating',\n",
       "             estimator=RandomForestRegressor(bootstrap=True, criterion='mse',\n",
       "                                             max_depth=None,\n",
       "                                             max_features='auto',\n",
       "                                             max_leaf_nodes=None,\n",
       "                                             min_impurity_decrease=0.0,\n",
       "                                             min_impurity_split=None,\n",
       "                                             min_samples_leaf=1,\n",
       "                                             min_samples_split=2,\n",
       "                                             min_weight_fraction_leaf=0.0,\n",
       "                                             n_estimators='warn', n_jobs=None,\n",
       "                                             oob_score=False, random_state=42,\n",
       "                                             verbose=0, warm_start=False),\n",
       "             iid='warn', n_jobs=None,\n",
       "             param_grid=[{'bootstrap': [False], 'max_features': [16, 32, 64],\n",
       "                          'n_estimators': [100, 200, 300, 350, 400, 450]}],\n",
       "             pre_dispatch='2*n_jobs', refit=True, return_train_score=True,\n",
       "             scoring='neg_mean_squared_error', verbose=0)"
      ]
     },
     "execution_count": 18,
     "metadata": {},
     "output_type": "execute_result"
    }
   ],
   "source": [
    "from sklearn.model_selection import GridSearchCV\n",
    "\n",
    "param_grid = [\n",
    "    # sprawdza 12 (3×4) kombinacji hiperparametrów\n",
    "#     {'n_estimators': [100, 200, 300, 350, 400, 450], 'max_features': [16, 32, 64]},\n",
    "    # następnie sprawdza 6 (2×3) kombinacji z wyłączonym parametrem bootstrap (False)\n",
    "    {'bootstrap': [False], 'n_estimators': [100, 200, 300, 350, 400, 450], \n",
    "     'max_features': [16, 32, 64]},\n",
    "  ]\n",
    "\n",
    "forest_reg = RandomForestRegressor(random_state=42)\n",
    "# przeprowadza proces uczenia na pięciu podzbiorach, czyli łącznie (12+6)*5=90 przebiegów \n",
    "grid_search = GridSearchCV(forest_reg, param_grid, cv=10,\n",
    "                           scoring='neg_mean_squared_error',\n",
    "                           return_train_score=True)\n",
    "grid_search.fit(train_full_prepared, train_y)"
   ]
  },
  {
   "cell_type": "code",
   "execution_count": 19,
   "metadata": {},
   "outputs": [
    {
     "data": {
      "text/plain": [
       "{'bootstrap': False, 'max_features': 32, 'n_estimators': 350}"
      ]
     },
     "execution_count": 19,
     "metadata": {},
     "output_type": "execute_result"
    }
   ],
   "source": [
    "grid_search.best_params_"
   ]
  },
  {
   "cell_type": "code",
   "execution_count": 20,
   "metadata": {},
   "outputs": [
    {
     "data": {
      "text/plain": [
       "RandomForestRegressor(bootstrap=False, criterion='mse', max_depth=None,\n",
       "                      max_features=32, max_leaf_nodes=None,\n",
       "                      min_impurity_decrease=0.0, min_impurity_split=None,\n",
       "                      min_samples_leaf=1, min_samples_split=2,\n",
       "                      min_weight_fraction_leaf=0.0, n_estimators=350,\n",
       "                      n_jobs=None, oob_score=False, random_state=42, verbose=0,\n",
       "                      warm_start=False)"
      ]
     },
     "execution_count": 20,
     "metadata": {},
     "output_type": "execute_result"
    }
   ],
   "source": [
    "grid_search.best_estimator_"
   ]
  },
  {
   "cell_type": "code",
   "execution_count": 21,
   "metadata": {},
   "outputs": [
    {
     "name": "stdout",
     "output_type": "stream",
     "text": [
      "0.1365325291773575 {'bootstrap': False, 'max_features': 16, 'n_estimators': 100}\n",
      "0.13554563495239574 {'bootstrap': False, 'max_features': 16, 'n_estimators': 200}\n",
      "0.13513768345283997 {'bootstrap': False, 'max_features': 16, 'n_estimators': 300}\n",
      "0.13513013329654988 {'bootstrap': False, 'max_features': 16, 'n_estimators': 350}\n",
      "0.1352157620506805 {'bootstrap': False, 'max_features': 16, 'n_estimators': 400}\n",
      "0.13512899203788603 {'bootstrap': False, 'max_features': 16, 'n_estimators': 450}\n",
      "0.13435808340986752 {'bootstrap': False, 'max_features': 32, 'n_estimators': 100}\n",
      "0.13443329666726084 {'bootstrap': False, 'max_features': 32, 'n_estimators': 200}\n",
      "0.13416966597876986 {'bootstrap': False, 'max_features': 32, 'n_estimators': 300}\n",
      "0.1341140373035052 {'bootstrap': False, 'max_features': 32, 'n_estimators': 350}\n",
      "0.1343312910648253 {'bootstrap': False, 'max_features': 32, 'n_estimators': 400}\n",
      "0.1344320149776575 {'bootstrap': False, 'max_features': 32, 'n_estimators': 450}\n",
      "0.13587238015272834 {'bootstrap': False, 'max_features': 64, 'n_estimators': 100}\n",
      "0.13614753912776126 {'bootstrap': False, 'max_features': 64, 'n_estimators': 200}\n",
      "0.13600582907200287 {'bootstrap': False, 'max_features': 64, 'n_estimators': 300}\n",
      "0.13613549255736726 {'bootstrap': False, 'max_features': 64, 'n_estimators': 350}\n",
      "0.13607481137521393 {'bootstrap': False, 'max_features': 64, 'n_estimators': 400}\n",
      "0.1359153829877854 {'bootstrap': False, 'max_features': 64, 'n_estimators': 450}\n"
     ]
    }
   ],
   "source": [
    "cvres = grid_search.cv_results_\n",
    "for mean_score, params in zip(cvres[\"mean_test_score\"], cvres[\"params\"]):\n",
    "    print(np.sqrt(-mean_score), params)"
   ]
  },
  {
   "cell_type": "code",
   "execution_count": 22,
   "metadata": {},
   "outputs": [
    {
     "data": {
      "text/plain": [
       "array([4.86860561e-03, 1.09110208e-02, 2.14402615e-02, 2.12913805e-01,\n",
       "       1.07440443e-02, 7.77434843e-02, 1.39644364e-02, 4.27999268e-03,\n",
       "       1.93657900e-02, 7.07634633e-03, 4.92264726e-02, 3.91678363e-02,\n",
       "       1.73974136e-02, 1.39240064e-01, 2.27507988e-03, 3.99705221e-02,\n",
       "       2.54778652e-03, 4.69434075e-03, 2.21726636e-03, 8.69281656e-03,\n",
       "       2.06073736e-02, 3.76508590e-02, 4.74861372e-02, 4.48439930e-02,\n",
       "       3.65247097e-03, 6.07137998e-03, 2.25190648e-03, 2.42481456e-03,\n",
       "       9.00940642e-04, 2.55170226e-04, 1.22632311e-04, 1.19896654e-03,\n",
       "       1.22119056e-03, 3.04631320e-04, 4.80854426e-04, 8.11712008e-04,\n",
       "       4.60392574e-05, 4.27986213e-06, 1.08714523e-04, 3.46632137e-04,\n",
       "       4.00805505e-04, 2.85883345e-04, 1.51835830e-03, 1.46933783e-03,\n",
       "       1.88654550e-04, 1.00081292e-03, 2.01529178e-04, 1.55402052e-04,\n",
       "       5.82638656e-04, 3.47300023e-05, 2.00808094e-04, 3.84599189e-04,\n",
       "       2.47605560e-04, 1.64310908e-03, 1.28693087e-04, 4.92910283e-04,\n",
       "       1.48705354e-04, 3.18422348e-04, 2.43260159e-04, 1.41802070e-04,\n",
       "       9.12713814e-05, 1.69492425e-03, 1.13871232e-04, 2.75423172e-04,\n",
       "       1.30310575e-04, 1.59670412e-04, 5.28976217e-04, 6.43828306e-05,\n",
       "       8.83602598e-04, 5.21125785e-05, 1.04178651e-04, 9.68424466e-04,\n",
       "       5.14088478e-05, 2.67889355e-04, 3.59129105e-04, 9.29436156e-04,\n",
       "       4.39420630e-04, 8.39098340e-04, 1.16170130e-05, 8.15766035e-06,\n",
       "       1.62228207e-03, 1.75218969e-03, 5.67295782e-03, 5.00975101e-02,\n",
       "       7.60880849e-04, 7.16648902e-04, 5.95125057e-03, 1.20248944e-04,\n",
       "       2.83208315e-05, 1.31407070e-05, 9.42790421e-03, 3.46289406e-04,\n",
       "       3.44658253e-03, 4.54403924e-04, 2.31922203e-03, 5.97051309e-04,\n",
       "       2.50198306e-04, 4.13323692e-04, 1.63108670e-04, 7.64699472e-04,\n",
       "       3.99364870e-04, 1.22883234e-03, 3.75152066e-04, 3.25036301e-04,\n",
       "       1.10819645e-03, 6.21285855e-04, 2.92451399e-04, 1.85949806e-03,\n",
       "       3.20752437e-04, 3.23789484e-04, 4.50197718e-04, 1.34848070e-03,\n",
       "       1.00393839e-03, 6.65982845e-04, 5.07741858e-04, 7.06925278e-06,\n",
       "       7.25466027e-04, 8.78742289e-03, 1.02401007e-02, 1.52807393e-03,\n",
       "       3.35636245e-04, 1.03307567e-03, 1.60850239e-03, 2.28448406e-05,\n",
       "       2.74335505e-04, 5.00216618e-04, 1.45965635e-03, 4.39227781e-04])"
      ]
     },
     "execution_count": 22,
     "metadata": {},
     "output_type": "execute_result"
    }
   ],
   "source": [
    "feature_importances = grid_search.best_estimator_.feature_importances_\n",
    "feature_importances"
   ]
  },
  {
   "cell_type": "code",
   "execution_count": 23,
   "metadata": {
    "scrolled": false
   },
   "outputs": [
    {
     "data": {
      "text/plain": [
       "[(0.21291380453716174, 'OverallQual'),\n",
       " (0.13924006417756377, 'GrLivArea'),\n",
       " (0.07774348427078645, 'YearBuilt'),\n",
       " (0.05009751007392967, 'TA'),\n",
       " (0.04922647264647009, 'TotalBsmtSF'),\n",
       " (0.047486137211906206, 'GarageCars'),\n",
       " (0.04484399296531045, 'GarageArea'),\n",
       " (0.03997052211576378, 'FullBath'),\n",
       " (0.03916783633451459, '1stFlrSF'),\n",
       " (0.03765085902211672, 'GarageYrBlt'),\n",
       " (0.021440261496741015, 'LotArea'),\n",
       " (0.020607373570149985, 'Fireplaces'),\n",
       " (0.01936579004788021, 'BsmtFinSF1'),\n",
       " (0.017397413629657073, '2ndFlrSF'),\n",
       " (0.013964436409320177, 'YearRemodAdd'),\n",
       " (0.010911020785489653, 'LotFrontage'),\n",
       " (0.0107440442849584, 'OverallCond'),\n",
       " (0.010240100690355037, 'Y'),\n",
       " (0.009427904207625945, 'Ex'),\n",
       " (0.008787422891256828, 'N'),\n",
       " (0.008692816558520318, 'TotRmsAbvGrd'),\n",
       " (0.00707634632720354, 'BsmtUnfSF'),\n",
       " (0.006071379983271603, 'OpenPorchSF'),\n",
       " (0.005951250572534313, 'PConc'),\n",
       " (0.005672957820804968, 'Gd'),\n",
       " (0.004868605605401451, 'MSSubClass'),\n",
       " (0.0046943407486131385, 'BedroomAbvGr'),\n",
       " (0.004279992679183322, 'MasVnrArea'),\n",
       " (0.0036524709720233903, 'WoodDeckSF'),\n",
       " (0.0034465825269026245, 'Gd'),\n",
       " (0.0025477865156991763, 'HalfBath'),\n",
       " (0.002424814562706105, 'YrSold'),\n",
       " (0.002319222031938574, 'TA'),\n",
       " (0.002275079875966253, 'BsmtFullBath'),\n",
       " (0.0022519064801128016, 'EnclosedPorch'),\n",
       " (0.0022172663606744095, 'KitchenAbvGr'),\n",
       " (0.0018594980639830806, 'GLQ'),\n",
       " (0.001752189694204904, 'Fa'),\n",
       " (0.001694924250736952, '1Fam'),\n",
       " (0.001643109082909066, 'OldTown'),\n",
       " (0.0016222820702267477, 'Ex'),\n",
       " (0.0016085023913618467, 'Abnorml'),\n",
       " (0.0015280739318245724, 'N'),\n",
       " (0.001518358299236014, 'Crawfor'),\n",
       " (0.0014693378289051913, 'Edwards'),\n",
       " (0.00145965634642634, 'Normal'),\n",
       " (0.0013484807039974506, 'Unf'),\n",
       " (0.0012288323425271878, 'Gd'),\n",
       " (0.0012211905598046538, 'Bnk'),\n",
       " (0.001198966537091052, 'Reg'),\n",
       " (0.0011081964532577853, 'No'),\n",
       " (0.0010330756663808473, 'Y'),\n",
       " (0.0010039383900059407, 'Ex'),\n",
       " (0.0010008129202773892, 'IDOTRR'),\n",
       " (0.000968424465921077, '2Story'),\n",
       " (0.000929436156418385, 'Gable'),\n",
       " (0.0009009406419307231, 'IR1'),\n",
       " (0.0008836025978936809, '1Story'),\n",
       " (0.0008390983395713604, 'Hip'),\n",
       " (0.0008117120079650474, 'Lvl'),\n",
       " (0.0007646994717680893, 'TA'),\n",
       " (0.0007608808487712698, 'BrkTil'),\n",
       " (0.000725466027120669, 'TA'),\n",
       " (0.0007166489019399402, 'CBlock'),\n",
       " (0.000665982845079773, 'Fa'),\n",
       " (0.0006212858548557301, 'ALQ'),\n",
       " (0.0005970513090877412, 'Fa'),\n",
       " (0.0005826386555557313, 'NAmes'),\n",
       " (0.0005289762166876129, '1.5Fin'),\n",
       " (0.000507741858324236, 'Gd'),\n",
       " (0.0005002166178392726, 'Family'),\n",
       " (0.0004929102831648436, 'Sawyer'),\n",
       " (0.00048085442571273634, 'Low'),\n",
       " (0.00045440392449415677, 'NB'),\n",
       " (0.0004501977183636767, 'Rec'),\n",
       " (0.0004394206295981953, 'Gambrel'),\n",
       " (0.0004392277809232035, 'Partial'),\n",
       " (0.00041332369217661567, 'NB'),\n",
       " (0.0004008055047418104, 'ClearCr'),\n",
       " (0.00039936486953574704, 'Av'),\n",
       " (0.00038459918871841303, 'NoRidge'),\n",
       " (0.0003751520657454823, 'Mn'),\n",
       " (0.0003591291048305856, 'Flat'),\n",
       " (0.00034663213668203216, 'BrkSide'),\n",
       " (0.00034628940552185026, 'Fa'),\n",
       " (0.00033563624476495065, 'P'),\n",
       " (0.0003250363009122094, 'NB'),\n",
       " (0.00032378948351842, 'NB'),\n",
       " (0.00032075243691415687, 'LwQ'),\n",
       " (0.0003184223479318299, 'Somerst'),\n",
       " (0.00030463132027865937, 'HLS'),\n",
       " (0.0002924513988046851, 'BLQ'),\n",
       " (0.0002858833451348141, 'CollgCr'),\n",
       " (0.00027542317161847156, 'Duplex'),\n",
       " (0.00027433550548258754, 'Alloca'),\n",
       " (0.00026788935536868136, 'SLvl'),\n",
       " (0.0002551702261835641, 'IR2'),\n",
       " (0.00025019830554288383, 'Gd'),\n",
       " (0.00024760555963790294, 'NridgHt'),\n",
       " (0.00024326015887778492, 'StoneBr'),\n",
       " (0.00020152917795154, 'MeadowV'),\n",
       " (0.00020080809445902724, 'NWAmes'),\n",
       " (0.00018865454955129655, 'Gilbert'),\n",
       " (0.00016310867045228345, 'Po'),\n",
       " (0.00015967041161747624, 'TwnhsE'),\n",
       " (0.0001554020520991561, 'Mitchel'),\n",
       " (0.0001487053544226259, 'SawyerW'),\n",
       " (0.00014180207000887777, 'Timber'),\n",
       " (0.00013031057458699036, 'Twnhs'),\n",
       " (0.0001286930872271839, 'SWISU'),\n",
       " (0.0001226323113510517, 'IR3'),\n",
       " (0.00012024894369599726, 'Slab'),\n",
       " (0.00011387123159175383, '2fmCon'),\n",
       " (0.00010871452305441004, 'BrDale'),\n",
       " (0.00010417865083210688, '2.5Unf'),\n",
       " (9.12713814474817e-05, 'Veenker'),\n",
       " (6.438283060674497e-05, '1.5Unf'),\n",
       " (5.211257851593042e-05, '2.5Fin'),\n",
       " (5.14088478249876e-05, 'SFoyer'),\n",
       " (4.6039257401171704e-05, 'Blmngtn'),\n",
       " (3.4730002336788716e-05, 'NPkVill'),\n",
       " (2.8320831503010837e-05, 'Stone'),\n",
       " (2.2844840601824622e-05, 'AdjLand'),\n",
       " (1.3140706983520408e-05, 'Wood'),\n",
       " (1.1617013028951872e-05, 'Mansard'),\n",
       " (8.157660349369192e-06, 'Shed'),\n",
       " (7.0692527821228454e-06, 'Po'),\n",
       " (4.279862134471981e-06, 'Blueste')]"
      ]
     },
     "execution_count": 23,
     "metadata": {},
     "output_type": "execute_result"
    }
   ],
   "source": [
    "cat_encoder = full_pipeline.named_transformers_[\"cat\"]\n",
    "cat_one_hot_attribs = []\n",
    "for a in cat_encoder.categories_:\n",
    "    for b in a:\n",
    "        cat_one_hot_attribs.append(b)\n",
    "# print(cat_one_hot_attribs)\n",
    "attributes = num_att + cat_one_hot_attribs\n",
    "sorted(zip(feature_importances, attributes), reverse=True)"
   ]
  },
  {
   "cell_type": "code",
   "execution_count": 24,
   "metadata": {},
   "outputs": [],
   "source": [
    "# y_pred = forest_reg.predict(test_full_prepared)\n",
    "y_pred = grid_search.predict(test_full_prepared)\n",
    "y_pred_normal = np.e**y_pred\n",
    "sub = pd.DataFrame({'Id': test['Id'], 'SalePrice': y_pred_normal})"
   ]
  },
  {
   "cell_type": "code",
   "execution_count": 25,
   "metadata": {},
   "outputs": [],
   "source": [
    "sub.to_csv(\"data/submission_script28_anova_1st_attempt.csv\", index=False)"
   ]
  },
  {
   "cell_type": "code",
   "execution_count": 26,
   "metadata": {},
   "outputs": [
    {
     "data": {
      "text/plain": [
       "(1459, 2)"
      ]
     },
     "execution_count": 26,
     "metadata": {},
     "output_type": "execute_result"
    }
   ],
   "source": [
    "sub.shape"
   ]
  },
  {
   "cell_type": "code",
   "execution_count": null,
   "metadata": {},
   "outputs": [],
   "source": []
  }
 ],
 "metadata": {
  "kernelspec": {
   "display_name": "Python 3",
   "language": "python",
   "name": "python3"
  },
  "language_info": {
   "codemirror_mode": {
    "name": "ipython",
    "version": 3
   },
   "file_extension": ".py",
   "mimetype": "text/x-python",
   "name": "python",
   "nbconvert_exporter": "python",
   "pygments_lexer": "ipython3",
   "version": "3.7.4"
  }
 },
 "nbformat": 4,
 "nbformat_minor": 2
}
