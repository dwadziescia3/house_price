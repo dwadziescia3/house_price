{
 "cells": [
  {
   "cell_type": "code",
   "execution_count": 1,
   "metadata": {},
   "outputs": [],
   "source": [
    "import sys\n",
    "assert sys.version_info >= (3, 5)\n",
    "\n",
    "import sklearn\n",
    "assert sklearn.__version__ >= \"0.20\"\n",
    "\n",
    "import numpy as np\n",
    "import os\n",
    "\n",
    "import matplotlib as mpl\n",
    "import matplotlib.pyplot as plt\n",
    "mpl.rc('axes', labelsize=14)\n",
    "mpl.rc('xtick', labelsize=12)\n",
    "mpl.rc('ytick', labelsize=12)\n",
    "\n",
    "import warnings\n",
    "warnings.filterwarnings(action=\"ignore\", message=\"^internal gelsd\")"
   ]
  },
  {
   "cell_type": "code",
   "execution_count": 2,
   "metadata": {},
   "outputs": [],
   "source": [
    "import pandas as pd\n",
    "\n",
    "def load_housing_data(housing_path='data'):\n",
    "    train_csv_path = os.path.join(housing_path, \"train.csv\")\n",
    "    test_csv_path = os.path.join(housing_path, \"test.csv\")\n",
    "    return pd.read_csv(train_csv_path), pd.read_csv(test_csv_path)\n",
    "\n",
    "train, test = load_housing_data()"
   ]
  },
  {
   "cell_type": "code",
   "execution_count": 3,
   "metadata": {},
   "outputs": [],
   "source": [
    "train['TotalLivingSF'] = train['BsmtFinSF1'] + train['BsmtFinSF2'] + train['1stFlrSF'] + train['2ndFlrSF']\n",
    "test['TotalLivingSF'] = test['BsmtFinSF1'] + test['BsmtFinSF2'] + test['1stFlrSF'] + test['2ndFlrSF']\n",
    "\n",
    "train['TotalLivingSF'] = np.log(train['TotalLivingSF'])\n",
    "test['TotalLivingSF'] = np.log(test['TotalLivingSF'])"
   ]
  },
  {
   "cell_type": "code",
   "execution_count": 4,
   "metadata": {},
   "outputs": [],
   "source": [
    "train['TotalBthm'] = train['FullBath'] + 0.5*train['HalfBath'] + train['BsmtFullBath'] + 0.5*train['BsmtHalfBath']\n",
    "test['TotalBthm'] = test['FullBath'] + 0.5*test['HalfBath'] + test['BsmtFullBath'] + 0.5*test['BsmtHalfBath']\n",
    "\n",
    "train['TotalBthm'] = np.log(train['TotalBthm'])\n",
    "test['TotalBthm'] = np.log(test['TotalBthm'])"
   ]
  },
  {
   "cell_type": "code",
   "execution_count": 5,
   "metadata": {},
   "outputs": [
    {
     "data": {
      "text/plain": [
       "SalePrice        1.000000\n",
       "OverallQual      0.790982\n",
       "GrLivArea        0.708624\n",
       "TotalLivingSF    0.698827\n",
       "GarageCars       0.640409\n",
       "GarageArea       0.623431\n",
       "TotalBsmtSF      0.613581\n",
       "1stFlrSF         0.605852\n",
       "TotalBthm        0.603681\n",
       "FullBath         0.560664\n",
       "TotRmsAbvGrd     0.533723\n",
       "YearBuilt        0.522897\n",
       "YearRemodAdd     0.507101\n",
       "GarageYrBlt      0.486362\n",
       "MasVnrArea       0.477493\n",
       "Fireplaces       0.466929\n",
       "BsmtFinSF1       0.386420\n",
       "LotFrontage      0.351799\n",
       "WoodDeckSF       0.324413\n",
       "2ndFlrSF         0.319334\n",
       "OpenPorchSF      0.315856\n",
       "HalfBath         0.284108\n",
       "LotArea          0.263843\n",
       "BsmtFullBath     0.227122\n",
       "BsmtUnfSF        0.214479\n",
       "BedroomAbvGr     0.168213\n",
       "ScreenPorch      0.111447\n",
       "PoolArea         0.092404\n",
       "MoSold           0.046432\n",
       "3SsnPorch        0.044584\n",
       "BsmtFinSF2      -0.011378\n",
       "BsmtHalfBath    -0.016844\n",
       "MiscVal         -0.021190\n",
       "Id              -0.021917\n",
       "LowQualFinSF    -0.025606\n",
       "YrSold          -0.028923\n",
       "OverallCond     -0.077856\n",
       "MSSubClass      -0.084284\n",
       "EnclosedPorch   -0.128578\n",
       "KitchenAbvGr    -0.135907\n",
       "Name: SalePrice, dtype: float64"
      ]
     },
     "execution_count": 5,
     "metadata": {},
     "output_type": "execute_result"
    }
   ],
   "source": [
    "corr_matrix = train.corr()\n",
    "corr_matrix[\"SalePrice\"].sort_values(ascending=False)"
   ]
  },
  {
   "cell_type": "code",
   "execution_count": 6,
   "metadata": {},
   "outputs": [
    {
     "name": "stdout",
     "output_type": "stream",
     "text": [
      "['MSSubClass', 'LotFrontage', 'LotArea', 'OverallQual', 'OverallCond', 'YearBuilt', 'YearRemodAdd', 'MasVnrArea', 'BsmtFinSF1', 'BsmtUnfSF', 'TotalBsmtSF', '1stFlrSF', '2ndFlrSF', 'GrLivArea', 'BsmtFullBath', 'FullBath', 'HalfBath', 'BedroomAbvGr', 'KitchenAbvGr', 'TotRmsAbvGrd', 'Fireplaces', 'GarageYrBlt', 'GarageCars', 'GarageArea', 'WoodDeckSF', 'OpenPorchSF', 'EnclosedPorch', 'YrSold', 'TotalLivingSF', 'TotalBthm']\n"
     ]
    }
   ],
   "source": [
    "num_att = list(train.select_dtypes([np.number]).columns)\n",
    "\n",
    "# att = ['OverallQual', 'GrLivArea']\n",
    "\n",
    "# to_remove = ['BsmtFinSF2', 'MoSold', '3SsnPorch', 'BsmtHalfBath', 'MiscVal', 'LowQualFinSF', 'YrSold',\n",
    "#             'PoolArea', 'OverallCond', 'MSSubClass', 'ScreenPorch']\n",
    "\n",
    "to_remove = ['PoolArea', 'BsmtHalfBath', 'MiscVal', 'LowQualFinSF', 'ScreenPorch', '3SsnPorch',\n",
    "            'BsmtFinSF2', 'MoSold', 'YrSold',\n",
    "            'GarageArea', 'TotalBsmtSF']\n",
    "\n",
    "to_remove = ['PoolArea', 'BsmtHalfBath', 'MiscVal', 'LowQualFinSF', 'ScreenPorch', '3SsnPorch',\n",
    "            'BsmtFinSF2', 'MoSold']\n",
    "\n",
    "for t in to_remove:\n",
    "    num_att.remove(t)\n",
    "num_att.remove('Id')\n",
    "num_att.remove('SalePrice')\n",
    "\n",
    "# num_att = ['OverallQual', 'GrLivArea', 'GarageCars', '1stFlrSF', 'FullBath', 'YearBuilt']\n",
    "\n",
    "print(num_att)"
   ]
  },
  {
   "cell_type": "code",
   "execution_count": 7,
   "metadata": {},
   "outputs": [
    {
     "name": "stdout",
     "output_type": "stream",
     "text": [
      "['Neighborhood', 'BldgType', 'Heating', 'HeatingQC', 'CentralAir', 'Street', 'LotShape', 'LandContour', 'LotConfig', 'LandSlope', 'Condition1', 'HouseStyle', 'RoofStyle', 'ExterQual', 'ExterCond', 'Foundation', 'PavedDrive', 'SaleCondition']\n"
     ]
    }
   ],
   "source": [
    "cat_att = ['BldgType', 'CentralAir', 'Foundation', \n",
    "           'PavedDrive', 'SaleCondition']\n",
    "cat_att = ['Neighborhood', 'BldgType', 'Heating', 'HeatingQC', 'CentralAir', \n",
    "           'Street', 'LotShape', 'LandContour', 'LotConfig',\n",
    "           'LandSlope', 'Condition1', 'HouseStyle', 'RoofStyle', \n",
    "           'ExterQual', 'ExterCond', 'Foundation', 'PavedDrive', 'SaleCondition']\n",
    "\n",
    "# TO ADD = Exterior1st, KitchenQual, Functional, SaleType, Alley, Condition2\n",
    "\n",
    "# cat_att = ['Neighborhood', 'BldgType']\n",
    "print(cat_att)"
   ]
  },
  {
   "cell_type": "code",
   "execution_count": 8,
   "metadata": {},
   "outputs": [],
   "source": [
    "for a in num_att:\n",
    "    median = train[a].median()\n",
    "    train[a].fillna(median, inplace=True)\n",
    "    \n",
    "#     median = test[a].median()\n",
    "    test[a].fillna(median, inplace=True)"
   ]
  },
  {
   "cell_type": "code",
   "execution_count": 9,
   "metadata": {},
   "outputs": [
    {
     "name": "stderr",
     "output_type": "stream",
     "text": [
      "/home/marek/anaconda3/lib/python3.7/site-packages/pandas/core/series.py:853: RuntimeWarning: divide by zero encountered in log\n",
      "  result = getattr(ufunc, method)(*inputs, **kwargs)\n"
     ]
    }
   ],
   "source": [
    "import seaborn as sns\n",
    "from scipy.stats import norm\n",
    "from scipy import stats\n",
    "\n",
    "train['SalePrice'] = np.log(train['SalePrice'])\n",
    "train_y = train[\"SalePrice\"].copy()\n",
    "\n",
    "train['GrLivArea'] = np.log(train['GrLivArea'])\n",
    "test['GrLivArea'] = np.log(test['GrLivArea'])\n",
    "\n",
    "train['HasBsmt'] = pd.Series(len(train['TotalBsmtSF']), index=train.index)\n",
    "train['HasBsmt'] = 0 \n",
    "train.loc[train['TotalBsmtSF']>0,'HasBsmt'] = 1\n",
    "train.loc[train['HasBsmt']==1,'TotalBsmtSF'] = np.log(train['TotalBsmtSF'])\n",
    "test['HasBsmt'] = pd.Series(len(test['TotalBsmtSF']), index=test.index)\n",
    "test['HasBsmt'] = 0 \n",
    "test.loc[test['TotalBsmtSF']>0,'HasBsmt'] = 1\n",
    "test.loc[test['HasBsmt']==1,'TotalBsmtSF'] = np.log(test['TotalBsmtSF'])\n",
    "\n",
    "train['1stFlrSF'] = np.log(train['1stFlrSF'])\n",
    "test['1stFlrSF'] = np.log(test['1stFlrSF'])\n",
    "\n",
    "train['HasBsmtFin'] = pd.Series(len(train['BsmtFinSF1']), index=train.index)\n",
    "train['HasBsmtFin'] = 0 \n",
    "train.loc[train['BsmtFinSF1']>0,'HasBsmtFin'] = 1\n",
    "train.loc[train['HasBsmtFin']==1,'BsmtFinSF1'] = np.log(train['BsmtFinSF1'])\n",
    "test['HasBsmtFin'] = pd.Series(len(test['BsmtFinSF1']), index=test.index)\n",
    "test['HasBsmtFin'] = 0 \n",
    "test.loc[test['BsmtFinSF1']>0,'HasBsmtFin'] = 1\n",
    "test.loc[test['HasBsmtFin']==1,'BsmtFinSF1'] = np.log(test['BsmtFinSF1'])\n",
    "\n",
    "train['HasWoodDeck'] = pd.Series(len(train['WoodDeckSF']), index=train.index)\n",
    "train['HasWoodDeck'] = 0 \n",
    "train.loc[train['WoodDeckSF']>0,'HasWoodDeck'] = 1\n",
    "train.loc[train['HasWoodDeck']==1,'WoodDeckSF'] = np.log(train['WoodDeckSF'])\n",
    "test['HasWoodDeck'] = pd.Series(len(test['WoodDeckSF']), index=test.index)\n",
    "test['HasWoodDeck'] = 0 \n",
    "test.loc[test['WoodDeckSF']>0,'HasWoodDeck'] = 1\n",
    "test.loc[test['HasWoodDeck']==1,'WoodDeckSF'] = np.log(test['WoodDeckSF'])\n"
   ]
  },
  {
   "cell_type": "code",
   "execution_count": 10,
   "metadata": {},
   "outputs": [
    {
     "data": {
      "text/plain": [
       "SalePrice        1.000000\n",
       "OverallQual      0.817184\n",
       "TotalLivingSF    0.741062\n",
       "GrLivArea        0.730255\n",
       "GarageCars       0.680625\n",
       "TotalBthm        0.668685\n",
       "GarageArea       0.650888\n",
       "1stFlrSF         0.608947\n",
       "FullBath         0.594771\n",
       "YearBuilt        0.586570\n",
       "YearRemodAdd     0.565608\n",
       "TotRmsAbvGrd     0.534422\n",
       "GarageYrBlt      0.495794\n",
       "Fireplaces       0.489449\n",
       "MasVnrArea       0.426775\n",
       "TotalBsmtSF      0.373009\n",
       "WoodDeckSF       0.343269\n",
       "LotFrontage      0.335292\n",
       "OpenPorchSF      0.321053\n",
       "HasWoodDeck      0.320349\n",
       "2ndFlrSF         0.319300\n",
       "HalfBath         0.313982\n",
       "LotArea          0.257320\n",
       "BsmtFullBath     0.236224\n",
       "BsmtUnfSF        0.221985\n",
       "BedroomAbvGr     0.209044\n",
       "BsmtFinSF1       0.207962\n",
       "HasBsmt          0.199634\n",
       "HasBsmtFin       0.162231\n",
       "ScreenPorch      0.121208\n",
       "PoolArea         0.069798\n",
       "MoSold           0.057329\n",
       "3SsnPorch        0.054900\n",
       "BsmtFinSF2       0.004832\n",
       "BsmtHalfBath    -0.005149\n",
       "Id              -0.017942\n",
       "MiscVal         -0.020021\n",
       "OverallCond     -0.036868\n",
       "YrSold          -0.037263\n",
       "LowQualFinSF    -0.037963\n",
       "MSSubClass      -0.073959\n",
       "KitchenAbvGr    -0.147548\n",
       "EnclosedPorch   -0.149050\n",
       "Name: SalePrice, dtype: float64"
      ]
     },
     "execution_count": 10,
     "metadata": {},
     "output_type": "execute_result"
    }
   ],
   "source": [
    "corr_matrix = train.corr()\n",
    "corr_matrix[\"SalePrice\"].sort_values(ascending=False)"
   ]
  },
  {
   "cell_type": "code",
   "execution_count": 11,
   "metadata": {},
   "outputs": [
    {
     "name": "stdout",
     "output_type": "stream",
     "text": [
      "<class 'pandas.core.frame.DataFrame'>\n",
      "RangeIndex: 1460 entries, 0 to 1459\n",
      "Data columns (total 48 columns):\n",
      "MSSubClass       1460 non-null int64\n",
      "LotFrontage      1460 non-null float64\n",
      "LotArea          1460 non-null int64\n",
      "OverallQual      1460 non-null int64\n",
      "OverallCond      1460 non-null int64\n",
      "YearBuilt        1460 non-null int64\n",
      "YearRemodAdd     1460 non-null int64\n",
      "MasVnrArea       1460 non-null float64\n",
      "BsmtFinSF1       1460 non-null float64\n",
      "BsmtUnfSF        1460 non-null int64\n",
      "TotalBsmtSF      1460 non-null float64\n",
      "1stFlrSF         1460 non-null float64\n",
      "2ndFlrSF         1460 non-null int64\n",
      "GrLivArea        1460 non-null float64\n",
      "BsmtFullBath     1460 non-null int64\n",
      "FullBath         1460 non-null int64\n",
      "HalfBath         1460 non-null int64\n",
      "BedroomAbvGr     1460 non-null int64\n",
      "KitchenAbvGr     1460 non-null int64\n",
      "TotRmsAbvGrd     1460 non-null int64\n",
      "Fireplaces       1460 non-null int64\n",
      "GarageYrBlt      1460 non-null float64\n",
      "GarageCars       1460 non-null int64\n",
      "GarageArea       1460 non-null int64\n",
      "WoodDeckSF       1460 non-null float64\n",
      "OpenPorchSF      1460 non-null int64\n",
      "EnclosedPorch    1460 non-null int64\n",
      "YrSold           1460 non-null int64\n",
      "TotalLivingSF    1460 non-null float64\n",
      "TotalBthm        1460 non-null float64\n",
      "Neighborhood     1460 non-null object\n",
      "BldgType         1460 non-null object\n",
      "Heating          1460 non-null object\n",
      "HeatingQC        1460 non-null object\n",
      "CentralAir       1460 non-null object\n",
      "Street           1460 non-null object\n",
      "LotShape         1460 non-null object\n",
      "LandContour      1460 non-null object\n",
      "LotConfig        1460 non-null object\n",
      "LandSlope        1460 non-null object\n",
      "Condition1       1460 non-null object\n",
      "HouseStyle       1460 non-null object\n",
      "RoofStyle        1460 non-null object\n",
      "ExterQual        1460 non-null object\n",
      "ExterCond        1460 non-null object\n",
      "Foundation       1460 non-null object\n",
      "PavedDrive       1460 non-null object\n",
      "SaleCondition    1460 non-null object\n",
      "dtypes: float64(10), int64(20), object(18)\n",
      "memory usage: 547.6+ KB\n",
      "<class 'pandas.core.frame.DataFrame'>\n",
      "RangeIndex: 1459 entries, 0 to 1458\n",
      "Data columns (total 48 columns):\n",
      "MSSubClass       1459 non-null int64\n",
      "LotFrontage      1459 non-null float64\n",
      "LotArea          1459 non-null int64\n",
      "OverallQual      1459 non-null int64\n",
      "OverallCond      1459 non-null int64\n",
      "YearBuilt        1459 non-null int64\n",
      "YearRemodAdd     1459 non-null int64\n",
      "MasVnrArea       1459 non-null float64\n",
      "BsmtFinSF1       1459 non-null float64\n",
      "BsmtUnfSF        1459 non-null float64\n",
      "TotalBsmtSF      1459 non-null float64\n",
      "1stFlrSF         1459 non-null float64\n",
      "2ndFlrSF         1459 non-null int64\n",
      "GrLivArea        1459 non-null float64\n",
      "BsmtFullBath     1459 non-null float64\n",
      "FullBath         1459 non-null int64\n",
      "HalfBath         1459 non-null int64\n",
      "BedroomAbvGr     1459 non-null int64\n",
      "KitchenAbvGr     1459 non-null int64\n",
      "TotRmsAbvGrd     1459 non-null int64\n",
      "Fireplaces       1459 non-null int64\n",
      "GarageYrBlt      1459 non-null float64\n",
      "GarageCars       1459 non-null float64\n",
      "GarageArea       1459 non-null float64\n",
      "WoodDeckSF       1459 non-null float64\n",
      "OpenPorchSF      1459 non-null int64\n",
      "EnclosedPorch    1459 non-null int64\n",
      "YrSold           1459 non-null int64\n",
      "TotalLivingSF    1459 non-null float64\n",
      "TotalBthm        1459 non-null float64\n",
      "Neighborhood     1459 non-null object\n",
      "BldgType         1459 non-null object\n",
      "Heating          1459 non-null object\n",
      "HeatingQC        1459 non-null object\n",
      "CentralAir       1459 non-null object\n",
      "Street           1459 non-null object\n",
      "LotShape         1459 non-null object\n",
      "LandContour      1459 non-null object\n",
      "LotConfig        1459 non-null object\n",
      "LandSlope        1459 non-null object\n",
      "Condition1       1459 non-null object\n",
      "HouseStyle       1459 non-null object\n",
      "RoofStyle        1459 non-null object\n",
      "ExterQual        1459 non-null object\n",
      "ExterCond        1459 non-null object\n",
      "Foundation       1459 non-null object\n",
      "PavedDrive       1459 non-null object\n",
      "SaleCondition    1459 non-null object\n",
      "dtypes: float64(14), int64(16), object(18)\n",
      "memory usage: 547.2+ KB\n",
      "<class 'pandas.core.frame.DataFrame'>\n",
      "Int64Index: 2919 entries, 0 to 1458\n",
      "Data columns (total 48 columns):\n",
      "MSSubClass       2919 non-null int64\n",
      "LotFrontage      2919 non-null float64\n",
      "LotArea          2919 non-null int64\n",
      "OverallQual      2919 non-null int64\n",
      "OverallCond      2919 non-null int64\n",
      "YearBuilt        2919 non-null int64\n",
      "YearRemodAdd     2919 non-null int64\n",
      "MasVnrArea       2919 non-null float64\n",
      "BsmtFinSF1       2919 non-null float64\n",
      "BsmtUnfSF        2919 non-null float64\n",
      "TotalBsmtSF      2919 non-null float64\n",
      "1stFlrSF         2919 non-null float64\n",
      "2ndFlrSF         2919 non-null int64\n",
      "GrLivArea        2919 non-null float64\n",
      "BsmtFullBath     2919 non-null float64\n",
      "FullBath         2919 non-null int64\n",
      "HalfBath         2919 non-null int64\n",
      "BedroomAbvGr     2919 non-null int64\n",
      "KitchenAbvGr     2919 non-null int64\n",
      "TotRmsAbvGrd     2919 non-null int64\n",
      "Fireplaces       2919 non-null int64\n",
      "GarageYrBlt      2919 non-null float64\n",
      "GarageCars       2919 non-null float64\n",
      "GarageArea       2919 non-null float64\n",
      "WoodDeckSF       2919 non-null float64\n",
      "OpenPorchSF      2919 non-null int64\n",
      "EnclosedPorch    2919 non-null int64\n",
      "YrSold           2919 non-null int64\n",
      "TotalLivingSF    2919 non-null float64\n",
      "TotalBthm        2919 non-null float64\n",
      "Neighborhood     2919 non-null object\n",
      "BldgType         2919 non-null object\n",
      "Heating          2919 non-null object\n",
      "HeatingQC        2919 non-null object\n",
      "CentralAir       2919 non-null object\n",
      "Street           2919 non-null object\n",
      "LotShape         2919 non-null object\n",
      "LandContour      2919 non-null object\n",
      "LotConfig        2919 non-null object\n",
      "LandSlope        2919 non-null object\n",
      "Condition1       2919 non-null object\n",
      "HouseStyle       2919 non-null object\n",
      "RoofStyle        2919 non-null object\n",
      "ExterQual        2919 non-null object\n",
      "ExterCond        2919 non-null object\n",
      "Foundation       2919 non-null object\n",
      "PavedDrive       2919 non-null object\n",
      "SaleCondition    2919 non-null object\n",
      "dtypes: float64(14), int64(16), object(18)\n",
      "memory usage: 1.1+ MB\n"
     ]
    }
   ],
   "source": [
    "train2 = train[num_att + cat_att]\n",
    "train2.info()\n",
    "test2 = test[num_att + cat_att]\n",
    "test2.info()\n",
    "\n",
    "merged_df = pd.concat([train2, test2])\n",
    "merged_df.info()"
   ]
  },
  {
   "cell_type": "code",
   "execution_count": 12,
   "metadata": {},
   "outputs": [],
   "source": [
    "from sklearn.pipeline import Pipeline\n",
    "from sklearn.preprocessing import StandardScaler\n",
    "from sklearn.impute import SimpleImputer\n",
    "from sklearn.compose import ColumnTransformer\n",
    "from sklearn.preprocessing import OneHotEncoder\n",
    "\n",
    "num_pipeline = Pipeline([\n",
    "        ('imputer', SimpleImputer(strategy=\"median\")),\n",
    "        ('std_scaler', StandardScaler()),\n",
    "    ])\n",
    "train_prepared = num_pipeline.fit_transform(train[num_att])\n",
    "test_prepared  = num_pipeline.transform(test[num_att])\n",
    "\n",
    "\n",
    "full_pipeline = ColumnTransformer([\n",
    "        (\"num\", num_pipeline, num_att),\n",
    "        (\"cat\", OneHotEncoder(), cat_att),\n",
    "    ])\n",
    "\n",
    "train_test_full_prepared = full_pipeline.fit_transform(merged_df)\n",
    "train_full_prepared = full_pipeline.transform(train2)\n",
    "test_full_prepared = full_pipeline.transform(test2)\n"
   ]
  },
  {
   "cell_type": "code",
   "execution_count": 13,
   "metadata": {},
   "outputs": [
    {
     "name": "stdout",
     "output_type": "stream",
     "text": [
      "(1460, 30)\n",
      "(1459, 30)\n",
      "(1460, 138)\n",
      "(1459, 138)\n"
     ]
    }
   ],
   "source": [
    "print(train_prepared.shape)\n",
    "print(test_prepared.shape)\n",
    "print(train_full_prepared.shape)\n",
    "print(test_full_prepared.shape)"
   ]
  },
  {
   "cell_type": "code",
   "execution_count": 14,
   "metadata": {},
   "outputs": [
    {
     "data": {
      "text/plain": [
       "0.0014825304385416584"
      ]
     },
     "execution_count": 14,
     "metadata": {},
     "output_type": "execute_result"
    }
   ],
   "source": [
    "from sklearn.metrics import mean_squared_error\n",
    "from sklearn.ensemble import RandomForestRegressor\n",
    "\n",
    "forest_reg = RandomForestRegressor(bootstrap=False, n_estimators=350, max_features=32, random_state=42)\n",
    "forest_reg.fit(train_full_prepared, train_y)\n",
    "\n",
    "housing_predictions = forest_reg.predict(train_full_prepared)\n",
    "\n",
    "forest_mse = mean_squared_error(train_y, housing_predictions)\n",
    "forest_rmse = np.sqrt(forest_mse)\n",
    "forest_rmse"
   ]
  },
  {
   "cell_type": "code",
   "execution_count": 15,
   "metadata": {},
   "outputs": [
    {
     "name": "stdout",
     "output_type": "stream",
     "text": [
      "12.247694320220951\n",
      "12.247694320220994\n"
     ]
    }
   ],
   "source": [
    "print(housing_predictions[0])\n",
    "print(train_y[0])"
   ]
  },
  {
   "cell_type": "code",
   "execution_count": 16,
   "metadata": {},
   "outputs": [
    {
     "data": {
      "text/plain": [
       "207.04715150323068"
      ]
     },
     "execution_count": 16,
     "metadata": {},
     "output_type": "execute_result"
    }
   ],
   "source": [
    "train_y_normal = np.e**train_y\n",
    "pred_normal = np.e**housing_predictions\n",
    "\n",
    "forest_mse = mean_squared_error(train_y_normal, pred_normal)\n",
    "forest_rmse = np.sqrt(forest_mse)\n",
    "forest_rmse"
   ]
  },
  {
   "cell_type": "code",
   "execution_count": 17,
   "metadata": {},
   "outputs": [
    {
     "name": "stdout",
     "output_type": "stream",
     "text": [
      "208500.0\n",
      "208499.9999999911\n"
     ]
    }
   ],
   "source": [
    "print(train_y_normal[0])\n",
    "print(pred_normal[0])"
   ]
  },
  {
   "cell_type": "code",
   "execution_count": 18,
   "metadata": {
    "scrolled": false
   },
   "outputs": [
    {
     "data": {
      "text/plain": [
       "[(0.1828027301388057, 'OverallQual'),\n",
       " (0.12263663657820698, 'GrLivArea'),\n",
       " (0.11196871065820235, 'TotalLivingSF'),\n",
       " (0.08726102554677743, 'YearBuilt'),\n",
       " (0.05466596039882539, 'TA'),\n",
       " (0.04424182802127461, 'GarageCars'),\n",
       " (0.038611489443972975, 'TotalBthm'),\n",
       " (0.03643530378069979, 'GarageArea'),\n",
       " (0.035658570207695396, 'TotalBsmtSF'),\n",
       " (0.03292284041815341, '1stFlrSF'),\n",
       " (0.02451733687590754, 'GarageYrBlt'),\n",
       " (0.022477238601088145, 'FullBath'),\n",
       " (0.017406023593236414, 'LotArea'),\n",
       " (0.01586956048006572, 'Fireplaces'),\n",
       " (0.015714644551424614, 'YearRemodAdd'),\n",
       " (0.012034398364532297, 'BsmtFinSF1'),\n",
       " (0.010992087306638317, '2ndFlrSF'),\n",
       " (0.010002285042854948, 'OverallCond'),\n",
       " (0.008933304472783414, 'LotFrontage'),\n",
       " (0.008857209831878848, 'N'),\n",
       " (0.008361406900780277, 'Y'),\n",
       " (0.00805284887501053, 'BsmtUnfSF'),\n",
       " (0.006679427021515153, 'TotRmsAbvGrd'),\n",
       " (0.006203837704417111, 'PConc'),\n",
       " (0.0048823656347671265, 'OpenPorchSF'),\n",
       " (0.004618454569573804, 'MSSubClass'),\n",
       " (0.00454431430610095, 'Gd'),\n",
       " (0.0037239286810245254, 'MasVnrArea'),\n",
       " (0.003149881163963975, 'BedroomAbvGr'),\n",
       " (0.0029334629422834557, 'WoodDeckSF'),\n",
       " (0.0022581417604371785, 'YrSold'),\n",
       " (0.002155432212804133, 'Ex'),\n",
       " (0.0019523747465330676, 'EnclosedPorch'),\n",
       " (0.0017068564804849182, 'HalfBath'),\n",
       " (0.001585083058730841, 'KitchenAbvGr'),\n",
       " (0.0014928414144656863, 'Crawfor'),\n",
       " (0.0013949190420044259, 'Edwards'),\n",
       " (0.0013772848160816143, 'Ex'),\n",
       " (0.0013526692831658603, 'Abnorml'),\n",
       " (0.0013171053886849133, 'N'),\n",
       " (0.0013141350878952992, 'Normal'),\n",
       " (0.0011776382111514472, 'OldTown'),\n",
       " (0.001169643132841696, 'BsmtFullBath'),\n",
       " (0.0011687066801399802, 'Fa'),\n",
       " (0.0011146453796798928, 'Reg'),\n",
       " (0.001095694419327108, '1Fam'),\n",
       " (0.0010406192168085945, 'Fa'),\n",
       " (0.0010163919730178717, 'Bnk'),\n",
       " (0.0010122557087688746, 'Y'),\n",
       " (0.0008643038592772781, 'Hip'),\n",
       " (0.0008601433803895229, 'IR1'),\n",
       " (0.0008578903538054923, '2Story'),\n",
       " (0.0008527833221742172, 'Gable'),\n",
       " (0.0007931385304298914, 'TA'),\n",
       " (0.0007788063054601908, 'CBlock'),\n",
       " (0.0007489792004688077, '1Story'),\n",
       " (0.0007484736667744491, 'IDOTRR'),\n",
       " (0.0007291266775293502, 'Lvl'),\n",
       " (0.0007267035784537882, 'TA'),\n",
       " (0.0006682895386595824, 'Inside'),\n",
       " (0.0006598826375236102, 'Norm'),\n",
       " (0.000626794916130255, 'Partial'),\n",
       " (0.0006108687257858126, 'NAmes'),\n",
       " (0.0005995346240536352, 'Gtl'),\n",
       " (0.0005590528278691904, 'BrkTil'),\n",
       " (0.0005548143423597539, 'Fa'),\n",
       " (0.000544471846170935, 'Artery'),\n",
       " (0.0005394142218430555, 'Corner'),\n",
       " (0.0005276413765709568, 'Gd'),\n",
       " (0.0005262858322464893, 'Family'),\n",
       " (0.0004797203982579579, 'Mod'),\n",
       " (0.0004791178305153151, '1.5Fin'),\n",
       " (0.00046544216722096043, 'NridgHt'),\n",
       " (0.00043093440220673125, 'Sawyer'),\n",
       " (0.0004252156205457334, 'Gd'),\n",
       " (0.0003999054812365501, 'Feedr'),\n",
       " (0.00039769860359865255, 'ClearCr'),\n",
       " (0.0003758967055931622, 'MeadowV'),\n",
       " (0.00036623866255721494, 'Low'),\n",
       " (0.0003571909659361143, 'Duplex'),\n",
       " (0.0003454881777315631, 'Flat'),\n",
       " (0.0003239882157390237, 'HLS'),\n",
       " (0.00031957735330412026, 'Gambrel'),\n",
       " (0.0002863867903522897, 'GasA'),\n",
       " (0.00028286836253479236, 'BrkSide'),\n",
       " (0.00028249679271753905, 'CollgCr'),\n",
       " (0.0002798307034583129, 'CulDSac'),\n",
       " (0.0002796677620859831, 'Somerst'),\n",
       " (0.00026579943533246094, 'P'),\n",
       " (0.00024037750423586197, 'Alloca'),\n",
       " (0.00023727127435985463, 'NWAmes'),\n",
       " (0.00022278133061337337, 'IR2'),\n",
       " (0.00021829151562308754, 'FR2'),\n",
       " (0.00019897315226483564, 'TwnhsE'),\n",
       " (0.0001980536795318247, 'StoneBr'),\n",
       " (0.00019398147554861874, 'Gilbert'),\n",
       " (0.00019090627647721113, 'Mitchel'),\n",
       " (0.00018701821732280705, 'Grav'),\n",
       " (0.00018455936835165042, 'Twnhs'),\n",
       " (0.0001844754377442092, 'PosN'),\n",
       " (0.00017965967314962652, 'SLvl'),\n",
       " (0.00017498151486914268, 'Grvl'),\n",
       " (0.00017191981714112135, 'SWISU'),\n",
       " (0.00016903082659164282, 'NoRidge'),\n",
       " (0.00015569560723165232, 'Slab'),\n",
       " (0.00015543219151898735, '2fmCon'),\n",
       " (0.0001551143141368699, 'SawyerW'),\n",
       " (0.0001463629826066994, 'Pave'),\n",
       " (0.00013287493190442906, 'RRAe'),\n",
       " (0.00012729520866045345, 'Sev'),\n",
       " (0.00012418393760934733, 'GasW'),\n",
       " (0.00011628998565143304, 'RRAn'),\n",
       " (0.0001100369197777096, 'BrDale'),\n",
       " (0.00010450278691640678, 'Timber'),\n",
       " (7.844019051084713e-05, '2.5Unf'),\n",
       " (6.946761730670986e-05, '1.5Unf'),\n",
       " (6.231991414542244e-05, 'Veenker'),\n",
       " (6.0180061936247746e-05, 'IR3'),\n",
       " (5.362914341911333e-05, '2.5Fin'),\n",
       " (4.620694847107889e-05, 'SFoyer'),\n",
       " (4.132671244119822e-05, 'OthW'),\n",
       " (3.90463659350649e-05, 'Blmngtn'),\n",
       " (3.60203401133128e-05, 'PosA'),\n",
       " (2.171876072986395e-05, 'NPkVill'),\n",
       " (1.8707886252513724e-05, 'Stone'),\n",
       " (1.675714406184452e-05, 'AdjLand'),\n",
       " (1.2930909587398384e-05, 'Ex'),\n",
       " (1.2874193429173267e-05, 'FR3'),\n",
       " (1.2008405309309318e-05, 'Wall'),\n",
       " (1.115144502090279e-05, 'Mansard'),\n",
       " (8.871707969018596e-06, 'Wood'),\n",
       " (8.807383456623824e-06, 'Shed'),\n",
       " (7.56317155126308e-06, 'RRNn'),\n",
       " (6.744953600173518e-06, 'Po'),\n",
       " (5.175226445545332e-06, 'Po'),\n",
       " (3.61140260052887e-06, 'Blueste'),\n",
       " (3.281082636644816e-06, 'Floor'),\n",
       " (6.747828459659516e-07, 'RRNe')]"
      ]
     },
     "execution_count": 18,
     "metadata": {},
     "output_type": "execute_result"
    }
   ],
   "source": [
    "# forest_reg.feature_importances_\n",
    "\n",
    "cat_encoder = full_pipeline.named_transformers_[\"cat\"]\n",
    "cat_one_hot_attribs = []\n",
    "for a in cat_encoder.categories_:\n",
    "    for b in a:\n",
    "        cat_one_hot_attribs.append(b)\n",
    "# print(cat_one_hot_attribs)\n",
    "attributes = num_att + cat_one_hot_attribs\n",
    "sorted(zip(forest_reg.feature_importances_, attributes), reverse=True)"
   ]
  },
  {
   "cell_type": "code",
   "execution_count": 19,
   "metadata": {},
   "outputs": [
    {
     "name": "stdout",
     "output_type": "stream",
     "text": [
      "scores: [0.12833695 0.12068967 0.13252938 0.1702697  0.158876   0.11007637\n",
      " 0.13179766 0.11558184 0.1321227  0.13341998]\n",
      "mean: 0.13337002485334581\n",
      "std: 0.017498615464846164\n",
      "count    10.000000\n",
      "mean      0.133370\n",
      "std       0.018445\n",
      "min       0.110076\n",
      "25%       0.122601\n",
      "50%       0.131960\n",
      "75%       0.133197\n",
      "max       0.170270\n",
      "dtype: float64\n"
     ]
    }
   ],
   "source": [
    "from sklearn.model_selection import cross_val_score\n",
    "def display_scores(scores):\n",
    "    print(\"scores:\", scores)\n",
    "    print(\"mean:\", scores.mean())\n",
    "    print(\"std:\", scores.std())\n",
    "\n",
    "forest_reg = RandomForestRegressor(bootstrap=False, n_estimators=200, max_features=32, random_state=42)\n",
    "forest_reg.fit(train_full_prepared, train_y)\n",
    "\n",
    "forest_scores = cross_val_score(forest_reg, train_full_prepared, train_y,\n",
    "                                scoring=\"neg_mean_squared_error\", cv=10)\n",
    "forest_rmse_scores = np.sqrt(-forest_scores)\n",
    "display_scores(forest_rmse_scores)\n",
    "\n",
    "print(pd.Series(forest_rmse_scores).describe())"
   ]
  },
  {
   "cell_type": "code",
   "execution_count": 22,
   "metadata": {},
   "outputs": [
    {
     "name": "stdout",
     "output_type": "stream",
     "text": [
      "Fitting 10 folds for each of 30 candidates, totalling 300 fits\n"
     ]
    },
    {
     "name": "stderr",
     "output_type": "stream",
     "text": [
      "[Parallel(n_jobs=-1)]: Using backend LokyBackend with 12 concurrent workers.\n",
      "[Parallel(n_jobs=-1)]: Done   8 tasks      | elapsed:    0.6s\n",
      "[Parallel(n_jobs=-1)]: Done 104 tasks      | elapsed:   24.2s\n",
      "[Parallel(n_jobs=-1)]: Done 264 tasks      | elapsed:  1.5min\n",
      "[Parallel(n_jobs=-1)]: Done 300 out of 300 | elapsed:  1.9min finished\n"
     ]
    },
    {
     "data": {
      "text/plain": [
       "GridSearchCV(cv=10, error_score='raise-deprecating',\n",
       "             estimator=RandomForestRegressor(bootstrap=True, criterion='mse',\n",
       "                                             max_depth=None,\n",
       "                                             max_features='auto',\n",
       "                                             max_leaf_nodes=None,\n",
       "                                             min_impurity_decrease=0.0,\n",
       "                                             min_impurity_split=None,\n",
       "                                             min_samples_leaf=1,\n",
       "                                             min_samples_split=2,\n",
       "                                             min_weight_fraction_leaf=0.0,\n",
       "                                             n_estimators='warn', n_jobs=None,\n",
       "                                             oob_score=False, random_state=42,\n",
       "                                             verbose=0, warm_start=False),\n",
       "             iid='warn', n_jobs=-1,\n",
       "             param_grid=[{'max_features': [16, 32, 48],\n",
       "                          'n_estimators': [100, 300, 400, 500, 600]},\n",
       "                         {'bootstrap': [False], 'max_features': [16, 32, 48],\n",
       "                          'n_estimators': [100, 300, 400, 500, 600]}],\n",
       "             pre_dispatch='2*n_jobs', refit=True, return_train_score=True,\n",
       "             scoring='neg_mean_squared_error', verbose=3)"
      ]
     },
     "execution_count": 22,
     "metadata": {},
     "output_type": "execute_result"
    }
   ],
   "source": [
    "from sklearn.model_selection import GridSearchCV\n",
    "\n",
    "param_grid = [\n",
    "    # sprawdza 12 (3×4) kombinacji hiperparametrów\n",
    "    {'n_estimators': [100, 300, 400, 500, 600], 'max_features': [16, 32, 48]},\n",
    "    # następnie sprawdza 6 (2×3) kombinacji z wyłączonym parametrem bootstrap (False)\n",
    "    {'bootstrap': [False], 'n_estimators': [100, 300, 400, 500, 600], \n",
    "     'max_features': [16, 32, 48]},\n",
    "  ]\n",
    "\n",
    "forest_reg = RandomForestRegressor(random_state=42)\n",
    "# przeprowadza proces uczenia na pięciu podzbiorach, czyli łącznie (12+6)*5=90 przebiegów \n",
    "grid_search = GridSearchCV(forest_reg, param_grid, cv=10,\n",
    "                           scoring='neg_mean_squared_error',\n",
    "                           return_train_score=True, verbose=3, n_jobs=-1)\n",
    "grid_search.fit(train_full_prepared, train_y)"
   ]
  },
  {
   "cell_type": "code",
   "execution_count": 24,
   "metadata": {},
   "outputs": [
    {
     "data": {
      "text/plain": [
       "{'bootstrap': False, 'max_features': 16, 'n_estimators': 500}"
      ]
     },
     "execution_count": 24,
     "metadata": {},
     "output_type": "execute_result"
    }
   ],
   "source": [
    "grid_search.best_params_"
   ]
  },
  {
   "cell_type": "code",
   "execution_count": 25,
   "metadata": {},
   "outputs": [
    {
     "data": {
      "text/plain": [
       "RandomForestRegressor(bootstrap=False, criterion='mse', max_depth=None,\n",
       "                      max_features=16, max_leaf_nodes=None,\n",
       "                      min_impurity_decrease=0.0, min_impurity_split=None,\n",
       "                      min_samples_leaf=1, min_samples_split=2,\n",
       "                      min_weight_fraction_leaf=0.0, n_estimators=500,\n",
       "                      n_jobs=None, oob_score=False, random_state=42, verbose=0,\n",
       "                      warm_start=False)"
      ]
     },
     "execution_count": 25,
     "metadata": {},
     "output_type": "execute_result"
    }
   ],
   "source": [
    "grid_search.best_estimator_"
   ]
  },
  {
   "cell_type": "code",
   "execution_count": 26,
   "metadata": {},
   "outputs": [
    {
     "name": "stdout",
     "output_type": "stream",
     "text": [
      "0.13848148955154269 {'max_features': 16, 'n_estimators': 100}\n",
      "0.13695194679226044 {'max_features': 16, 'n_estimators': 300}\n",
      "0.13682946179226058 {'max_features': 16, 'n_estimators': 400}\n",
      "0.13669734190228536 {'max_features': 16, 'n_estimators': 500}\n",
      "0.13685269090583774 {'max_features': 16, 'n_estimators': 600}\n",
      "0.13713386574759961 {'max_features': 32, 'n_estimators': 100}\n",
      "0.136151474580309 {'max_features': 32, 'n_estimators': 300}\n",
      "0.13592470561499959 {'max_features': 32, 'n_estimators': 400}\n",
      "0.1356867774597488 {'max_features': 32, 'n_estimators': 500}\n",
      "0.13567097735753478 {'max_features': 32, 'n_estimators': 600}\n",
      "0.13622225922255923 {'max_features': 48, 'n_estimators': 100}\n",
      "0.1354385337368978 {'max_features': 48, 'n_estimators': 300}\n",
      "0.13551165692412306 {'max_features': 48, 'n_estimators': 400}\n",
      "0.1355033612048938 {'max_features': 48, 'n_estimators': 500}\n",
      "0.1356286964477476 {'max_features': 48, 'n_estimators': 600}\n",
      "0.13491832687942465 {'bootstrap': False, 'max_features': 16, 'n_estimators': 100}\n",
      "0.13426369091249848 {'bootstrap': False, 'max_features': 16, 'n_estimators': 300}\n",
      "0.13415858714138676 {'bootstrap': False, 'max_features': 16, 'n_estimators': 400}\n",
      "0.13402866192381901 {'bootstrap': False, 'max_features': 16, 'n_estimators': 500}\n",
      "0.13411367555180612 {'bootstrap': False, 'max_features': 16, 'n_estimators': 600}\n",
      "0.13532015723261406 {'bootstrap': False, 'max_features': 32, 'n_estimators': 100}\n",
      "0.1343215735619946 {'bootstrap': False, 'max_features': 32, 'n_estimators': 300}\n",
      "0.13433716862449846 {'bootstrap': False, 'max_features': 32, 'n_estimators': 400}\n",
      "0.13447013362748 {'bootstrap': False, 'max_features': 32, 'n_estimators': 500}\n",
      "0.13433359578858206 {'bootstrap': False, 'max_features': 32, 'n_estimators': 600}\n",
      "0.1361809225296059 {'bootstrap': False, 'max_features': 48, 'n_estimators': 100}\n",
      "0.1353781245942803 {'bootstrap': False, 'max_features': 48, 'n_estimators': 300}\n",
      "0.13531222702641038 {'bootstrap': False, 'max_features': 48, 'n_estimators': 400}\n",
      "0.13531661625145636 {'bootstrap': False, 'max_features': 48, 'n_estimators': 500}\n",
      "0.13536595778082378 {'bootstrap': False, 'max_features': 48, 'n_estimators': 600}\n"
     ]
    }
   ],
   "source": [
    "cvres = grid_search.cv_results_\n",
    "for mean_score, params in zip(cvres[\"mean_test_score\"], cvres[\"params\"]):\n",
    "    print(np.sqrt(-mean_score), params)"
   ]
  },
  {
   "cell_type": "code",
   "execution_count": 27,
   "metadata": {},
   "outputs": [
    {
     "data": {
      "text/plain": [
       "array([5.88505065e-03, 1.25022384e-02, 2.14090671e-02, 1.15310313e-01,\n",
       "       9.81259745e-03, 6.39892027e-02, 2.49032745e-02, 8.47246914e-03,\n",
       "       1.77119358e-02, 9.62457630e-03, 4.31757469e-02, 3.51891809e-02,\n",
       "       1.65309127e-02, 8.77636556e-02, 1.95749726e-03, 3.78913518e-02,\n",
       "       3.41205600e-03, 5.05985183e-03, 2.21227296e-03, 1.40382696e-02,\n",
       "       1.86056452e-02, 3.01698572e-02, 4.71854500e-02, 4.88179632e-02,\n",
       "       4.39560708e-03, 1.03203373e-02, 2.06557833e-03, 2.58956191e-03,\n",
       "       9.51500008e-02, 3.82766355e-02, 6.44711489e-05, 5.28888594e-06,\n",
       "       2.08653854e-04, 4.51503720e-04, 5.42644823e-04, 4.27132339e-04,\n",
       "       1.82723711e-03, 1.60290443e-03, 2.35208900e-04, 1.13746046e-03,\n",
       "       5.16443011e-04, 2.12211011e-04, 8.35424287e-04, 3.60581967e-05,\n",
       "       4.17032674e-04, 4.28180838e-04, 2.54580408e-03, 1.40335907e-03,\n",
       "       2.06004587e-04, 5.08571859e-04, 2.28882477e-04, 4.38042836e-04,\n",
       "       3.34649762e-04, 2.09026306e-04, 1.03337169e-04, 2.03127223e-03,\n",
       "       2.73526465e-04, 6.63797359e-04, 3.20809354e-04, 3.81143403e-04,\n",
       "       1.16800568e-05, 4.80246369e-04, 2.80906124e-04, 2.92704282e-04,\n",
       "       3.97462291e-05, 3.26746778e-05, 6.04700087e-03, 8.64905049e-04,\n",
       "       7.10733881e-04, 4.15903042e-06, 1.61508163e-03, 7.32621532e-03,\n",
       "       8.14658952e-03, 1.88025275e-04, 2.18430927e-04, 1.29188229e-03,\n",
       "       3.22900906e-04, 1.62946895e-04, 1.75041620e-03, 1.01625359e-03,\n",
       "       4.46226881e-04, 5.55067393e-04, 9.85670154e-04, 7.15709062e-04,\n",
       "       4.53040561e-04, 2.67030744e-04, 1.36040289e-05, 8.62044664e-04,\n",
       "       7.83656251e-04, 6.17352199e-04, 2.09759026e-04, 5.82181405e-04,\n",
       "       6.34574978e-04, 9.48162705e-04, 6.24769188e-05, 1.97424860e-04,\n",
       "       1.20213975e-04, 1.51791681e-04, 4.29577210e-06, 1.86315750e-05,\n",
       "       7.46170942e-04, 8.44332265e-05, 1.40914647e-03, 1.02636123e-04,\n",
       "       8.24747288e-05, 1.97754934e-03, 9.28425533e-05, 2.48239535e-04,\n",
       "       3.53998114e-04, 1.95239595e-03, 3.78029350e-04, 1.78465300e-03,\n",
       "       3.32272422e-05, 1.78304368e-05, 4.09371871e-03, 9.94199821e-04,\n",
       "       1.00303553e-02, 5.22040076e-02, 2.21410912e-05, 1.53610746e-03,\n",
       "       6.21047285e-04, 3.56182446e-05, 9.17326382e-04, 9.48302978e-04,\n",
       "       1.39441158e-03, 1.52728074e-02, 3.40313886e-04, 5.56601382e-05,\n",
       "       2.80145377e-05, 2.24239610e-03, 3.02330498e-04, 1.70171808e-03,\n",
       "       1.38999637e-03, 2.68837200e-05, 2.95305640e-04, 4.72690505e-04,\n",
       "       1.60986396e-03, 1.74450194e-03])"
      ]
     },
     "execution_count": 27,
     "metadata": {},
     "output_type": "execute_result"
    }
   ],
   "source": [
    "feature_importances = grid_search.best_estimator_.feature_importances_\n",
    "feature_importances"
   ]
  },
  {
   "cell_type": "code",
   "execution_count": 28,
   "metadata": {
    "scrolled": false
   },
   "outputs": [
    {
     "data": {
      "text/plain": [
       "[(0.11531031306211151, 'OverallQual'),\n",
       " (0.09515000083536287, 'TotalLivingSF'),\n",
       " (0.08776365560233458, 'GrLivArea'),\n",
       " (0.06398920269880165, 'YearBuilt'),\n",
       " (0.0522040076126163, 'TA'),\n",
       " (0.048817963191655774, 'GarageArea'),\n",
       " (0.04718544998538426, 'GarageCars'),\n",
       " (0.04317574690152887, 'TotalBsmtSF'),\n",
       " (0.03827663550146994, 'TotalBthm'),\n",
       " (0.03789135176943227, 'FullBath'),\n",
       " (0.035189180931426776, '1stFlrSF'),\n",
       " (0.030169857199539088, 'GarageYrBlt'),\n",
       " (0.024903274500156006, 'YearRemodAdd'),\n",
       " (0.021409067109807604, 'LotArea'),\n",
       " (0.018605645217304064, 'Fireplaces'),\n",
       " (0.01771193582629896, 'BsmtFinSF1'),\n",
       " (0.016530912722128643, '2ndFlrSF'),\n",
       " (0.01527280742743347, 'PConc'),\n",
       " (0.014038269552204144, 'TotRmsAbvGrd'),\n",
       " (0.012502238379212088, 'LotFrontage'),\n",
       " (0.010320337270195542, 'OpenPorchSF'),\n",
       " (0.010030355254696336, 'Gd'),\n",
       " (0.009812597452942624, 'OverallCond'),\n",
       " (0.009624576297537527, 'BsmtUnfSF'),\n",
       " (0.008472469136237469, 'MasVnrArea'),\n",
       " (0.008146589523237343, 'Y'),\n",
       " (0.007326215321563303, 'N'),\n",
       " (0.006047000867785541, 'Ex'),\n",
       " (0.005885050651070222, 'MSSubClass'),\n",
       " (0.005059851827236911, 'BedroomAbvGr'),\n",
       " (0.0043956070798354665, 'WoodDeckSF'),\n",
       " (0.004093718710937749, 'Ex'),\n",
       " (0.0034120559988618485, 'HalfBath'),\n",
       " (0.0025895619099070085, 'YrSold'),\n",
       " (0.0025458040756220508, 'NridgHt'),\n",
       " (0.0022423961034209487, 'N'),\n",
       " (0.0022122729580432376, 'KitchenAbvGr'),\n",
       " (0.002065578325990783, 'EnclosedPorch'),\n",
       " (0.002031272234374526, '1Fam'),\n",
       " (0.0019775493422188608, '2Story'),\n",
       " (0.0019574972631518093, 'BsmtFullBath'),\n",
       " (0.0019523959471352082, 'Gable'),\n",
       " (0.001827237108349163, 'Crawfor'),\n",
       " (0.0017846530023461363, 'Hip'),\n",
       " (0.0017504162028530073, 'Reg'),\n",
       " (0.0017445019424110408, 'Partial'),\n",
       " (0.0017017180763808564, 'Y'),\n",
       " (0.0016150816301587524, 'TA'),\n",
       " (0.0016098639624084153, 'Normal'),\n",
       " (0.0016029044277821554, 'Edwards'),\n",
       " (0.0015361074550234626, 'Fa'),\n",
       " (0.0014091464749222706, '1Story'),\n",
       " (0.0014033590739701682, 'OldTown'),\n",
       " (0.001394411581307812, 'CBlock'),\n",
       " (0.001389996367591519, 'Abnorml'),\n",
       " (0.0012918822874088502, 'IR1'),\n",
       " (0.0011374604607827727, 'IDOTRR'),\n",
       " (0.0010162535879061829, 'Bnk'),\n",
       " (0.0009941998210901163, 'Fa'),\n",
       " (0.0009856701539955775, 'Lvl'),\n",
       " (0.0009483029784260432, 'BrkTil'),\n",
       " (0.0009481627054092554, 'Norm'),\n",
       " (0.0009173263823572175, 'TA'),\n",
       " (0.0008649050494582905, 'Fa'),\n",
       " (0.0008620446635118461, 'Inside'),\n",
       " (0.0008354242866653863, 'NAmes'),\n",
       " (0.0007836562511836888, 'Gtl'),\n",
       " (0.0007461709417743933, '1.5Fin'),\n",
       " (0.0007157090620286127, 'Corner'),\n",
       " (0.000710733880880905, 'Gd'),\n",
       " (0.0006637973592198023, 'Duplex'),\n",
       " (0.0006345749776871042, 'Feedr'),\n",
       " (0.0006210472851717911, 'Gd'),\n",
       " (0.0006173521992016732, 'Mod'),\n",
       " (0.0005821814046654203, 'Artery'),\n",
       " (0.0005550673926612805, 'Low'),\n",
       " (0.000542644823208248, 'ClearCr'),\n",
       " (0.0005164430106454159, 'MeadowV'),\n",
       " (0.0005085718590983369, 'Sawyer'),\n",
       " (0.0004802463694620704, 'GasA'),\n",
       " (0.00047269050536576443, 'Family'),\n",
       " (0.00045304056129445003, 'CulDSac'),\n",
       " (0.0004515037195732797, 'BrkSide'),\n",
       " (0.00044622688085833547, 'HLS'),\n",
       " (0.0004380428362029824, 'Somerst'),\n",
       " (0.00042818083756385904, 'NoRidge'),\n",
       " (0.00042713233942274896, 'CollgCr'),\n",
       " (0.000417032674255172, 'NWAmes'),\n",
       " (0.00038114340254913776, 'TwnhsE'),\n",
       " (0.0003780293499942495, 'Gambrel'),\n",
       " (0.00035399811373896693, 'Flat'),\n",
       " (0.00034031388615762923, 'Slab'),\n",
       " (0.00033464976163264754, 'StoneBr'),\n",
       " (0.00032290090588914103, 'IR2'),\n",
       " (0.0003208093537335478, 'Twnhs'),\n",
       " (0.00030233049848568027, 'P'),\n",
       " (0.00029530564007463196, 'Alloca'),\n",
       " (0.0002927042821231785, 'Grav'),\n",
       " (0.00028090612358528245, 'GasW'),\n",
       " (0.00027352646521104553, '2fmCon'),\n",
       " (0.00026703074436479026, 'FR2'),\n",
       " (0.000248239535371693, 'SLvl'),\n",
       " (0.000235208900451862, 'Gilbert'),\n",
       " (0.0002288824768854168, 'SawyerW'),\n",
       " (0.0002184309267896167, 'Pave'),\n",
       " (0.0002122110114659072, 'Mitchel'),\n",
       " (0.00020975902565075486, 'Sev'),\n",
       " (0.00020902630562689257, 'Timber'),\n",
       " (0.00020865385350812317, 'BrDale'),\n",
       " (0.0002060045874010927, 'SWISU'),\n",
       " (0.00019742486017261862, 'PosN'),\n",
       " (0.0001880252752421856, 'Grvl'),\n",
       " (0.00016294689461416193, 'IR3'),\n",
       " (0.00015179168103910705, 'RRAn'),\n",
       " (0.000120213974772674, 'RRAe'),\n",
       " (0.00010333716861654618, 'Veenker'),\n",
       " (0.00010263612275727391, '2.5Fin'),\n",
       " (9.284255330335402e-05, 'SFoyer'),\n",
       " (8.443322649876225e-05, '1.5Unf'),\n",
       " (8.247472878668181e-05, '2.5Unf'),\n",
       " (6.447114889960578e-05, 'Blmngtn'),\n",
       " (6.247691882819368e-05, 'PosA'),\n",
       " (5.566013815997832e-05, 'Stone'),\n",
       " (3.974622911233502e-05, 'OthW'),\n",
       " (3.6058196746754637e-05, 'NPkVill'),\n",
       " (3.561824460666077e-05, 'Po'),\n",
       " (3.322724217386462e-05, 'Mansard'),\n",
       " (3.267467783373715e-05, 'Wall'),\n",
       " (2.8014537682392912e-05, 'Wood'),\n",
       " (2.6883720001523527e-05, 'AdjLand'),\n",
       " (2.2141091239495275e-05, 'Ex'),\n",
       " (1.86315749857466e-05, 'RRNn'),\n",
       " (1.783043681850346e-05, 'Shed'),\n",
       " (1.3604028947817295e-05, 'FR3'),\n",
       " (1.1680056848343465e-05, 'Floor'),\n",
       " (5.288885942654841e-06, 'Blueste'),\n",
       " (4.295772102218483e-06, 'RRNe'),\n",
       " (4.15903042289209e-06, 'Po')]"
      ]
     },
     "execution_count": 28,
     "metadata": {},
     "output_type": "execute_result"
    }
   ],
   "source": [
    "cat_encoder = full_pipeline.named_transformers_[\"cat\"]\n",
    "cat_one_hot_attribs = []\n",
    "for a in cat_encoder.categories_:\n",
    "    for b in a:\n",
    "        cat_one_hot_attribs.append(b)\n",
    "# print(cat_one_hot_attribs)\n",
    "attributes = num_att + cat_one_hot_attribs\n",
    "sorted(zip(feature_importances, attributes), reverse=True)"
   ]
  },
  {
   "cell_type": "code",
   "execution_count": 29,
   "metadata": {},
   "outputs": [],
   "source": [
    "# y_pred = forest_reg.predict(test_full_prepared)\n",
    "y_pred = grid_search.predict(test_full_prepared)\n",
    "y_pred_normal = np.e**y_pred\n",
    "sub = pd.DataFrame({'Id': test['Id'], 'SalePrice': y_pred_normal})"
   ]
  },
  {
   "cell_type": "code",
   "execution_count": 30,
   "metadata": {},
   "outputs": [],
   "source": [
    "sub.to_csv(\"data/submission_script30_TotalBthm.csv\", index=False)"
   ]
  },
  {
   "cell_type": "code",
   "execution_count": 31,
   "metadata": {},
   "outputs": [
    {
     "data": {
      "text/plain": [
       "(1459, 2)"
      ]
     },
     "execution_count": 31,
     "metadata": {},
     "output_type": "execute_result"
    }
   ],
   "source": [
    "sub.shape"
   ]
  },
  {
   "cell_type": "code",
   "execution_count": null,
   "metadata": {},
   "outputs": [],
   "source": []
  }
 ],
 "metadata": {
  "kernelspec": {
   "display_name": "Python 3",
   "language": "python",
   "name": "python3"
  },
  "language_info": {
   "codemirror_mode": {
    "name": "ipython",
    "version": 3
   },
   "file_extension": ".py",
   "mimetype": "text/x-python",
   "name": "python",
   "nbconvert_exporter": "python",
   "pygments_lexer": "ipython3",
   "version": "3.7.4"
  }
 },
 "nbformat": 4,
 "nbformat_minor": 2
}
