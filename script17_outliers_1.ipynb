{
 "cells": [
  {
   "cell_type": "code",
   "execution_count": 1,
   "metadata": {},
   "outputs": [],
   "source": [
    "import sys\n",
    "assert sys.version_info >= (3, 5)\n",
    "\n",
    "import sklearn\n",
    "assert sklearn.__version__ >= \"0.20\"\n",
    "\n",
    "import numpy as np\n",
    "import os\n",
    "\n",
    "import matplotlib as mpl\n",
    "import matplotlib.pyplot as plt\n",
    "mpl.rc('axes', labelsize=14)\n",
    "mpl.rc('xtick', labelsize=12)\n",
    "mpl.rc('ytick', labelsize=12)\n",
    "\n",
    "import warnings\n",
    "warnings.filterwarnings(action=\"ignore\", message=\"^internal gelsd\")"
   ]
  },
  {
   "cell_type": "code",
   "execution_count": 2,
   "metadata": {},
   "outputs": [],
   "source": [
    "import pandas as pd\n",
    "\n",
    "def load_housing_data(housing_path='data'):\n",
    "    train_csv_path = os.path.join(housing_path, \"train.csv\")\n",
    "    test_csv_path = os.path.join(housing_path, \"test.csv\")\n",
    "    return pd.read_csv(train_csv_path), pd.read_csv(test_csv_path)\n",
    "\n",
    "train, test = load_housing_data()"
   ]
  },
  {
   "cell_type": "code",
   "execution_count": 4,
   "metadata": {},
   "outputs": [
    {
     "name": "stdout",
     "output_type": "stream",
     "text": [
      "<class 'pandas.core.frame.DataFrame'>\n",
      "Int64Index: 1458 entries, 0 to 1459\n",
      "Data columns (total 81 columns):\n",
      "Id               1458 non-null int64\n",
      "MSSubClass       1458 non-null int64\n",
      "MSZoning         1458 non-null object\n",
      "LotFrontage      1199 non-null float64\n",
      "LotArea          1458 non-null int64\n",
      "Street           1458 non-null object\n",
      "Alley            91 non-null object\n",
      "LotShape         1458 non-null object\n",
      "LandContour      1458 non-null object\n",
      "Utilities        1458 non-null object\n",
      "LotConfig        1458 non-null object\n",
      "LandSlope        1458 non-null object\n",
      "Neighborhood     1458 non-null object\n",
      "Condition1       1458 non-null object\n",
      "Condition2       1458 non-null object\n",
      "BldgType         1458 non-null object\n",
      "HouseStyle       1458 non-null object\n",
      "OverallQual      1458 non-null int64\n",
      "OverallCond      1458 non-null int64\n",
      "YearBuilt        1458 non-null int64\n",
      "YearRemodAdd     1458 non-null int64\n",
      "RoofStyle        1458 non-null object\n",
      "RoofMatl         1458 non-null object\n",
      "Exterior1st      1458 non-null object\n",
      "Exterior2nd      1458 non-null object\n",
      "MasVnrType       1450 non-null object\n",
      "MasVnrArea       1450 non-null float64\n",
      "ExterQual        1458 non-null object\n",
      "ExterCond        1458 non-null object\n",
      "Foundation       1458 non-null object\n",
      "BsmtQual         1421 non-null object\n",
      "BsmtCond         1421 non-null object\n",
      "BsmtExposure     1420 non-null object\n",
      "BsmtFinType1     1421 non-null object\n",
      "BsmtFinSF1       1458 non-null int64\n",
      "BsmtFinType2     1420 non-null object\n",
      "BsmtFinSF2       1458 non-null int64\n",
      "BsmtUnfSF        1458 non-null int64\n",
      "TotalBsmtSF      1458 non-null int64\n",
      "Heating          1458 non-null object\n",
      "HeatingQC        1458 non-null object\n",
      "CentralAir       1458 non-null object\n",
      "Electrical       1457 non-null object\n",
      "1stFlrSF         1458 non-null int64\n",
      "2ndFlrSF         1458 non-null int64\n",
      "LowQualFinSF     1458 non-null int64\n",
      "GrLivArea        1458 non-null int64\n",
      "BsmtFullBath     1458 non-null int64\n",
      "BsmtHalfBath     1458 non-null int64\n",
      "FullBath         1458 non-null int64\n",
      "HalfBath         1458 non-null int64\n",
      "BedroomAbvGr     1458 non-null int64\n",
      "KitchenAbvGr     1458 non-null int64\n",
      "KitchenQual      1458 non-null object\n",
      "TotRmsAbvGrd     1458 non-null int64\n",
      "Functional       1458 non-null object\n",
      "Fireplaces       1458 non-null int64\n",
      "FireplaceQu      768 non-null object\n",
      "GarageType       1377 non-null object\n",
      "GarageYrBlt      1377 non-null float64\n",
      "GarageFinish     1377 non-null object\n",
      "GarageCars       1458 non-null int64\n",
      "GarageArea       1458 non-null int64\n",
      "GarageQual       1377 non-null object\n",
      "GarageCond       1377 non-null object\n",
      "PavedDrive       1458 non-null object\n",
      "WoodDeckSF       1458 non-null int64\n",
      "OpenPorchSF      1458 non-null int64\n",
      "EnclosedPorch    1458 non-null int64\n",
      "3SsnPorch        1458 non-null int64\n",
      "ScreenPorch      1458 non-null int64\n",
      "PoolArea         1458 non-null int64\n",
      "PoolQC           6 non-null object\n",
      "Fence            281 non-null object\n",
      "MiscFeature      54 non-null object\n",
      "MiscVal          1458 non-null int64\n",
      "MoSold           1458 non-null int64\n",
      "YrSold           1458 non-null int64\n",
      "SaleType         1458 non-null object\n",
      "SaleCondition    1458 non-null object\n",
      "SalePrice        1458 non-null int64\n",
      "dtypes: float64(3), int64(35), object(43)\n",
      "memory usage: 934.0+ KB\n"
     ]
    }
   ],
   "source": [
    "train = train.drop((train[train['GrLivArea'] > 4500]).index)\n",
    "train = train.drop((train[train['1stFlrSF'] > 4000]).index)\n",
    "train.info()"
   ]
  },
  {
   "cell_type": "code",
   "execution_count": 8,
   "metadata": {},
   "outputs": [
    {
     "data": {
      "text/plain": [
       "SalePrice        1.000000\n",
       "OverallQual      0.795774\n",
       "GrLivArea        0.734968\n",
       "TotalBsmtSF      0.651153\n",
       "GarageCars       0.641047\n",
       "1stFlrSF         0.631530\n",
       "GarageArea       0.629217\n",
       "FullBath         0.562165\n",
       "TotRmsAbvGrd     0.537769\n",
       "YearBuilt        0.523608\n",
       "YearRemodAdd     0.507717\n",
       "GarageYrBlt      0.487156\n",
       "MasVnrArea       0.482719\n",
       "Fireplaces       0.469862\n",
       "BsmtFinSF1       0.409384\n",
       "LotFrontage      0.370584\n",
       "WoodDeckSF       0.324758\n",
       "OpenPorchSF      0.321142\n",
       "2ndFlrSF         0.320532\n",
       "HalfBath         0.284590\n",
       "LotArea          0.268179\n",
       "BsmtFullBath     0.228459\n",
       "BsmtUnfSF        0.214460\n",
       "BedroomAbvGr     0.168245\n",
       "ScreenPorch      0.111415\n",
       "PoolArea         0.099490\n",
       "MoSold           0.046124\n",
       "3SsnPorch        0.044568\n",
       "BsmtFinSF2      -0.011422\n",
       "BsmtHalfBath    -0.016881\n",
       "MiscVal         -0.021203\n",
       "Id              -0.021673\n",
       "LowQualFinSF    -0.025625\n",
       "YrSold          -0.028882\n",
       "OverallCond     -0.077948\n",
       "MSSubClass      -0.084276\n",
       "EnclosedPorch   -0.128646\n",
       "KitchenAbvGr    -0.135946\n",
       "Name: SalePrice, dtype: float64"
      ]
     },
     "execution_count": 8,
     "metadata": {},
     "output_type": "execute_result"
    }
   ],
   "source": [
    "corr_matrix = train.corr()\n",
    "corr_matrix[\"SalePrice\"].sort_values(ascending=False)"
   ]
  },
  {
   "cell_type": "code",
   "execution_count": 62,
   "metadata": {},
   "outputs": [
    {
     "name": "stdout",
     "output_type": "stream",
     "text": [
      "['MSSubClass', 'LotFrontage', 'LotArea', 'OverallQual', 'OverallCond', 'YearBuilt', 'YearRemodAdd', 'MasVnrArea', 'BsmtFinSF1', 'BsmtUnfSF', 'TotalBsmtSF', '1stFlrSF', '2ndFlrSF', 'GrLivArea', 'BsmtFullBath', 'FullBath', 'HalfBath', 'BedroomAbvGr', 'KitchenAbvGr', 'TotRmsAbvGrd', 'Fireplaces', 'GarageYrBlt', 'GarageCars', 'GarageArea', 'WoodDeckSF', 'OpenPorchSF', 'EnclosedPorch', 'YrSold']\n"
     ]
    }
   ],
   "source": [
    "num_att = list(train.select_dtypes([np.number]).columns)\n",
    "\n",
    "# att = ['OverallQual', 'GrLivArea']\n",
    "\n",
    "# to_remove = ['BsmtFinSF2', 'MoSold', '3SsnPorch', 'BsmtHalfBath', 'MiscVal', 'LowQualFinSF', 'YrSold',\n",
    "#             'PoolArea', 'OverallCond', 'MSSubClass', 'ScreenPorch']\n",
    "\n",
    "to_remove = ['PoolArea', 'BsmtHalfBath', 'MiscVal', 'LowQualFinSF', 'ScreenPorch', '3SsnPorch',\n",
    "            'BsmtFinSF2', 'MoSold', 'YrSold',\n",
    "            'GarageArea', 'TotalBsmtSF']\n",
    "\n",
    "to_remove = ['PoolArea', 'BsmtHalfBath', 'MiscVal', 'LowQualFinSF', 'ScreenPorch', '3SsnPorch',\n",
    "            'BsmtFinSF2', 'MoSold']\n",
    "\n",
    "for t in to_remove:\n",
    "    num_att.remove(t)\n",
    "num_att.remove('Id')\n",
    "num_att.remove('SalePrice')\n",
    "\n",
    "# num_att = ['OverallQual', 'GrLivArea', 'GarageCars', '1stFlrSF', 'FullBath', 'YearBuilt']\n",
    "\n",
    "print(num_att)"
   ]
  },
  {
   "cell_type": "code",
   "execution_count": 11,
   "metadata": {},
   "outputs": [
    {
     "name": "stdout",
     "output_type": "stream",
     "text": [
      "<class 'pandas.core.frame.DataFrame'>\n",
      "Int64Index: 1458 entries, 0 to 1459\n",
      "Data columns (total 81 columns):\n",
      "Id               1458 non-null int64\n",
      "MSSubClass       1458 non-null int64\n",
      "MSZoning         1458 non-null object\n",
      "LotFrontage      1199 non-null float64\n",
      "LotArea          1458 non-null int64\n",
      "Street           1458 non-null object\n",
      "Alley            91 non-null object\n",
      "LotShape         1458 non-null object\n",
      "LandContour      1458 non-null object\n",
      "Utilities        1458 non-null object\n",
      "LotConfig        1458 non-null object\n",
      "LandSlope        1458 non-null object\n",
      "Neighborhood     1458 non-null object\n",
      "Condition1       1458 non-null object\n",
      "Condition2       1458 non-null object\n",
      "BldgType         1458 non-null object\n",
      "HouseStyle       1458 non-null object\n",
      "OverallQual      1458 non-null int64\n",
      "OverallCond      1458 non-null int64\n",
      "YearBuilt        1458 non-null int64\n",
      "YearRemodAdd     1458 non-null int64\n",
      "RoofStyle        1458 non-null object\n",
      "RoofMatl         1458 non-null object\n",
      "Exterior1st      1458 non-null object\n",
      "Exterior2nd      1458 non-null object\n",
      "MasVnrType       1450 non-null object\n",
      "MasVnrArea       1450 non-null float64\n",
      "ExterQual        1458 non-null object\n",
      "ExterCond        1458 non-null object\n",
      "Foundation       1458 non-null object\n",
      "BsmtQual         1421 non-null object\n",
      "BsmtCond         1421 non-null object\n",
      "BsmtExposure     1420 non-null object\n",
      "BsmtFinType1     1421 non-null object\n",
      "BsmtFinSF1       1458 non-null int64\n",
      "BsmtFinType2     1420 non-null object\n",
      "BsmtFinSF2       1458 non-null int64\n",
      "BsmtUnfSF        1458 non-null int64\n",
      "TotalBsmtSF      1458 non-null int64\n",
      "Heating          1458 non-null object\n",
      "HeatingQC        1458 non-null object\n",
      "CentralAir       1458 non-null object\n",
      "Electrical       1457 non-null object\n",
      "1stFlrSF         1458 non-null int64\n",
      "2ndFlrSF         1458 non-null int64\n",
      "LowQualFinSF     1458 non-null int64\n",
      "GrLivArea        1458 non-null int64\n",
      "BsmtFullBath     1458 non-null int64\n",
      "BsmtHalfBath     1458 non-null int64\n",
      "FullBath         1458 non-null int64\n",
      "HalfBath         1458 non-null int64\n",
      "BedroomAbvGr     1458 non-null int64\n",
      "KitchenAbvGr     1458 non-null int64\n",
      "KitchenQual      1458 non-null object\n",
      "TotRmsAbvGrd     1458 non-null int64\n",
      "Functional       1458 non-null object\n",
      "Fireplaces       1458 non-null int64\n",
      "FireplaceQu      768 non-null object\n",
      "GarageType       1377 non-null object\n",
      "GarageYrBlt      1377 non-null float64\n",
      "GarageFinish     1377 non-null object\n",
      "GarageCars       1458 non-null int64\n",
      "GarageArea       1458 non-null int64\n",
      "GarageQual       1377 non-null object\n",
      "GarageCond       1377 non-null object\n",
      "PavedDrive       1458 non-null object\n",
      "WoodDeckSF       1458 non-null int64\n",
      "OpenPorchSF      1458 non-null int64\n",
      "EnclosedPorch    1458 non-null int64\n",
      "3SsnPorch        1458 non-null int64\n",
      "ScreenPorch      1458 non-null int64\n",
      "PoolArea         1458 non-null int64\n",
      "PoolQC           6 non-null object\n",
      "Fence            281 non-null object\n",
      "MiscFeature      54 non-null object\n",
      "MiscVal          1458 non-null int64\n",
      "MoSold           1458 non-null int64\n",
      "YrSold           1458 non-null int64\n",
      "SaleType         1458 non-null object\n",
      "SaleCondition    1458 non-null object\n",
      "SalePrice        1458 non-null int64\n",
      "dtypes: float64(3), int64(35), object(43)\n",
      "memory usage: 934.0+ KB\n",
      "<class 'pandas.core.frame.DataFrame'>\n",
      "RangeIndex: 1459 entries, 0 to 1458\n",
      "Data columns (total 80 columns):\n",
      "Id               1459 non-null int64\n",
      "MSSubClass       1459 non-null int64\n",
      "MSZoning         1455 non-null object\n",
      "LotFrontage      1232 non-null float64\n",
      "LotArea          1459 non-null int64\n",
      "Street           1459 non-null object\n",
      "Alley            107 non-null object\n",
      "LotShape         1459 non-null object\n",
      "LandContour      1459 non-null object\n",
      "Utilities        1457 non-null object\n",
      "LotConfig        1459 non-null object\n",
      "LandSlope        1459 non-null object\n",
      "Neighborhood     1459 non-null object\n",
      "Condition1       1459 non-null object\n",
      "Condition2       1459 non-null object\n",
      "BldgType         1459 non-null object\n",
      "HouseStyle       1459 non-null object\n",
      "OverallQual      1459 non-null int64\n",
      "OverallCond      1459 non-null int64\n",
      "YearBuilt        1459 non-null int64\n",
      "YearRemodAdd     1459 non-null int64\n",
      "RoofStyle        1459 non-null object\n",
      "RoofMatl         1459 non-null object\n",
      "Exterior1st      1458 non-null object\n",
      "Exterior2nd      1458 non-null object\n",
      "MasVnrType       1443 non-null object\n",
      "MasVnrArea       1444 non-null float64\n",
      "ExterQual        1459 non-null object\n",
      "ExterCond        1459 non-null object\n",
      "Foundation       1459 non-null object\n",
      "BsmtQual         1415 non-null object\n",
      "BsmtCond         1414 non-null object\n",
      "BsmtExposure     1415 non-null object\n",
      "BsmtFinType1     1417 non-null object\n",
      "BsmtFinSF1       1458 non-null float64\n",
      "BsmtFinType2     1417 non-null object\n",
      "BsmtFinSF2       1458 non-null float64\n",
      "BsmtUnfSF        1458 non-null float64\n",
      "TotalBsmtSF      1458 non-null float64\n",
      "Heating          1459 non-null object\n",
      "HeatingQC        1459 non-null object\n",
      "CentralAir       1459 non-null object\n",
      "Electrical       1459 non-null object\n",
      "1stFlrSF         1459 non-null int64\n",
      "2ndFlrSF         1459 non-null int64\n",
      "LowQualFinSF     1459 non-null int64\n",
      "GrLivArea        1459 non-null int64\n",
      "BsmtFullBath     1457 non-null float64\n",
      "BsmtHalfBath     1457 non-null float64\n",
      "FullBath         1459 non-null int64\n",
      "HalfBath         1459 non-null int64\n",
      "BedroomAbvGr     1459 non-null int64\n",
      "KitchenAbvGr     1459 non-null int64\n",
      "KitchenQual      1458 non-null object\n",
      "TotRmsAbvGrd     1459 non-null int64\n",
      "Functional       1457 non-null object\n",
      "Fireplaces       1459 non-null int64\n",
      "FireplaceQu      729 non-null object\n",
      "GarageType       1383 non-null object\n",
      "GarageYrBlt      1381 non-null float64\n",
      "GarageFinish     1381 non-null object\n",
      "GarageCars       1458 non-null float64\n",
      "GarageArea       1458 non-null float64\n",
      "GarageQual       1381 non-null object\n",
      "GarageCond       1381 non-null object\n",
      "PavedDrive       1459 non-null object\n",
      "WoodDeckSF       1459 non-null int64\n",
      "OpenPorchSF      1459 non-null int64\n",
      "EnclosedPorch    1459 non-null int64\n",
      "3SsnPorch        1459 non-null int64\n",
      "ScreenPorch      1459 non-null int64\n",
      "PoolArea         1459 non-null int64\n",
      "PoolQC           3 non-null object\n",
      "Fence            290 non-null object\n",
      "MiscFeature      51 non-null object\n",
      "MiscVal          1459 non-null int64\n",
      "MoSold           1459 non-null int64\n",
      "YrSold           1459 non-null int64\n",
      "SaleType         1458 non-null object\n",
      "SaleCondition    1459 non-null object\n",
      "dtypes: float64(11), int64(26), object(43)\n",
      "memory usage: 912.0+ KB\n"
     ]
    }
   ],
   "source": [
    "train.info()\n",
    "# train.select_dtypes(include=['object'])\n",
    "test.info()"
   ]
  },
  {
   "cell_type": "code",
   "execution_count": 42,
   "metadata": {},
   "outputs": [
    {
     "name": "stdout",
     "output_type": "stream",
     "text": [
      "['Neighborhood', 'BldgType', 'Heating', 'HeatingQC', 'CentralAir', 'Street', 'LotShape', 'LandContour', 'LotConfig', 'LandSlope', 'Condition1', 'Condition2', 'HouseStyle', 'RoofStyle', 'RoofMatl', 'ExterQual', 'ExterCond', 'Foundation', 'PavedDrive', 'SaleCondition']\n"
     ]
    }
   ],
   "source": [
    "cat_att = ['BldgType', 'CentralAir', 'Foundation', \n",
    "           'PavedDrive', 'SaleCondition']\n",
    "cat_att = ['Neighborhood', 'BldgType', 'Heating', 'HeatingQC', 'CentralAir', \n",
    "           'Street', 'LotShape', 'LandContour', 'LotConfig',\n",
    "           'LandSlope', 'Condition1', 'Condition2', 'HouseStyle', 'RoofStyle', 'RoofMatl',\n",
    "           'ExterQual', 'ExterCond', 'Foundation', 'PavedDrive', 'SaleCondition']\n",
    "\n",
    "# TO ADD = Exterior1st, KitchenQual, Functional, SaleType\n",
    "\n",
    "# cat_att = ['Neighborhood', 'BldgType']\n",
    "print(cat_att)"
   ]
  },
  {
   "cell_type": "code",
   "execution_count": 13,
   "metadata": {},
   "outputs": [],
   "source": [
    "for a in num_att:\n",
    "    median = train[a].median()\n",
    "    train[a].fillna(median, inplace=True)\n",
    "    \n",
    "#     median = test[a].median()\n",
    "    test[a].fillna(median, inplace=True)"
   ]
  },
  {
   "cell_type": "code",
   "execution_count": 61,
   "metadata": {},
   "outputs": [
    {
     "name": "stdout",
     "output_type": "stream",
     "text": [
      "<class 'pandas.core.frame.DataFrame'>\n",
      "Int64Index: 1458 entries, 0 to 1459\n",
      "Data columns (total 25 columns):\n",
      "MSSubClass       1458 non-null int64\n",
      "LotFrontage      1458 non-null float64\n",
      "LotArea          1458 non-null int64\n",
      "OverallQual      1458 non-null int64\n",
      "OverallCond      1458 non-null int64\n",
      "YearBuilt        1458 non-null int64\n",
      "YearRemodAdd     1458 non-null int64\n",
      "MasVnrArea       1458 non-null float64\n",
      "BsmtFinSF1       1458 non-null int64\n",
      "BsmtUnfSF        1458 non-null int64\n",
      "1stFlrSF         1458 non-null int64\n",
      "2ndFlrSF         1458 non-null int64\n",
      "GrLivArea        1458 non-null float64\n",
      "BsmtFullBath     1458 non-null int64\n",
      "FullBath         1458 non-null int64\n",
      "HalfBath         1458 non-null int64\n",
      "BedroomAbvGr     1458 non-null int64\n",
      "KitchenAbvGr     1458 non-null int64\n",
      "TotRmsAbvGrd     1458 non-null int64\n",
      "Fireplaces       1458 non-null int64\n",
      "GarageYrBlt      1458 non-null float64\n",
      "GarageCars       1458 non-null int64\n",
      "WoodDeckSF       1458 non-null int64\n",
      "OpenPorchSF      1458 non-null int64\n",
      "EnclosedPorch    1458 non-null int64\n",
      "dtypes: float64(4), int64(21)\n",
      "memory usage: 296.2 KB\n",
      "<class 'pandas.core.frame.DataFrame'>\n",
      "RangeIndex: 1459 entries, 0 to 1458\n",
      "Data columns (total 25 columns):\n",
      "MSSubClass       1459 non-null int64\n",
      "LotFrontage      1459 non-null float64\n",
      "LotArea          1459 non-null int64\n",
      "OverallQual      1459 non-null int64\n",
      "OverallCond      1459 non-null int64\n",
      "YearBuilt        1459 non-null int64\n",
      "YearRemodAdd     1459 non-null int64\n",
      "MasVnrArea       1459 non-null float64\n",
      "BsmtFinSF1       1459 non-null float64\n",
      "BsmtUnfSF        1459 non-null float64\n",
      "1stFlrSF         1459 non-null int64\n",
      "2ndFlrSF         1459 non-null int64\n",
      "GrLivArea        1459 non-null float64\n",
      "BsmtFullBath     1459 non-null float64\n",
      "FullBath         1459 non-null int64\n",
      "HalfBath         1459 non-null int64\n",
      "BedroomAbvGr     1459 non-null int64\n",
      "KitchenAbvGr     1459 non-null int64\n",
      "TotRmsAbvGrd     1459 non-null int64\n",
      "Fireplaces       1459 non-null int64\n",
      "GarageYrBlt      1459 non-null float64\n",
      "GarageCars       1459 non-null float64\n",
      "WoodDeckSF       1459 non-null int64\n",
      "OpenPorchSF      1459 non-null int64\n",
      "EnclosedPorch    1459 non-null int64\n",
      "dtypes: float64(8), int64(17)\n",
      "memory usage: 285.1 KB\n"
     ]
    }
   ],
   "source": [
    "train[num_att].info()\n",
    "test[num_att].info()"
   ]
  },
  {
   "cell_type": "code",
   "execution_count": 43,
   "metadata": {},
   "outputs": [
    {
     "name": "stdout",
     "output_type": "stream",
     "text": [
      "<class 'pandas.core.frame.DataFrame'>\n",
      "Int64Index: 1458 entries, 0 to 1459\n",
      "Data columns (total 20 columns):\n",
      "Neighborhood     1458 non-null object\n",
      "BldgType         1458 non-null object\n",
      "Heating          1458 non-null object\n",
      "HeatingQC        1458 non-null object\n",
      "CentralAir       1458 non-null object\n",
      "Street           1458 non-null object\n",
      "LotShape         1458 non-null object\n",
      "LandContour      1458 non-null object\n",
      "LotConfig        1458 non-null object\n",
      "LandSlope        1458 non-null object\n",
      "Condition1       1458 non-null object\n",
      "Condition2       1458 non-null object\n",
      "HouseStyle       1458 non-null object\n",
      "RoofStyle        1458 non-null object\n",
      "RoofMatl         1458 non-null object\n",
      "ExterQual        1458 non-null object\n",
      "ExterCond        1458 non-null object\n",
      "Foundation       1458 non-null object\n",
      "PavedDrive       1458 non-null object\n",
      "SaleCondition    1458 non-null object\n",
      "dtypes: object(20)\n",
      "memory usage: 239.2+ KB\n",
      "<class 'pandas.core.frame.DataFrame'>\n",
      "RangeIndex: 1459 entries, 0 to 1458\n",
      "Data columns (total 20 columns):\n",
      "Neighborhood     1459 non-null object\n",
      "BldgType         1459 non-null object\n",
      "Heating          1459 non-null object\n",
      "HeatingQC        1459 non-null object\n",
      "CentralAir       1459 non-null object\n",
      "Street           1459 non-null object\n",
      "LotShape         1459 non-null object\n",
      "LandContour      1459 non-null object\n",
      "LotConfig        1459 non-null object\n",
      "LandSlope        1459 non-null object\n",
      "Condition1       1459 non-null object\n",
      "Condition2       1459 non-null object\n",
      "HouseStyle       1459 non-null object\n",
      "RoofStyle        1459 non-null object\n",
      "RoofMatl         1459 non-null object\n",
      "ExterQual        1459 non-null object\n",
      "ExterCond        1459 non-null object\n",
      "Foundation       1459 non-null object\n",
      "PavedDrive       1459 non-null object\n",
      "SaleCondition    1459 non-null object\n",
      "dtypes: object(20)\n",
      "memory usage: 228.1+ KB\n"
     ]
    }
   ],
   "source": [
    "train[cat_att].info()\n",
    "test[cat_att].info()"
   ]
  },
  {
   "cell_type": "code",
   "execution_count": 15,
   "metadata": {},
   "outputs": [],
   "source": [
    "import seaborn as sns\n",
    "from scipy.stats import norm\n",
    "from scipy import stats\n",
    "train['SalePrice'] = np.log(train['SalePrice'])\n"
   ]
  },
  {
   "cell_type": "code",
   "execution_count": 16,
   "metadata": {},
   "outputs": [
    {
     "data": {
      "image/png": "[encoded data removed]",
      "text/plain": [
       "<Figure size 432x288 with 1 Axes>"
      ]
     },
     "metadata": {
      "needs_background": "light"
     },
     "output_type": "display_data"
    },
    {
     "data": {
      "image/png": "[encoded data removed]",
      "text/plain": [
       "<Figure size 432x288 with 1 Axes>"
      ]
     },
     "metadata": {
      "needs_background": "light"
     },
     "output_type": "display_data"
    }
   ],
   "source": [
    "\n",
    "sns.distplot(train['SalePrice'], fit=norm);\n",
    "fig = plt.figure()\n",
    "res = stats.probplot(train['SalePrice'], plot=plt)\n",
    "\n"
   ]
  },
  {
   "cell_type": "code",
   "execution_count": 17,
   "metadata": {},
   "outputs": [],
   "source": [
    "train_y = train[\"SalePrice\"].copy()"
   ]
  },
  {
   "cell_type": "code",
   "execution_count": 18,
   "metadata": {},
   "outputs": [
    {
     "data": {
      "image/png": "[encoded data removed]",
      "text/plain": [
       "<Figure size 432x288 with 1 Axes>"
      ]
     },
     "metadata": {
      "needs_background": "light"
     },
     "output_type": "display_data"
    },
    {
     "data": {
      "image/png": "[encoded data removed]",
      "text/plain": [
       "<Figure size 432x288 with 1 Axes>"
      ]
     },
     "metadata": {
      "needs_background": "light"
     },
     "output_type": "display_data"
    }
   ],
   "source": [
    "train['GrLivArea'] = np.log(train['GrLivArea'])\n",
    "\n",
    "sns.distplot(train['GrLivArea'], fit=norm);\n",
    "fig = plt.figure()\n",
    "res = stats.probplot(train['GrLivArea'], plot=plt)"
   ]
  },
  {
   "cell_type": "code",
   "execution_count": 19,
   "metadata": {},
   "outputs": [
    {
     "data": {
      "image/png": "[encoded data removed]",
      "text/plain": [
       "<Figure size 432x288 with 1 Axes>"
      ]
     },
     "metadata": {
      "needs_background": "light"
     },
     "output_type": "display_data"
    },
    {
     "data": {
      "image/png": "[encoded data removed]",
      "text/plain": [
       "<Figure size 432x288 with 1 Axes>"
      ]
     },
     "metadata": {
      "needs_background": "light"
     },
     "output_type": "display_data"
    }
   ],
   "source": [
    "test['GrLivArea'] = np.log(test['GrLivArea'])\n",
    "\n",
    "sns.distplot(test['GrLivArea'], fit=norm);\n",
    "fig = plt.figure()\n",
    "res = stats.probplot(test['GrLivArea'], plot=plt)"
   ]
  },
  {
   "cell_type": "code",
   "execution_count": 20,
   "metadata": {},
   "outputs": [
    {
     "data": {
      "text/plain": [
       "SalePrice        1.000000\n",
       "OverallQual      0.821404\n",
       "GrLivArea        0.737427\n",
       "GarageCars       0.681033\n",
       "GarageArea       0.656128\n",
       "TotalBsmtSF      0.647563\n",
       "1stFlrSF         0.620500\n",
       "FullBath         0.595899\n",
       "YearBuilt        0.587043\n",
       "YearRemodAdd     0.565992\n",
       "TotRmsAbvGrd     0.537702\n",
       "GarageYrBlt      0.496179\n",
       "Fireplaces       0.491998\n",
       "MasVnrArea       0.430569\n",
       "BsmtFinSF1       0.392283\n",
       "LotFrontage      0.351551\n",
       "WoodDeckSF       0.334250\n",
       "OpenPorchSF      0.325215\n",
       "2ndFlrSF         0.319953\n",
       "HalfBath         0.314186\n",
       "LotArea          0.260544\n",
       "BsmtFullBath     0.237099\n",
       "BsmtUnfSF        0.221892\n",
       "BedroomAbvGr     0.209036\n",
       "ScreenPorch      0.121245\n",
       "PoolArea         0.074338\n",
       "MoSold           0.057064\n",
       "3SsnPorch        0.054914\n",
       "BsmtFinSF2       0.004863\n",
       "BsmtHalfBath    -0.005124\n",
       "Id              -0.017774\n",
       "MiscVal         -0.020012\n",
       "OverallCond     -0.036821\n",
       "YrSold          -0.037151\n",
       "LowQualFinSF    -0.037951\n",
       "MSSubClass      -0.073969\n",
       "KitchenAbvGr    -0.147534\n",
       "EnclosedPorch   -0.149029\n",
       "Name: SalePrice, dtype: float64"
      ]
     },
     "execution_count": 20,
     "metadata": {},
     "output_type": "execute_result"
    }
   ],
   "source": [
    "corr_matrix = train.corr()\n",
    "corr_matrix[\"SalePrice\"].sort_values(ascending=False)"
   ]
  },
  {
   "cell_type": "code",
   "execution_count": 63,
   "metadata": {},
   "outputs": [
    {
     "name": "stdout",
     "output_type": "stream",
     "text": [
      "<class 'pandas.core.frame.DataFrame'>\n",
      "Int64Index: 1458 entries, 0 to 1459\n",
      "Data columns (total 48 columns):\n",
      "MSSubClass       1458 non-null int64\n",
      "LotFrontage      1458 non-null float64\n",
      "LotArea          1458 non-null int64\n",
      "OverallQual      1458 non-null int64\n",
      "OverallCond      1458 non-null int64\n",
      "YearBuilt        1458 non-null int64\n",
      "YearRemodAdd     1458 non-null int64\n",
      "MasVnrArea       1458 non-null float64\n",
      "BsmtFinSF1       1458 non-null int64\n",
      "BsmtUnfSF        1458 non-null int64\n",
      "TotalBsmtSF      1458 non-null int64\n",
      "1stFlrSF         1458 non-null int64\n",
      "2ndFlrSF         1458 non-null int64\n",
      "GrLivArea        1458 non-null float64\n",
      "BsmtFullBath     1458 non-null int64\n",
      "FullBath         1458 non-null int64\n",
      "HalfBath         1458 non-null int64\n",
      "BedroomAbvGr     1458 non-null int64\n",
      "KitchenAbvGr     1458 non-null int64\n",
      "TotRmsAbvGrd     1458 non-null int64\n",
      "Fireplaces       1458 non-null int64\n",
      "GarageYrBlt      1458 non-null float64\n",
      "GarageCars       1458 non-null int64\n",
      "GarageArea       1458 non-null int64\n",
      "WoodDeckSF       1458 non-null int64\n",
      "OpenPorchSF      1458 non-null int64\n",
      "EnclosedPorch    1458 non-null int64\n",
      "YrSold           1458 non-null int64\n",
      "Neighborhood     1458 non-null object\n",
      "BldgType         1458 non-null object\n",
      "Heating          1458 non-null object\n",
      "HeatingQC        1458 non-null object\n",
      "CentralAir       1458 non-null object\n",
      "Street           1458 non-null object\n",
      "LotShape         1458 non-null object\n",
      "LandContour      1458 non-null object\n",
      "LotConfig        1458 non-null object\n",
      "LandSlope        1458 non-null object\n",
      "Condition1       1458 non-null object\n",
      "Condition2       1458 non-null object\n",
      "HouseStyle       1458 non-null object\n",
      "RoofStyle        1458 non-null object\n",
      "RoofMatl         1458 non-null object\n",
      "ExterQual        1458 non-null object\n",
      "ExterCond        1458 non-null object\n",
      "Foundation       1458 non-null object\n",
      "PavedDrive       1458 non-null object\n",
      "SaleCondition    1458 non-null object\n",
      "dtypes: float64(4), int64(24), object(20)\n",
      "memory usage: 558.1+ KB\n",
      "<class 'pandas.core.frame.DataFrame'>\n",
      "RangeIndex: 1459 entries, 0 to 1458\n",
      "Data columns (total 48 columns):\n",
      "MSSubClass       1459 non-null int64\n",
      "LotFrontage      1459 non-null float64\n",
      "LotArea          1459 non-null int64\n",
      "OverallQual      1459 non-null int64\n",
      "OverallCond      1459 non-null int64\n",
      "YearBuilt        1459 non-null int64\n",
      "YearRemodAdd     1459 non-null int64\n",
      "MasVnrArea       1459 non-null float64\n",
      "BsmtFinSF1       1459 non-null float64\n",
      "BsmtUnfSF        1459 non-null float64\n",
      "TotalBsmtSF      1458 non-null float64\n",
      "1stFlrSF         1459 non-null int64\n",
      "2ndFlrSF         1459 non-null int64\n",
      "GrLivArea        1459 non-null float64\n",
      "BsmtFullBath     1459 non-null float64\n",
      "FullBath         1459 non-null int64\n",
      "HalfBath         1459 non-null int64\n",
      "BedroomAbvGr     1459 non-null int64\n",
      "KitchenAbvGr     1459 non-null int64\n",
      "TotRmsAbvGrd     1459 non-null int64\n",
      "Fireplaces       1459 non-null int64\n",
      "GarageYrBlt      1459 non-null float64\n",
      "GarageCars       1459 non-null float64\n",
      "GarageArea       1458 non-null float64\n",
      "WoodDeckSF       1459 non-null int64\n",
      "OpenPorchSF      1459 non-null int64\n",
      "EnclosedPorch    1459 non-null int64\n",
      "YrSold           1459 non-null int64\n",
      "Neighborhood     1459 non-null object\n",
      "BldgType         1459 non-null object\n",
      "Heating          1459 non-null object\n",
      "HeatingQC        1459 non-null object\n",
      "CentralAir       1459 non-null object\n",
      "Street           1459 non-null object\n",
      "LotShape         1459 non-null object\n",
      "LandContour      1459 non-null object\n",
      "LotConfig        1459 non-null object\n",
      "LandSlope        1459 non-null object\n",
      "Condition1       1459 non-null object\n",
      "Condition2       1459 non-null object\n",
      "HouseStyle       1459 non-null object\n",
      "RoofStyle        1459 non-null object\n",
      "RoofMatl         1459 non-null object\n",
      "ExterQual        1459 non-null object\n",
      "ExterCond        1459 non-null object\n",
      "Foundation       1459 non-null object\n",
      "PavedDrive       1459 non-null object\n",
      "SaleCondition    1459 non-null object\n",
      "dtypes: float64(10), int64(18), object(20)\n",
      "memory usage: 547.2+ KB\n",
      "<class 'pandas.core.frame.DataFrame'>\n",
      "Int64Index: 2917 entries, 0 to 1458\n",
      "Data columns (total 48 columns):\n",
      "MSSubClass       2917 non-null int64\n",
      "LotFrontage      2917 non-null float64\n",
      "LotArea          2917 non-null int64\n",
      "OverallQual      2917 non-null int64\n",
      "OverallCond      2917 non-null int64\n",
      "YearBuilt        2917 non-null int64\n",
      "YearRemodAdd     2917 non-null int64\n",
      "MasVnrArea       2917 non-null float64\n",
      "BsmtFinSF1       2917 non-null float64\n",
      "BsmtUnfSF        2917 non-null float64\n",
      "TotalBsmtSF      2916 non-null float64\n",
      "1stFlrSF         2917 non-null int64\n",
      "2ndFlrSF         2917 non-null int64\n",
      "GrLivArea        2917 non-null float64\n",
      "BsmtFullBath     2917 non-null float64\n",
      "FullBath         2917 non-null int64\n",
      "HalfBath         2917 non-null int64\n",
      "BedroomAbvGr     2917 non-null int64\n",
      "KitchenAbvGr     2917 non-null int64\n",
      "TotRmsAbvGrd     2917 non-null int64\n",
      "Fireplaces       2917 non-null int64\n",
      "GarageYrBlt      2917 non-null float64\n",
      "GarageCars       2917 non-null float64\n",
      "GarageArea       2916 non-null float64\n",
      "WoodDeckSF       2917 non-null int64\n",
      "OpenPorchSF      2917 non-null int64\n",
      "EnclosedPorch    2917 non-null int64\n",
      "YrSold           2917 non-null int64\n",
      "Neighborhood     2917 non-null object\n",
      "BldgType         2917 non-null object\n",
      "Heating          2917 non-null object\n",
      "HeatingQC        2917 non-null object\n",
      "CentralAir       2917 non-null object\n",
      "Street           2917 non-null object\n",
      "LotShape         2917 non-null object\n",
      "LandContour      2917 non-null object\n",
      "LotConfig        2917 non-null object\n",
      "LandSlope        2917 non-null object\n",
      "Condition1       2917 non-null object\n",
      "Condition2       2917 non-null object\n",
      "HouseStyle       2917 non-null object\n",
      "RoofStyle        2917 non-null object\n",
      "RoofMatl         2917 non-null object\n",
      "ExterQual        2917 non-null object\n",
      "ExterCond        2917 non-null object\n",
      "Foundation       2917 non-null object\n",
      "PavedDrive       2917 non-null object\n",
      "SaleCondition    2917 non-null object\n",
      "dtypes: float64(10), int64(18), object(20)\n",
      "memory usage: 1.1+ MB\n"
     ]
    }
   ],
   "source": [
    "train2 = train[num_att + cat_att]\n",
    "train2.info()\n",
    "test2 = test[num_att + cat_att]\n",
    "test2.info()\n",
    "\n",
    "merged_df = pd.concat([train2, test2])\n",
    "merged_df.info()"
   ]
  },
  {
   "cell_type": "code",
   "execution_count": 64,
   "metadata": {},
   "outputs": [],
   "source": [
    "from sklearn.pipeline import Pipeline\n",
    "from sklearn.preprocessing import StandardScaler\n",
    "from sklearn.impute import SimpleImputer\n",
    "from sklearn.compose import ColumnTransformer\n",
    "from sklearn.preprocessing import OneHotEncoder\n",
    "\n",
    "num_pipeline = Pipeline([\n",
    "        ('imputer', SimpleImputer(strategy=\"median\")),\n",
    "        ('std_scaler', StandardScaler()),\n",
    "    ])\n",
    "train_prepared = num_pipeline.fit_transform(train[num_att])\n",
    "test_prepared  = num_pipeline.transform(test[num_att])\n",
    "\n",
    "\n",
    "full_pipeline = ColumnTransformer([\n",
    "        (\"num\", num_pipeline, num_att),\n",
    "        (\"cat\", OneHotEncoder(), cat_att),\n",
    "    ])\n",
    "\n",
    "train_test_full_prepared = full_pipeline.fit_transform(merged_df)\n",
    "train_full_prepared = full_pipeline.transform(train2)\n",
    "test_full_prepared = full_pipeline.transform(test2)\n"
   ]
  },
  {
   "cell_type": "code",
   "execution_count": 65,
   "metadata": {},
   "outputs": [
    {
     "name": "stdout",
     "output_type": "stream",
     "text": [
      "(1458, 28)\n",
      "(1459, 28)\n",
      "(1458, 151)\n",
      "(1459, 151)\n"
     ]
    }
   ],
   "source": [
    "print(train_prepared.shape)\n",
    "print(test_prepared.shape)\n",
    "print(train_full_prepared.shape)\n",
    "print(test_full_prepared.shape)"
   ]
  },
  {
   "cell_type": "code",
   "execution_count": 66,
   "metadata": {},
   "outputs": [
    {
     "data": {
      "text/plain": [
       "0.0014835428924059406"
      ]
     },
     "execution_count": 66,
     "metadata": {},
     "output_type": "execute_result"
    }
   ],
   "source": [
    "from sklearn.metrics import mean_squared_error\n",
    "from sklearn.ensemble import RandomForestRegressor\n",
    "\n",
    "forest_reg = RandomForestRegressor(bootstrap=False, n_estimators=250, max_features=32, random_state=42)\n",
    "forest_reg.fit(train_full_prepared, train_y)\n",
    "\n",
    "housing_predictions = forest_reg.predict(train_full_prepared)\n",
    "\n",
    "forest_mse = mean_squared_error(train_y, housing_predictions)\n",
    "forest_rmse = np.sqrt(forest_mse)\n",
    "forest_rmse"
   ]
  },
  {
   "cell_type": "code",
   "execution_count": 70,
   "metadata": {},
   "outputs": [
    {
     "name": "stdout",
     "output_type": "stream",
     "text": [
      "12.247694320220953\n",
      "12.247694320220994\n"
     ]
    }
   ],
   "source": [
    "print(housing_predictions[0])\n",
    "print(train_y[0])"
   ]
  },
  {
   "cell_type": "code",
   "execution_count": 71,
   "metadata": {},
   "outputs": [
    {
     "data": {
      "text/plain": [
       "207.18848904200559"
      ]
     },
     "execution_count": 71,
     "metadata": {},
     "output_type": "execute_result"
    }
   ],
   "source": [
    "train_y_normal = np.e**train_y\n",
    "pred_normal = np.e**housing_predictions\n",
    "\n",
    "forest_mse = mean_squared_error(train_y_normal, pred_normal)\n",
    "forest_rmse = np.sqrt(forest_mse)\n",
    "forest_rmse"
   ]
  },
  {
   "cell_type": "code",
   "execution_count": 72,
   "metadata": {},
   "outputs": [
    {
     "name": "stdout",
     "output_type": "stream",
     "text": [
      "208500.0\n",
      "208499.99999999147\n"
     ]
    }
   ],
   "source": [
    "print(train_y_normal[0])\n",
    "print(pred_normal[0])"
   ]
  },
  {
   "cell_type": "code",
   "execution_count": 73,
   "metadata": {
    "scrolled": false
   },
   "outputs": [
    {
     "data": {
      "text/plain": [
       "[(0.18577090417460002, 'OverallQual'),\n",
       " (0.13891531454819625, 'GrLivArea'),\n",
       " (0.07625259281567563, 'YearBuilt'),\n",
       " (0.05926143140878795, 'TotalBsmtSF'),\n",
       " (0.05466332268614293, 'GarageCars'),\n",
       " (0.05076463730806918, 'GarageArea'),\n",
       " (0.04620381018532871, '1stFlrSF'),\n",
       " (0.04214408686991224, 'TA'),\n",
       " (0.03349346983125256, 'FullBath'),\n",
       " (0.03155863490087278, 'GarageYrBlt'),\n",
       " (0.0237835092642975, 'YearRemodAdd'),\n",
       " (0.022583730272542738, 'BsmtFinSF1'),\n",
       " (0.022228078455236142, 'LotArea'),\n",
       " (0.01944618208462638, 'Fireplaces'),\n",
       " (0.01885147643436039, '2ndFlrSF'),\n",
       " (0.011037878248445616, 'TotRmsAbvGrd'),\n",
       " (0.01022935174851162, 'OverallCond'),\n",
       " (0.010060741409738274, 'LotFrontage'),\n",
       " (0.00964579771013803, 'Y'),\n",
       " (0.009573100734886581, 'PConc'),\n",
       " (0.009430379006591504, 'N'),\n",
       " (0.008981403882335348, 'Gd'),\n",
       " (0.007318584378565661, 'BsmtUnfSF'),\n",
       " (0.005751382002469147, 'Ex'),\n",
       " (0.005659850763662558, 'Ex'),\n",
       " (0.005518141071170666, 'OpenPorchSF'),\n",
       " (0.005495137891772979, 'MasVnrArea'),\n",
       " (0.0046376608961660485, 'MSSubClass'),\n",
       " (0.004504771147174205, 'BedroomAbvGr'),\n",
       " (0.003864580250525481, 'WoodDeckSF'),\n",
       " (0.0029129074531681984, 'KitchenAbvGr'),\n",
       " (0.002878020623693599, 'HalfBath'),\n",
       " (0.0027326451985040254, 'BsmtFullBath'),\n",
       " (0.0024419279459748293, 'YrSold'),\n",
       " (0.0021543899029512416, 'EnclosedPorch'),\n",
       " (0.0018478560210517414, 'Crawfor'),\n",
       " (0.0018241990977696876, 'OldTown'),\n",
       " (0.0018141920716360066, '2Story'),\n",
       " (0.0017610373424478622, 'N'),\n",
       " (0.0016503047655135586, 'Fa'),\n",
       " (0.0015538376788470844, 'Normal'),\n",
       " (0.0015428414066818354, 'Abnorml'),\n",
       " (0.001490562846884796, 'Reg'),\n",
       " (0.00138545698609161, 'Hip'),\n",
       " (0.0013703239293846147, '1Story'),\n",
       " (0.0013410184424222605, 'Y'),\n",
       " (0.0011792452375058015, '1Fam'),\n",
       " (0.0011378384192994172, 'Gable'),\n",
       " (0.001110880405435125, 'IDOTRR'),\n",
       " (0.0009816673257147424, 'IR1'),\n",
       " (0.000976867132095315, 'CBlock'),\n",
       " (0.0009295768613012731, 'Edwards'),\n",
       " (0.0009108739164783023, 'Gtl'),\n",
       " (0.0008454019247211642, 'Fa'),\n",
       " (0.0008423904990190157, 'Lvl'),\n",
       " (0.0008319071349139893, 'TA'),\n",
       " (0.000775732110467974, 'TA'),\n",
       " (0.0007602452187779184, 'BrkTil'),\n",
       " (0.0007521752610578677, 'Fa'),\n",
       " (0.0006844559373870266, 'Inside'),\n",
       " (0.000649686747597207, 'Norm'),\n",
       " (0.0006312561845927626, 'NAmes'),\n",
       " (0.0006298501031755923, '1.5Fin'),\n",
       " (0.0006201623635330887, 'Corner'),\n",
       " (0.0005843613120339699, 'NridgHt'),\n",
       " (0.0005611776073578033, 'Gd'),\n",
       " (0.0005314867751172633, 'Family'),\n",
       " (0.0005313156616738023, 'Gd'),\n",
       " (0.0005267343906512116, 'Mod'),\n",
       " (0.0005108962917562711, 'Feedr'),\n",
       " (0.0004960482338782217, 'Partial'),\n",
       " (0.0004660744910758175, 'ClearCr'),\n",
       " (0.00046591917802418407, 'Artery'),\n",
       " (0.00046407130803015914, 'Sawyer'),\n",
       " (0.0004455365371173337, 'Duplex'),\n",
       " (0.0004424626542762894, 'Low'),\n",
       " (0.0004273679299245437, 'BrkSide'),\n",
       " (0.00041167990919211827, 'HLS'),\n",
       " (0.00039207717815914597, 'Bnk'),\n",
       " (0.0003759890135392837, 'Somerst'),\n",
       " (0.0003727509637751159, 'CollgCr'),\n",
       " (0.00036346336816356155, 'GasA'),\n",
       " (0.0003578327028486561, 'Gambrel'),\n",
       " (0.00033704146136511614, 'P'),\n",
       " (0.0003246957390326391, 'Flat'),\n",
       " (0.00030037038677721345, 'IR2'),\n",
       " (0.0002894312736429185, 'Slab'),\n",
       " (0.00028788245488943736, 'Alloca'),\n",
       " (0.0002824811011717657, 'CulDSac'),\n",
       " (0.0002772730345205294, 'TwnhsE'),\n",
       " (0.00027348764487454585, 'SLvl'),\n",
       " (0.0002553907916253266, 'NWAmes'),\n",
       " (0.000252968857166798, 'MeadowV'),\n",
       " (0.00025057443161212304, 'CompShg'),\n",
       " (0.000247650158360309, 'Mitchel'),\n",
       " (0.00024477148806069534, 'Grav'),\n",
       " (0.00021249586851033862, 'Gilbert'),\n",
       " (0.00021179079368105984, 'NoRidge'),\n",
       " (0.00020964360577589686, 'Twnhs'),\n",
       " (0.00019650894975192443, 'FR2'),\n",
       " (0.00018283187076489598, 'StoneBr'),\n",
       " (0.0001797027418835531, 'SWISU'),\n",
       " (0.00016480739175008384, 'Sev'),\n",
       " (0.00014710652862794495, 'Norm'),\n",
       " (0.00014582311242193293, '2fmCon'),\n",
       " (0.00014103864489483522, 'Tar&Grv'),\n",
       " (0.0001346151277267445, 'Pave'),\n",
       " (0.0001311407360859792, 'SawyerW'),\n",
       " (0.0001303544820451371, 'Timber'),\n",
       " (0.00012550354966423135, 'GasW'),\n",
       " (0.0001218379331672668, 'IR3'),\n",
       " (0.00011512912342024687, 'RRAe'),\n",
       " (0.0001128234919839133, '1.5Unf'),\n",
       " (0.0001062265611135114, 'BrDale'),\n",
       " (0.00010489555874343802, 'Grvl'),\n",
       " (0.00010285906604378455, 'RRAn'),\n",
       " (9.947763158134721e-05, 'WdShngl'),\n",
       " (9.646677372876859e-05, 'PosN'),\n",
       " (9.365891141153881e-05, '2.5Fin'),\n",
       " (9.301783366942864e-05, 'Veenker'),\n",
       " (8.170539514917796e-05, 'Feedr'),\n",
       " (7.521316353789992e-05, '2.5Unf'),\n",
       " (6.486847218717493e-05, 'SFoyer'),\n",
       " (5.868944343213481e-05, 'OthW'),\n",
       " (5.165743931164078e-05, 'PosA'),\n",
       " (4.407681305408523e-05, 'Po'),\n",
       " (3.666782067593948e-05, 'Blmngtn'),\n",
       " (2.9526342414567825e-05, 'Stone'),\n",
       " (2.845721549587518e-05, 'Membran'),\n",
       " (2.593351453861286e-05, 'Artery'),\n",
       " (2.5532766178310882e-05, 'AdjLand'),\n",
       " (1.915089390822725e-05, 'Wood'),\n",
       " (1.829760892891339e-05, 'RRNn'),\n",
       " (1.7030911517165747e-05, 'Mansard'),\n",
       " (1.6692648338020744e-05, 'FR3'),\n",
       " (1.583669540496748e-05, 'NPkVill'),\n",
       " (1.547701496396579e-05, 'WdShake'),\n",
       " (1.246660961873694e-05, 'PosA'),\n",
       " (1.2239624588444798e-05, 'Metal'),\n",
       " (9.769603220186157e-06, 'Shed'),\n",
       " (9.721455980658712e-06, 'Ex'),\n",
       " (7.793040142224649e-06, 'Blueste'),\n",
       " (7.312688216888595e-06, 'Wall'),\n",
       " (6.56527539728164e-06, 'RRAe'),\n",
       " (5.876851175806566e-06, 'Floor'),\n",
       " (3.88157249422143e-06, 'RRNn'),\n",
       " (1.8427706282510137e-06, 'Po'),\n",
       " (1.67615600541082e-06, 'RRNe'),\n",
       " (1.3008967398010156e-06, 'RRAn'),\n",
       " (1.2762291454899608e-06, 'PosN'),\n",
       " (7.655713163651276e-07, 'Roll')]"
      ]
     },
     "execution_count": 73,
     "metadata": {},
     "output_type": "execute_result"
    }
   ],
   "source": [
    "# forest_reg.feature_importances_\n",
    "\n",
    "cat_encoder = full_pipeline.named_transformers_[\"cat\"]\n",
    "cat_one_hot_attribs = []\n",
    "for a in cat_encoder.categories_:\n",
    "    for b in a:\n",
    "        cat_one_hot_attribs.append(b)\n",
    "# print(cat_one_hot_attribs)\n",
    "attributes = num_att + cat_one_hot_attribs\n",
    "sorted(zip(forest_reg.feature_importances_, attributes), reverse=True)"
   ]
  },
  {
   "cell_type": "code",
   "execution_count": 74,
   "metadata": {},
   "outputs": [
    {
     "name": "stdout",
     "output_type": "stream",
     "text": [
      "scores: [0.12986371 0.12364568 0.13621807 0.14255757 0.15948654 0.11135552\n",
      " 0.12798293 0.11258185 0.11731919 0.13602411]\n",
      "mean: 0.12970351839228514\n",
      "std: 0.013991068689328761\n",
      "count    10.000000\n",
      "mean      0.129704\n",
      "std       0.014748\n",
      "min       0.111356\n",
      "25%       0.118901\n",
      "50%       0.128923\n",
      "75%       0.136170\n",
      "max       0.159487\n",
      "dtype: float64\n"
     ]
    }
   ],
   "source": [
    "from sklearn.model_selection import cross_val_score\n",
    "def display_scores(scores):\n",
    "    print(\"scores:\", scores)\n",
    "    print(\"mean:\", scores.mean())\n",
    "    print(\"std:\", scores.std())\n",
    "\n",
    "forest_reg = RandomForestRegressor(bootstrap=False, n_estimators=200, max_features=32, random_state=42)\n",
    "forest_reg.fit(train_full_prepared, train_y)\n",
    "\n",
    "forest_scores = cross_val_score(forest_reg, train_full_prepared, train_y,\n",
    "                                scoring=\"neg_mean_squared_error\", cv=10)\n",
    "forest_rmse_scores = np.sqrt(-forest_scores)\n",
    "display_scores(forest_rmse_scores)\n",
    "\n",
    "print(pd.Series(forest_rmse_scores).describe())"
   ]
  },
  {
   "cell_type": "code",
   "execution_count": 52,
   "metadata": {},
   "outputs": [
    {
     "data": {
      "text/plain": [
       "GridSearchCV(cv=10, error_score='raise-deprecating',\n",
       "             estimator=RandomForestRegressor(bootstrap=True, criterion='mse',\n",
       "                                             max_depth=None,\n",
       "                                             max_features='auto',\n",
       "                                             max_leaf_nodes=None,\n",
       "                                             min_impurity_decrease=0.0,\n",
       "                                             min_impurity_split=None,\n",
       "                                             min_samples_leaf=1,\n",
       "                                             min_samples_split=2,\n",
       "                                             min_weight_fraction_leaf=0.0,\n",
       "                                             n_estimators='warn', n_jobs=None,\n",
       "                                             oob_score=False, random_state=42,\n",
       "                                             verbose=0, warm_start=False),\n",
       "             iid='warn', n_jobs=None,\n",
       "             param_grid=[{'max_features': [16, 32, 64, 128],\n",
       "                          'n_estimators': [30, 100, 150, 200, 250, 300]},\n",
       "                         {'bootstrap': [False],\n",
       "                          'max_features': [16, 32, 64, 128],\n",
       "                          'n_estimators': [30, 100, 150, 200, 250, 300]}],\n",
       "             pre_dispatch='2*n_jobs', refit=True, return_train_score=True,\n",
       "             scoring='neg_mean_squared_error', verbose=0)"
      ]
     },
     "execution_count": 52,
     "metadata": {},
     "output_type": "execute_result"
    }
   ],
   "source": [
    "from sklearn.model_selection import GridSearchCV\n",
    "\n",
    "param_grid = [\n",
    "    # sprawdza 12 (3×4) kombinacji hiperparametrów\n",
    "    {'n_estimators': [30, 100, 150, 200, 250, 300], 'max_features': [16, 32, 64, 128]},\n",
    "    # następnie sprawdza 6 (2×3) kombinacji z wyłączonym parametrem bootstrap (False)\n",
    "    {'bootstrap': [False], 'n_estimators': [30, 100, 150, 200, 250, 300], 'max_features': [16, 32, 64, 128]},\n",
    "  ]\n",
    "\n",
    "forest_reg = RandomForestRegressor(random_state=42)\n",
    "# przeprowadza proces uczenia na pięciu podzbiorach, czyli łącznie (12+6)*5=90 przebiegów \n",
    "grid_search = GridSearchCV(forest_reg, param_grid, cv=10,\n",
    "                           scoring='neg_mean_squared_error',\n",
    "                           return_train_score=True)\n",
    "grid_search.fit(train_full_prepared, train_y)"
   ]
  },
  {
   "cell_type": "code",
   "execution_count": 53,
   "metadata": {},
   "outputs": [
    {
     "data": {
      "text/plain": [
       "{'bootstrap': False, 'max_features': 32, 'n_estimators': 250}"
      ]
     },
     "execution_count": 53,
     "metadata": {},
     "output_type": "execute_result"
    }
   ],
   "source": [
    "grid_search.best_params_"
   ]
  },
  {
   "cell_type": "code",
   "execution_count": 54,
   "metadata": {},
   "outputs": [
    {
     "data": {
      "text/plain": [
       "RandomForestRegressor(bootstrap=False, criterion='mse', max_depth=None,\n",
       "                      max_features=32, max_leaf_nodes=None,\n",
       "                      min_impurity_decrease=0.0, min_impurity_split=None,\n",
       "                      min_samples_leaf=1, min_samples_split=2,\n",
       "                      min_weight_fraction_leaf=0.0, n_estimators=250,\n",
       "                      n_jobs=None, oob_score=False, random_state=42, verbose=0,\n",
       "                      warm_start=False)"
      ]
     },
     "execution_count": 54,
     "metadata": {},
     "output_type": "execute_result"
    }
   ],
   "source": [
    "grid_search.best_estimator_"
   ]
  },
  {
   "cell_type": "code",
   "execution_count": 55,
   "metadata": {},
   "outputs": [
    {
     "name": "stdout",
     "output_type": "stream",
     "text": [
      "0.14287262321453223 {'max_features': 16, 'n_estimators': 30}\n",
      "0.1375943272905592 {'max_features': 16, 'n_estimators': 100}\n",
      "0.1367992946897429 {'max_features': 16, 'n_estimators': 150}\n",
      "0.1366406487038284 {'max_features': 16, 'n_estimators': 200}\n",
      "0.13627871512683598 {'max_features': 16, 'n_estimators': 250}\n",
      "0.1365328585263724 {'max_features': 16, 'n_estimators': 300}\n",
      "0.13513951516687214 {'max_features': 32, 'n_estimators': 30}\n",
      "0.13342695362298643 {'max_features': 32, 'n_estimators': 100}\n",
      "0.13286207079919438 {'max_features': 32, 'n_estimators': 150}\n",
      "0.13281012059853417 {'max_features': 32, 'n_estimators': 200}\n",
      "0.1324680025308187 {'max_features': 32, 'n_estimators': 250}\n",
      "0.1325251458553907 {'max_features': 32, 'n_estimators': 300}\n",
      "0.13696309202752208 {'max_features': 64, 'n_estimators': 30}\n",
      "0.13423848089656287 {'max_features': 64, 'n_estimators': 100}\n",
      "0.133607246772335 {'max_features': 64, 'n_estimators': 150}\n",
      "0.1332743161026687 {'max_features': 64, 'n_estimators': 200}\n",
      "0.1330358163059922 {'max_features': 64, 'n_estimators': 250}\n",
      "0.13290906541074388 {'max_features': 64, 'n_estimators': 300}\n",
      "0.1387958187562911 {'max_features': 128, 'n_estimators': 30}\n",
      "0.13661953038302257 {'max_features': 128, 'n_estimators': 100}\n",
      "0.13604749982519862 {'max_features': 128, 'n_estimators': 150}\n",
      "0.1359385779353078 {'max_features': 128, 'n_estimators': 200}\n",
      "0.13562836162495084 {'max_features': 128, 'n_estimators': 250}\n",
      "0.13576733308568784 {'max_features': 128, 'n_estimators': 300}\n",
      "0.13745404832398153 {'bootstrap': False, 'max_features': 16, 'n_estimators': 30}\n",
      "0.13390216629325583 {'bootstrap': False, 'max_features': 16, 'n_estimators': 100}\n",
      "0.1341120408101278 {'bootstrap': False, 'max_features': 16, 'n_estimators': 150}\n",
      "0.13378011787243227 {'bootstrap': False, 'max_features': 16, 'n_estimators': 200}\n",
      "0.13351255940279566 {'bootstrap': False, 'max_features': 16, 'n_estimators': 250}\n",
      "0.13324568827374764 {'bootstrap': False, 'max_features': 16, 'n_estimators': 300}\n",
      "0.1342020779698382 {'bootstrap': False, 'max_features': 32, 'n_estimators': 30}\n",
      "0.13171431325386546 {'bootstrap': False, 'max_features': 32, 'n_estimators': 100}\n",
      "0.13115636323958152 {'bootstrap': False, 'max_features': 32, 'n_estimators': 150}\n",
      "0.1310203582177709 {'bootstrap': False, 'max_features': 32, 'n_estimators': 200}\n",
      "0.13074625520283403 {'bootstrap': False, 'max_features': 32, 'n_estimators': 250}\n",
      "0.13081897213118387 {'bootstrap': False, 'max_features': 32, 'n_estimators': 300}\n",
      "0.1343893655523786 {'bootstrap': False, 'max_features': 64, 'n_estimators': 30}\n",
      "0.1323539496911324 {'bootstrap': False, 'max_features': 64, 'n_estimators': 100}\n",
      "0.13208321256091599 {'bootstrap': False, 'max_features': 64, 'n_estimators': 150}\n",
      "0.13157122535656635 {'bootstrap': False, 'max_features': 64, 'n_estimators': 200}\n",
      "0.13182990914134166 {'bootstrap': False, 'max_features': 64, 'n_estimators': 250}\n",
      "0.13181542847434397 {'bootstrap': False, 'max_features': 64, 'n_estimators': 300}\n",
      "0.15294273897514463 {'bootstrap': False, 'max_features': 128, 'n_estimators': 30}\n",
      "0.15425330982123542 {'bootstrap': False, 'max_features': 128, 'n_estimators': 100}\n",
      "0.15395414245501998 {'bootstrap': False, 'max_features': 128, 'n_estimators': 150}\n",
      "0.15344786318809003 {'bootstrap': False, 'max_features': 128, 'n_estimators': 200}\n",
      "0.15290871891975658 {'bootstrap': False, 'max_features': 128, 'n_estimators': 250}\n",
      "0.15278487498818766 {'bootstrap': False, 'max_features': 128, 'n_estimators': 300}\n"
     ]
    }
   ],
   "source": [
    "cvres = grid_search.cv_results_\n",
    "for mean_score, params in zip(cvres[\"mean_test_score\"], cvres[\"params\"]):\n",
    "    print(np.sqrt(-mean_score), params)"
   ]
  },
  {
   "cell_type": "code",
   "execution_count": 56,
   "metadata": {},
   "outputs": [
    {
     "data": {
      "text/plain": [
       "array([6.84868240e-03, 1.51662031e-02, 2.89090497e-02, 1.90076584e-01,\n",
       "       1.06325724e-02, 7.53063906e-02, 2.28700219e-02, 9.36056356e-03,\n",
       "       2.73385006e-02, 8.46911258e-03, 6.32070402e-02, 1.73017155e-02,\n",
       "       1.38288045e-01, 3.72892307e-03, 5.08376088e-02, 3.43558952e-03,\n",
       "       5.23114376e-03, 2.10645935e-03, 1.24637570e-02, 2.27432200e-02,\n",
       "       3.95600114e-02, 6.19858401e-02, 5.54418322e-03, 7.11855907e-03,\n",
       "       2.48405473e-03, 6.33238803e-05, 3.75739968e-06, 1.96059124e-04,\n",
       "       5.22539761e-04, 5.04039733e-04, 4.08343192e-04, 1.50999947e-03,\n",
       "       1.37856726e-03, 3.57462060e-04, 1.13809143e-03, 5.14654054e-04,\n",
       "       3.04923835e-04, 5.65738143e-04, 3.95965794e-05, 3.73083407e-04,\n",
       "       3.54846323e-04, 6.53309990e-04, 1.90494657e-03, 1.84038594e-04,\n",
       "       4.88495366e-04, 1.90759811e-04, 4.76565294e-04, 2.79278149e-04,\n",
       "       1.70335500e-04, 6.58316575e-05, 1.85416104e-03, 1.54671999e-04,\n",
       "       3.95093588e-04, 2.88121763e-04, 2.60994675e-04, 7.19993699e-06,\n",
       "       3.59048656e-04, 1.38713839e-04, 3.10293636e-04, 6.49324880e-05,\n",
       "       1.25364473e-05, 2.08306286e-03, 8.06826569e-04, 7.04552195e-04,\n",
       "       1.13408522e-05, 1.08050748e-03, 1.12564579e-02, 1.02974213e-02,\n",
       "       1.80825592e-04, 1.40452343e-04, 1.17579601e-03, 2.53276392e-04,\n",
       "       1.32531890e-04, 1.91530451e-03, 5.15275601e-04, 3.71838395e-04,\n",
       "       5.36813945e-04, 9.14678699e-04, 7.64860341e-04, 4.15225206e-04,\n",
       "       2.26351966e-04, 1.94574367e-05, 8.10741863e-04, 9.76351658e-04,\n",
       "       4.27877563e-04, 1.24666180e-04, 5.86781934e-04, 4.54122161e-04,\n",
       "       7.51771146e-04, 4.92918947e-05, 1.35304236e-04, 1.11296123e-04,\n",
       "       1.05419625e-04, 2.67559215e-06, 1.16652305e-05, 4.25419515e-05,\n",
       "       8.26534322e-05, 1.39300767e-04, 6.88009039e-07, 6.66775050e-07,\n",
       "       1.86946434e-06, 6.64781301e-07, 9.27379745e-06, 6.37814620e-04,\n",
       "       6.43810644e-05, 1.45637325e-03, 9.93171391e-05, 9.87628545e-05,\n",
       "       1.49401571e-03, 7.21424548e-05, 2.28127385e-04, 3.68474808e-04,\n",
       "       1.49487161e-03, 3.25838744e-04, 1.49623948e-03, 1.32145308e-05,\n",
       "       5.82299208e-06, 3.32010483e-04, 4.21872519e-05, 8.34752265e-06,\n",
       "       7.32810333e-07, 9.43170776e-05, 1.76094252e-05, 1.49873117e-04,\n",
       "       5.30351890e-03, 1.92028278e-03, 7.48320529e-03, 5.82139997e-02,\n",
       "       1.00202434e-05, 1.42382056e-03, 6.30570877e-04, 5.07504625e-05,\n",
       "       1.03297677e-03, 9.73706700e-04, 9.61242071e-04, 1.73883649e-02,\n",
       "       4.58741871e-04, 2.47465960e-05, 4.87241203e-05, 2.17531839e-03,\n",
       "       3.49495680e-04, 1.83122179e-03, 1.71895438e-03, 4.81600596e-05,\n",
       "       2.61637626e-04, 5.31298725e-04, 1.72509773e-03, 7.97002000e-04])"
      ]
     },
     "execution_count": 56,
     "metadata": {},
     "output_type": "execute_result"
    }
   ],
   "source": [
    "feature_importances = grid_search.best_estimator_.feature_importances_\n",
    "feature_importances"
   ]
  },
  {
   "cell_type": "code",
   "execution_count": 57,
   "metadata": {
    "scrolled": false
   },
   "outputs": [
    {
     "data": {
      "text/plain": [
       "[(0.1900765841780207, 'OverallQual'),\n",
       " (0.13828804454495536, 'GrLivArea'),\n",
       " (0.0753063905672142, 'YearBuilt'),\n",
       " (0.06320704015314255, '1stFlrSF'),\n",
       " (0.06198584011213715, 'GarageCars'),\n",
       " (0.05821399968500283, 'TA'),\n",
       " (0.05083760878592161, 'FullBath'),\n",
       " (0.03956001137716887, 'GarageYrBlt'),\n",
       " (0.028909049739245286, 'LotArea'),\n",
       " (0.027338500564991885, 'BsmtFinSF1'),\n",
       " (0.02287002186448079, 'YearRemodAdd'),\n",
       " (0.02274322003635215, 'Fireplaces'),\n",
       " (0.01738836490201707, 'PConc'),\n",
       " (0.017301715472722676, '2ndFlrSF'),\n",
       " (0.015166203131958027, 'LotFrontage'),\n",
       " (0.012463757017717039, 'TotRmsAbvGrd'),\n",
       " (0.011256457859838287, 'N'),\n",
       " (0.010632572360049311, 'OverallCond'),\n",
       " (0.010297421318950247, 'Y'),\n",
       " (0.009360563555747894, 'MasVnrArea'),\n",
       " (0.008469112581798131, 'BsmtUnfSF'),\n",
       " (0.00748320528765743, 'Gd'),\n",
       " (0.007118559067085427, 'OpenPorchSF'),\n",
       " (0.006848682397914746, 'MSSubClass'),\n",
       " (0.005544183217830048, 'WoodDeckSF'),\n",
       " (0.005303518898182022, 'Ex'),\n",
       " (0.005231143762052662, 'BedroomAbvGr'),\n",
       " (0.003728923067170041, 'BsmtFullBath'),\n",
       " (0.0034355895154080836, 'HalfBath'),\n",
       " (0.0024840547318449443, 'EnclosedPorch'),\n",
       " (0.0021753183919342115, 'N'),\n",
       " (0.002106459350839564, 'KitchenAbvGr'),\n",
       " (0.0020830628600859613, 'Ex'),\n",
       " (0.0019202827793682467, 'Fa'),\n",
       " (0.0019153045102111373, 'Reg'),\n",
       " (0.0019049465712976498, 'OldTown'),\n",
       " (0.0018541610362334084, '1Fam'),\n",
       " (0.0018312217887344407, 'Y'),\n",
       " (0.0017250977320123386, 'Normal'),\n",
       " (0.0017189543821370056, 'Abnorml'),\n",
       " (0.0015099994674768196, 'Crawfor'),\n",
       " (0.001496239483406869, 'Hip'),\n",
       " (0.0014948716095949468, 'Gable'),\n",
       " (0.0014940157147133259, '2Story'),\n",
       " (0.001456373247114485, '1Story'),\n",
       " (0.0014238205646313346, 'Fa'),\n",
       " (0.0013785672632952585, 'Edwards'),\n",
       " (0.0011757960114236758, 'IR1'),\n",
       " (0.0011380914307389074, 'IDOTRR'),\n",
       " (0.0010805074792388477, 'TA'),\n",
       " (0.001032976767366841, 'TA'),\n",
       " (0.0009763516581702533, 'Gtl'),\n",
       " (0.0009737067001946203, 'BrkTil'),\n",
       " (0.0009612420708126528, 'CBlock'),\n",
       " (0.000914678699448547, 'Lvl'),\n",
       " (0.0008107418633885838, 'Inside'),\n",
       " (0.0008068265692784294, 'Fa'),\n",
       " (0.0007970019995579798, 'Partial'),\n",
       " (0.0007648603405039729, 'Corner'),\n",
       " (0.0007517711464008693, 'Norm'),\n",
       " (0.000704552195476913, 'Gd'),\n",
       " (0.0006533099901070192, 'NridgHt'),\n",
       " (0.0006378146198519923, '1.5Fin'),\n",
       " (0.0006305708773745226, 'Gd'),\n",
       " (0.0005867819338209577, 'Artery'),\n",
       " (0.0005657381434980496, 'NAmes'),\n",
       " (0.0005368139447320745, 'Low'),\n",
       " (0.0005312987250664374, 'Family'),\n",
       " (0.0005225397608897386, 'BrkSide'),\n",
       " (0.000515275600635209, 'Bnk'),\n",
       " (0.0005146540540006396, 'MeadowV'),\n",
       " (0.0005040397328758591, 'ClearCr'),\n",
       " (0.0004884953655161266, 'Sawyer'),\n",
       " (0.00047656529389678747, 'Somerst'),\n",
       " (0.0004587418713131943, 'Slab'),\n",
       " (0.0004541221613778659, 'Feedr'),\n",
       " (0.00042787756345682906, 'Mod'),\n",
       " (0.00041522520615143926, 'CulDSac'),\n",
       " (0.00040834319228053327, 'CollgCr'),\n",
       " (0.0003950935876772668, 'Duplex'),\n",
       " (0.0003730834067074299, 'NWAmes'),\n",
       " (0.00037183839524009314, 'HLS'),\n",
       " (0.0003684748079841721, 'Flat'),\n",
       " (0.0003590486560799784, 'GasA'),\n",
       " (0.0003574620602508508, 'Gilbert'),\n",
       " (0.00035484632316581965, 'NoRidge'),\n",
       " (0.0003494956801663223, 'P'),\n",
       " (0.00033201048338084283, 'CompShg'),\n",
       " (0.000325838743574801, 'Gambrel'),\n",
       " (0.00031029363612453456, 'Grav'),\n",
       " (0.0003049238347598316, 'Mitchel'),\n",
       " (0.00028812176256481556, 'Twnhs'),\n",
       " (0.0002792781488293754, 'StoneBr'),\n",
       " (0.00026163762582308737, 'Alloca'),\n",
       " (0.00026099467522271673, 'TwnhsE'),\n",
       " (0.00025327639206480334, 'IR2'),\n",
       " (0.00022812738544338216, 'SLvl'),\n",
       " (0.00022635196610738933, 'FR2'),\n",
       " (0.00019605912437357074, 'BrDale'),\n",
       " (0.00019075981108505828, 'SawyerW'),\n",
       " (0.00018403859416958856, 'SWISU'),\n",
       " (0.00018082559199470398, 'Grvl'),\n",
       " (0.0001703354998613581, 'Timber'),\n",
       " (0.00015467199873932342, '2fmCon'),\n",
       " (0.00014987311738876203, 'WdShngl'),\n",
       " (0.00014045234322779493, 'Pave'),\n",
       " (0.000139300767252744, 'Norm'),\n",
       " (0.00013871383881492393, 'GasW'),\n",
       " (0.0001353042362502975, 'PosN'),\n",
       " (0.00013253188980180843, 'IR3'),\n",
       " (0.000124666179662833, 'Sev'),\n",
       " (0.00011129612340055557, 'RRAe'),\n",
       " (0.00010541962480194352, 'RRAn'),\n",
       " (9.931713910260115e-05, '2.5Fin'),\n",
       " (9.876285451128405e-05, '2.5Unf'),\n",
       " (9.431707760795947e-05, 'Tar&Grv'),\n",
       " (8.265343222063233e-05, 'Feedr'),\n",
       " (7.214245484713453e-05, 'SFoyer'),\n",
       " (6.583165748729837e-05, 'Veenker'),\n",
       " (6.493248802313402e-05, 'OthW'),\n",
       " (6.438106444969693e-05, '1.5Unf'),\n",
       " (6.332388032467312e-05, 'Blmngtn'),\n",
       " (5.075046249620038e-05, 'Po'),\n",
       " (4.9291894677490126e-05, 'PosA'),\n",
       " (4.872412028266076e-05, 'Wood'),\n",
       " (4.816005957957728e-05, 'AdjLand'),\n",
       " (4.2541951537060454e-05, 'Artery'),\n",
       " (4.2187251907705485e-05, 'Membran'),\n",
       " (3.9596579426914264e-05, 'NPkVill'),\n",
       " (2.4746596004348132e-05, 'Stone'),\n",
       " (1.9457436673960856e-05, 'FR3'),\n",
       " (1.760942515935686e-05, 'WdShake'),\n",
       " (1.321453076594167e-05, 'Mansard'),\n",
       " (1.2536447271730073e-05, 'Wall'),\n",
       " (1.1665230484673476e-05, 'RRNn'),\n",
       " (1.1340852181625428e-05, 'Po'),\n",
       " (1.0020243410018665e-05, 'Ex'),\n",
       " (9.273797449336927e-06, 'RRNn'),\n",
       " (8.347522651028159e-06, 'Metal'),\n",
       " (7.19993698974159e-06, 'Floor'),\n",
       " (5.82299208182161e-06, 'Shed'),\n",
       " (3.7573996781883095e-06, 'Blueste'),\n",
       " (2.6755921513621247e-06, 'RRNe'),\n",
       " (1.8694643364807016e-06, 'RRAe'),\n",
       " (7.328103334392086e-07, 'Roll'),\n",
       " (6.880090394962601e-07, 'PosA'),\n",
       " (6.667750503704392e-07, 'PosN'),\n",
       " (6.647813014706403e-07, 'RRAn')]"
      ]
     },
     "execution_count": 57,
     "metadata": {},
     "output_type": "execute_result"
    }
   ],
   "source": [
    "cat_encoder = full_pipeline.named_transformers_[\"cat\"]\n",
    "cat_one_hot_attribs = []\n",
    "for a in cat_encoder.categories_:\n",
    "    for b in a:\n",
    "        cat_one_hot_attribs.append(b)\n",
    "# print(cat_one_hot_attribs)\n",
    "attributes = num_att + cat_one_hot_attribs\n",
    "sorted(zip(feature_importances, attributes), reverse=True)"
   ]
  },
  {
   "cell_type": "code",
   "execution_count": 67,
   "metadata": {},
   "outputs": [],
   "source": [
    "# y_pred = grid_search.predict(test_full_prepared)\n",
    "y_pred = forest_reg.predict(test_full_prepared)\n",
    "y_pred_normal = np.e**y_pred\n",
    "sub = pd.DataFrame({'Id': test['Id'], 'SalePrice': y_pred_normal})"
   ]
  },
  {
   "cell_type": "code",
   "execution_count": 68,
   "metadata": {},
   "outputs": [],
   "source": [
    "sub.to_csv(\"data/submission_script17_more_cat_att_2.csv\", index=False)"
   ]
  },
  {
   "cell_type": "code",
   "execution_count": 69,
   "metadata": {},
   "outputs": [
    {
     "data": {
      "text/plain": [
       "(1459, 2)"
      ]
     },
     "execution_count": 69,
     "metadata": {},
     "output_type": "execute_result"
    }
   ],
   "source": [
    "sub.shape"
   ]
  },
  {
   "cell_type": "code",
   "execution_count": null,
   "metadata": {},
   "outputs": [],
   "source": []
  }
 ],
 "metadata": {
  "kernelspec": {
   "display_name": "Python 3",
   "language": "python",
   "name": "python3"
  },
  "language_info": {
   "codemirror_mode": {
    "name": "ipython",
    "version": 3
   },
   "file_extension": ".py",
   "mimetype": "text/x-python",
   "name": "python",
   "nbconvert_exporter": "python",
   "pygments_lexer": "ipython3",
   "version": "3.7.4"
  }
 },
 "nbformat": 4,
 "nbformat_minor": 2
}
