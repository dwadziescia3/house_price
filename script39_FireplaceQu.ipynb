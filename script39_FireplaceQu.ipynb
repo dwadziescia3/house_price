{
 "cells": [
  {
   "cell_type": "code",
   "execution_count": 1,
   "metadata": {},
   "outputs": [],
   "source": [
    "import sys\n",
    "assert sys.version_info >= (3, 5)\n",
    "\n",
    "import sklearn\n",
    "assert sklearn.__version__ >= \"0.20\"\n",
    "\n",
    "import numpy as np\n",
    "import os\n",
    "\n",
    "import matplotlib as mpl\n",
    "import matplotlib.pyplot as plt\n",
    "mpl.rc('axes', labelsize=14)\n",
    "mpl.rc('xtick', labelsize=12)\n",
    "mpl.rc('ytick', labelsize=12)\n",
    "\n",
    "import warnings\n",
    "warnings.filterwarnings(action=\"ignore\", message=\"^internal gelsd\")"
   ]
  },
  {
   "cell_type": "code",
   "execution_count": 20,
   "metadata": {},
   "outputs": [],
   "source": [
    "import pandas as pd\n",
    "\n",
    "def load_housing_data(housing_path='data'):\n",
    "    train_csv_path = os.path.join(housing_path, \"train.csv\")\n",
    "    test_csv_path = os.path.join(housing_path, \"test.csv\")\n",
    "    return pd.read_csv(train_csv_path), pd.read_csv(test_csv_path)\n",
    "\n",
    "train, test = load_housing_data()"
   ]
  },
  {
   "cell_type": "code",
   "execution_count": 21,
   "metadata": {},
   "outputs": [],
   "source": [
    "train['TotalLivingSF'] = train['BsmtFinSF1'] + train['BsmtFinSF2'] + train['1stFlrSF'] + train['2ndFlrSF']\n",
    "test['TotalLivingSF'] = test['BsmtFinSF1'] + test['BsmtFinSF2'] + test['1stFlrSF'] + test['2ndFlrSF']\n",
    "\n",
    "train['TotalLivingSF'] = np.log(train['TotalLivingSF'])\n",
    "test['TotalLivingSF'] = np.log(test['TotalLivingSF'])"
   ]
  },
  {
   "cell_type": "code",
   "execution_count": 22,
   "metadata": {},
   "outputs": [
    {
     "data": {
      "text/plain": [
       "SalePrice        1.000000\n",
       "OverallQual      0.790982\n",
       "GrLivArea        0.708624\n",
       "TotalLivingSF    0.698827\n",
       "GarageCars       0.640409\n",
       "GarageArea       0.623431\n",
       "TotalBsmtSF      0.613581\n",
       "1stFlrSF         0.605852\n",
       "FullBath         0.560664\n",
       "TotRmsAbvGrd     0.533723\n",
       "YearBuilt        0.522897\n",
       "YearRemodAdd     0.507101\n",
       "GarageYrBlt      0.486362\n",
       "MasVnrArea       0.477493\n",
       "Fireplaces       0.466929\n",
       "BsmtFinSF1       0.386420\n",
       "LotFrontage      0.351799\n",
       "WoodDeckSF       0.324413\n",
       "2ndFlrSF         0.319334\n",
       "OpenPorchSF      0.315856\n",
       "HalfBath         0.284108\n",
       "LotArea          0.263843\n",
       "BsmtFullBath     0.227122\n",
       "BsmtUnfSF        0.214479\n",
       "BedroomAbvGr     0.168213\n",
       "ScreenPorch      0.111447\n",
       "PoolArea         0.092404\n",
       "MoSold           0.046432\n",
       "3SsnPorch        0.044584\n",
       "BsmtFinSF2      -0.011378\n",
       "BsmtHalfBath    -0.016844\n",
       "MiscVal         -0.021190\n",
       "Id              -0.021917\n",
       "LowQualFinSF    -0.025606\n",
       "YrSold          -0.028923\n",
       "OverallCond     -0.077856\n",
       "MSSubClass      -0.084284\n",
       "EnclosedPorch   -0.128578\n",
       "KitchenAbvGr    -0.135907\n",
       "Name: SalePrice, dtype: float64"
      ]
     },
     "execution_count": 22,
     "metadata": {},
     "output_type": "execute_result"
    }
   ],
   "source": [
    "corr_matrix = train.corr()\n",
    "corr_matrix[\"SalePrice\"].sort_values(ascending=False)"
   ]
  },
  {
   "cell_type": "code",
   "execution_count": 23,
   "metadata": {},
   "outputs": [
    {
     "name": "stdout",
     "output_type": "stream",
     "text": [
      "['MSSubClass', 'LotFrontage', 'LotArea', 'OverallQual', 'OverallCond', 'YearBuilt', 'YearRemodAdd', 'MasVnrArea', 'BsmtFinSF1', 'BsmtUnfSF', 'TotalBsmtSF', '1stFlrSF', '2ndFlrSF', 'GrLivArea', 'BsmtFullBath', 'FullBath', 'HalfBath', 'BedroomAbvGr', 'KitchenAbvGr', 'TotRmsAbvGrd', 'Fireplaces', 'GarageYrBlt', 'GarageCars', 'GarageArea', 'WoodDeckSF', 'OpenPorchSF', 'EnclosedPorch', 'YrSold', 'TotalLivingSF']\n"
     ]
    }
   ],
   "source": [
    "num_att = list(train.select_dtypes([np.number]).columns)\n",
    "\n",
    "# att = ['OverallQual', 'GrLivArea']\n",
    "\n",
    "# to_remove = ['BsmtFinSF2', 'MoSold', '3SsnPorch', 'BsmtHalfBath', 'MiscVal', 'LowQualFinSF', 'YrSold',\n",
    "#             'PoolArea', 'OverallCond', 'MSSubClass', 'ScreenPorch']\n",
    "\n",
    "to_remove = ['PoolArea', 'BsmtHalfBath', 'MiscVal', 'LowQualFinSF', 'ScreenPorch', '3SsnPorch',\n",
    "            'BsmtFinSF2', 'MoSold', 'YrSold',\n",
    "            'GarageArea', 'TotalBsmtSF']\n",
    "\n",
    "to_remove = ['PoolArea', 'BsmtHalfBath', 'MiscVal', 'LowQualFinSF', 'ScreenPorch', '3SsnPorch',\n",
    "            'BsmtFinSF2', 'MoSold']\n",
    "\n",
    "for t in to_remove:\n",
    "    num_att.remove(t)\n",
    "num_att.remove('Id')\n",
    "num_att.remove('SalePrice')\n",
    "\n",
    "# num_att = ['OverallQual', 'GrLivArea', 'GarageCars', '1stFlrSF', 'FullBath', 'YearBuilt']\n",
    "\n",
    "print(num_att)"
   ]
  },
  {
   "cell_type": "code",
   "execution_count": 24,
   "metadata": {},
   "outputs": [],
   "source": [
    "test['KitchenQual'] = test['KitchenQual'].fillna(\"TA\") \n",
    "\n",
    "train['FireplaceQu'] = train['FireplaceQu'].fillna(\"None\") \n",
    "test['FireplaceQu'] = test['FireplaceQu'].fillna(\"None\") "
   ]
  },
  {
   "cell_type": "code",
   "execution_count": 25,
   "metadata": {},
   "outputs": [
    {
     "name": "stdout",
     "output_type": "stream",
     "text": [
      "['Neighborhood', 'BldgType', 'Heating', 'HeatingQC', 'CentralAir', 'Street', 'LotShape', 'LandContour', 'LotConfig', 'LandSlope', 'Condition1', 'HouseStyle', 'RoofStyle', 'ExterQual', 'ExterCond', 'Foundation', 'PavedDrive', 'SaleCondition', 'KitchenQual', 'FireplaceQu']\n"
     ]
    }
   ],
   "source": [
    "cat_att = ['BldgType', 'CentralAir', 'Foundation', \n",
    "           'PavedDrive', 'SaleCondition']\n",
    "cat_att = ['Neighborhood', 'BldgType', 'Heating', 'HeatingQC', 'CentralAir', \n",
    "           'Street', 'LotShape', 'LandContour', 'LotConfig',\n",
    "           'LandSlope', 'Condition1', 'HouseStyle', 'RoofStyle', \n",
    "           'ExterQual', 'ExterCond', 'Foundation', 'PavedDrive', 'SaleCondition', 'KitchenQual',\n",
    "          'FireplaceQu']\n",
    "\n",
    "# TO ADD = Exterior1st, KitchenQual, Functional, SaleType, Alley, Condition2\n",
    "\n",
    "# cat_att = ['Neighborhood', 'BldgType']\n",
    "print(cat_att)"
   ]
  },
  {
   "cell_type": "code",
   "execution_count": 26,
   "metadata": {},
   "outputs": [],
   "source": [
    "for a in num_att:\n",
    "    median = train[a].median()\n",
    "    train[a].fillna(0, inplace=True)\n",
    "    \n",
    "#     median = test[a].median()\n",
    "    test[a].fillna(0, inplace=True)"
   ]
  },
  {
   "cell_type": "code",
   "execution_count": 27,
   "metadata": {},
   "outputs": [
    {
     "name": "stderr",
     "output_type": "stream",
     "text": [
      "/home/marek/anaconda3/lib/python3.7/site-packages/pandas/core/series.py:853: RuntimeWarning: divide by zero encountered in log\n",
      "  result = getattr(ufunc, method)(*inputs, **kwargs)\n"
     ]
    }
   ],
   "source": [
    "import seaborn as sns\n",
    "from scipy.stats import norm\n",
    "from scipy import stats\n",
    "\n",
    "train['SalePrice'] = np.log(train['SalePrice'])\n",
    "train_y = train[\"SalePrice\"].copy()\n",
    "\n",
    "train['GrLivArea'] = np.log(train['GrLivArea'])\n",
    "test['GrLivArea'] = np.log(test['GrLivArea'])\n",
    "\n",
    "train['HasBsmt'] = pd.Series(len(train['TotalBsmtSF']), index=train.index)\n",
    "train['HasBsmt'] = 0 \n",
    "train.loc[train['TotalBsmtSF']>0,'HasBsmt'] = 1\n",
    "train.loc[train['HasBsmt']==1,'TotalBsmtSF'] = np.log(train['TotalBsmtSF'])\n",
    "test['HasBsmt'] = pd.Series(len(test['TotalBsmtSF']), index=test.index)\n",
    "test['HasBsmt'] = 0 \n",
    "test.loc[test['TotalBsmtSF']>0,'HasBsmt'] = 1\n",
    "test.loc[test['HasBsmt']==1,'TotalBsmtSF'] = np.log(test['TotalBsmtSF'])\n",
    "\n",
    "train['1stFlrSF'] = np.log(train['1stFlrSF'])\n",
    "test['1stFlrSF'] = np.log(test['1stFlrSF'])\n",
    "\n",
    "train['HasBsmtFin'] = pd.Series(len(train['BsmtFinSF1']), index=train.index)\n",
    "train['HasBsmtFin'] = 0 \n",
    "train.loc[train['BsmtFinSF1']>0,'HasBsmtFin'] = 1\n",
    "train.loc[train['HasBsmtFin']==1,'BsmtFinSF1'] = np.log(train['BsmtFinSF1'])\n",
    "test['HasBsmtFin'] = pd.Series(len(test['BsmtFinSF1']), index=test.index)\n",
    "test['HasBsmtFin'] = 0 \n",
    "test.loc[test['BsmtFinSF1']>0,'HasBsmtFin'] = 1\n",
    "test.loc[test['HasBsmtFin']==1,'BsmtFinSF1'] = np.log(test['BsmtFinSF1'])\n",
    "\n",
    "train['HasWoodDeck'] = pd.Series(len(train['WoodDeckSF']), index=train.index)\n",
    "train['HasWoodDeck'] = 0 \n",
    "train.loc[train['WoodDeckSF']>0,'HasWoodDeck'] = 1\n",
    "train.loc[train['HasWoodDeck']==1,'WoodDeckSF'] = np.log(train['WoodDeckSF'])\n",
    "test['HasWoodDeck'] = pd.Series(len(test['WoodDeckSF']), index=test.index)\n",
    "test['HasWoodDeck'] = 0 \n",
    "test.loc[test['WoodDeckSF']>0,'HasWoodDeck'] = 1\n",
    "test.loc[test['HasWoodDeck']==1,'WoodDeckSF'] = np.log(test['WoodDeckSF'])\n"
   ]
  },
  {
   "cell_type": "code",
   "execution_count": 28,
   "metadata": {},
   "outputs": [
    {
     "data": {
      "text/plain": [
       "SalePrice        1.000000\n",
       "OverallQual      0.817184\n",
       "TotalLivingSF    0.741062\n",
       "GrLivArea        0.730255\n",
       "GarageCars       0.680625\n",
       "GarageArea       0.650888\n",
       "1stFlrSF         0.608947\n",
       "FullBath         0.594771\n",
       "YearBuilt        0.586570\n",
       "YearRemodAdd     0.565608\n",
       "TotRmsAbvGrd     0.534422\n",
       "Fireplaces       0.489449\n",
       "MasVnrArea       0.426775\n",
       "TotalBsmtSF      0.373009\n",
       "GarageYrBlt      0.349014\n",
       "WoodDeckSF       0.343269\n",
       "OpenPorchSF      0.321053\n",
       "HasWoodDeck      0.320349\n",
       "2ndFlrSF         0.319300\n",
       "HalfBath         0.313982\n",
       "LotArea          0.257320\n",
       "BsmtFullBath     0.236224\n",
       "BsmtUnfSF        0.221985\n",
       "BedroomAbvGr     0.209044\n",
       "BsmtFinSF1       0.207962\n",
       "HasBsmt          0.199634\n",
       "LotFrontage      0.179303\n",
       "HasBsmtFin       0.162231\n",
       "ScreenPorch      0.121208\n",
       "PoolArea         0.069798\n",
       "MoSold           0.057329\n",
       "3SsnPorch        0.054900\n",
       "BsmtFinSF2       0.004832\n",
       "BsmtHalfBath    -0.005149\n",
       "Id              -0.017942\n",
       "MiscVal         -0.020021\n",
       "OverallCond     -0.036868\n",
       "YrSold          -0.037263\n",
       "LowQualFinSF    -0.037963\n",
       "MSSubClass      -0.073959\n",
       "KitchenAbvGr    -0.147548\n",
       "EnclosedPorch   -0.149050\n",
       "Name: SalePrice, dtype: float64"
      ]
     },
     "execution_count": 28,
     "metadata": {},
     "output_type": "execute_result"
    }
   ],
   "source": [
    "corr_matrix = train.corr()\n",
    "corr_matrix[\"SalePrice\"].sort_values(ascending=False)"
   ]
  },
  {
   "cell_type": "code",
   "execution_count": 29,
   "metadata": {
    "scrolled": false
   },
   "outputs": [
    {
     "name": "stdout",
     "output_type": "stream",
     "text": [
      "<class 'pandas.core.frame.DataFrame'>\n",
      "RangeIndex: 1460 entries, 0 to 1459\n",
      "Data columns (total 49 columns):\n",
      "MSSubClass       1460 non-null int64\n",
      "LotFrontage      1460 non-null float64\n",
      "LotArea          1460 non-null int64\n",
      "OverallQual      1460 non-null int64\n",
      "OverallCond      1460 non-null int64\n",
      "YearBuilt        1460 non-null int64\n",
      "YearRemodAdd     1460 non-null int64\n",
      "MasVnrArea       1460 non-null float64\n",
      "BsmtFinSF1       1460 non-null float64\n",
      "BsmtUnfSF        1460 non-null int64\n",
      "TotalBsmtSF      1460 non-null float64\n",
      "1stFlrSF         1460 non-null float64\n",
      "2ndFlrSF         1460 non-null int64\n",
      "GrLivArea        1460 non-null float64\n",
      "BsmtFullBath     1460 non-null int64\n",
      "FullBath         1460 non-null int64\n",
      "HalfBath         1460 non-null int64\n",
      "BedroomAbvGr     1460 non-null int64\n",
      "KitchenAbvGr     1460 non-null int64\n",
      "TotRmsAbvGrd     1460 non-null int64\n",
      "Fireplaces       1460 non-null int64\n",
      "GarageYrBlt      1460 non-null float64\n",
      "GarageCars       1460 non-null int64\n",
      "GarageArea       1460 non-null int64\n",
      "WoodDeckSF       1460 non-null float64\n",
      "OpenPorchSF      1460 non-null int64\n",
      "EnclosedPorch    1460 non-null int64\n",
      "YrSold           1460 non-null int64\n",
      "TotalLivingSF    1460 non-null float64\n",
      "Neighborhood     1460 non-null object\n",
      "BldgType         1460 non-null object\n",
      "Heating          1460 non-null object\n",
      "HeatingQC        1460 non-null object\n",
      "CentralAir       1460 non-null object\n",
      "Street           1460 non-null object\n",
      "LotShape         1460 non-null object\n",
      "LandContour      1460 non-null object\n",
      "LotConfig        1460 non-null object\n",
      "LandSlope        1460 non-null object\n",
      "Condition1       1460 non-null object\n",
      "HouseStyle       1460 non-null object\n",
      "RoofStyle        1460 non-null object\n",
      "ExterQual        1460 non-null object\n",
      "ExterCond        1460 non-null object\n",
      "Foundation       1460 non-null object\n",
      "PavedDrive       1460 non-null object\n",
      "SaleCondition    1460 non-null object\n",
      "KitchenQual      1460 non-null object\n",
      "FireplaceQu      1460 non-null object\n",
      "dtypes: float64(9), int64(20), object(20)\n",
      "memory usage: 559.0+ KB\n",
      "<class 'pandas.core.frame.DataFrame'>\n",
      "RangeIndex: 1459 entries, 0 to 1458\n",
      "Data columns (total 49 columns):\n",
      "MSSubClass       1459 non-null int64\n",
      "LotFrontage      1459 non-null float64\n",
      "LotArea          1459 non-null int64\n",
      "OverallQual      1459 non-null int64\n",
      "OverallCond      1459 non-null int64\n",
      "YearBuilt        1459 non-null int64\n",
      "YearRemodAdd     1459 non-null int64\n",
      "MasVnrArea       1459 non-null float64\n",
      "BsmtFinSF1       1459 non-null float64\n",
      "BsmtUnfSF        1459 non-null float64\n",
      "TotalBsmtSF      1459 non-null float64\n",
      "1stFlrSF         1459 non-null float64\n",
      "2ndFlrSF         1459 non-null int64\n",
      "GrLivArea        1459 non-null float64\n",
      "BsmtFullBath     1459 non-null float64\n",
      "FullBath         1459 non-null int64\n",
      "HalfBath         1459 non-null int64\n",
      "BedroomAbvGr     1459 non-null int64\n",
      "KitchenAbvGr     1459 non-null int64\n",
      "TotRmsAbvGrd     1459 non-null int64\n",
      "Fireplaces       1459 non-null int64\n",
      "GarageYrBlt      1459 non-null float64\n",
      "GarageCars       1459 non-null float64\n",
      "GarageArea       1459 non-null float64\n",
      "WoodDeckSF       1459 non-null float64\n",
      "OpenPorchSF      1459 non-null int64\n",
      "EnclosedPorch    1459 non-null int64\n",
      "YrSold           1459 non-null int64\n",
      "TotalLivingSF    1459 non-null float64\n",
      "Neighborhood     1459 non-null object\n",
      "BldgType         1459 non-null object\n",
      "Heating          1459 non-null object\n",
      "HeatingQC        1459 non-null object\n",
      "CentralAir       1459 non-null object\n",
      "Street           1459 non-null object\n",
      "LotShape         1459 non-null object\n",
      "LandContour      1459 non-null object\n",
      "LotConfig        1459 non-null object\n",
      "LandSlope        1459 non-null object\n",
      "Condition1       1459 non-null object\n",
      "HouseStyle       1459 non-null object\n",
      "RoofStyle        1459 non-null object\n",
      "ExterQual        1459 non-null object\n",
      "ExterCond        1459 non-null object\n",
      "Foundation       1459 non-null object\n",
      "PavedDrive       1459 non-null object\n",
      "SaleCondition    1459 non-null object\n",
      "KitchenQual      1459 non-null object\n",
      "FireplaceQu      1459 non-null object\n",
      "dtypes: float64(13), int64(16), object(20)\n",
      "memory usage: 558.6+ KB\n",
      "<class 'pandas.core.frame.DataFrame'>\n",
      "Int64Index: 2919 entries, 0 to 1458\n",
      "Data columns (total 49 columns):\n",
      "MSSubClass       2919 non-null int64\n",
      "LotFrontage      2919 non-null float64\n",
      "LotArea          2919 non-null int64\n",
      "OverallQual      2919 non-null int64\n",
      "OverallCond      2919 non-null int64\n",
      "YearBuilt        2919 non-null int64\n",
      "YearRemodAdd     2919 non-null int64\n",
      "MasVnrArea       2919 non-null float64\n",
      "BsmtFinSF1       2919 non-null float64\n",
      "BsmtUnfSF        2919 non-null float64\n",
      "TotalBsmtSF      2919 non-null float64\n",
      "1stFlrSF         2919 non-null float64\n",
      "2ndFlrSF         2919 non-null int64\n",
      "GrLivArea        2919 non-null float64\n",
      "BsmtFullBath     2919 non-null float64\n",
      "FullBath         2919 non-null int64\n",
      "HalfBath         2919 non-null int64\n",
      "BedroomAbvGr     2919 non-null int64\n",
      "KitchenAbvGr     2919 non-null int64\n",
      "TotRmsAbvGrd     2919 non-null int64\n",
      "Fireplaces       2919 non-null int64\n",
      "GarageYrBlt      2919 non-null float64\n",
      "GarageCars       2919 non-null float64\n",
      "GarageArea       2919 non-null float64\n",
      "WoodDeckSF       2919 non-null float64\n",
      "OpenPorchSF      2919 non-null int64\n",
      "EnclosedPorch    2919 non-null int64\n",
      "YrSold           2919 non-null int64\n",
      "TotalLivingSF    2919 non-null float64\n",
      "Neighborhood     2919 non-null object\n",
      "BldgType         2919 non-null object\n",
      "Heating          2919 non-null object\n",
      "HeatingQC        2919 non-null object\n",
      "CentralAir       2919 non-null object\n",
      "Street           2919 non-null object\n",
      "LotShape         2919 non-null object\n",
      "LandContour      2919 non-null object\n",
      "LotConfig        2919 non-null object\n",
      "LandSlope        2919 non-null object\n",
      "Condition1       2919 non-null object\n",
      "HouseStyle       2919 non-null object\n",
      "RoofStyle        2919 non-null object\n",
      "ExterQual        2919 non-null object\n",
      "ExterCond        2919 non-null object\n",
      "Foundation       2919 non-null object\n",
      "PavedDrive       2919 non-null object\n",
      "SaleCondition    2919 non-null object\n",
      "KitchenQual      2919 non-null object\n",
      "FireplaceQu      2919 non-null object\n",
      "dtypes: float64(13), int64(16), object(20)\n",
      "memory usage: 1.1+ MB\n"
     ]
    }
   ],
   "source": [
    "train2 = train[num_att + cat_att]\n",
    "train2.info()\n",
    "test2 = test[num_att + cat_att]\n",
    "test2.info()\n",
    "\n",
    "merged_df = pd.concat([train2, test2])\n",
    "merged_df.info()"
   ]
  },
  {
   "cell_type": "code",
   "execution_count": 30,
   "metadata": {},
   "outputs": [],
   "source": [
    "from sklearn.pipeline import Pipeline\n",
    "from sklearn.preprocessing import StandardScaler\n",
    "from sklearn.impute import SimpleImputer\n",
    "from sklearn.compose import ColumnTransformer\n",
    "from sklearn.preprocessing import OneHotEncoder\n",
    "\n",
    "num_pipeline = Pipeline([\n",
    "        ('imputer', SimpleImputer(strategy=\"median\")),\n",
    "        ('std_scaler', StandardScaler()),\n",
    "    ])\n",
    "train_prepared = num_pipeline.fit_transform(train[num_att])\n",
    "test_prepared  = num_pipeline.transform(test[num_att])\n",
    "\n",
    "\n",
    "full_pipeline = ColumnTransformer([\n",
    "        (\"num\", num_pipeline, num_att),\n",
    "        (\"cat\", OneHotEncoder(), cat_att),\n",
    "    ])\n",
    "\n",
    "train_test_full_prepared = full_pipeline.fit_transform(merged_df)\n",
    "train_full_prepared = full_pipeline.transform(train2)\n",
    "test_full_prepared = full_pipeline.transform(test2)\n"
   ]
  },
  {
   "cell_type": "code",
   "execution_count": 31,
   "metadata": {},
   "outputs": [
    {
     "name": "stdout",
     "output_type": "stream",
     "text": [
      "(1460, 29)\n",
      "(1459, 29)\n",
      "(1460, 147)\n",
      "(1459, 147)\n"
     ]
    }
   ],
   "source": [
    "print(train_prepared.shape)\n",
    "print(test_prepared.shape)\n",
    "print(train_full_prepared.shape)\n",
    "print(test_full_prepared.shape)"
   ]
  },
  {
   "cell_type": "code",
   "execution_count": 32,
   "metadata": {},
   "outputs": [
    {
     "data": {
      "text/plain": [
       "0.0014825283656595318"
      ]
     },
     "execution_count": 32,
     "metadata": {},
     "output_type": "execute_result"
    }
   ],
   "source": [
    "from sklearn.metrics import mean_squared_error\n",
    "from sklearn.ensemble import RandomForestRegressor\n",
    "\n",
    "forest_reg = RandomForestRegressor(bootstrap=False, n_estimators=350, max_features=32, random_state=42)\n",
    "forest_reg.fit(train_full_prepared, train_y)\n",
    "\n",
    "housing_predictions = forest_reg.predict(train_full_prepared)\n",
    "\n",
    "forest_mse = mean_squared_error(train_y, housing_predictions)\n",
    "forest_rmse = np.sqrt(forest_mse)\n",
    "forest_rmse"
   ]
  },
  {
   "cell_type": "code",
   "execution_count": 33,
   "metadata": {},
   "outputs": [
    {
     "name": "stdout",
     "output_type": "stream",
     "text": [
      "12.247694320220951\n",
      "12.247694320220994\n"
     ]
    }
   ],
   "source": [
    "print(housing_predictions[0])\n",
    "print(train_y[0])"
   ]
  },
  {
   "cell_type": "code",
   "execution_count": 34,
   "metadata": {},
   "outputs": [
    {
     "data": {
      "text/plain": [
       "207.04757989854517"
      ]
     },
     "execution_count": 34,
     "metadata": {},
     "output_type": "execute_result"
    }
   ],
   "source": [
    "train_y_normal = np.e**train_y\n",
    "pred_normal = np.e**housing_predictions\n",
    "\n",
    "forest_mse = mean_squared_error(train_y_normal, pred_normal)\n",
    "forest_rmse = np.sqrt(forest_mse)\n",
    "forest_rmse"
   ]
  },
  {
   "cell_type": "code",
   "execution_count": 35,
   "metadata": {},
   "outputs": [
    {
     "name": "stdout",
     "output_type": "stream",
     "text": [
      "208500.0\n",
      "208499.9999999911\n"
     ]
    }
   ],
   "source": [
    "print(train_y_normal[0])\n",
    "print(pred_normal[0])"
   ]
  },
  {
   "cell_type": "code",
   "execution_count": 36,
   "metadata": {
    "scrolled": false
   },
   "outputs": [
    {
     "data": {
      "text/plain": [
       "[(0.1745179525716209, 'OverallQual'),\n",
       " (0.1290524265355034, 'GrLivArea'),\n",
       " (0.11575757966679612, 'TotalLivingSF'),\n",
       " (0.0647163331535607, 'YearBuilt'),\n",
       " (0.051650418777656304, 'TA'),\n",
       " (0.045935054428071505, 'GarageArea'),\n",
       " (0.04550391351848995, 'GarageCars'),\n",
       " (0.04144591775044512, 'TotalBsmtSF'),\n",
       " (0.039088760446211554, 'FullBath'),\n",
       " (0.029407473984933527, '1stFlrSF'),\n",
       " (0.023313960801624914, 'GarageYrBlt'),\n",
       " (0.016678794997365638, 'LotArea'),\n",
       " (0.01569182993286215, 'YearRemodAdd'),\n",
       " (0.0137615102206101, 'Fireplaces'),\n",
       " (0.012732328807120406, '2ndFlrSF'),\n",
       " (0.012249657705972875, 'BsmtFinSF1'),\n",
       " (0.011076581169247379, 'None'),\n",
       " (0.010139511793300894, 'TA'),\n",
       " (0.009463320236603463, 'OverallCond'),\n",
       " (0.008912077692319486, 'Y'),\n",
       " (0.007687548986621459, 'Gd'),\n",
       " (0.007586832853775165, 'BsmtUnfSF'),\n",
       " (0.0074830060144151994, 'N'),\n",
       " (0.006943638022672408, 'TotRmsAbvGrd'),\n",
       " (0.006858547563151486, 'PConc'),\n",
       " (0.005268721790053253, 'OpenPorchSF'),\n",
       " (0.005246548686358559, 'Ex'),\n",
       " (0.004934655316452351, 'LotFrontage'),\n",
       " (0.004524110922012808, 'MasVnrArea'),\n",
       " (0.00433260232954031, 'MSSubClass'),\n",
       " (0.003754722147440763, 'BedroomAbvGr'),\n",
       " (0.003676846110580539, 'Gd'),\n",
       " (0.0031074870305653553, 'WoodDeckSF'),\n",
       " (0.0025078986617800753, 'HalfBath'),\n",
       " (0.0022528086806025876, 'YrSold'),\n",
       " (0.0019684955232090362, 'EnclosedPorch'),\n",
       " (0.0018752302393288413, 'Ex'),\n",
       " (0.0016639887900148154, 'KitchenAbvGr'),\n",
       " (0.001654458927565563, 'Fa'),\n",
       " (0.0015964049617880544, 'Ex'),\n",
       " (0.0014926173522432633, 'BsmtFullBath'),\n",
       " (0.0014255294372156073, 'Crawfor'),\n",
       " (0.0014173231455904493, 'Abnorml'),\n",
       " (0.0013931035031732612, 'Normal'),\n",
       " (0.001285273979890789, 'Edwards'),\n",
       " (0.0012481736976948823, 'OldTown'),\n",
       " (0.0012436206972462024, 'Fa'),\n",
       " (0.0012280385106956193, '1Fam'),\n",
       " (0.0011954076560529965, 'N'),\n",
       " (0.0011799386477381122, 'Reg'),\n",
       " (0.0010089312208559913, '1Story'),\n",
       " (0.001006907033380833, 'Bnk'),\n",
       " (0.0009735210169188989, '2Story'),\n",
       " (0.0009692141282815947, 'Gd'),\n",
       " (0.0009576016330166086, 'IDOTRR'),\n",
       " (0.0008701810353024031, 'Y'),\n",
       " (0.0008092105057363617, 'Hip'),\n",
       " (0.0007977188779963769, 'TA'),\n",
       " (0.0007926039700035167, 'CBlock'),\n",
       " (0.0007728196467633316, 'TA'),\n",
       " (0.0007674162916178268, 'Gable'),\n",
       " (0.0007500278896482705, 'Norm'),\n",
       " (0.0007317461132079285, 'IR1'),\n",
       " (0.0007239709090945804, 'Lvl'),\n",
       " (0.0007111850976363527, 'Fa'),\n",
       " (0.0006936742405273412, 'NAmes'),\n",
       " (0.0006818258922998515, 'Gtl'),\n",
       " (0.0006433945143832896, 'BrkTil'),\n",
       " (0.0005943276698643137, 'Inside'),\n",
       " (0.000558851564139229, 'Corner'),\n",
       " (0.0005499336617216305, 'TA'),\n",
       " (0.0005383849371730751, '1.5Fin'),\n",
       " (0.0005341579182828582, 'Partial'),\n",
       " (0.0005086955147724315, 'Artery'),\n",
       " (0.0004955004852117158, 'Fa'),\n",
       " (0.0004936574623334786, 'Mod'),\n",
       " (0.00048596526565321436, 'Gd'),\n",
       " (0.00047765470776884634, 'Feedr'),\n",
       " (0.0004310056458799952, 'Gd'),\n",
       " (0.0004246828471444271, 'Family'),\n",
       " (0.0003914361573691271, 'ClearCr'),\n",
       " (0.0003849991643080604, 'HLS'),\n",
       " (0.00034686595942150087, 'Po'),\n",
       " (0.00034174080281516845, 'Sawyer'),\n",
       " (0.0003331912388046155, 'Gambrel'),\n",
       " (0.00032693681351196174, 'GasA'),\n",
       " (0.00032245622618977084, 'Low'),\n",
       " (0.0003200782610833691, 'BrkSide'),\n",
       " (0.00031336661261958487, 'MeadowV'),\n",
       " (0.00030991990986783523, 'NridgHt'),\n",
       " (0.00029755924240273404, 'CulDSac'),\n",
       " (0.00029375154819319995, 'Alloca'),\n",
       " (0.00027478662022366394, 'Somerst'),\n",
       " (0.0002530021831516321, 'NoRidge'),\n",
       " (0.00025060219307168006, 'CollgCr'),\n",
       " (0.00024727598713716284, 'Flat'),\n",
       " (0.0002453472469570595, 'P'),\n",
       " (0.00022492756252637887, 'NWAmes'),\n",
       " (0.00021319020479552847, 'StoneBr'),\n",
       " (0.00020795088612958086, 'TwnhsE'),\n",
       " (0.00020756166664712678, 'Duplex'),\n",
       " (0.0001917479942288091, 'SLvl'),\n",
       " (0.00018906845474403613, 'Slab'),\n",
       " (0.0001848339747554501, 'Twnhs'),\n",
       " (0.00018146034719534925, 'Mitchel'),\n",
       " (0.000178711906276135, 'FR2'),\n",
       " (0.00017281607669307613, 'SWISU'),\n",
       " (0.00017129586021312235, 'Grav'),\n",
       " (0.00016649899127815134, 'IR2'),\n",
       " (0.00015689638226518994, 'IR3'),\n",
       " (0.00015684496415993394, 'GasW'),\n",
       " (0.0001542794636039587, 'BrDale'),\n",
       " (0.0001516990964973477, '2fmCon'),\n",
       " (0.00015032632192272472, 'Gilbert'),\n",
       " (0.00014862090881295897, 'SawyerW'),\n",
       " (0.00014845832789191533, 'Timber'),\n",
       " (0.000146560504147178, 'Sev'),\n",
       " (0.00013495479424245933, 'PosN'),\n",
       " (0.00012897189645985928, 'Pave'),\n",
       " (0.00012798659488558756, 'Grvl'),\n",
       " (9.84634959113762e-05, 'Ex'),\n",
       " (9.54145871938887e-05, 'RRAn'),\n",
       " (8.879614534742154e-05, 'RRAe'),\n",
       " (8.050853487434175e-05, '2.5Fin'),\n",
       " (6.587358892959736e-05, '2.5Unf'),\n",
       " (6.0895004322437115e-05, 'OthW'),\n",
       " (5.8240036578884525e-05, 'SFoyer'),\n",
       " (5.405513519161454e-05, 'Fa'),\n",
       " (5.01755104916996e-05, 'Veenker'),\n",
       " (4.598588037866425e-05, 'PosA'),\n",
       " (4.204235884753991e-05, 'Blmngtn'),\n",
       " (4.195238845345634e-05, '1.5Unf'),\n",
       " (2.512442308053999e-05, 'AdjLand'),\n",
       " (2.404339984042376e-05, 'Stone'),\n",
       " (2.2557495744231552e-05, 'NPkVill'),\n",
       " (1.727287372681462e-05, 'Ex'),\n",
       " (1.6823488598321573e-05, 'Po'),\n",
       " (1.547380222071343e-05, 'Wood'),\n",
       " (1.408396316755905e-05, 'FR3'),\n",
       " (1.2284949514302546e-05, 'RRNn'),\n",
       " (1.0919604876697051e-05, 'Mansard'),\n",
       " (8.001103405555638e-06, 'Wall'),\n",
       " (4.735400722825776e-06, 'Blueste'),\n",
       " (4.651362936883593e-06, 'Shed'),\n",
       " (3.813383091857469e-06, 'Floor'),\n",
       " (3.220022336088612e-06, 'Po'),\n",
       " (1.8606403134853857e-06, 'RRNe')]"
      ]
     },
     "execution_count": 36,
     "metadata": {},
     "output_type": "execute_result"
    }
   ],
   "source": [
    "# forest_reg.feature_importances_\n",
    "\n",
    "cat_encoder = full_pipeline.named_transformers_[\"cat\"]\n",
    "cat_one_hot_attribs = []\n",
    "for a in cat_encoder.categories_:\n",
    "    for b in a:\n",
    "        cat_one_hot_attribs.append(b)\n",
    "# print(cat_one_hot_attribs)\n",
    "attributes = num_att + cat_one_hot_attribs\n",
    "sorted(zip(forest_reg.feature_importances_, attributes), reverse=True)"
   ]
  },
  {
   "cell_type": "code",
   "execution_count": 37,
   "metadata": {},
   "outputs": [
    {
     "name": "stdout",
     "output_type": "stream",
     "text": [
      "scores: [0.12942884 0.11943405 0.13037082 0.1715441  0.15485459 0.10810289\n",
      " 0.13451708 0.11568347 0.12463915 0.13508825]\n",
      "mean: 0.13236632150259914\n",
      "std: 0.017774280975484856\n",
      "count    10.000000\n",
      "mean      0.132366\n",
      "std       0.018736\n",
      "min       0.108103\n",
      "25%       0.120735\n",
      "50%       0.129900\n",
      "75%       0.134945\n",
      "max       0.171544\n",
      "dtype: float64\n"
     ]
    }
   ],
   "source": [
    "from sklearn.model_selection import cross_val_score\n",
    "def display_scores(scores):\n",
    "    print(\"scores:\", scores)\n",
    "    print(\"mean:\", scores.mean())\n",
    "    print(\"std:\", scores.std())\n",
    "\n",
    "forest_reg = RandomForestRegressor(bootstrap=False, n_estimators=450, max_features=32, random_state=42)\n",
    "forest_reg.fit(train_full_prepared, train_y)\n",
    "\n",
    "forest_scores = cross_val_score(forest_reg, train_full_prepared, train_y,\n",
    "                                scoring=\"neg_mean_squared_error\", cv=10)\n",
    "forest_rmse_scores = np.sqrt(-forest_scores)\n",
    "display_scores(forest_rmse_scores)\n",
    "\n",
    "print(pd.Series(forest_rmse_scores).describe())"
   ]
  },
  {
   "cell_type": "code",
   "execution_count": 40,
   "metadata": {},
   "outputs": [
    {
     "name": "stdout",
     "output_type": "stream",
     "text": [
      "Fitting 10 folds for each of 21 candidates, totalling 210 fits\n"
     ]
    },
    {
     "name": "stderr",
     "output_type": "stream",
     "text": [
      "[Parallel(n_jobs=-1)]: Using backend LokyBackend with 12 concurrent workers.\n",
      "[Parallel(n_jobs=-1)]: Done   8 tasks      | elapsed:    0.9s\n",
      "/home/marek/anaconda3/lib/python3.7/site-packages/joblib/externals/loky/process_executor.py:706: UserWarning: A worker stopped while some jobs were given to the executor. This can be caused by a too short worker timeout or by a memory leak.\n",
      "  \"timeout or by a memory leak.\", UserWarning\n",
      "[Parallel(n_jobs=-1)]: Done 104 tasks      | elapsed:   41.1s\n",
      "[Parallel(n_jobs=-1)]: Done 210 out of 210 | elapsed:  2.1min finished\n"
     ]
    },
    {
     "data": {
      "text/plain": [
       "GridSearchCV(cv=10, error_score='raise-deprecating',\n",
       "             estimator=RandomForestRegressor(bootstrap=True, criterion='mse',\n",
       "                                             max_depth=None,\n",
       "                                             max_features='auto',\n",
       "                                             max_leaf_nodes=None,\n",
       "                                             min_impurity_decrease=0.0,\n",
       "                                             min_impurity_split=None,\n",
       "                                             min_samples_leaf=1,\n",
       "                                             min_samples_split=2,\n",
       "                                             min_weight_fraction_leaf=0.0,\n",
       "                                             n_estimators='warn', n_jobs=None,\n",
       "                                             oob_score=False, random_state=42,\n",
       "                                             verbose=0, warm_start=False),\n",
       "             iid='warn', n_jobs=-1,\n",
       "             param_grid=[{'bootstrap': [False], 'max_features': [16, 32, 48],\n",
       "                          'n_estimators': [100, 300, 400, 500, 600, 700, 800]}],\n",
       "             pre_dispatch='2*n_jobs', refit=True, return_train_score=True,\n",
       "             scoring='neg_mean_squared_error', verbose=3)"
      ]
     },
     "execution_count": 40,
     "metadata": {},
     "output_type": "execute_result"
    }
   ],
   "source": [
    "from sklearn.model_selection import GridSearchCV\n",
    "\n",
    "param_grid = [\n",
    "    # sprawdza 12 (3×4) kombinacji hiperparametrów\n",
    "#     {'n_estimators': [100, 200, 300, 350, 400, 450], 'max_features': [16, 32, 64]},\n",
    "    # następnie sprawdza 6 (2×3) kombinacji z wyłączonym parametrem bootstrap (False)\n",
    "    {'bootstrap': [False], 'n_estimators': [100, 300, 400, 500, 600, 700, 800], \n",
    "     'max_features': [16, 32, 48]},\n",
    "  ]\n",
    "\n",
    "forest_reg = RandomForestRegressor(random_state=42)\n",
    "# przeprowadza proces uczenia na pięciu podzbiorach, czyli łącznie (12+6)*5=90 przebiegów \n",
    "grid_search = GridSearchCV(forest_reg, param_grid, cv=10,\n",
    "                           scoring='neg_mean_squared_error',\n",
    "                           return_train_score=True, verbose=3, n_jobs=-1)\n",
    "grid_search.fit(train_full_prepared, train_y)"
   ]
  },
  {
   "cell_type": "code",
   "execution_count": 41,
   "metadata": {},
   "outputs": [
    {
     "data": {
      "text/plain": [
       "{'bootstrap': False, 'max_features': 32, 'n_estimators': 700}"
      ]
     },
     "execution_count": 41,
     "metadata": {},
     "output_type": "execute_result"
    }
   ],
   "source": [
    "grid_search.best_params_"
   ]
  },
  {
   "cell_type": "code",
   "execution_count": 42,
   "metadata": {},
   "outputs": [
    {
     "data": {
      "text/plain": [
       "RandomForestRegressor(bootstrap=False, criterion='mse', max_depth=None,\n",
       "                      max_features=32, max_leaf_nodes=None,\n",
       "                      min_impurity_decrease=0.0, min_impurity_split=None,\n",
       "                      min_samples_leaf=1, min_samples_split=2,\n",
       "                      min_weight_fraction_leaf=0.0, n_estimators=700,\n",
       "                      n_jobs=None, oob_score=False, random_state=42, verbose=0,\n",
       "                      warm_start=False)"
      ]
     },
     "execution_count": 42,
     "metadata": {},
     "output_type": "execute_result"
    }
   ],
   "source": [
    "grid_search.best_estimator_"
   ]
  },
  {
   "cell_type": "code",
   "execution_count": 43,
   "metadata": {},
   "outputs": [
    {
     "name": "stdout",
     "output_type": "stream",
     "text": [
      "0.13497812120788957 {'bootstrap': False, 'max_features': 16, 'n_estimators': 100}\n",
      "0.1341782915778705 {'bootstrap': False, 'max_features': 16, 'n_estimators': 300}\n",
      "0.1339514139862431 {'bootstrap': False, 'max_features': 16, 'n_estimators': 400}\n",
      "0.13403946373602918 {'bootstrap': False, 'max_features': 16, 'n_estimators': 500}\n",
      "0.1341869304603879 {'bootstrap': False, 'max_features': 16, 'n_estimators': 600}\n",
      "0.13415613686125125 {'bootstrap': False, 'max_features': 16, 'n_estimators': 700}\n",
      "0.13420605009304132 {'bootstrap': False, 'max_features': 16, 'n_estimators': 800}\n",
      "0.1347692357619099 {'bootstrap': False, 'max_features': 32, 'n_estimators': 100}\n",
      "0.13401825440244428 {'bootstrap': False, 'max_features': 32, 'n_estimators': 300}\n",
      "0.13365076135432288 {'bootstrap': False, 'max_features': 32, 'n_estimators': 400}\n",
      "0.1335685811381989 {'bootstrap': False, 'max_features': 32, 'n_estimators': 500}\n",
      "0.13356293238867004 {'bootstrap': False, 'max_features': 32, 'n_estimators': 600}\n",
      "0.13341752182012542 {'bootstrap': False, 'max_features': 32, 'n_estimators': 700}\n",
      "0.13346680246989984 {'bootstrap': False, 'max_features': 32, 'n_estimators': 800}\n",
      "0.13531694933340982 {'bootstrap': False, 'max_features': 48, 'n_estimators': 100}\n",
      "0.13494667743079858 {'bootstrap': False, 'max_features': 48, 'n_estimators': 300}\n",
      "0.13488468344094265 {'bootstrap': False, 'max_features': 48, 'n_estimators': 400}\n",
      "0.1349863611159024 {'bootstrap': False, 'max_features': 48, 'n_estimators': 500}\n",
      "0.13500522820217004 {'bootstrap': False, 'max_features': 48, 'n_estimators': 600}\n",
      "0.13498849623981032 {'bootstrap': False, 'max_features': 48, 'n_estimators': 700}\n",
      "0.1350041522417388 {'bootstrap': False, 'max_features': 48, 'n_estimators': 800}\n"
     ]
    }
   ],
   "source": [
    "cvres = grid_search.cv_results_\n",
    "for mean_score, params in zip(cvres[\"mean_test_score\"], cvres[\"params\"]):\n",
    "    print(np.sqrt(-mean_score), params)"
   ]
  },
  {
   "cell_type": "code",
   "execution_count": 44,
   "metadata": {},
   "outputs": [
    {
     "data": {
      "text/plain": [
       "array([4.40085309e-03, 5.14422317e-03, 1.69330735e-02, 1.86955861e-01,\n",
       "       9.45816246e-03, 6.56527441e-02, 1.46717782e-02, 4.20596504e-03,\n",
       "       1.22666933e-02, 7.60749458e-03, 4.02076941e-02, 2.83892452e-02,\n",
       "       1.22144778e-02, 1.28905852e-01, 1.45642711e-03, 3.39454168e-02,\n",
       "       2.82982092e-03, 3.75677788e-03, 1.68759965e-03, 6.49538538e-03,\n",
       "       1.28984888e-02, 2.50032762e-02, 4.44653195e-02, 4.32613942e-02,\n",
       "       3.10449855e-03, 5.25603137e-03, 1.98438822e-03, 2.28647211e-03,\n",
       "       1.14107257e-01, 3.67437211e-05, 5.42455341e-06, 1.17084005e-04,\n",
       "       2.97176320e-04, 3.87411220e-04, 2.69880443e-04, 1.39502739e-03,\n",
       "       1.32570468e-03, 1.70864870e-04, 8.77713009e-04, 3.38329270e-04,\n",
       "       1.75865473e-04, 6.66339994e-04, 2.20847616e-05, 2.42837144e-04,\n",
       "       2.77211101e-04, 3.16983384e-04, 1.28550407e-03, 1.53731015e-04,\n",
       "       3.57900452e-04, 1.40951979e-04, 3.28656584e-04, 2.25364812e-04,\n",
       "       1.30307242e-04, 4.35701220e-05, 1.16702867e-03, 1.49285380e-04,\n",
       "       2.25065165e-04, 1.64858794e-04, 1.95121223e-04, 6.51781639e-06,\n",
       "       2.90821932e-04, 1.43477390e-04, 1.61967743e-04, 7.31726827e-05,\n",
       "       5.87875274e-06, 2.17891605e-03, 5.44789154e-04, 4.92569581e-04,\n",
       "       2.91318948e-06, 8.38053216e-04, 7.55338441e-03, 9.26955108e-03,\n",
       "       1.29102550e-04, 1.06428446e-04, 7.70819247e-04, 2.00301835e-04,\n",
       "       1.50464540e-04, 1.15974799e-03, 9.82914221e-04, 4.02484034e-04,\n",
       "       3.22545191e-04, 7.20019927e-04, 5.32418773e-04, 3.04591484e-04,\n",
       "       1.92167127e-04, 1.39117142e-05, 6.34235791e-04, 6.53543057e-04,\n",
       "       5.10240359e-04, 1.40529638e-04, 5.20658174e-04, 4.06152878e-04,\n",
       "       7.29383919e-04, 4.75815673e-05, 1.20895166e-04, 1.11608179e-04,\n",
       "       1.03844559e-04, 2.30381056e-06, 1.17278877e-05, 5.20904590e-04,\n",
       "       5.00157567e-05, 9.32380054e-04, 7.46580678e-05, 6.98459284e-05,\n",
       "       9.25651363e-04, 5.96022257e-05, 1.81535808e-04, 2.88370875e-04,\n",
       "       8.04338606e-04, 3.24930949e-04, 7.78897242e-04, 1.50456934e-05,\n",
       "       3.53497727e-06, 1.63796111e-03, 1.47932037e-03, 6.82674253e-03,\n",
       "       5.15419188e-02, 1.63693570e-05, 1.27142893e-03, 4.61889469e-04,\n",
       "       1.91931705e-05, 7.93678900e-04, 6.79298787e-04, 7.39733445e-04,\n",
       "       7.94039353e-03, 1.69923777e-04, 1.88523024e-05, 1.14973707e-05,\n",
       "       1.08493860e-03, 2.55306156e-04, 9.78909157e-04, 1.34319194e-03,\n",
       "       2.21385292e-05, 2.38361029e-04, 4.55536511e-04, 1.34854908e-03,\n",
       "       5.38759208e-04, 5.79303512e-03, 6.04206996e-04, 3.36880598e-03,\n",
       "       9.36519187e-03, 1.02603418e-04, 5.64866927e-05, 9.84726559e-04,\n",
       "       1.12576652e-02, 3.67099639e-04, 6.11240979e-04])"
      ]
     },
     "execution_count": 44,
     "metadata": {},
     "output_type": "execute_result"
    }
   ],
   "source": [
    "feature_importances = grid_search.best_estimator_.feature_importances_\n",
    "feature_importances"
   ]
  },
  {
   "cell_type": "code",
   "execution_count": 45,
   "metadata": {
    "scrolled": false
   },
   "outputs": [
    {
     "data": {
      "text/plain": [
       "[(0.1869558609755812, 'OverallQual'),\n",
       " (0.12890585234741944, 'GrLivArea'),\n",
       " (0.11410725686613737, 'TotalLivingSF'),\n",
       " (0.06565274410373037, 'YearBuilt'),\n",
       " (0.05154191878810931, 'TA'),\n",
       " (0.044465319542563775, 'GarageCars'),\n",
       " (0.04326139421222161, 'GarageArea'),\n",
       " (0.040207694107061584, 'TotalBsmtSF'),\n",
       " (0.03394541683779165, 'FullBath'),\n",
       " (0.028389245229517707, '1stFlrSF'),\n",
       " (0.025003276162709122, 'GarageYrBlt'),\n",
       " (0.01693307350759035, 'LotArea'),\n",
       " (0.014671778230157634, 'YearRemodAdd'),\n",
       " (0.012898488777696462, 'Fireplaces'),\n",
       " (0.012266693272612938, 'BsmtFinSF1'),\n",
       " (0.012214477764158873, '2ndFlrSF'),\n",
       " (0.011257665184399883, 'None'),\n",
       " (0.009458162455944124, 'OverallCond'),\n",
       " (0.009365191872990527, 'TA'),\n",
       " (0.009269551082500885, 'Y'),\n",
       " (0.007940393525608316, 'PConc'),\n",
       " (0.007607494583204598, 'BsmtUnfSF'),\n",
       " (0.007553384406295369, 'N'),\n",
       " (0.006826742534235945, 'Gd'),\n",
       " (0.006495385376522059, 'TotRmsAbvGrd'),\n",
       " (0.005793035116199834, 'Ex'),\n",
       " (0.005256031368475015, 'OpenPorchSF'),\n",
       " (0.005144223165454087, 'LotFrontage'),\n",
       " (0.004400853090925694, 'MSSubClass'),\n",
       " (0.004205965038697221, 'MasVnrArea'),\n",
       " (0.0037567778765148574, 'BedroomAbvGr'),\n",
       " (0.003368805979458129, 'Gd'),\n",
       " (0.003104498548704046, 'WoodDeckSF'),\n",
       " (0.0028298209207604607, 'HalfBath'),\n",
       " (0.0022864721115344, 'YrSold'),\n",
       " (0.002178916053560953, 'Ex'),\n",
       " (0.0019843882248088513, 'EnclosedPorch'),\n",
       " (0.0016875996463548417, 'KitchenAbvGr'),\n",
       " (0.0016379611051340415, 'Ex'),\n",
       " (0.0014793203691384838, 'Fa'),\n",
       " (0.0014564271109260367, 'BsmtFullBath'),\n",
       " (0.0013950273940093448, 'Crawfor'),\n",
       " (0.001348549083438798, 'Normal'),\n",
       " (0.0013431919429701276, 'Abnorml'),\n",
       " (0.0013257046831349623, 'Edwards'),\n",
       " (0.0012855040718455525, 'OldTown'),\n",
       " (0.0012714289291393403, 'Fa'),\n",
       " (0.001167028670660055, '1Fam'),\n",
       " (0.0011597479928644105, 'Reg'),\n",
       " (0.0010849386015210722, 'N'),\n",
       " (0.0009847265592624263, 'Gd'),\n",
       " (0.0009829142205189513, 'Bnk'),\n",
       " (0.0009789091566204462, 'Y'),\n",
       " (0.0009323800543862797, '1Story'),\n",
       " (0.0009256513625353713, '2Story'),\n",
       " (0.0008777130092912399, 'IDOTRR'),\n",
       " (0.0008380532161621194, 'TA'),\n",
       " (0.0008043386059075134, 'Gable'),\n",
       " (0.0007936788999676384, 'TA'),\n",
       " (0.0007788972415606568, 'Hip'),\n",
       " (0.0007708192467913271, 'IR1'),\n",
       " (0.0007397334451428376, 'CBlock'),\n",
       " (0.0007293839189107495, 'Norm'),\n",
       " (0.0007200199265297362, 'Lvl'),\n",
       " (0.0006792987866539728, 'BrkTil'),\n",
       " (0.0006663399942432791, 'NAmes'),\n",
       " (0.000653543057055326, 'Gtl'),\n",
       " (0.0006342357912595269, 'Inside'),\n",
       " (0.0006112409786626191, 'TA'),\n",
       " (0.000604206996133002, 'Fa'),\n",
       " (0.0005447891539734214, 'Fa'),\n",
       " (0.0005387592081323104, 'Partial'),\n",
       " (0.0005324187732389261, 'Corner'),\n",
       " (0.0005209045895147874, '1.5Fin'),\n",
       " (0.0005206581740188665, 'Artery'),\n",
       " (0.0005102403590644143, 'Mod'),\n",
       " (0.0004925695806155541, 'Gd'),\n",
       " (0.0004618894690315148, 'Gd'),\n",
       " (0.0004555365113103118, 'Family'),\n",
       " (0.0004061528777877244, 'Feedr'),\n",
       " (0.00040248403386690553, 'HLS'),\n",
       " (0.000387411219637925, 'ClearCr'),\n",
       " (0.00036709963931811897, 'Po'),\n",
       " (0.00035790045174199464, 'Sawyer'),\n",
       " (0.00033832927027853155, 'MeadowV'),\n",
       " (0.00032865658442851283, 'Somerst'),\n",
       " (0.0003249309488777947, 'Gambrel'),\n",
       " (0.0003225451914585395, 'Low'),\n",
       " (0.0003169833841074527, 'NridgHt'),\n",
       " (0.0003045914843807517, 'CulDSac'),\n",
       " (0.0002971763200463702, 'BrkSide'),\n",
       " (0.0002908219316744028, 'GasA'),\n",
       " (0.0002883708753140766, 'Flat'),\n",
       " (0.00027721110111298883, 'NoRidge'),\n",
       " (0.0002698804426638185, 'CollgCr'),\n",
       " (0.0002553061564154052, 'P'),\n",
       " (0.00024283714426104398, 'NWAmes'),\n",
       " (0.00023836102883253565, 'Alloca'),\n",
       " (0.00022536481192473378, 'StoneBr'),\n",
       " (0.0002250651648027473, 'Duplex'),\n",
       " (0.0002003018346231933, 'IR2'),\n",
       " (0.00019512122289513958, 'TwnhsE'),\n",
       " (0.000192167126750712, 'FR2'),\n",
       " (0.00018153580803837677, 'SLvl'),\n",
       " (0.0001758654731243291, 'Mitchel'),\n",
       " (0.00017086486965575413, 'Gilbert'),\n",
       " (0.0001699237767088986, 'Slab'),\n",
       " (0.0001648587938461432, 'Twnhs'),\n",
       " (0.00016196774333090738, 'Grav'),\n",
       " (0.00015373101461547427, 'SWISU'),\n",
       " (0.00015046454049691223, 'IR3'),\n",
       " (0.0001492853797174398, '2fmCon'),\n",
       " (0.00014347738972231012, 'GasW'),\n",
       " (0.00014095197862516758, 'SawyerW'),\n",
       " (0.000140529637693571, 'Sev'),\n",
       " (0.00013030724246651423, 'Timber'),\n",
       " (0.00012910255048801, 'Grvl'),\n",
       " (0.0001208951663564686, 'PosN'),\n",
       " (0.00011708400494373774, 'BrDale'),\n",
       " (0.00011160817883030974, 'RRAe'),\n",
       " (0.00010642844649324046, 'Pave'),\n",
       " (0.00010384455907052396, 'RRAn'),\n",
       " (0.0001026034182468922, 'Ex'),\n",
       " (7.46580678372449e-05, '2.5Fin'),\n",
       " (7.31726826539928e-05, 'OthW'),\n",
       " (6.984592837239883e-05, '2.5Unf'),\n",
       " (5.960222565609898e-05, 'SFoyer'),\n",
       " (5.6486692749677305e-05, 'Fa'),\n",
       " (5.001575670717275e-05, '1.5Unf'),\n",
       " (4.758156725941128e-05, 'PosA'),\n",
       " (4.357012203137453e-05, 'Veenker'),\n",
       " (3.67437210999801e-05, 'Blmngtn'),\n",
       " (2.2138529187570856e-05, 'AdjLand'),\n",
       " (2.2084761571740442e-05, 'NPkVill'),\n",
       " (1.9193170536261688e-05, 'Po'),\n",
       " (1.8852302375823814e-05, 'Stone'),\n",
       " (1.636935699221965e-05, 'Ex'),\n",
       " (1.5045693436984899e-05, 'Mansard'),\n",
       " (1.391171417720427e-05, 'FR3'),\n",
       " (1.1727887663744033e-05, 'RRNn'),\n",
       " (1.1497370681743694e-05, 'Wood'),\n",
       " (6.517816393898462e-06, 'Floor'),\n",
       " (5.878752739393991e-06, 'Wall'),\n",
       " (5.4245534066548635e-06, 'Blueste'),\n",
       " (3.5349772704317284e-06, 'Shed'),\n",
       " (2.9131894791775135e-06, 'Po'),\n",
       " (2.3038105604846185e-06, 'RRNe')]"
      ]
     },
     "execution_count": 45,
     "metadata": {},
     "output_type": "execute_result"
    }
   ],
   "source": [
    "cat_encoder = full_pipeline.named_transformers_[\"cat\"]\n",
    "cat_one_hot_attribs = []\n",
    "for a in cat_encoder.categories_:\n",
    "    for b in a:\n",
    "        cat_one_hot_attribs.append(b)\n",
    "# print(cat_one_hot_attribs)\n",
    "attributes = num_att + cat_one_hot_attribs\n",
    "sorted(zip(feature_importances, attributes), reverse=True)"
   ]
  },
  {
   "cell_type": "code",
   "execution_count": 46,
   "metadata": {},
   "outputs": [],
   "source": [
    "# y_pred = forest_reg.predict(test_full_prepared)\n",
    "y_pred = grid_search.predict(test_full_prepared)\n",
    "y_pred_normal = np.e**y_pred\n",
    "sub = pd.DataFrame({'Id': test['Id'], 'SalePrice': y_pred_normal})"
   ]
  },
  {
   "cell_type": "code",
   "execution_count": 47,
   "metadata": {},
   "outputs": [],
   "source": [
    "sub.to_csv(\"data/submission_script39_FireplaceQu.csv\", index=False)"
   ]
  },
  {
   "cell_type": "code",
   "execution_count": 28,
   "metadata": {},
   "outputs": [
    {
     "data": {
      "text/plain": [
       "(1459, 2)"
      ]
     },
     "execution_count": 28,
     "metadata": {},
     "output_type": "execute_result"
    }
   ],
   "source": [
    "sub.shape"
   ]
  },
  {
   "cell_type": "code",
   "execution_count": null,
   "metadata": {},
   "outputs": [],
   "source": []
  }
 ],
 "metadata": {
  "kernelspec": {
   "display_name": "Python 3",
   "language": "python",
   "name": "python3"
  },
  "language_info": {
   "codemirror_mode": {
    "name": "ipython",
    "version": 3
   },
   "file_extension": ".py",
   "mimetype": "text/x-python",
   "name": "python",
   "nbconvert_exporter": "python",
   "pygments_lexer": "ipython3",
   "version": "3.7.4"
  }
 },
 "nbformat": 4,
 "nbformat_minor": 2
}
