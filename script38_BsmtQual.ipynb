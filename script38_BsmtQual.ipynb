{
 "cells": [
  {
   "cell_type": "code",
   "execution_count": 1,
   "metadata": {},
   "outputs": [],
   "source": [
    "import sys\n",
    "assert sys.version_info >= (3, 5)\n",
    "\n",
    "import sklearn\n",
    "assert sklearn.__version__ >= \"0.20\"\n",
    "\n",
    "import numpy as np\n",
    "import os\n",
    "\n",
    "import matplotlib as mpl\n",
    "import matplotlib.pyplot as plt\n",
    "mpl.rc('axes', labelsize=14)\n",
    "mpl.rc('xtick', labelsize=12)\n",
    "mpl.rc('ytick', labelsize=12)\n",
    "\n",
    "import warnings\n",
    "warnings.filterwarnings(action=\"ignore\", message=\"^internal gelsd\")"
   ]
  },
  {
   "cell_type": "code",
   "execution_count": 2,
   "metadata": {},
   "outputs": [],
   "source": [
    "import pandas as pd\n",
    "\n",
    "def load_housing_data(housing_path='data'):\n",
    "    train_csv_path = os.path.join(housing_path, \"train.csv\")\n",
    "    test_csv_path = os.path.join(housing_path, \"test.csv\")\n",
    "    return pd.read_csv(train_csv_path), pd.read_csv(test_csv_path)\n",
    "\n",
    "train, test = load_housing_data()"
   ]
  },
  {
   "cell_type": "code",
   "execution_count": 3,
   "metadata": {},
   "outputs": [],
   "source": [
    "train['TotalLivingSF'] = train['BsmtFinSF1'] + train['BsmtFinSF2'] + train['1stFlrSF'] + train['2ndFlrSF']\n",
    "test['TotalLivingSF'] = test['BsmtFinSF1'] + test['BsmtFinSF2'] + test['1stFlrSF'] + test['2ndFlrSF']\n",
    "\n",
    "train['TotalLivingSF'] = np.log(train['TotalLivingSF'])\n",
    "test['TotalLivingSF'] = np.log(test['TotalLivingSF'])"
   ]
  },
  {
   "cell_type": "code",
   "execution_count": 4,
   "metadata": {},
   "outputs": [
    {
     "data": {
      "text/plain": [
       "SalePrice        1.000000\n",
       "OverallQual      0.790982\n",
       "GrLivArea        0.708624\n",
       "TotalLivingSF    0.698827\n",
       "GarageCars       0.640409\n",
       "GarageArea       0.623431\n",
       "TotalBsmtSF      0.613581\n",
       "1stFlrSF         0.605852\n",
       "FullBath         0.560664\n",
       "TotRmsAbvGrd     0.533723\n",
       "YearBuilt        0.522897\n",
       "YearRemodAdd     0.507101\n",
       "GarageYrBlt      0.486362\n",
       "MasVnrArea       0.477493\n",
       "Fireplaces       0.466929\n",
       "BsmtFinSF1       0.386420\n",
       "LotFrontage      0.351799\n",
       "WoodDeckSF       0.324413\n",
       "2ndFlrSF         0.319334\n",
       "OpenPorchSF      0.315856\n",
       "HalfBath         0.284108\n",
       "LotArea          0.263843\n",
       "BsmtFullBath     0.227122\n",
       "BsmtUnfSF        0.214479\n",
       "BedroomAbvGr     0.168213\n",
       "ScreenPorch      0.111447\n",
       "PoolArea         0.092404\n",
       "MoSold           0.046432\n",
       "3SsnPorch        0.044584\n",
       "BsmtFinSF2      -0.011378\n",
       "BsmtHalfBath    -0.016844\n",
       "MiscVal         -0.021190\n",
       "Id              -0.021917\n",
       "LowQualFinSF    -0.025606\n",
       "YrSold          -0.028923\n",
       "OverallCond     -0.077856\n",
       "MSSubClass      -0.084284\n",
       "EnclosedPorch   -0.128578\n",
       "KitchenAbvGr    -0.135907\n",
       "Name: SalePrice, dtype: float64"
      ]
     },
     "execution_count": 4,
     "metadata": {},
     "output_type": "execute_result"
    }
   ],
   "source": [
    "corr_matrix = train.corr()\n",
    "corr_matrix[\"SalePrice\"].sort_values(ascending=False)"
   ]
  },
  {
   "cell_type": "code",
   "execution_count": 5,
   "metadata": {},
   "outputs": [
    {
     "name": "stdout",
     "output_type": "stream",
     "text": [
      "['MSSubClass', 'LotFrontage', 'LotArea', 'OverallQual', 'OverallCond', 'YearBuilt', 'YearRemodAdd', 'MasVnrArea', 'BsmtFinSF1', 'BsmtUnfSF', 'TotalBsmtSF', '1stFlrSF', '2ndFlrSF', 'GrLivArea', 'BsmtFullBath', 'FullBath', 'HalfBath', 'BedroomAbvGr', 'KitchenAbvGr', 'TotRmsAbvGrd', 'Fireplaces', 'GarageYrBlt', 'GarageCars', 'GarageArea', 'WoodDeckSF', 'OpenPorchSF', 'EnclosedPorch', 'YrSold', 'TotalLivingSF']\n"
     ]
    }
   ],
   "source": [
    "num_att = list(train.select_dtypes([np.number]).columns)\n",
    "\n",
    "# att = ['OverallQual', 'GrLivArea']\n",
    "\n",
    "# to_remove = ['BsmtFinSF2', 'MoSold', '3SsnPorch', 'BsmtHalfBath', 'MiscVal', 'LowQualFinSF', 'YrSold',\n",
    "#             'PoolArea', 'OverallCond', 'MSSubClass', 'ScreenPorch']\n",
    "\n",
    "to_remove = ['PoolArea', 'BsmtHalfBath', 'MiscVal', 'LowQualFinSF', 'ScreenPorch', '3SsnPorch',\n",
    "            'BsmtFinSF2', 'MoSold', 'YrSold',\n",
    "            'GarageArea', 'TotalBsmtSF']\n",
    "\n",
    "to_remove = ['PoolArea', 'BsmtHalfBath', 'MiscVal', 'LowQualFinSF', 'ScreenPorch', '3SsnPorch',\n",
    "            'BsmtFinSF2', 'MoSold']\n",
    "\n",
    "for t in to_remove:\n",
    "    num_att.remove(t)\n",
    "num_att.remove('Id')\n",
    "num_att.remove('SalePrice')\n",
    "\n",
    "# num_att = ['OverallQual', 'GrLivArea', 'GarageCars', '1stFlrSF', 'FullBath', 'YearBuilt']\n",
    "\n",
    "print(num_att)"
   ]
  },
  {
   "cell_type": "code",
   "execution_count": 6,
   "metadata": {},
   "outputs": [],
   "source": [
    "test['KitchenQual'] = test['KitchenQual'].fillna(\"TA\") \n",
    "\n",
    "train['BsmtQual'] = train['BsmtQual'].fillna(\"NB\") \n",
    "test['BsmtQual'] = test['BsmtQual'].fillna(\"NB\") "
   ]
  },
  {
   "cell_type": "code",
   "execution_count": 12,
   "metadata": {},
   "outputs": [
    {
     "name": "stdout",
     "output_type": "stream",
     "text": [
      "['Neighborhood', 'BldgType', 'Heating', 'HeatingQC', 'CentralAir', 'Street', 'LotShape', 'LandContour', 'LotConfig', 'LandSlope', 'Condition1', 'HouseStyle', 'RoofStyle', 'ExterQual', 'ExterCond', 'Foundation', 'PavedDrive', 'SaleCondition', 'KitchenQual', 'BsmtQual']\n"
     ]
    }
   ],
   "source": [
    "cat_att = ['BldgType', 'CentralAir', 'Foundation', \n",
    "           'PavedDrive', 'SaleCondition']\n",
    "cat_att = ['Neighborhood', 'BldgType', 'Heating', 'HeatingQC', 'CentralAir', \n",
    "           'Street', 'LotShape', 'LandContour', 'LotConfig',\n",
    "           'LandSlope', 'Condition1', 'HouseStyle', 'RoofStyle', \n",
    "           'ExterQual', 'ExterCond', 'Foundation', 'PavedDrive', 'SaleCondition', 'KitchenQual',\n",
    "          'BsmtQual']\n",
    "\n",
    "# TO ADD = Exterior1st, KitchenQual, Functional, SaleType, Alley, Condition2\n",
    "\n",
    "# cat_att = ['Neighborhood', 'BldgType']\n",
    "print(cat_att)"
   ]
  },
  {
   "cell_type": "code",
   "execution_count": 8,
   "metadata": {},
   "outputs": [],
   "source": [
    "for a in num_att:\n",
    "    median = train[a].median()\n",
    "    train[a].fillna(0, inplace=True)\n",
    "    \n",
    "#     median = test[a].median()\n",
    "    test[a].fillna(0, inplace=True)"
   ]
  },
  {
   "cell_type": "code",
   "execution_count": 9,
   "metadata": {},
   "outputs": [
    {
     "name": "stderr",
     "output_type": "stream",
     "text": [
      "/home/marek/anaconda3/lib/python3.7/site-packages/pandas/core/series.py:853: RuntimeWarning: divide by zero encountered in log\n",
      "  result = getattr(ufunc, method)(*inputs, **kwargs)\n"
     ]
    }
   ],
   "source": [
    "import seaborn as sns\n",
    "from scipy.stats import norm\n",
    "from scipy import stats\n",
    "\n",
    "train['SalePrice'] = np.log(train['SalePrice'])\n",
    "train_y = train[\"SalePrice\"].copy()\n",
    "\n",
    "train['GrLivArea'] = np.log(train['GrLivArea'])\n",
    "test['GrLivArea'] = np.log(test['GrLivArea'])\n",
    "\n",
    "train['HasBsmt'] = pd.Series(len(train['TotalBsmtSF']), index=train.index)\n",
    "train['HasBsmt'] = 0 \n",
    "train.loc[train['TotalBsmtSF']>0,'HasBsmt'] = 1\n",
    "train.loc[train['HasBsmt']==1,'TotalBsmtSF'] = np.log(train['TotalBsmtSF'])\n",
    "test['HasBsmt'] = pd.Series(len(test['TotalBsmtSF']), index=test.index)\n",
    "test['HasBsmt'] = 0 \n",
    "test.loc[test['TotalBsmtSF']>0,'HasBsmt'] = 1\n",
    "test.loc[test['HasBsmt']==1,'TotalBsmtSF'] = np.log(test['TotalBsmtSF'])\n",
    "\n",
    "train['1stFlrSF'] = np.log(train['1stFlrSF'])\n",
    "test['1stFlrSF'] = np.log(test['1stFlrSF'])\n",
    "\n",
    "train['HasBsmtFin'] = pd.Series(len(train['BsmtFinSF1']), index=train.index)\n",
    "train['HasBsmtFin'] = 0 \n",
    "train.loc[train['BsmtFinSF1']>0,'HasBsmtFin'] = 1\n",
    "train.loc[train['HasBsmtFin']==1,'BsmtFinSF1'] = np.log(train['BsmtFinSF1'])\n",
    "test['HasBsmtFin'] = pd.Series(len(test['BsmtFinSF1']), index=test.index)\n",
    "test['HasBsmtFin'] = 0 \n",
    "test.loc[test['BsmtFinSF1']>0,'HasBsmtFin'] = 1\n",
    "test.loc[test['HasBsmtFin']==1,'BsmtFinSF1'] = np.log(test['BsmtFinSF1'])\n",
    "\n",
    "train['HasWoodDeck'] = pd.Series(len(train['WoodDeckSF']), index=train.index)\n",
    "train['HasWoodDeck'] = 0 \n",
    "train.loc[train['WoodDeckSF']>0,'HasWoodDeck'] = 1\n",
    "train.loc[train['HasWoodDeck']==1,'WoodDeckSF'] = np.log(train['WoodDeckSF'])\n",
    "test['HasWoodDeck'] = pd.Series(len(test['WoodDeckSF']), index=test.index)\n",
    "test['HasWoodDeck'] = 0 \n",
    "test.loc[test['WoodDeckSF']>0,'HasWoodDeck'] = 1\n",
    "test.loc[test['HasWoodDeck']==1,'WoodDeckSF'] = np.log(test['WoodDeckSF'])\n"
   ]
  },
  {
   "cell_type": "code",
   "execution_count": 10,
   "metadata": {},
   "outputs": [
    {
     "data": {
      "text/plain": [
       "SalePrice        1.000000\n",
       "OverallQual      0.817184\n",
       "TotalLivingSF    0.741062\n",
       "GrLivArea        0.730255\n",
       "GarageCars       0.680625\n",
       "GarageArea       0.650888\n",
       "1stFlrSF         0.608947\n",
       "FullBath         0.594771\n",
       "YearBuilt        0.586570\n",
       "YearRemodAdd     0.565608\n",
       "TotRmsAbvGrd     0.534422\n",
       "Fireplaces       0.489449\n",
       "MasVnrArea       0.426775\n",
       "TotalBsmtSF      0.373009\n",
       "GarageYrBlt      0.349014\n",
       "WoodDeckSF       0.343269\n",
       "OpenPorchSF      0.321053\n",
       "HasWoodDeck      0.320349\n",
       "2ndFlrSF         0.319300\n",
       "HalfBath         0.313982\n",
       "LotArea          0.257320\n",
       "BsmtFullBath     0.236224\n",
       "BsmtUnfSF        0.221985\n",
       "BedroomAbvGr     0.209044\n",
       "BsmtFinSF1       0.207962\n",
       "HasBsmt          0.199634\n",
       "LotFrontage      0.179303\n",
       "HasBsmtFin       0.162231\n",
       "ScreenPorch      0.121208\n",
       "PoolArea         0.069798\n",
       "MoSold           0.057329\n",
       "3SsnPorch        0.054900\n",
       "BsmtFinSF2       0.004832\n",
       "BsmtHalfBath    -0.005149\n",
       "Id              -0.017942\n",
       "MiscVal         -0.020021\n",
       "OverallCond     -0.036868\n",
       "YrSold          -0.037263\n",
       "LowQualFinSF    -0.037963\n",
       "MSSubClass      -0.073959\n",
       "KitchenAbvGr    -0.147548\n",
       "EnclosedPorch   -0.149050\n",
       "Name: SalePrice, dtype: float64"
      ]
     },
     "execution_count": 10,
     "metadata": {},
     "output_type": "execute_result"
    }
   ],
   "source": [
    "corr_matrix = train.corr()\n",
    "corr_matrix[\"SalePrice\"].sort_values(ascending=False)"
   ]
  },
  {
   "cell_type": "code",
   "execution_count": 13,
   "metadata": {
    "scrolled": false
   },
   "outputs": [
    {
     "name": "stdout",
     "output_type": "stream",
     "text": [
      "<class 'pandas.core.frame.DataFrame'>\n",
      "RangeIndex: 1460 entries, 0 to 1459\n",
      "Data columns (total 49 columns):\n",
      "MSSubClass       1460 non-null int64\n",
      "LotFrontage      1460 non-null float64\n",
      "LotArea          1460 non-null int64\n",
      "OverallQual      1460 non-null int64\n",
      "OverallCond      1460 non-null int64\n",
      "YearBuilt        1460 non-null int64\n",
      "YearRemodAdd     1460 non-null int64\n",
      "MasVnrArea       1460 non-null float64\n",
      "BsmtFinSF1       1460 non-null float64\n",
      "BsmtUnfSF        1460 non-null int64\n",
      "TotalBsmtSF      1460 non-null float64\n",
      "1stFlrSF         1460 non-null float64\n",
      "2ndFlrSF         1460 non-null int64\n",
      "GrLivArea        1460 non-null float64\n",
      "BsmtFullBath     1460 non-null int64\n",
      "FullBath         1460 non-null int64\n",
      "HalfBath         1460 non-null int64\n",
      "BedroomAbvGr     1460 non-null int64\n",
      "KitchenAbvGr     1460 non-null int64\n",
      "TotRmsAbvGrd     1460 non-null int64\n",
      "Fireplaces       1460 non-null int64\n",
      "GarageYrBlt      1460 non-null float64\n",
      "GarageCars       1460 non-null int64\n",
      "GarageArea       1460 non-null int64\n",
      "WoodDeckSF       1460 non-null float64\n",
      "OpenPorchSF      1460 non-null int64\n",
      "EnclosedPorch    1460 non-null int64\n",
      "YrSold           1460 non-null int64\n",
      "TotalLivingSF    1460 non-null float64\n",
      "Neighborhood     1460 non-null object\n",
      "BldgType         1460 non-null object\n",
      "Heating          1460 non-null object\n",
      "HeatingQC        1460 non-null object\n",
      "CentralAir       1460 non-null object\n",
      "Street           1460 non-null object\n",
      "LotShape         1460 non-null object\n",
      "LandContour      1460 non-null object\n",
      "LotConfig        1460 non-null object\n",
      "LandSlope        1460 non-null object\n",
      "Condition1       1460 non-null object\n",
      "HouseStyle       1460 non-null object\n",
      "RoofStyle        1460 non-null object\n",
      "ExterQual        1460 non-null object\n",
      "ExterCond        1460 non-null object\n",
      "Foundation       1460 non-null object\n",
      "PavedDrive       1460 non-null object\n",
      "SaleCondition    1460 non-null object\n",
      "KitchenQual      1460 non-null object\n",
      "BsmtQual         1460 non-null object\n",
      "dtypes: float64(9), int64(20), object(20)\n",
      "memory usage: 559.0+ KB\n",
      "<class 'pandas.core.frame.DataFrame'>\n",
      "RangeIndex: 1459 entries, 0 to 1458\n",
      "Data columns (total 49 columns):\n",
      "MSSubClass       1459 non-null int64\n",
      "LotFrontage      1459 non-null float64\n",
      "LotArea          1459 non-null int64\n",
      "OverallQual      1459 non-null int64\n",
      "OverallCond      1459 non-null int64\n",
      "YearBuilt        1459 non-null int64\n",
      "YearRemodAdd     1459 non-null int64\n",
      "MasVnrArea       1459 non-null float64\n",
      "BsmtFinSF1       1459 non-null float64\n",
      "BsmtUnfSF        1459 non-null float64\n",
      "TotalBsmtSF      1459 non-null float64\n",
      "1stFlrSF         1459 non-null float64\n",
      "2ndFlrSF         1459 non-null int64\n",
      "GrLivArea        1459 non-null float64\n",
      "BsmtFullBath     1459 non-null float64\n",
      "FullBath         1459 non-null int64\n",
      "HalfBath         1459 non-null int64\n",
      "BedroomAbvGr     1459 non-null int64\n",
      "KitchenAbvGr     1459 non-null int64\n",
      "TotRmsAbvGrd     1459 non-null int64\n",
      "Fireplaces       1459 non-null int64\n",
      "GarageYrBlt      1459 non-null float64\n",
      "GarageCars       1459 non-null float64\n",
      "GarageArea       1459 non-null float64\n",
      "WoodDeckSF       1459 non-null float64\n",
      "OpenPorchSF      1459 non-null int64\n",
      "EnclosedPorch    1459 non-null int64\n",
      "YrSold           1459 non-null int64\n",
      "TotalLivingSF    1459 non-null float64\n",
      "Neighborhood     1459 non-null object\n",
      "BldgType         1459 non-null object\n",
      "Heating          1459 non-null object\n",
      "HeatingQC        1459 non-null object\n",
      "CentralAir       1459 non-null object\n",
      "Street           1459 non-null object\n",
      "LotShape         1459 non-null object\n",
      "LandContour      1459 non-null object\n",
      "LotConfig        1459 non-null object\n",
      "LandSlope        1459 non-null object\n",
      "Condition1       1459 non-null object\n",
      "HouseStyle       1459 non-null object\n",
      "RoofStyle        1459 non-null object\n",
      "ExterQual        1459 non-null object\n",
      "ExterCond        1459 non-null object\n",
      "Foundation       1459 non-null object\n",
      "PavedDrive       1459 non-null object\n",
      "SaleCondition    1459 non-null object\n",
      "KitchenQual      1459 non-null object\n",
      "BsmtQual         1459 non-null object\n",
      "dtypes: float64(13), int64(16), object(20)\n",
      "memory usage: 558.6+ KB\n",
      "<class 'pandas.core.frame.DataFrame'>\n",
      "Int64Index: 2919 entries, 0 to 1458\n",
      "Data columns (total 49 columns):\n",
      "MSSubClass       2919 non-null int64\n",
      "LotFrontage      2919 non-null float64\n",
      "LotArea          2919 non-null int64\n",
      "OverallQual      2919 non-null int64\n",
      "OverallCond      2919 non-null int64\n",
      "YearBuilt        2919 non-null int64\n",
      "YearRemodAdd     2919 non-null int64\n",
      "MasVnrArea       2919 non-null float64\n",
      "BsmtFinSF1       2919 non-null float64\n",
      "BsmtUnfSF        2919 non-null float64\n",
      "TotalBsmtSF      2919 non-null float64\n",
      "1stFlrSF         2919 non-null float64\n",
      "2ndFlrSF         2919 non-null int64\n",
      "GrLivArea        2919 non-null float64\n",
      "BsmtFullBath     2919 non-null float64\n",
      "FullBath         2919 non-null int64\n",
      "HalfBath         2919 non-null int64\n",
      "BedroomAbvGr     2919 non-null int64\n",
      "KitchenAbvGr     2919 non-null int64\n",
      "TotRmsAbvGrd     2919 non-null int64\n",
      "Fireplaces       2919 non-null int64\n",
      "GarageYrBlt      2919 non-null float64\n",
      "GarageCars       2919 non-null float64\n",
      "GarageArea       2919 non-null float64\n",
      "WoodDeckSF       2919 non-null float64\n",
      "OpenPorchSF      2919 non-null int64\n",
      "EnclosedPorch    2919 non-null int64\n",
      "YrSold           2919 non-null int64\n",
      "TotalLivingSF    2919 non-null float64\n",
      "Neighborhood     2919 non-null object\n",
      "BldgType         2919 non-null object\n",
      "Heating          2919 non-null object\n",
      "HeatingQC        2919 non-null object\n",
      "CentralAir       2919 non-null object\n",
      "Street           2919 non-null object\n",
      "LotShape         2919 non-null object\n",
      "LandContour      2919 non-null object\n",
      "LotConfig        2919 non-null object\n",
      "LandSlope        2919 non-null object\n",
      "Condition1       2919 non-null object\n",
      "HouseStyle       2919 non-null object\n",
      "RoofStyle        2919 non-null object\n",
      "ExterQual        2919 non-null object\n",
      "ExterCond        2919 non-null object\n",
      "Foundation       2919 non-null object\n",
      "PavedDrive       2919 non-null object\n",
      "SaleCondition    2919 non-null object\n",
      "KitchenQual      2919 non-null object\n",
      "BsmtQual         2919 non-null object\n",
      "dtypes: float64(13), int64(16), object(20)\n",
      "memory usage: 1.1+ MB\n"
     ]
    }
   ],
   "source": [
    "train2 = train[num_att + cat_att]\n",
    "train2.info()\n",
    "test2 = test[num_att + cat_att]\n",
    "test2.info()\n",
    "\n",
    "merged_df = pd.concat([train2, test2])\n",
    "merged_df.info()"
   ]
  },
  {
   "cell_type": "code",
   "execution_count": 14,
   "metadata": {},
   "outputs": [],
   "source": [
    "from sklearn.pipeline import Pipeline\n",
    "from sklearn.preprocessing import StandardScaler\n",
    "from sklearn.impute import SimpleImputer\n",
    "from sklearn.compose import ColumnTransformer\n",
    "from sklearn.preprocessing import OneHotEncoder\n",
    "\n",
    "num_pipeline = Pipeline([\n",
    "        ('imputer', SimpleImputer(strategy=\"median\")),\n",
    "        ('std_scaler', StandardScaler()),\n",
    "    ])\n",
    "train_prepared = num_pipeline.fit_transform(train[num_att])\n",
    "test_prepared  = num_pipeline.transform(test[num_att])\n",
    "\n",
    "\n",
    "full_pipeline = ColumnTransformer([\n",
    "        (\"num\", num_pipeline, num_att),\n",
    "        (\"cat\", OneHotEncoder(), cat_att),\n",
    "    ])\n",
    "\n",
    "train_test_full_prepared = full_pipeline.fit_transform(merged_df)\n",
    "train_full_prepared = full_pipeline.transform(train2)\n",
    "test_full_prepared = full_pipeline.transform(test2)\n"
   ]
  },
  {
   "cell_type": "code",
   "execution_count": 15,
   "metadata": {},
   "outputs": [
    {
     "name": "stdout",
     "output_type": "stream",
     "text": [
      "(1460, 29)\n",
      "(1459, 29)\n",
      "(1460, 146)\n",
      "(1459, 146)\n"
     ]
    }
   ],
   "source": [
    "print(train_prepared.shape)\n",
    "print(test_prepared.shape)\n",
    "print(train_full_prepared.shape)\n",
    "print(test_full_prepared.shape)"
   ]
  },
  {
   "cell_type": "code",
   "execution_count": 20,
   "metadata": {},
   "outputs": [
    {
     "data": {
      "text/plain": [
       "0.001482529853905129"
      ]
     },
     "execution_count": 20,
     "metadata": {},
     "output_type": "execute_result"
    }
   ],
   "source": [
    "from sklearn.metrics import mean_squared_error\n",
    "from sklearn.ensemble import RandomForestRegressor\n",
    "\n",
    "forest_reg = RandomForestRegressor(bootstrap=False, n_estimators=500, max_features=32, random_state=42)\n",
    "forest_reg.fit(train_full_prepared, train_y)\n",
    "\n",
    "housing_predictions = forest_reg.predict(train_full_prepared)\n",
    "\n",
    "forest_mse = mean_squared_error(train_y, housing_predictions)\n",
    "forest_rmse = np.sqrt(forest_mse)\n",
    "forest_rmse"
   ]
  },
  {
   "cell_type": "code",
   "execution_count": 17,
   "metadata": {},
   "outputs": [
    {
     "name": "stdout",
     "output_type": "stream",
     "text": [
      "12.247694320220951\n",
      "12.247694320220994\n"
     ]
    }
   ],
   "source": [
    "print(housing_predictions[0])\n",
    "print(train_y[0])"
   ]
  },
  {
   "cell_type": "code",
   "execution_count": 18,
   "metadata": {},
   "outputs": [
    {
     "data": {
      "text/plain": [
       "207.04785102122622"
      ]
     },
     "execution_count": 18,
     "metadata": {},
     "output_type": "execute_result"
    }
   ],
   "source": [
    "train_y_normal = np.e**train_y\n",
    "pred_normal = np.e**housing_predictions\n",
    "\n",
    "forest_mse = mean_squared_error(train_y_normal, pred_normal)\n",
    "forest_rmse = np.sqrt(forest_mse)\n",
    "forest_rmse"
   ]
  },
  {
   "cell_type": "code",
   "execution_count": 19,
   "metadata": {},
   "outputs": [
    {
     "name": "stdout",
     "output_type": "stream",
     "text": [
      "208500.0\n",
      "208499.9999999911\n"
     ]
    }
   ],
   "source": [
    "print(train_y_normal[0])\n",
    "print(pred_normal[0])"
   ]
  },
  {
   "cell_type": "code",
   "execution_count": 21,
   "metadata": {
    "scrolled": false
   },
   "outputs": [
    {
     "data": {
      "text/plain": [
       "[(0.16662449124621317, 'OverallQual'),\n",
       " (0.1283878996528766, 'TotalLivingSF'),\n",
       " (0.12627950656016615, 'GrLivArea'),\n",
       " (0.07219668936895167, 'YearBuilt'),\n",
       " (0.05581060785788545, 'TA'),\n",
       " (0.04240692127589239, 'TotalBsmtSF'),\n",
       " (0.038752794712574964, 'GarageCars'),\n",
       " (0.038637800673864915, 'GarageArea'),\n",
       " (0.03644863391993991, 'GarageYrBlt'),\n",
       " (0.029806389558051656, '1stFlrSF'),\n",
       " (0.027137904921169388, 'FullBath'),\n",
       " (0.017439314612533438, 'LotArea'),\n",
       " (0.014971477659747032, 'YearRemodAdd'),\n",
       " (0.014736752630482552, 'Fireplaces'),\n",
       " (0.013065236360686827, '2ndFlrSF'),\n",
       " (0.011816224798214843, 'BsmtFinSF1'),\n",
       " (0.009828747882833484, 'OverallCond'),\n",
       " (0.009673097944233785, 'TA'),\n",
       " (0.00885567964483147, 'N'),\n",
       " (0.00826433694768465, 'Ex'),\n",
       " (0.00787224773116285, 'Y'),\n",
       " (0.007600535430225367, 'BsmtUnfSF'),\n",
       " (0.006751619834907817, 'TotRmsAbvGrd'),\n",
       " (0.005737510710680814, 'PConc'),\n",
       " (0.005266096311681493, 'OpenPorchSF'),\n",
       " (0.005039634314491839, 'LotFrontage'),\n",
       " (0.004930366697579581, 'Ex'),\n",
       " (0.00456257774587206, 'Gd'),\n",
       " (0.004422906977636372, 'MSSubClass'),\n",
       " (0.0042995331037294585, 'TA'),\n",
       " (0.004056732839188121, 'MasVnrArea'),\n",
       " (0.0038093693388831407, 'BedroomAbvGr'),\n",
       " (0.0037806737246413222, 'Gd'),\n",
       " (0.002972312200392026, 'Gd'),\n",
       " (0.002948531866603647, 'WoodDeckSF'),\n",
       " (0.002196762637526195, 'YrSold'),\n",
       " (0.0020843549625223752, 'HalfBath'),\n",
       " (0.0019851810091519465, 'EnclosedPorch'),\n",
       " (0.0018032828488332843, 'N'),\n",
       " (0.001541094032055626, 'Crawfor'),\n",
       " (0.0014743792758920187, 'OldTown'),\n",
       " (0.0014572146341398666, 'KitchenAbvGr'),\n",
       " (0.0014168042404438968, 'BsmtFullBath'),\n",
       " (0.0013827057491200337, 'Abnorml'),\n",
       " (0.001360155214954112, 'Edwards'),\n",
       " (0.0013515290011300446, 'Normal'),\n",
       " (0.001329915520405554, '1Fam'),\n",
       " (0.001305340848284087, 'Fa'),\n",
       " (0.0012686246792937858, 'Y'),\n",
       " (0.0012217133105555562, 'Reg'),\n",
       " (0.001204993827326596, 'Fa'),\n",
       " (0.0011432024107790562, 'Ex'),\n",
       " (0.0010109761684895355, '2Story'),\n",
       " (0.0009606299515276806, 'Gable'),\n",
       " (0.0009579628510211245, 'Bnk'),\n",
       " (0.0008814502491960507, 'IDOTRR'),\n",
       " (0.0008171535662432506, 'CBlock'),\n",
       " (0.0008004080190929793, 'IR1'),\n",
       " (0.0007884387403001831, 'Ex'),\n",
       " (0.0007696717968839987, 'TA'),\n",
       " (0.0007627303675778415, 'TA'),\n",
       " (0.0007591194413710487, '1Story'),\n",
       " (0.0007262528563354342, 'BrkTil'),\n",
       " (0.000725344180480115, 'Gtl'),\n",
       " (0.000718168374631372, 'Lvl'),\n",
       " (0.0006874186614329587, 'Norm'),\n",
       " (0.0006319818719129477, 'Fa'),\n",
       " (0.000630317766421334, 'NAmes'),\n",
       " (0.0006144150958820781, 'Hip'),\n",
       " (0.000601470537177811, 'Inside'),\n",
       " (0.0005377535607498943, '1.5Fin'),\n",
       " (0.0005375998534544254, 'Family'),\n",
       " (0.0005326979725784769, 'Partial'),\n",
       " (0.0005280148690578318, 'Artery'),\n",
       " (0.000524241056193069, 'Corner'),\n",
       " (0.0005234295789885772, 'Gd'),\n",
       " (0.000464302540823011, 'Mod'),\n",
       " (0.00044983362243511415, 'Fa'),\n",
       " (0.00044192944329145685, 'NridgHt'),\n",
       " (0.00043179807579561957, 'Sawyer'),\n",
       " (0.0004111573121172003, 'NoRidge'),\n",
       " (0.0003981853832815493, 'Gd'),\n",
       " (0.00039598977096723875, 'NB'),\n",
       " (0.000380375057013126, 'ClearCr'),\n",
       " (0.00036995140686571634, 'Feedr'),\n",
       " (0.0003658968477066144, 'HLS'),\n",
       " (0.0003544048745014926, 'MeadowV'),\n",
       " (0.00034569476132769285, 'Gambrel'),\n",
       " (0.00033095094462445856, 'Low'),\n",
       " (0.0003195666353389554, 'Flat'),\n",
       " (0.0003146899976589594, 'CulDSac'),\n",
       " (0.00031204053759599157, 'BrkSide'),\n",
       " (0.0002868762667024931, 'Fa'),\n",
       " (0.00028156898913842373, 'GasA'),\n",
       " (0.000273262086922353, 'Somerst'),\n",
       " (0.00026528951997197703, 'P'),\n",
       " (0.00024917953605139813, 'IR2'),\n",
       " (0.00023815958596888818, 'Duplex'),\n",
       " (0.0002159760484901031, 'Alloca'),\n",
       " (0.00021321840242666804, 'CollgCr'),\n",
       " (0.00020979323119494557, 'FR2'),\n",
       " (0.00020951455271284628, 'NWAmes'),\n",
       " (0.00020192187019484544, 'TwnhsE'),\n",
       " (0.00018956826409461031, 'Twnhs'),\n",
       " (0.00018911076185835853, 'StoneBr'),\n",
       " (0.00018754593759262304, 'Mitchel'),\n",
       " (0.00018300763279322096, 'SLvl'),\n",
       " (0.00017583370626709745, 'Gilbert'),\n",
       " (0.0001647641291540177, 'Slab'),\n",
       " (0.00016350337657153267, 'Grav'),\n",
       " (0.00015994843036607842, 'Grvl'),\n",
       " (0.00015034915384479132, 'SawyerW'),\n",
       " (0.0001376577434161671, 'Sev'),\n",
       " (0.00013646277428241058, 'SWISU'),\n",
       " (0.00013238952732867818, 'RRAn'),\n",
       " (0.00012880689898544088, 'PosN'),\n",
       " (0.00012208230700320227, 'Pave'),\n",
       " (0.00011994880871383694, 'BrDale'),\n",
       " (0.00011851033333322105, '2fmCon'),\n",
       " (0.00011777564487096325, 'RRAe'),\n",
       " (0.00011709661053526245, 'GasW'),\n",
       " (0.00011242716476968347, 'Timber'),\n",
       " (8.328095984051858e-05, '2.5Unf'),\n",
       " (7.68797911206153e-05, 'IR3'),\n",
       " (6.662008212626283e-05, '1.5Unf'),\n",
       " (6.160201104812933e-05, 'SFoyer'),\n",
       " (5.990410643925453e-05, '2.5Fin'),\n",
       " (5.334350020435327e-05, 'OthW'),\n",
       " (4.857222991302898e-05, 'Veenker'),\n",
       " (3.8926463024442484e-05, 'PosA'),\n",
       " (3.586089638961908e-05, 'NPkVill'),\n",
       " (3.43192327425757e-05, 'Blmngtn'),\n",
       " (2.57877639713088e-05, 'AdjLand'),\n",
       " (1.696480122080373e-05, 'FR3'),\n",
       " (1.6302660000024137e-05, 'Stone'),\n",
       " (1.4100287482351071e-05, 'Wood'),\n",
       " (1.222071176676364e-05, 'Mansard'),\n",
       " (1.1490282583294928e-05, 'RRNn'),\n",
       " (1.103970309118435e-05, 'Floor'),\n",
       " (1.0517619974454051e-05, 'Ex'),\n",
       " (1.0122716443398979e-05, 'Blueste'),\n",
       " (1.0044709557909532e-05, 'Po'),\n",
       " (4.769748009355398e-06, 'Shed'),\n",
       " (4.5299268483618055e-06, 'Po'),\n",
       " (4.45033622914012e-06, 'Wall'),\n",
       " (3.974307148357745e-06, 'RRNe')]"
      ]
     },
     "execution_count": 21,
     "metadata": {},
     "output_type": "execute_result"
    }
   ],
   "source": [
    "# forest_reg.feature_importances_\n",
    "\n",
    "cat_encoder = full_pipeline.named_transformers_[\"cat\"]\n",
    "cat_one_hot_attribs = []\n",
    "for a in cat_encoder.categories_:\n",
    "    for b in a:\n",
    "        cat_one_hot_attribs.append(b)\n",
    "# print(cat_one_hot_attribs)\n",
    "attributes = num_att + cat_one_hot_attribs\n",
    "sorted(zip(forest_reg.feature_importances_, attributes), reverse=True)"
   ]
  },
  {
   "cell_type": "code",
   "execution_count": 18,
   "metadata": {},
   "outputs": [
    {
     "name": "stdout",
     "output_type": "stream",
     "text": [
      "scores: [0.13157721 0.12080204 0.13062403 0.17242126 0.15596222 0.11296874\n",
      " 0.13557137 0.11685503 0.12921487 0.13700726]\n",
      "mean: 0.13430040425834927\n",
      "std: 0.01708729678845549\n",
      "count    10.000000\n",
      "mean      0.134300\n",
      "std       0.018012\n",
      "min       0.112969\n",
      "25%       0.122905\n",
      "50%       0.131101\n",
      "75%       0.136648\n",
      "max       0.172421\n",
      "dtype: float64\n"
     ]
    }
   ],
   "source": [
    "from sklearn.model_selection import cross_val_score\n",
    "def display_scores(scores):\n",
    "    print(\"scores:\", scores)\n",
    "    print(\"mean:\", scores.mean())\n",
    "    print(\"std:\", scores.std())\n",
    "\n",
    "forest_reg = RandomForestRegressor(bootstrap=False, n_estimators=450, max_features=32, random_state=42)\n",
    "forest_reg.fit(train_full_prepared, train_y)\n",
    "\n",
    "forest_scores = cross_val_score(forest_reg, train_full_prepared, train_y,\n",
    "                                scoring=\"neg_mean_squared_error\", cv=10)\n",
    "forest_rmse_scores = np.sqrt(-forest_scores)\n",
    "display_scores(forest_rmse_scores)\n",
    "\n",
    "print(pd.Series(forest_rmse_scores).describe())"
   ]
  },
  {
   "cell_type": "code",
   "execution_count": 24,
   "metadata": {},
   "outputs": [
    {
     "name": "stdout",
     "output_type": "stream",
     "text": [
      "Fitting 10 folds for each of 15 candidates, totalling 150 fits\n"
     ]
    },
    {
     "name": "stderr",
     "output_type": "stream",
     "text": [
      "[Parallel(n_jobs=-1)]: Using backend LokyBackend with 12 concurrent workers.\n",
      "[Parallel(n_jobs=-1)]: Done   8 tasks      | elapsed:    3.5s\n",
      "[Parallel(n_jobs=-1)]: Done 104 tasks      | elapsed:   43.9s\n",
      "[Parallel(n_jobs=-1)]: Done 150 out of 150 | elapsed:  1.3min finished\n"
     ]
    },
    {
     "data": {
      "text/plain": [
       "GridSearchCV(cv=10, error_score='raise-deprecating',\n",
       "             estimator=RandomForestRegressor(bootstrap=True, criterion='mse',\n",
       "                                             max_depth=None,\n",
       "                                             max_features='auto',\n",
       "                                             max_leaf_nodes=None,\n",
       "                                             min_impurity_decrease=0.0,\n",
       "                                             min_impurity_split=None,\n",
       "                                             min_samples_leaf=1,\n",
       "                                             min_samples_split=2,\n",
       "                                             min_weight_fraction_leaf=0.0,\n",
       "                                             n_estimators='warn', n_jobs=None,\n",
       "                                             oob_score=False, random_state=42,\n",
       "                                             verbose=0, warm_start=False),\n",
       "             iid='warn', n_jobs=-1,\n",
       "             param_grid=[{'bootstrap': [False], 'max_features': [16, 32, 48],\n",
       "                          'n_estimators': [100, 300, 400, 500, 600]}],\n",
       "             pre_dispatch='2*n_jobs', refit=True, return_train_score=True,\n",
       "             scoring='neg_mean_squared_error', verbose=3)"
      ]
     },
     "execution_count": 24,
     "metadata": {},
     "output_type": "execute_result"
    }
   ],
   "source": [
    "from sklearn.model_selection import GridSearchCV\n",
    "\n",
    "param_grid = [\n",
    "    # sprawdza 12 (3×4) kombinacji hiperparametrów\n",
    "#     {'n_estimators': [100, 200, 300, 350, 400, 450], 'max_features': [16, 32, 64]},\n",
    "    # następnie sprawdza 6 (2×3) kombinacji z wyłączonym parametrem bootstrap (False)\n",
    "    {'bootstrap': [False], 'n_estimators': [100, 300, 400, 500, 600], \n",
    "     'max_features': [16, 32, 48]},\n",
    "  ]\n",
    "\n",
    "forest_reg = RandomForestRegressor(random_state=42)\n",
    "# przeprowadza proces uczenia na pięciu podzbiorach, czyli łącznie (12+6)*5=90 przebiegów \n",
    "grid_search = GridSearchCV(forest_reg, param_grid, cv=10,\n",
    "                           scoring='neg_mean_squared_error',\n",
    "                           return_train_score=True, verbose=3, n_jobs=-1)\n",
    "grid_search.fit(train_full_prepared, train_y)"
   ]
  },
  {
   "cell_type": "code",
   "execution_count": 25,
   "metadata": {},
   "outputs": [
    {
     "data": {
      "text/plain": [
       "{'bootstrap': False, 'max_features': 16, 'n_estimators': 500}"
      ]
     },
     "execution_count": 25,
     "metadata": {},
     "output_type": "execute_result"
    }
   ],
   "source": [
    "grid_search.best_params_"
   ]
  },
  {
   "cell_type": "code",
   "execution_count": 26,
   "metadata": {},
   "outputs": [
    {
     "data": {
      "text/plain": [
       "RandomForestRegressor(bootstrap=False, criterion='mse', max_depth=None,\n",
       "                      max_features=16, max_leaf_nodes=None,\n",
       "                      min_impurity_decrease=0.0, min_impurity_split=None,\n",
       "                      min_samples_leaf=1, min_samples_split=2,\n",
       "                      min_weight_fraction_leaf=0.0, n_estimators=500,\n",
       "                      n_jobs=None, oob_score=False, random_state=42, verbose=0,\n",
       "                      warm_start=False)"
      ]
     },
     "execution_count": 26,
     "metadata": {},
     "output_type": "execute_result"
    }
   ],
   "source": [
    "grid_search.best_estimator_"
   ]
  },
  {
   "cell_type": "code",
   "execution_count": 27,
   "metadata": {},
   "outputs": [
    {
     "name": "stdout",
     "output_type": "stream",
     "text": [
      "0.13538126179008947 {'bootstrap': False, 'max_features': 16, 'n_estimators': 100}\n",
      "0.13436687236466066 {'bootstrap': False, 'max_features': 16, 'n_estimators': 300}\n",
      "0.13419928382205157 {'bootstrap': False, 'max_features': 16, 'n_estimators': 400}\n",
      "0.1339020713018217 {'bootstrap': False, 'max_features': 16, 'n_estimators': 500}\n",
      "0.13395132455628853 {'bootstrap': False, 'max_features': 16, 'n_estimators': 600}\n",
      "0.13559436357296048 {'bootstrap': False, 'max_features': 32, 'n_estimators': 100}\n",
      "0.13457846481287164 {'bootstrap': False, 'max_features': 32, 'n_estimators': 300}\n",
      "0.13454650481560695 {'bootstrap': False, 'max_features': 32, 'n_estimators': 400}\n",
      "0.13446052644462006 {'bootstrap': False, 'max_features': 32, 'n_estimators': 500}\n",
      "0.1343324197477185 {'bootstrap': False, 'max_features': 32, 'n_estimators': 600}\n",
      "0.13608010438353638 {'bootstrap': False, 'max_features': 48, 'n_estimators': 100}\n",
      "0.13509098510533998 {'bootstrap': False, 'max_features': 48, 'n_estimators': 300}\n",
      "0.13536448476166782 {'bootstrap': False, 'max_features': 48, 'n_estimators': 400}\n",
      "0.1352508019510016 {'bootstrap': False, 'max_features': 48, 'n_estimators': 500}\n",
      "0.135274827607183 {'bootstrap': False, 'max_features': 48, 'n_estimators': 600}\n"
     ]
    }
   ],
   "source": [
    "cvres = grid_search.cv_results_\n",
    "for mean_score, params in zip(cvres[\"mean_test_score\"], cvres[\"params\"]):\n",
    "    print(np.sqrt(-mean_score), params)"
   ]
  },
  {
   "cell_type": "code",
   "execution_count": 28,
   "metadata": {},
   "outputs": [
    {
     "data": {
      "text/plain": [
       "array([6.02808220e-03, 6.99801920e-03, 2.22141359e-02, 1.09058180e-01,\n",
       "       9.60884533e-03, 4.78349859e-02, 2.63698341e-02, 7.31194908e-03,\n",
       "       1.71749792e-02, 8.44106375e-03, 5.08621994e-02, 3.95313145e-02,\n",
       "       1.61953006e-02, 8.69035083e-02, 2.34178804e-03, 3.18699967e-02,\n",
       "       4.25382608e-03, 5.76428328e-03, 1.97595123e-03, 1.57847504e-02,\n",
       "       2.11405642e-02, 3.95565625e-02, 5.07764465e-02, 4.22142768e-02,\n",
       "       5.14998000e-03, 9.07848635e-03, 2.33258389e-03, 2.53357797e-03,\n",
       "       9.02844713e-02, 8.65295692e-05, 7.47662274e-06, 2.60278775e-04,\n",
       "       3.78234426e-04, 5.53211002e-04, 3.91360443e-04, 1.68673160e-03,\n",
       "       1.50198151e-03, 3.48638521e-04, 1.26976422e-03, 5.59179495e-04,\n",
       "       2.97101263e-04, 8.38425992e-04, 4.25971846e-05, 3.62261576e-04,\n",
       "       7.75145231e-04, 8.27464343e-04, 1.67709101e-03, 1.99705187e-04,\n",
       "       4.88073790e-04, 2.18367763e-04, 4.12141227e-04, 3.56259965e-04,\n",
       "       2.15281750e-04, 9.91511036e-05, 1.83896877e-03, 2.18288151e-04,\n",
       "       5.08633350e-04, 3.55031404e-04, 3.63643025e-04, 1.10735252e-05,\n",
       "       4.32898499e-04, 2.25549725e-04, 3.77506648e-04, 4.60051996e-05,\n",
       "       8.90961874e-06, 3.80766686e-03, 8.38638076e-04, 7.00572511e-04,\n",
       "       2.90858552e-06, 1.36953870e-03, 8.01886804e-03, 8.17894785e-03,\n",
       "       2.17507889e-04, 1.84748895e-04, 1.23373616e-03, 2.79636905e-04,\n",
       "       2.05303311e-04, 1.75734476e-03, 1.01878309e-03, 4.31258634e-04,\n",
       "       5.13867934e-04, 9.79514707e-04, 6.86186664e-04, 4.36075273e-04,\n",
       "       2.47957542e-04, 1.69728623e-05, 8.25104566e-04, 7.63290878e-04,\n",
       "       6.31396354e-04, 2.43526220e-04, 5.54837790e-04, 6.17742148e-04,\n",
       "       1.07432444e-03, 6.10614308e-05, 1.92423548e-04, 9.05159784e-05,\n",
       "       1.44351389e-04, 2.34967885e-06, 1.69948336e-05, 7.47910083e-04,\n",
       "       8.30531404e-05, 1.34786021e-03, 1.05167547e-04, 1.12192823e-04,\n",
       "       2.15990835e-03, 1.22040654e-04, 3.06351855e-04, 3.12240695e-04,\n",
       "       1.47595651e-03, 3.82493748e-04, 1.28606940e-03, 1.49409197e-05,\n",
       "       8.84961885e-06, 3.98924840e-03, 1.39801088e-03, 1.34730494e-02,\n",
       "       4.63478474e-02, 1.40038280e-05, 1.43437397e-03, 5.95758167e-04,\n",
       "       3.14638861e-05, 9.87576798e-04, 1.04967704e-03, 1.58309555e-03,\n",
       "       1.20368028e-02, 3.86014299e-04, 3.25519776e-05, 2.15101175e-05,\n",
       "       2.30561525e-03, 3.29965322e-04, 2.05507220e-03, 1.46806932e-03,\n",
       "       2.53237636e-05, 3.28376437e-04, 5.02332146e-04, 1.58438367e-03,\n",
       "       8.84515454e-04, 8.58662214e-03, 8.72669760e-04, 5.07892062e-03,\n",
       "       2.33368617e-02, 1.13485166e-02, 4.70863787e-04, 5.47322820e-03,\n",
       "       8.41121988e-04, 8.48866337e-03])"
      ]
     },
     "execution_count": 28,
     "metadata": {},
     "output_type": "execute_result"
    }
   ],
   "source": [
    "feature_importances = grid_search.best_estimator_.feature_importances_\n",
    "feature_importances"
   ]
  },
  {
   "cell_type": "code",
   "execution_count": 29,
   "metadata": {
    "scrolled": false
   },
   "outputs": [
    {
     "data": {
      "text/plain": [
       "[(0.10905817965434608, 'OverallQual'),\n",
       " (0.09028447134503662, 'TotalLivingSF'),\n",
       " (0.08690350831038976, 'GrLivArea'),\n",
       " (0.050862199438885855, 'TotalBsmtSF'),\n",
       " (0.05077644653539286, 'GarageCars'),\n",
       " (0.0478349859143661, 'YearBuilt'),\n",
       " (0.04634784736734507, 'TA'),\n",
       " (0.04221427679545243, 'GarageArea'),\n",
       " (0.03955656246308664, 'GarageYrBlt'),\n",
       " (0.03953131452128913, '1stFlrSF'),\n",
       " (0.03186999665920121, 'FullBath'),\n",
       " (0.02636983407881924, 'YearRemodAdd'),\n",
       " (0.023336861733826157, 'TA'),\n",
       " (0.02221413586690065, 'LotArea'),\n",
       " (0.02114056421189362, 'Fireplaces'),\n",
       " (0.017174979167215346, 'BsmtFinSF1'),\n",
       " (0.016195300582788646, '2ndFlrSF'),\n",
       " (0.015784750368157043, 'TotRmsAbvGrd'),\n",
       " (0.013473049368388768, 'Gd'),\n",
       " (0.012036802761499136, 'PConc'),\n",
       " (0.011348516578202957, 'Ex'),\n",
       " (0.009608845332484937, 'OverallCond'),\n",
       " (0.009078486353513583, 'OpenPorchSF'),\n",
       " (0.008586622142391281, 'Ex'),\n",
       " (0.008488663372839775, 'TA'),\n",
       " (0.008441063751289727, 'BsmtUnfSF'),\n",
       " (0.008178947850363634, 'Y'),\n",
       " (0.00801886804182953, 'N'),\n",
       " (0.007311949077369643, 'MasVnrArea'),\n",
       " (0.006998019203841095, 'LotFrontage'),\n",
       " (0.006028082198505417, 'MSSubClass'),\n",
       " (0.00576428327605443, 'BedroomAbvGr'),\n",
       " (0.005473228196474038, 'Gd'),\n",
       " (0.005149979996112085, 'WoodDeckSF'),\n",
       " (0.005078920616216536, 'Gd'),\n",
       " (0.004253826076359264, 'HalfBath'),\n",
       " (0.003989248397542048, 'Ex'),\n",
       " (0.0038076668623276593, 'Ex'),\n",
       " (0.002533577967824759, 'YrSold'),\n",
       " (0.002341788038311586, 'BsmtFullBath'),\n",
       " (0.0023325838937598843, 'EnclosedPorch'),\n",
       " (0.0023056152475331385, 'N'),\n",
       " (0.0021599083507397726, '2Story'),\n",
       " (0.002055072203315423, 'Y'),\n",
       " (0.0019759512297546113, 'KitchenAbvGr'),\n",
       " (0.0018389687685105292, '1Fam'),\n",
       " (0.0017573447617576633, 'Reg'),\n",
       " (0.0016867315981781046, 'Crawfor'),\n",
       " (0.0016770910057089243, 'OldTown'),\n",
       " (0.0015843836701371218, 'Normal'),\n",
       " (0.001583095554410317, 'CBlock'),\n",
       " (0.0015019815118955495, 'Edwards'),\n",
       " (0.001475956509421091, 'Gable'),\n",
       " (0.0014680693246146225, 'Abnorml'),\n",
       " (0.0014343739747474326, 'Fa'),\n",
       " (0.0013980108758879352, 'Fa'),\n",
       " (0.0013695387014570964, 'TA'),\n",
       " (0.0013478602089167725, '1Story'),\n",
       " (0.001286069395515938, 'Hip'),\n",
       " (0.0012697642215336628, 'IDOTRR'),\n",
       " (0.001233736155979899, 'IR1'),\n",
       " (0.001074324437674313, 'Norm'),\n",
       " (0.00104967703563646, 'BrkTil'),\n",
       " (0.0010187830919202857, 'Bnk'),\n",
       " (0.000987576798386277, 'TA'),\n",
       " (0.0009795147072446332, 'Lvl'),\n",
       " (0.0008845154539326205, 'Partial'),\n",
       " (0.0008726697598460296, 'Fa'),\n",
       " (0.0008411219882744249, 'NB'),\n",
       " (0.0008386380758959308, 'Fa'),\n",
       " (0.000838425992240663, 'NAmes'),\n",
       " (0.000827464342945867, 'NridgHt'),\n",
       " (0.0008251045664689549, 'Inside'),\n",
       " (0.0007751452311535372, 'NoRidge'),\n",
       " (0.0007632908781192941, 'Gtl'),\n",
       " (0.0007479100826562896, '1.5Fin'),\n",
       " (0.0007005725107342751, 'Gd'),\n",
       " (0.0006861866640264199, 'Corner'),\n",
       " (0.0006313963543399033, 'Mod'),\n",
       " (0.0006177421475386872, 'Feedr'),\n",
       " (0.0005957581668027804, 'Gd'),\n",
       " (0.0005591794948105301, 'MeadowV'),\n",
       " (0.0005548377897037919, 'Artery'),\n",
       " (0.0005532110022880765, 'ClearCr'),\n",
       " (0.0005138679338276567, 'Low'),\n",
       " (0.000508633350310787, 'Duplex'),\n",
       " (0.0005023321460682202, 'Family'),\n",
       " (0.000488073790408897, 'Sawyer'),\n",
       " (0.00047086378735555615, 'Fa'),\n",
       " (0.00043607527316413076, 'CulDSac'),\n",
       " (0.0004328984993490564, 'GasA'),\n",
       " (0.00043125863411019416, 'HLS'),\n",
       " (0.0004121412269619637, 'Somerst'),\n",
       " (0.0003913604428435417, 'CollgCr'),\n",
       " (0.00038601429945195754, 'Slab'),\n",
       " (0.00038249374849497794, 'Gambrel'),\n",
       " (0.000378234425839332, 'BrkSide'),\n",
       " (0.0003775066484631276, 'Grav'),\n",
       " (0.00036364302531612694, 'TwnhsE'),\n",
       " (0.00036226157625769744, 'NWAmes'),\n",
       " (0.0003562599649639053, 'StoneBr'),\n",
       " (0.0003550314044517134, 'Twnhs'),\n",
       " (0.0003486385214536734, 'Gilbert'),\n",
       " (0.00032996532238758146, 'P'),\n",
       " (0.0003283764373522074, 'Alloca'),\n",
       " (0.0003122406948498843, 'Flat'),\n",
       " (0.00030635185451325064, 'SLvl'),\n",
       " (0.00029710126321770607, 'Mitchel'),\n",
       " (0.00027963690542751485, 'IR2'),\n",
       " (0.0002602787745685603, 'BrDale'),\n",
       " (0.0002479575418693526, 'FR2'),\n",
       " (0.0002435262197198027, 'Sev'),\n",
       " (0.00022554972483409882, 'GasW'),\n",
       " (0.00021836776258901084, 'SawyerW'),\n",
       " (0.00021828815055783963, '2fmCon'),\n",
       " (0.00021750788900466728, 'Grvl'),\n",
       " (0.00021528175046017615, 'Timber'),\n",
       " (0.00020530331050575037, 'IR3'),\n",
       " (0.0001997051872631321, 'SWISU'),\n",
       " (0.00019242354811810293, 'PosN'),\n",
       " (0.00018474889483235496, 'Pave'),\n",
       " (0.0001443513891632894, 'RRAn'),\n",
       " (0.00012204065445624441, 'SFoyer'),\n",
       " (0.00011219282281619918, '2.5Unf'),\n",
       " (0.0001051675470256771, '2.5Fin'),\n",
       " (9.91511035668379e-05, 'Veenker'),\n",
       " (9.05159783782734e-05, 'RRAe'),\n",
       " (8.65295691811576e-05, 'Blmngtn'),\n",
       " (8.305314036446067e-05, '1.5Unf'),\n",
       " (6.106143083875171e-05, 'PosA'),\n",
       " (4.600519962608804e-05, 'OthW'),\n",
       " (4.259718457747434e-05, 'NPkVill'),\n",
       " (3.255197755097062e-05, 'Stone'),\n",
       " (3.1463886075033116e-05, 'Po'),\n",
       " (2.5323763618855107e-05, 'AdjLand'),\n",
       " (2.1510117472536113e-05, 'Wood'),\n",
       " (1.6994833649837947e-05, 'RRNn'),\n",
       " (1.697286229013938e-05, 'FR3'),\n",
       " (1.4940919693763492e-05, 'Mansard'),\n",
       " (1.4003828019061729e-05, 'Ex'),\n",
       " (1.1073525222586476e-05, 'Floor'),\n",
       " (8.909618737829522e-06, 'Wall'),\n",
       " (8.849618854618154e-06, 'Shed'),\n",
       " (7.476622741197142e-06, 'Blueste'),\n",
       " (2.9085855155815212e-06, 'Po'),\n",
       " (2.3496788502471162e-06, 'RRNe')]"
      ]
     },
     "execution_count": 29,
     "metadata": {},
     "output_type": "execute_result"
    }
   ],
   "source": [
    "cat_encoder = full_pipeline.named_transformers_[\"cat\"]\n",
    "cat_one_hot_attribs = []\n",
    "for a in cat_encoder.categories_:\n",
    "    for b in a:\n",
    "        cat_one_hot_attribs.append(b)\n",
    "# print(cat_one_hot_attribs)\n",
    "attributes = num_att + cat_one_hot_attribs\n",
    "sorted(zip(feature_importances, attributes), reverse=True)"
   ]
  },
  {
   "cell_type": "code",
   "execution_count": 30,
   "metadata": {},
   "outputs": [],
   "source": [
    "# y_pred = forest_reg.predict(test_full_prepared)\n",
    "y_pred = grid_search.predict(test_full_prepared)\n",
    "y_pred_normal = np.e**y_pred\n",
    "sub = pd.DataFrame({'Id': test['Id'], 'SalePrice': y_pred_normal})"
   ]
  },
  {
   "cell_type": "code",
   "execution_count": 31,
   "metadata": {},
   "outputs": [],
   "source": [
    "sub.to_csv(\"data/submission_script38_BsmtQual.csv\", index=False)"
   ]
  },
  {
   "cell_type": "code",
   "execution_count": 28,
   "metadata": {},
   "outputs": [
    {
     "data": {
      "text/plain": [
       "(1459, 2)"
      ]
     },
     "execution_count": 28,
     "metadata": {},
     "output_type": "execute_result"
    }
   ],
   "source": [
    "sub.shape"
   ]
  },
  {
   "cell_type": "code",
   "execution_count": null,
   "metadata": {},
   "outputs": [],
   "source": []
  }
 ],
 "metadata": {
  "kernelspec": {
   "display_name": "Python 3",
   "language": "python",
   "name": "python3"
  },
  "language_info": {
   "codemirror_mode": {
    "name": "ipython",
    "version": 3
   },
   "file_extension": ".py",
   "mimetype": "text/x-python",
   "name": "python",
   "nbconvert_exporter": "python",
   "pygments_lexer": "ipython3",
   "version": "3.7.4"
  }
 },
 "nbformat": 4,
 "nbformat_minor": 2
}
