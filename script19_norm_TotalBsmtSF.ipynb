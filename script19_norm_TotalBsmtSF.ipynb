{
 "cells": [
  {
   "cell_type": "code",
   "execution_count": 1,
   "metadata": {},
   "outputs": [],
   "source": [
    "import sys\n",
    "assert sys.version_info >= (3, 5)\n",
    "\n",
    "import sklearn\n",
    "assert sklearn.__version__ >= \"0.20\"\n",
    "\n",
    "import numpy as np\n",
    "import os\n",
    "\n",
    "import matplotlib as mpl\n",
    "import matplotlib.pyplot as plt\n",
    "mpl.rc('axes', labelsize=14)\n",
    "mpl.rc('xtick', labelsize=12)\n",
    "mpl.rc('ytick', labelsize=12)\n",
    "\n",
    "import warnings\n",
    "warnings.filterwarnings(action=\"ignore\", message=\"^internal gelsd\")"
   ]
  },
  {
   "cell_type": "code",
   "execution_count": 2,
   "metadata": {},
   "outputs": [],
   "source": [
    "import pandas as pd\n",
    "\n",
    "def load_housing_data(housing_path='data'):\n",
    "    train_csv_path = os.path.join(housing_path, \"train.csv\")\n",
    "    test_csv_path = os.path.join(housing_path, \"test.csv\")\n",
    "    return pd.read_csv(train_csv_path), pd.read_csv(test_csv_path)\n",
    "\n",
    "train, test = load_housing_data()"
   ]
  },
  {
   "cell_type": "code",
   "execution_count": 3,
   "metadata": {},
   "outputs": [
    {
     "data": {
      "text/plain": [
       "SalePrice        1.000000\n",
       "OverallQual      0.790982\n",
       "GrLivArea        0.708624\n",
       "GarageCars       0.640409\n",
       "GarageArea       0.623431\n",
       "TotalBsmtSF      0.613581\n",
       "1stFlrSF         0.605852\n",
       "FullBath         0.560664\n",
       "TotRmsAbvGrd     0.533723\n",
       "YearBuilt        0.522897\n",
       "YearRemodAdd     0.507101\n",
       "GarageYrBlt      0.486362\n",
       "MasVnrArea       0.477493\n",
       "Fireplaces       0.466929\n",
       "BsmtFinSF1       0.386420\n",
       "LotFrontage      0.351799\n",
       "WoodDeckSF       0.324413\n",
       "2ndFlrSF         0.319334\n",
       "OpenPorchSF      0.315856\n",
       "HalfBath         0.284108\n",
       "LotArea          0.263843\n",
       "BsmtFullBath     0.227122\n",
       "BsmtUnfSF        0.214479\n",
       "BedroomAbvGr     0.168213\n",
       "ScreenPorch      0.111447\n",
       "PoolArea         0.092404\n",
       "MoSold           0.046432\n",
       "3SsnPorch        0.044584\n",
       "BsmtFinSF2      -0.011378\n",
       "BsmtHalfBath    -0.016844\n",
       "MiscVal         -0.021190\n",
       "Id              -0.021917\n",
       "LowQualFinSF    -0.025606\n",
       "YrSold          -0.028923\n",
       "OverallCond     -0.077856\n",
       "MSSubClass      -0.084284\n",
       "EnclosedPorch   -0.128578\n",
       "KitchenAbvGr    -0.135907\n",
       "Name: SalePrice, dtype: float64"
      ]
     },
     "execution_count": 3,
     "metadata": {},
     "output_type": "execute_result"
    }
   ],
   "source": [
    "corr_matrix = train.corr()\n",
    "corr_matrix[\"SalePrice\"].sort_values(ascending=False)"
   ]
  },
  {
   "cell_type": "code",
   "execution_count": 48,
   "metadata": {},
   "outputs": [
    {
     "name": "stdout",
     "output_type": "stream",
     "text": [
      "['MSSubClass', 'LotFrontage', 'LotArea', 'OverallQual', 'OverallCond', 'YearBuilt', 'YearRemodAdd', 'MasVnrArea', 'BsmtFinSF1', 'BsmtUnfSF', 'TotalBsmtSF', '1stFlrSF', '2ndFlrSF', 'GrLivArea', 'BsmtFullBath', 'FullBath', 'HalfBath', 'BedroomAbvGr', 'KitchenAbvGr', 'TotRmsAbvGrd', 'Fireplaces', 'GarageYrBlt', 'GarageCars', 'GarageArea', 'WoodDeckSF', 'OpenPorchSF', 'EnclosedPorch', 'YrSold']\n"
     ]
    }
   ],
   "source": [
    "num_att = list(train.select_dtypes([np.number]).columns)\n",
    "\n",
    "# att = ['OverallQual', 'GrLivArea']\n",
    "\n",
    "# to_remove = ['BsmtFinSF2', 'MoSold', '3SsnPorch', 'BsmtHalfBath', 'MiscVal', 'LowQualFinSF', 'YrSold',\n",
    "#             'PoolArea', 'OverallCond', 'MSSubClass', 'ScreenPorch']\n",
    "\n",
    "to_remove = ['PoolArea', 'BsmtHalfBath', 'MiscVal', 'LowQualFinSF', 'ScreenPorch', '3SsnPorch',\n",
    "            'BsmtFinSF2', 'MoSold', 'YrSold',\n",
    "            'GarageArea', 'TotalBsmtSF']\n",
    "\n",
    "to_remove = ['PoolArea', 'BsmtHalfBath', 'MiscVal', 'LowQualFinSF', 'ScreenPorch', '3SsnPorch',\n",
    "            'BsmtFinSF2', 'MoSold', 'HasBsmt']\n",
    "\n",
    "for t in to_remove:\n",
    "    num_att.remove(t)\n",
    "num_att.remove('Id')\n",
    "num_att.remove('SalePrice')\n",
    "\n",
    "# num_att = ['OverallQual', 'GrLivArea', 'GarageCars', '1stFlrSF', 'FullBath', 'YearBuilt']\n",
    "\n",
    "print(num_att)"
   ]
  },
  {
   "cell_type": "code",
   "execution_count": 5,
   "metadata": {},
   "outputs": [
    {
     "name": "stdout",
     "output_type": "stream",
     "text": [
      "<class 'pandas.core.frame.DataFrame'>\n",
      "RangeIndex: 1460 entries, 0 to 1459\n",
      "Data columns (total 81 columns):\n",
      "Id               1460 non-null int64\n",
      "MSSubClass       1460 non-null int64\n",
      "MSZoning         1460 non-null object\n",
      "LotFrontage      1201 non-null float64\n",
      "LotArea          1460 non-null int64\n",
      "Street           1460 non-null object\n",
      "Alley            91 non-null object\n",
      "LotShape         1460 non-null object\n",
      "LandContour      1460 non-null object\n",
      "Utilities        1460 non-null object\n",
      "LotConfig        1460 non-null object\n",
      "LandSlope        1460 non-null object\n",
      "Neighborhood     1460 non-null object\n",
      "Condition1       1460 non-null object\n",
      "Condition2       1460 non-null object\n",
      "BldgType         1460 non-null object\n",
      "HouseStyle       1460 non-null object\n",
      "OverallQual      1460 non-null int64\n",
      "OverallCond      1460 non-null int64\n",
      "YearBuilt        1460 non-null int64\n",
      "YearRemodAdd     1460 non-null int64\n",
      "RoofStyle        1460 non-null object\n",
      "RoofMatl         1460 non-null object\n",
      "Exterior1st      1460 non-null object\n",
      "Exterior2nd      1460 non-null object\n",
      "MasVnrType       1452 non-null object\n",
      "MasVnrArea       1452 non-null float64\n",
      "ExterQual        1460 non-null object\n",
      "ExterCond        1460 non-null object\n",
      "Foundation       1460 non-null object\n",
      "BsmtQual         1423 non-null object\n",
      "BsmtCond         1423 non-null object\n",
      "BsmtExposure     1422 non-null object\n",
      "BsmtFinType1     1423 non-null object\n",
      "BsmtFinSF1       1460 non-null int64\n",
      "BsmtFinType2     1422 non-null object\n",
      "BsmtFinSF2       1460 non-null int64\n",
      "BsmtUnfSF        1460 non-null int64\n",
      "TotalBsmtSF      1460 non-null int64\n",
      "Heating          1460 non-null object\n",
      "HeatingQC        1460 non-null object\n",
      "CentralAir       1460 non-null object\n",
      "Electrical       1459 non-null object\n",
      "1stFlrSF         1460 non-null int64\n",
      "2ndFlrSF         1460 non-null int64\n",
      "LowQualFinSF     1460 non-null int64\n",
      "GrLivArea        1460 non-null int64\n",
      "BsmtFullBath     1460 non-null int64\n",
      "BsmtHalfBath     1460 non-null int64\n",
      "FullBath         1460 non-null int64\n",
      "HalfBath         1460 non-null int64\n",
      "BedroomAbvGr     1460 non-null int64\n",
      "KitchenAbvGr     1460 non-null int64\n",
      "KitchenQual      1460 non-null object\n",
      "TotRmsAbvGrd     1460 non-null int64\n",
      "Functional       1460 non-null object\n",
      "Fireplaces       1460 non-null int64\n",
      "FireplaceQu      770 non-null object\n",
      "GarageType       1379 non-null object\n",
      "GarageYrBlt      1379 non-null float64\n",
      "GarageFinish     1379 non-null object\n",
      "GarageCars       1460 non-null int64\n",
      "GarageArea       1460 non-null int64\n",
      "GarageQual       1379 non-null object\n",
      "GarageCond       1379 non-null object\n",
      "PavedDrive       1460 non-null object\n",
      "WoodDeckSF       1460 non-null int64\n",
      "OpenPorchSF      1460 non-null int64\n",
      "EnclosedPorch    1460 non-null int64\n",
      "3SsnPorch        1460 non-null int64\n",
      "ScreenPorch      1460 non-null int64\n",
      "PoolArea         1460 non-null int64\n",
      "PoolQC           7 non-null object\n",
      "Fence            281 non-null object\n",
      "MiscFeature      54 non-null object\n",
      "MiscVal          1460 non-null int64\n",
      "MoSold           1460 non-null int64\n",
      "YrSold           1460 non-null int64\n",
      "SaleType         1460 non-null object\n",
      "SaleCondition    1460 non-null object\n",
      "SalePrice        1460 non-null int64\n",
      "dtypes: float64(3), int64(35), object(43)\n",
      "memory usage: 924.0+ KB\n",
      "<class 'pandas.core.frame.DataFrame'>\n",
      "RangeIndex: 1459 entries, 0 to 1458\n",
      "Data columns (total 80 columns):\n",
      "Id               1459 non-null int64\n",
      "MSSubClass       1459 non-null int64\n",
      "MSZoning         1455 non-null object\n",
      "LotFrontage      1232 non-null float64\n",
      "LotArea          1459 non-null int64\n",
      "Street           1459 non-null object\n",
      "Alley            107 non-null object\n",
      "LotShape         1459 non-null object\n",
      "LandContour      1459 non-null object\n",
      "Utilities        1457 non-null object\n",
      "LotConfig        1459 non-null object\n",
      "LandSlope        1459 non-null object\n",
      "Neighborhood     1459 non-null object\n",
      "Condition1       1459 non-null object\n",
      "Condition2       1459 non-null object\n",
      "BldgType         1459 non-null object\n",
      "HouseStyle       1459 non-null object\n",
      "OverallQual      1459 non-null int64\n",
      "OverallCond      1459 non-null int64\n",
      "YearBuilt        1459 non-null int64\n",
      "YearRemodAdd     1459 non-null int64\n",
      "RoofStyle        1459 non-null object\n",
      "RoofMatl         1459 non-null object\n",
      "Exterior1st      1458 non-null object\n",
      "Exterior2nd      1458 non-null object\n",
      "MasVnrType       1443 non-null object\n",
      "MasVnrArea       1444 non-null float64\n",
      "ExterQual        1459 non-null object\n",
      "ExterCond        1459 non-null object\n",
      "Foundation       1459 non-null object\n",
      "BsmtQual         1415 non-null object\n",
      "BsmtCond         1414 non-null object\n",
      "BsmtExposure     1415 non-null object\n",
      "BsmtFinType1     1417 non-null object\n",
      "BsmtFinSF1       1458 non-null float64\n",
      "BsmtFinType2     1417 non-null object\n",
      "BsmtFinSF2       1458 non-null float64\n",
      "BsmtUnfSF        1458 non-null float64\n",
      "TotalBsmtSF      1458 non-null float64\n",
      "Heating          1459 non-null object\n",
      "HeatingQC        1459 non-null object\n",
      "CentralAir       1459 non-null object\n",
      "Electrical       1459 non-null object\n",
      "1stFlrSF         1459 non-null int64\n",
      "2ndFlrSF         1459 non-null int64\n",
      "LowQualFinSF     1459 non-null int64\n",
      "GrLivArea        1459 non-null int64\n",
      "BsmtFullBath     1457 non-null float64\n",
      "BsmtHalfBath     1457 non-null float64\n",
      "FullBath         1459 non-null int64\n",
      "HalfBath         1459 non-null int64\n",
      "BedroomAbvGr     1459 non-null int64\n",
      "KitchenAbvGr     1459 non-null int64\n",
      "KitchenQual      1458 non-null object\n",
      "TotRmsAbvGrd     1459 non-null int64\n",
      "Functional       1457 non-null object\n",
      "Fireplaces       1459 non-null int64\n",
      "FireplaceQu      729 non-null object\n",
      "GarageType       1383 non-null object\n",
      "GarageYrBlt      1381 non-null float64\n",
      "GarageFinish     1381 non-null object\n",
      "GarageCars       1458 non-null float64\n",
      "GarageArea       1458 non-null float64\n",
      "GarageQual       1381 non-null object\n",
      "GarageCond       1381 non-null object\n",
      "PavedDrive       1459 non-null object\n",
      "WoodDeckSF       1459 non-null int64\n",
      "OpenPorchSF      1459 non-null int64\n",
      "EnclosedPorch    1459 non-null int64\n",
      "3SsnPorch        1459 non-null int64\n",
      "ScreenPorch      1459 non-null int64\n",
      "PoolArea         1459 non-null int64\n",
      "PoolQC           3 non-null object\n",
      "Fence            290 non-null object\n",
      "MiscFeature      51 non-null object\n",
      "MiscVal          1459 non-null int64\n",
      "MoSold           1459 non-null int64\n",
      "YrSold           1459 non-null int64\n",
      "SaleType         1458 non-null object\n",
      "SaleCondition    1459 non-null object\n",
      "dtypes: float64(11), int64(26), object(43)\n",
      "memory usage: 912.0+ KB\n"
     ]
    }
   ],
   "source": [
    "train.info()\n",
    "# train.select_dtypes(include=['object'])\n",
    "test.info()"
   ]
  },
  {
   "cell_type": "code",
   "execution_count": 6,
   "metadata": {},
   "outputs": [
    {
     "name": "stdout",
     "output_type": "stream",
     "text": [
      "['Neighborhood', 'BldgType', 'Heating', 'HeatingQC', 'CentralAir', 'Street', 'LotShape', 'LandContour', 'LotConfig', 'LandSlope', 'Condition1', 'HouseStyle', 'RoofStyle', 'ExterQual', 'ExterCond', 'Foundation', 'PavedDrive', 'SaleCondition']\n"
     ]
    }
   ],
   "source": [
    "cat_att = ['BldgType', 'CentralAir', 'Foundation', \n",
    "           'PavedDrive', 'SaleCondition']\n",
    "cat_att = ['Neighborhood', 'BldgType', 'Heating', 'HeatingQC', 'CentralAir', \n",
    "           'Street', 'LotShape', 'LandContour', 'LotConfig',\n",
    "           'LandSlope', 'Condition1', 'HouseStyle', 'RoofStyle', \n",
    "           'ExterQual', 'ExterCond', 'Foundation', 'PavedDrive', 'SaleCondition']\n",
    "\n",
    "# TO ADD = Exterior1st, KitchenQual, Functional, SaleType\n",
    "\n",
    "# cat_att = ['Neighborhood', 'BldgType']\n",
    "print(cat_att)"
   ]
  },
  {
   "cell_type": "code",
   "execution_count": 7,
   "metadata": {},
   "outputs": [],
   "source": [
    "for a in num_att:\n",
    "    median = train[a].median()\n",
    "    train[a].fillna(median, inplace=True)\n",
    "    \n",
    "#     median = test[a].median()\n",
    "    test[a].fillna(median, inplace=True)"
   ]
  },
  {
   "cell_type": "code",
   "execution_count": 8,
   "metadata": {},
   "outputs": [
    {
     "name": "stdout",
     "output_type": "stream",
     "text": [
      "<class 'pandas.core.frame.DataFrame'>\n",
      "RangeIndex: 1460 entries, 0 to 1459\n",
      "Data columns (total 28 columns):\n",
      "MSSubClass       1460 non-null int64\n",
      "LotFrontage      1460 non-null float64\n",
      "LotArea          1460 non-null int64\n",
      "OverallQual      1460 non-null int64\n",
      "OverallCond      1460 non-null int64\n",
      "YearBuilt        1460 non-null int64\n",
      "YearRemodAdd     1460 non-null int64\n",
      "MasVnrArea       1460 non-null float64\n",
      "BsmtFinSF1       1460 non-null int64\n",
      "BsmtUnfSF        1460 non-null int64\n",
      "TotalBsmtSF      1460 non-null int64\n",
      "1stFlrSF         1460 non-null int64\n",
      "2ndFlrSF         1460 non-null int64\n",
      "GrLivArea        1460 non-null int64\n",
      "BsmtFullBath     1460 non-null int64\n",
      "FullBath         1460 non-null int64\n",
      "HalfBath         1460 non-null int64\n",
      "BedroomAbvGr     1460 non-null int64\n",
      "KitchenAbvGr     1460 non-null int64\n",
      "TotRmsAbvGrd     1460 non-null int64\n",
      "Fireplaces       1460 non-null int64\n",
      "GarageYrBlt      1460 non-null float64\n",
      "GarageCars       1460 non-null int64\n",
      "GarageArea       1460 non-null int64\n",
      "WoodDeckSF       1460 non-null int64\n",
      "OpenPorchSF      1460 non-null int64\n",
      "EnclosedPorch    1460 non-null int64\n",
      "YrSold           1460 non-null int64\n",
      "dtypes: float64(3), int64(25)\n",
      "memory usage: 319.5 KB\n",
      "<class 'pandas.core.frame.DataFrame'>\n",
      "RangeIndex: 1459 entries, 0 to 1458\n",
      "Data columns (total 28 columns):\n",
      "MSSubClass       1459 non-null int64\n",
      "LotFrontage      1459 non-null float64\n",
      "LotArea          1459 non-null int64\n",
      "OverallQual      1459 non-null int64\n",
      "OverallCond      1459 non-null int64\n",
      "YearBuilt        1459 non-null int64\n",
      "YearRemodAdd     1459 non-null int64\n",
      "MasVnrArea       1459 non-null float64\n",
      "BsmtFinSF1       1459 non-null float64\n",
      "BsmtUnfSF        1459 non-null float64\n",
      "TotalBsmtSF      1459 non-null float64\n",
      "1stFlrSF         1459 non-null int64\n",
      "2ndFlrSF         1459 non-null int64\n",
      "GrLivArea        1459 non-null int64\n",
      "BsmtFullBath     1459 non-null float64\n",
      "FullBath         1459 non-null int64\n",
      "HalfBath         1459 non-null int64\n",
      "BedroomAbvGr     1459 non-null int64\n",
      "KitchenAbvGr     1459 non-null int64\n",
      "TotRmsAbvGrd     1459 non-null int64\n",
      "Fireplaces       1459 non-null int64\n",
      "GarageYrBlt      1459 non-null float64\n",
      "GarageCars       1459 non-null float64\n",
      "GarageArea       1459 non-null float64\n",
      "WoodDeckSF       1459 non-null int64\n",
      "OpenPorchSF      1459 non-null int64\n",
      "EnclosedPorch    1459 non-null int64\n",
      "YrSold           1459 non-null int64\n",
      "dtypes: float64(9), int64(19)\n",
      "memory usage: 319.3 KB\n"
     ]
    }
   ],
   "source": [
    "train[num_att].info()\n",
    "test[num_att].info()"
   ]
  },
  {
   "cell_type": "code",
   "execution_count": 9,
   "metadata": {},
   "outputs": [
    {
     "name": "stdout",
     "output_type": "stream",
     "text": [
      "<class 'pandas.core.frame.DataFrame'>\n",
      "RangeIndex: 1460 entries, 0 to 1459\n",
      "Data columns (total 18 columns):\n",
      "Neighborhood     1460 non-null object\n",
      "BldgType         1460 non-null object\n",
      "Heating          1460 non-null object\n",
      "HeatingQC        1460 non-null object\n",
      "CentralAir       1460 non-null object\n",
      "Street           1460 non-null object\n",
      "LotShape         1460 non-null object\n",
      "LandContour      1460 non-null object\n",
      "LotConfig        1460 non-null object\n",
      "LandSlope        1460 non-null object\n",
      "Condition1       1460 non-null object\n",
      "HouseStyle       1460 non-null object\n",
      "RoofStyle        1460 non-null object\n",
      "ExterQual        1460 non-null object\n",
      "ExterCond        1460 non-null object\n",
      "Foundation       1460 non-null object\n",
      "PavedDrive       1460 non-null object\n",
      "SaleCondition    1460 non-null object\n",
      "dtypes: object(18)\n",
      "memory usage: 205.4+ KB\n",
      "<class 'pandas.core.frame.DataFrame'>\n",
      "RangeIndex: 1459 entries, 0 to 1458\n",
      "Data columns (total 18 columns):\n",
      "Neighborhood     1459 non-null object\n",
      "BldgType         1459 non-null object\n",
      "Heating          1459 non-null object\n",
      "HeatingQC        1459 non-null object\n",
      "CentralAir       1459 non-null object\n",
      "Street           1459 non-null object\n",
      "LotShape         1459 non-null object\n",
      "LandContour      1459 non-null object\n",
      "LotConfig        1459 non-null object\n",
      "LandSlope        1459 non-null object\n",
      "Condition1       1459 non-null object\n",
      "HouseStyle       1459 non-null object\n",
      "RoofStyle        1459 non-null object\n",
      "ExterQual        1459 non-null object\n",
      "ExterCond        1459 non-null object\n",
      "Foundation       1459 non-null object\n",
      "PavedDrive       1459 non-null object\n",
      "SaleCondition    1459 non-null object\n",
      "dtypes: object(18)\n",
      "memory usage: 205.3+ KB\n"
     ]
    }
   ],
   "source": [
    "train[cat_att].info()\n",
    "test[cat_att].info()"
   ]
  },
  {
   "cell_type": "code",
   "execution_count": 10,
   "metadata": {},
   "outputs": [],
   "source": [
    "import seaborn as sns\n",
    "from scipy.stats import norm\n",
    "from scipy import stats\n",
    "train['SalePrice'] = np.log(train['SalePrice'])\n"
   ]
  },
  {
   "cell_type": "code",
   "execution_count": 11,
   "metadata": {},
   "outputs": [
    {
     "data": {
      "image/png": "[encoded data removed]",
      "text/plain": [
       "<Figure size 432x288 with 1 Axes>"
      ]
     },
     "metadata": {
      "needs_background": "light"
     },
     "output_type": "display_data"
    },
    {
     "data": {
      "image/png": "[encoded data removed]",
      "text/plain": [
       "<Figure size 432x288 with 1 Axes>"
      ]
     },
     "metadata": {
      "needs_background": "light"
     },
     "output_type": "display_data"
    }
   ],
   "source": [
    "\n",
    "sns.distplot(train['SalePrice'], fit=norm);\n",
    "fig = plt.figure()\n",
    "res = stats.probplot(train['SalePrice'], plot=plt)\n",
    "\n"
   ]
  },
  {
   "cell_type": "code",
   "execution_count": 12,
   "metadata": {},
   "outputs": [],
   "source": [
    "train_y = train[\"SalePrice\"].copy()"
   ]
  },
  {
   "cell_type": "code",
   "execution_count": 13,
   "metadata": {},
   "outputs": [
    {
     "data": {
      "image/png": "[encoded data removed]",
      "text/plain": [
       "<Figure size 432x288 with 1 Axes>"
      ]
     },
     "metadata": {
      "needs_background": "light"
     },
     "output_type": "display_data"
    },
    {
     "data": {
      "image/png": "[encoded data removed]",
      "text/plain": [
       "<Figure size 432x288 with 1 Axes>"
      ]
     },
     "metadata": {
      "needs_background": "light"
     },
     "output_type": "display_data"
    }
   ],
   "source": [
    "train['GrLivArea'] = np.log(train['GrLivArea'])\n",
    "\n",
    "sns.distplot(train['GrLivArea'], fit=norm);\n",
    "fig = plt.figure()\n",
    "res = stats.probplot(train['GrLivArea'], plot=plt)"
   ]
  },
  {
   "cell_type": "code",
   "execution_count": 14,
   "metadata": {},
   "outputs": [
    {
     "data": {
      "image/png": "[encoded data removed]",
      "text/plain": [
       "<Figure size 432x288 with 1 Axes>"
      ]
     },
     "metadata": {
      "needs_background": "light"
     },
     "output_type": "display_data"
    },
    {
     "data": {
      "image/png": "[encoded data removed]",
      "text/plain": [
       "<Figure size 432x288 with 1 Axes>"
      ]
     },
     "metadata": {
      "needs_background": "light"
     },
     "output_type": "display_data"
    }
   ],
   "source": [
    "test['GrLivArea'] = np.log(test['GrLivArea'])\n",
    "\n",
    "sns.distplot(test['GrLivArea'], fit=norm);\n",
    "fig = plt.figure()\n",
    "res = stats.probplot(test['GrLivArea'], plot=plt)"
   ]
  },
  {
   "cell_type": "code",
   "execution_count": 15,
   "metadata": {},
   "outputs": [
    {
     "name": "stderr",
     "output_type": "stream",
     "text": [
      "/home/marek/anaconda3/lib/python3.7/site-packages/pandas/core/series.py:853: RuntimeWarning: divide by zero encountered in log\n",
      "  result = getattr(ufunc, method)(*inputs, **kwargs)\n"
     ]
    },
    {
     "data": {
      "image/png": "[encoded data removed]",
      "text/plain": [
       "<Figure size 432x288 with 1 Axes>"
      ]
     },
     "metadata": {
      "needs_background": "light"
     },
     "output_type": "display_data"
    },
    {
     "data": {
      "image/png": "[encoded data removed]",
      "text/plain": [
       "<Figure size 432x288 with 1 Axes>"
      ]
     },
     "metadata": {
      "needs_background": "light"
     },
     "output_type": "display_data"
    }
   ],
   "source": [
    "train['HasBsmt'] = pd.Series(len(train['TotalBsmtSF']), index=train.index)\n",
    "train['HasBsmt'] = 0 \n",
    "train.loc[train['TotalBsmtSF']>0,'HasBsmt'] = 1\n",
    "train.loc[train['HasBsmt']==1,'TotalBsmtSF'] = np.log(train['TotalBsmtSF'])\n",
    "sns.distplot(train['TotalBsmtSF'], fit=norm);\n",
    "fig = plt.figure()\n",
    "res = stats.probplot(train['TotalBsmtSF'], plot=plt)"
   ]
  },
  {
   "cell_type": "code",
   "execution_count": 16,
   "metadata": {},
   "outputs": [
    {
     "data": {
      "image/png": "[encoded data removed]",
      "text/plain": [
       "<Figure size 432x288 with 1 Axes>"
      ]
     },
     "metadata": {
      "needs_background": "light"
     },
     "output_type": "display_data"
    },
    {
     "data": {
      "image/png": "[encoded data removed]",
      "text/plain": [
       "<Figure size 432x288 with 1 Axes>"
      ]
     },
     "metadata": {
      "needs_background": "light"
     },
     "output_type": "display_data"
    }
   ],
   "source": [
    "sns.distplot(train[train['TotalBsmtSF']>0]['TotalBsmtSF'], fit=norm);\n",
    "fig = plt.figure()\n",
    "res = stats.probplot(train[train['TotalBsmtSF']>0]['TotalBsmtSF'], plot=plt)"
   ]
  },
  {
   "cell_type": "code",
   "execution_count": 17,
   "metadata": {},
   "outputs": [
    {
     "data": {
      "image/png": "[encoded data removed]",
      "text/plain": [
       "<Figure size 432x288 with 1 Axes>"
      ]
     },
     "metadata": {
      "needs_background": "light"
     },
     "output_type": "display_data"
    },
    {
     "data": {
      "image/png": "[encoded data removed]",
      "text/plain": [
       "<Figure size 432x288 with 1 Axes>"
      ]
     },
     "metadata": {
      "needs_background": "light"
     },
     "output_type": "display_data"
    }
   ],
   "source": [
    "test['HasBsmt'] = pd.Series(len(test['TotalBsmtSF']), index=test.index)\n",
    "test['HasBsmt'] = 0 \n",
    "test.loc[test['TotalBsmtSF']>0,'HasBsmt'] = 1\n",
    "test.loc[test['HasBsmt']==1,'TotalBsmtSF'] = np.log(test['TotalBsmtSF'])\n",
    "sns.distplot(test['TotalBsmtSF'], fit=norm);\n",
    "fig = plt.figure()\n",
    "res = stats.probplot(test['TotalBsmtSF'], plot=plt)"
   ]
  },
  {
   "cell_type": "code",
   "execution_count": 18,
   "metadata": {},
   "outputs": [
    {
     "data": {
      "image/png": "[encoded data removed]",
      "text/plain": [
       "<Figure size 432x288 with 1 Axes>"
      ]
     },
     "metadata": {
      "needs_background": "light"
     },
     "output_type": "display_data"
    },
    {
     "data": {
      "image/png": "[encoded data removed]",
      "text/plain": [
       "<Figure size 432x288 with 1 Axes>"
      ]
     },
     "metadata": {
      "needs_background": "light"
     },
     "output_type": "display_data"
    }
   ],
   "source": [
    "sns.distplot(test[test['TotalBsmtSF']>0]['TotalBsmtSF'], fit=norm);\n",
    "fig = plt.figure()\n",
    "res = stats.probplot(test[test['TotalBsmtSF']>0]['TotalBsmtSF'], plot=plt)"
   ]
  },
  {
   "cell_type": "code",
   "execution_count": 23,
   "metadata": {},
   "outputs": [],
   "source": [
    "num_att.append('HasBsmt')"
   ]
  },
  {
   "cell_type": "code",
   "execution_count": 24,
   "metadata": {},
   "outputs": [
    {
     "data": {
      "text/plain": [
       "SalePrice        1.000000\n",
       "OverallQual      0.817184\n",
       "GrLivArea        0.730255\n",
       "GarageCars       0.680625\n",
       "GarageArea       0.650888\n",
       "1stFlrSF         0.596981\n",
       "FullBath         0.594771\n",
       "YearBuilt        0.586570\n",
       "YearRemodAdd     0.565608\n",
       "TotRmsAbvGrd     0.534422\n",
       "GarageYrBlt      0.495794\n",
       "Fireplaces       0.489449\n",
       "MasVnrArea       0.426775\n",
       "TotalBsmtSF      0.373009\n",
       "BsmtFinSF1       0.372023\n",
       "LotFrontage      0.335292\n",
       "WoodDeckSF       0.334135\n",
       "OpenPorchSF      0.321053\n",
       "2ndFlrSF         0.319300\n",
       "HalfBath         0.313982\n",
       "LotArea          0.257320\n",
       "BsmtFullBath     0.236224\n",
       "BsmtUnfSF        0.221985\n",
       "BedroomAbvGr     0.209044\n",
       "HasBsmt          0.199634\n",
       "ScreenPorch      0.121208\n",
       "PoolArea         0.069798\n",
       "MoSold           0.057329\n",
       "3SsnPorch        0.054900\n",
       "BsmtFinSF2       0.004832\n",
       "BsmtHalfBath    -0.005149\n",
       "Id              -0.017942\n",
       "MiscVal         -0.020021\n",
       "OverallCond     -0.036868\n",
       "YrSold          -0.037263\n",
       "LowQualFinSF    -0.037963\n",
       "MSSubClass      -0.073959\n",
       "KitchenAbvGr    -0.147548\n",
       "EnclosedPorch   -0.149050\n",
       "Name: SalePrice, dtype: float64"
      ]
     },
     "execution_count": 24,
     "metadata": {},
     "output_type": "execute_result"
    }
   ],
   "source": [
    "corr_matrix = train.corr()\n",
    "corr_matrix[\"SalePrice\"].sort_values(ascending=False)"
   ]
  },
  {
   "cell_type": "code",
   "execution_count": 49,
   "metadata": {},
   "outputs": [
    {
     "name": "stdout",
     "output_type": "stream",
     "text": [
      "<class 'pandas.core.frame.DataFrame'>\n",
      "RangeIndex: 1460 entries, 0 to 1459\n",
      "Data columns (total 46 columns):\n",
      "MSSubClass       1460 non-null int64\n",
      "LotFrontage      1460 non-null float64\n",
      "LotArea          1460 non-null int64\n",
      "OverallQual      1460 non-null int64\n",
      "OverallCond      1460 non-null int64\n",
      "YearBuilt        1460 non-null int64\n",
      "YearRemodAdd     1460 non-null int64\n",
      "MasVnrArea       1460 non-null float64\n",
      "BsmtFinSF1       1460 non-null int64\n",
      "BsmtUnfSF        1460 non-null int64\n",
      "TotalBsmtSF      1460 non-null float64\n",
      "1stFlrSF         1460 non-null int64\n",
      "2ndFlrSF         1460 non-null int64\n",
      "GrLivArea        1460 non-null float64\n",
      "BsmtFullBath     1460 non-null int64\n",
      "FullBath         1460 non-null int64\n",
      "HalfBath         1460 non-null int64\n",
      "BedroomAbvGr     1460 non-null int64\n",
      "KitchenAbvGr     1460 non-null int64\n",
      "TotRmsAbvGrd     1460 non-null int64\n",
      "Fireplaces       1460 non-null int64\n",
      "GarageYrBlt      1460 non-null float64\n",
      "GarageCars       1460 non-null int64\n",
      "GarageArea       1460 non-null int64\n",
      "WoodDeckSF       1460 non-null int64\n",
      "OpenPorchSF      1460 non-null int64\n",
      "EnclosedPorch    1460 non-null int64\n",
      "YrSold           1460 non-null int64\n",
      "Neighborhood     1460 non-null object\n",
      "BldgType         1460 non-null object\n",
      "Heating          1460 non-null object\n",
      "HeatingQC        1460 non-null object\n",
      "CentralAir       1460 non-null object\n",
      "Street           1460 non-null object\n",
      "LotShape         1460 non-null object\n",
      "LandContour      1460 non-null object\n",
      "LotConfig        1460 non-null object\n",
      "LandSlope        1460 non-null object\n",
      "Condition1       1460 non-null object\n",
      "HouseStyle       1460 non-null object\n",
      "RoofStyle        1460 non-null object\n",
      "ExterQual        1460 non-null object\n",
      "ExterCond        1460 non-null object\n",
      "Foundation       1460 non-null object\n",
      "PavedDrive       1460 non-null object\n",
      "SaleCondition    1460 non-null object\n",
      "dtypes: float64(5), int64(23), object(18)\n",
      "memory usage: 524.8+ KB\n",
      "<class 'pandas.core.frame.DataFrame'>\n",
      "RangeIndex: 1459 entries, 0 to 1458\n",
      "Data columns (total 46 columns):\n",
      "MSSubClass       1459 non-null int64\n",
      "LotFrontage      1459 non-null float64\n",
      "LotArea          1459 non-null int64\n",
      "OverallQual      1459 non-null int64\n",
      "OverallCond      1459 non-null int64\n",
      "YearBuilt        1459 non-null int64\n",
      "YearRemodAdd     1459 non-null int64\n",
      "MasVnrArea       1459 non-null float64\n",
      "BsmtFinSF1       1459 non-null float64\n",
      "BsmtUnfSF        1459 non-null float64\n",
      "TotalBsmtSF      1459 non-null float64\n",
      "1stFlrSF         1459 non-null int64\n",
      "2ndFlrSF         1459 non-null int64\n",
      "GrLivArea        1459 non-null float64\n",
      "BsmtFullBath     1459 non-null float64\n",
      "FullBath         1459 non-null int64\n",
      "HalfBath         1459 non-null int64\n",
      "BedroomAbvGr     1459 non-null int64\n",
      "KitchenAbvGr     1459 non-null int64\n",
      "TotRmsAbvGrd     1459 non-null int64\n",
      "Fireplaces       1459 non-null int64\n",
      "GarageYrBlt      1459 non-null float64\n",
      "GarageCars       1459 non-null float64\n",
      "GarageArea       1459 non-null float64\n",
      "WoodDeckSF       1459 non-null int64\n",
      "OpenPorchSF      1459 non-null int64\n",
      "EnclosedPorch    1459 non-null int64\n",
      "YrSold           1459 non-null int64\n",
      "Neighborhood     1459 non-null object\n",
      "BldgType         1459 non-null object\n",
      "Heating          1459 non-null object\n",
      "HeatingQC        1459 non-null object\n",
      "CentralAir       1459 non-null object\n",
      "Street           1459 non-null object\n",
      "LotShape         1459 non-null object\n",
      "LandContour      1459 non-null object\n",
      "LotConfig        1459 non-null object\n",
      "LandSlope        1459 non-null object\n",
      "Condition1       1459 non-null object\n",
      "HouseStyle       1459 non-null object\n",
      "RoofStyle        1459 non-null object\n",
      "ExterQual        1459 non-null object\n",
      "ExterCond        1459 non-null object\n",
      "Foundation       1459 non-null object\n",
      "PavedDrive       1459 non-null object\n",
      "SaleCondition    1459 non-null object\n",
      "dtypes: float64(10), int64(18), object(18)\n",
      "memory usage: 524.5+ KB\n",
      "<class 'pandas.core.frame.DataFrame'>\n",
      "Int64Index: 2919 entries, 0 to 1458\n",
      "Data columns (total 46 columns):\n",
      "MSSubClass       2919 non-null int64\n",
      "LotFrontage      2919 non-null float64\n",
      "LotArea          2919 non-null int64\n",
      "OverallQual      2919 non-null int64\n",
      "OverallCond      2919 non-null int64\n",
      "YearBuilt        2919 non-null int64\n",
      "YearRemodAdd     2919 non-null int64\n",
      "MasVnrArea       2919 non-null float64\n",
      "BsmtFinSF1       2919 non-null float64\n",
      "BsmtUnfSF        2919 non-null float64\n",
      "TotalBsmtSF      2919 non-null float64\n",
      "1stFlrSF         2919 non-null int64\n",
      "2ndFlrSF         2919 non-null int64\n",
      "GrLivArea        2919 non-null float64\n",
      "BsmtFullBath     2919 non-null float64\n",
      "FullBath         2919 non-null int64\n",
      "HalfBath         2919 non-null int64\n",
      "BedroomAbvGr     2919 non-null int64\n",
      "KitchenAbvGr     2919 non-null int64\n",
      "TotRmsAbvGrd     2919 non-null int64\n",
      "Fireplaces       2919 non-null int64\n",
      "GarageYrBlt      2919 non-null float64\n",
      "GarageCars       2919 non-null float64\n",
      "GarageArea       2919 non-null float64\n",
      "WoodDeckSF       2919 non-null int64\n",
      "OpenPorchSF      2919 non-null int64\n",
      "EnclosedPorch    2919 non-null int64\n",
      "YrSold           2919 non-null int64\n",
      "Neighborhood     2919 non-null object\n",
      "BldgType         2919 non-null object\n",
      "Heating          2919 non-null object\n",
      "HeatingQC        2919 non-null object\n",
      "CentralAir       2919 non-null object\n",
      "Street           2919 non-null object\n",
      "LotShape         2919 non-null object\n",
      "LandContour      2919 non-null object\n",
      "LotConfig        2919 non-null object\n",
      "LandSlope        2919 non-null object\n",
      "Condition1       2919 non-null object\n",
      "HouseStyle       2919 non-null object\n",
      "RoofStyle        2919 non-null object\n",
      "ExterQual        2919 non-null object\n",
      "ExterCond        2919 non-null object\n",
      "Foundation       2919 non-null object\n",
      "PavedDrive       2919 non-null object\n",
      "SaleCondition    2919 non-null object\n",
      "dtypes: float64(10), int64(18), object(18)\n",
      "memory usage: 1.0+ MB\n"
     ]
    }
   ],
   "source": [
    "train2 = train[num_att + cat_att]\n",
    "train2.info()\n",
    "test2 = test[num_att + cat_att]\n",
    "test2.info()\n",
    "\n",
    "merged_df = pd.concat([train2, test2])\n",
    "merged_df.info()"
   ]
  },
  {
   "cell_type": "code",
   "execution_count": 50,
   "metadata": {},
   "outputs": [],
   "source": [
    "from sklearn.pipeline import Pipeline\n",
    "from sklearn.preprocessing import StandardScaler\n",
    "from sklearn.impute import SimpleImputer\n",
    "from sklearn.compose import ColumnTransformer\n",
    "from sklearn.preprocessing import OneHotEncoder\n",
    "\n",
    "num_pipeline = Pipeline([\n",
    "        ('imputer', SimpleImputer(strategy=\"median\")),\n",
    "        ('std_scaler', StandardScaler()),\n",
    "    ])\n",
    "train_prepared = num_pipeline.fit_transform(train[num_att])\n",
    "test_prepared  = num_pipeline.transform(test[num_att])\n",
    "\n",
    "\n",
    "full_pipeline = ColumnTransformer([\n",
    "        (\"num\", num_pipeline, num_att),\n",
    "        (\"cat\", OneHotEncoder(), cat_att),\n",
    "    ])\n",
    "\n",
    "train_test_full_prepared = full_pipeline.fit_transform(merged_df)\n",
    "train_full_prepared = full_pipeline.transform(train2)\n",
    "test_full_prepared = full_pipeline.transform(test2)\n"
   ]
  },
  {
   "cell_type": "code",
   "execution_count": 51,
   "metadata": {},
   "outputs": [
    {
     "name": "stdout",
     "output_type": "stream",
     "text": [
      "(1460, 28)\n",
      "(1459, 28)\n",
      "(1460, 136)\n",
      "(1459, 136)\n"
     ]
    }
   ],
   "source": [
    "print(train_prepared.shape)\n",
    "print(test_prepared.shape)\n",
    "print(train_full_prepared.shape)\n",
    "print(test_full_prepared.shape)"
   ]
  },
  {
   "cell_type": "code",
   "execution_count": 52,
   "metadata": {},
   "outputs": [
    {
     "data": {
      "text/plain": [
       "0.0014825298270745948"
      ]
     },
     "execution_count": 52,
     "metadata": {},
     "output_type": "execute_result"
    }
   ],
   "source": [
    "from sklearn.metrics import mean_squared_error\n",
    "from sklearn.ensemble import RandomForestRegressor\n",
    "\n",
    "forest_reg = RandomForestRegressor(bootstrap=False, n_estimators=300, max_features=32, random_state=42)\n",
    "forest_reg.fit(train_full_prepared, train_y)\n",
    "\n",
    "housing_predictions = forest_reg.predict(train_full_prepared)\n",
    "\n",
    "forest_mse = mean_squared_error(train_y, housing_predictions)\n",
    "forest_rmse = np.sqrt(forest_mse)\n",
    "forest_rmse"
   ]
  },
  {
   "cell_type": "code",
   "execution_count": 29,
   "metadata": {},
   "outputs": [
    {
     "name": "stdout",
     "output_type": "stream",
     "text": [
      "12.247694320220953\n",
      "12.247694320220994\n"
     ]
    }
   ],
   "source": [
    "print(housing_predictions[0])\n",
    "print(train_y[0])"
   ]
  },
  {
   "cell_type": "code",
   "execution_count": 53,
   "metadata": {},
   "outputs": [
    {
     "data": {
      "text/plain": [
       "207.04722022536933"
      ]
     },
     "execution_count": 53,
     "metadata": {},
     "output_type": "execute_result"
    }
   ],
   "source": [
    "train_y_normal = np.e**train_y\n",
    "pred_normal = np.e**housing_predictions\n",
    "\n",
    "forest_mse = mean_squared_error(train_y_normal, pred_normal)\n",
    "forest_rmse = np.sqrt(forest_mse)\n",
    "forest_rmse"
   ]
  },
  {
   "cell_type": "code",
   "execution_count": 31,
   "metadata": {},
   "outputs": [
    {
     "name": "stdout",
     "output_type": "stream",
     "text": [
      "208500.0\n",
      "208499.99999999147\n"
     ]
    }
   ],
   "source": [
    "print(train_y_normal[0])\n",
    "print(pred_normal[0])"
   ]
  },
  {
   "cell_type": "code",
   "execution_count": 54,
   "metadata": {
    "scrolled": false
   },
   "outputs": [
    {
     "data": {
      "text/plain": [
       "[(0.19372876339870584, 'OverallQual'),\n",
       " (0.14339495163410473, 'GrLivArea'),\n",
       " (0.08230527622949535, 'YearBuilt'),\n",
       " (0.05814297560163124, 'GarageCars'),\n",
       " (0.04855508636354472, 'TotalBsmtSF'),\n",
       " (0.048274673812116094, 'TA'),\n",
       " (0.04401211435432353, '1stFlrSF'),\n",
       " (0.04246609033481154, 'GarageArea'),\n",
       " (0.040225389478615536, 'FullBath'),\n",
       " (0.02857472322769043, 'GarageYrBlt'),\n",
       " (0.023361101007249, 'LotArea'),\n",
       " (0.02160345547163593, 'BsmtFinSF1'),\n",
       " (0.021498026903862495, 'YearRemodAdd'),\n",
       " (0.016677397709278993, '2ndFlrSF'),\n",
       " (0.015496965548209514, 'Fireplaces'),\n",
       " (0.011577584514504262, 'LotFrontage'),\n",
       " (0.011009782309791266, 'Y'),\n",
       " (0.010974265367527202, 'TotRmsAbvGrd'),\n",
       " (0.010492680125785466, 'OverallCond'),\n",
       " (0.010232893387731715, 'N'),\n",
       " (0.010101863158969746, 'PConc'),\n",
       " (0.007680567928830025, 'BsmtUnfSF'),\n",
       " (0.006506861181467436, 'OpenPorchSF'),\n",
       " (0.005540196659837338, 'Gd'),\n",
       " (0.005322403044777506, 'MSSubClass'),\n",
       " (0.005059403215619118, 'Ex'),\n",
       " (0.00463669446872206, 'MasVnrArea'),\n",
       " (0.00446944472653203, 'BedroomAbvGr'),\n",
       " (0.0036914329735180367, 'WoodDeckSF'),\n",
       " (0.003553215049034508, 'HalfBath'),\n",
       " (0.0027079090327164876, 'BsmtFullBath'),\n",
       " (0.0025520768052574422, 'YrSold'),\n",
       " (0.002406968607185129, 'Ex'),\n",
       " (0.0022092632670835583, 'EnclosedPorch'),\n",
       " (0.002145494558711832, 'KitchenAbvGr'),\n",
       " (0.0017334463386092902, 'Crawfor'),\n",
       " (0.001721441833360494, '1Fam'),\n",
       " (0.0015684696233645957, 'Normal'),\n",
       " (0.001562298037659901, 'N'),\n",
       " (0.0015080423094630054, 'OldTown'),\n",
       " (0.0015063218693120216, 'Fa'),\n",
       " (0.0014279727194877864, 'Reg'),\n",
       " (0.0014132050016410255, 'Abnorml'),\n",
       " (0.0014046606442424706, 'Y'),\n",
       " (0.0014002079131362941, '1Story'),\n",
       " (0.0013530898543009393, 'Edwards'),\n",
       " (0.0013171486106119225, 'Fa'),\n",
       " (0.0012703966548057604, 'Gable'),\n",
       " (0.0011434059544629597, '2Story'),\n",
       " (0.0011247536191018653, 'IDOTRR'),\n",
       " (0.001109127007210236, 'Bnk'),\n",
       " (0.001050038429246877, 'NridgHt'),\n",
       " (0.0009810765704633142, 'CBlock'),\n",
       " (0.0009593851391910274, 'Hip'),\n",
       " (0.000937550678897457, 'IR1'),\n",
       " (0.0008632206017634211, 'TA'),\n",
       " (0.0008559807402384834, 'Gtl'),\n",
       " (0.0008401898375176484, 'Norm'),\n",
       " (0.0008313571565276989, 'Lvl'),\n",
       " (0.0007612371451332977, 'TA'),\n",
       " (0.000758445946235065, 'BrkTil'),\n",
       " (0.0006782512477956196, 'Inside'),\n",
       " (0.0006086090618723794, '1.5Fin'),\n",
       " (0.000604535080041092, 'Fa'),\n",
       " (0.0005858633419900189, 'NAmes'),\n",
       " (0.0005688145054663951, 'Corner'),\n",
       " (0.0005499564435153555, 'Gd'),\n",
       " (0.0005455612898055996, 'ClearCr'),\n",
       " (0.0005295954888908566, 'Artery'),\n",
       " (0.0005175076182143235, 'Gd'),\n",
       " (0.0005122481822230215, 'Mod'),\n",
       " (0.0005082529265407311, 'Partial'),\n",
       " (0.000505699874035813, 'Low'),\n",
       " (0.0004917301133812614, 'Family'),\n",
       " (0.0004467978907089107, 'Feedr'),\n",
       " (0.00044321982277029776, 'Sawyer'),\n",
       " (0.0004292276834574718, 'Duplex'),\n",
       " (0.00042213763233576394, 'Flat'),\n",
       " (0.00036105279671821397, 'CollgCr'),\n",
       " (0.0003524257213498746, 'HLS'),\n",
       " (0.0003493300301043999, 'BrkSide'),\n",
       " (0.00033453789447367084, 'CulDSac'),\n",
       " (0.00031889777773411816, 'P'),\n",
       " (0.00031157619300927164, 'MeadowV'),\n",
       " (0.00030973036338343015, 'Gambrel'),\n",
       " (0.0003074392303324125, 'Somerst'),\n",
       " (0.00030154654532087524, 'Grav'),\n",
       " (0.0002746143290698881, 'Mitchel'),\n",
       " (0.0002643038416453133, 'TwnhsE'),\n",
       " (0.0002637399904444475, 'NoRidge'),\n",
       " (0.0002459732098267348, 'StoneBr'),\n",
       " (0.00023970679282168833, 'GasA'),\n",
       " (0.00023743465277721443, 'Slab'),\n",
       " (0.00023059933076933237, 'Alloca'),\n",
       " (0.00020960772741639361, 'FR2'),\n",
       " (0.00020431449147703107, 'SLvl'),\n",
       " (0.0001954077052554787, 'Sev'),\n",
       " (0.0001942163161943911, 'Twnhs'),\n",
       " (0.0001929588641932605, 'NWAmes'),\n",
       " (0.00018666731103503495, 'SWISU'),\n",
       " (0.00017762181227261512, 'IR2'),\n",
       " (0.00017671920795550765, 'GasW'),\n",
       " (0.00015522146114995802, 'BrDale'),\n",
       " (0.0001536310179748682, 'PosN'),\n",
       " (0.00015158482197418155, 'SawyerW'),\n",
       " (0.00014939847836394456, '2fmCon'),\n",
       " (0.00014704072683072655, 'Gilbert'),\n",
       " (0.00013402324615830017, 'RRAn'),\n",
       " (0.0001253847882297619, 'IR3'),\n",
       " (0.00011946723599329844, 'Pave'),\n",
       " (0.00010937457411250642, 'Timber'),\n",
       " (0.00010743665337276048, '1.5Unf'),\n",
       " (0.00010464566763429043, 'RRAe'),\n",
       " (0.00010345462795692763, 'Grvl'),\n",
       " (8.183711081435163e-05, 'Veenker'),\n",
       " (7.979977723086422e-05, '2.5Unf'),\n",
       " (6.362852871814578e-05, '2.5Fin'),\n",
       " (6.069542810387482e-05, 'OthW'),\n",
       " (4.597234969549909e-05, 'SFoyer'),\n",
       " (4.3694119241062715e-05, 'Blmngtn'),\n",
       " (4.073449553851423e-05, 'PosA'),\n",
       " (3.962413846505539e-05, 'AdjLand'),\n",
       " (3.769619760327159e-05, 'Po'),\n",
       " (2.8662228506558792e-05, 'NPkVill'),\n",
       " (2.2423134024493298e-05, 'Wood'),\n",
       " (2.1843788164065047e-05, 'Mansard'),\n",
       " (1.9566949494600774e-05, 'FR3'),\n",
       " (1.785363970827883e-05, 'Stone'),\n",
       " (1.0800261466643436e-05, 'Shed'),\n",
       " (9.56547358359091e-06, 'Ex'),\n",
       " (8.738740223465336e-06, 'Wall'),\n",
       " (7.789031465469012e-06, 'Floor'),\n",
       " (7.71077611045512e-06, 'RRNn'),\n",
       " (5.343232733651925e-06, 'Blueste'),\n",
       " (3.7298325606284762e-06, 'Po'),\n",
       " (2.735433308550335e-06, 'RRNe')]"
      ]
     },
     "execution_count": 54,
     "metadata": {},
     "output_type": "execute_result"
    }
   ],
   "source": [
    "# forest_reg.feature_importances_\n",
    "\n",
    "cat_encoder = full_pipeline.named_transformers_[\"cat\"]\n",
    "cat_one_hot_attribs = []\n",
    "for a in cat_encoder.categories_:\n",
    "    for b in a:\n",
    "        cat_one_hot_attribs.append(b)\n",
    "# print(cat_one_hot_attribs)\n",
    "attributes = num_att + cat_one_hot_attribs\n",
    "sorted(zip(forest_reg.feature_importances_, attributes), reverse=True)"
   ]
  },
  {
   "cell_type": "code",
   "execution_count": 33,
   "metadata": {},
   "outputs": [
    {
     "name": "stdout",
     "output_type": "stream",
     "text": [
      "scores: [0.13353517 0.12213838 0.13309413 0.17045595 0.16128232 0.11271246\n",
      " 0.12980403 0.11612617 0.12419852 0.13850379]\n",
      "mean: 0.13418509360025663\n",
      "std: 0.017667330974893126\n",
      "count    10.000000\n",
      "mean      0.134185\n",
      "std       0.018623\n",
      "min       0.112712\n",
      "25%       0.122653\n",
      "50%       0.131449\n",
      "75%       0.137262\n",
      "max       0.170456\n",
      "dtype: float64\n"
     ]
    }
   ],
   "source": [
    "from sklearn.model_selection import cross_val_score\n",
    "def display_scores(scores):\n",
    "    print(\"scores:\", scores)\n",
    "    print(\"mean:\", scores.mean())\n",
    "    print(\"std:\", scores.std())\n",
    "\n",
    "forest_reg = RandomForestRegressor(bootstrap=False, n_estimators=200, max_features=32, random_state=42)\n",
    "forest_reg.fit(train_full_prepared, train_y)\n",
    "\n",
    "forest_scores = cross_val_score(forest_reg, train_full_prepared, train_y,\n",
    "                                scoring=\"neg_mean_squared_error\", cv=10)\n",
    "forest_rmse_scores = np.sqrt(-forest_scores)\n",
    "display_scores(forest_rmse_scores)\n",
    "\n",
    "print(pd.Series(forest_rmse_scores).describe())"
   ]
  },
  {
   "cell_type": "code",
   "execution_count": 34,
   "metadata": {},
   "outputs": [
    {
     "data": {
      "text/plain": [
       "GridSearchCV(cv=10, error_score='raise-deprecating',\n",
       "             estimator=RandomForestRegressor(bootstrap=True, criterion='mse',\n",
       "                                             max_depth=None,\n",
       "                                             max_features='auto',\n",
       "                                             max_leaf_nodes=None,\n",
       "                                             min_impurity_decrease=0.0,\n",
       "                                             min_impurity_split=None,\n",
       "                                             min_samples_leaf=1,\n",
       "                                             min_samples_split=2,\n",
       "                                             min_weight_fraction_leaf=0.0,\n",
       "                                             n_estimators='warn', n_jobs=None,\n",
       "                                             oob_score=False, random_state=42,\n",
       "                                             verbose=0, warm_start=False),\n",
       "             iid='warn', n_jobs=None,\n",
       "             param_grid=[{'max_features': [16, 32, 64, 128],\n",
       "                          'n_estimators': [30, 100, 150, 200, 250, 300]},\n",
       "                         {'bootstrap': [False],\n",
       "                          'max_features': [16, 32, 64, 128],\n",
       "                          'n_estimators': [30, 100, 150, 200, 250, 300]}],\n",
       "             pre_dispatch='2*n_jobs', refit=True, return_train_score=True,\n",
       "             scoring='neg_mean_squared_error', verbose=0)"
      ]
     },
     "execution_count": 34,
     "metadata": {},
     "output_type": "execute_result"
    }
   ],
   "source": [
    "from sklearn.model_selection import GridSearchCV\n",
    "\n",
    "param_grid = [\n",
    "    # sprawdza 12 (3×4) kombinacji hiperparametrów\n",
    "    {'n_estimators': [30, 100, 150, 200, 250, 300], 'max_features': [16, 32, 64, 128]},\n",
    "    # następnie sprawdza 6 (2×3) kombinacji z wyłączonym parametrem bootstrap (False)\n",
    "    {'bootstrap': [False], 'n_estimators': [30, 100, 150, 200, 250, 300], 'max_features': [16, 32, 64, 128]},\n",
    "  ]\n",
    "\n",
    "forest_reg = RandomForestRegressor(random_state=42)\n",
    "# przeprowadza proces uczenia na pięciu podzbiorach, czyli łącznie (12+6)*5=90 przebiegów \n",
    "grid_search = GridSearchCV(forest_reg, param_grid, cv=10,\n",
    "                           scoring='neg_mean_squared_error',\n",
    "                           return_train_score=True)\n",
    "grid_search.fit(train_full_prepared, train_y)"
   ]
  },
  {
   "cell_type": "code",
   "execution_count": 35,
   "metadata": {},
   "outputs": [
    {
     "data": {
      "text/plain": [
       "{'bootstrap': False, 'max_features': 32, 'n_estimators': 300}"
      ]
     },
     "execution_count": 35,
     "metadata": {},
     "output_type": "execute_result"
    }
   ],
   "source": [
    "grid_search.best_params_"
   ]
  },
  {
   "cell_type": "code",
   "execution_count": 36,
   "metadata": {},
   "outputs": [
    {
     "data": {
      "text/plain": [
       "RandomForestRegressor(bootstrap=False, criterion='mse', max_depth=None,\n",
       "                      max_features=32, max_leaf_nodes=None,\n",
       "                      min_impurity_decrease=0.0, min_impurity_split=None,\n",
       "                      min_samples_leaf=1, min_samples_split=2,\n",
       "                      min_weight_fraction_leaf=0.0, n_estimators=300,\n",
       "                      n_jobs=None, oob_score=False, random_state=42, verbose=0,\n",
       "                      warm_start=False)"
      ]
     },
     "execution_count": 36,
     "metadata": {},
     "output_type": "execute_result"
    }
   ],
   "source": [
    "grid_search.best_estimator_"
   ]
  },
  {
   "cell_type": "code",
   "execution_count": 37,
   "metadata": {},
   "outputs": [
    {
     "name": "stdout",
     "output_type": "stream",
     "text": [
      "0.14315558589170044 {'max_features': 16, 'n_estimators': 30}\n",
      "0.1404637386650913 {'max_features': 16, 'n_estimators': 100}\n",
      "0.14046336691983607 {'max_features': 16, 'n_estimators': 150}\n",
      "0.1399994965344934 {'max_features': 16, 'n_estimators': 200}\n",
      "0.1394949527135255 {'max_features': 16, 'n_estimators': 250}\n",
      "0.1394851246383167 {'max_features': 16, 'n_estimators': 300}\n",
      "0.14238653106614535 {'max_features': 32, 'n_estimators': 30}\n",
      "0.1379658181379852 {'max_features': 32, 'n_estimators': 100}\n",
      "0.13814626313095635 {'max_features': 32, 'n_estimators': 150}\n",
      "0.1377819233130102 {'max_features': 32, 'n_estimators': 200}\n",
      "0.13731456169154418 {'max_features': 32, 'n_estimators': 250}\n",
      "0.13737194488166674 {'max_features': 32, 'n_estimators': 300}\n",
      "0.14117776660686626 {'max_features': 64, 'n_estimators': 30}\n",
      "0.13785566890168624 {'max_features': 64, 'n_estimators': 100}\n",
      "0.13771098551351532 {'max_features': 64, 'n_estimators': 150}\n",
      "0.13786199494439022 {'max_features': 64, 'n_estimators': 200}\n",
      "0.13770792475697916 {'max_features': 64, 'n_estimators': 250}\n",
      "0.1374335340719806 {'max_features': 64, 'n_estimators': 300}\n",
      "0.14485238672496123 {'max_features': 128, 'n_estimators': 30}\n",
      "0.1414008120729862 {'max_features': 128, 'n_estimators': 100}\n",
      "0.14119574076061214 {'max_features': 128, 'n_estimators': 150}\n",
      "0.14146361383448278 {'max_features': 128, 'n_estimators': 200}\n",
      "0.14131640814288338 {'max_features': 128, 'n_estimators': 250}\n",
      "0.14110502396732666 {'max_features': 128, 'n_estimators': 300}\n",
      "0.14076261725224626 {'bootstrap': False, 'max_features': 16, 'n_estimators': 30}\n",
      "0.1375424315108351 {'bootstrap': False, 'max_features': 16, 'n_estimators': 100}\n",
      "0.13680103639449662 {'bootstrap': False, 'max_features': 16, 'n_estimators': 150}\n",
      "0.1369120025386169 {'bootstrap': False, 'max_features': 16, 'n_estimators': 200}\n",
      "0.13675091277756563 {'bootstrap': False, 'max_features': 16, 'n_estimators': 250}\n",
      "0.13656368664414695 {'bootstrap': False, 'max_features': 16, 'n_estimators': 300}\n",
      "0.13817740256172972 {'bootstrap': False, 'max_features': 32, 'n_estimators': 30}\n",
      "0.13648166163459538 {'bootstrap': False, 'max_features': 32, 'n_estimators': 100}\n",
      "0.13574811923072388 {'bootstrap': False, 'max_features': 32, 'n_estimators': 150}\n",
      "0.1353431709702638 {'bootstrap': False, 'max_features': 32, 'n_estimators': 200}\n",
      "0.1349230032630471 {'bootstrap': False, 'max_features': 32, 'n_estimators': 250}\n",
      "0.1348277741346609 {'bootstrap': False, 'max_features': 32, 'n_estimators': 300}\n",
      "0.13860358735336128 {'bootstrap': False, 'max_features': 64, 'n_estimators': 30}\n",
      "0.1366039957244999 {'bootstrap': False, 'max_features': 64, 'n_estimators': 100}\n",
      "0.1366063615652404 {'bootstrap': False, 'max_features': 64, 'n_estimators': 150}\n",
      "0.13655159486053273 {'bootstrap': False, 'max_features': 64, 'n_estimators': 200}\n",
      "0.13634540840363557 {'bootstrap': False, 'max_features': 64, 'n_estimators': 250}\n",
      "0.13616408722665319 {'bootstrap': False, 'max_features': 64, 'n_estimators': 300}\n",
      "0.16836576279257748 {'bootstrap': False, 'max_features': 128, 'n_estimators': 30}\n",
      "0.16980842994676767 {'bootstrap': False, 'max_features': 128, 'n_estimators': 100}\n",
      "0.1699102780858268 {'bootstrap': False, 'max_features': 128, 'n_estimators': 150}\n",
      "0.16951286194201312 {'bootstrap': False, 'max_features': 128, 'n_estimators': 200}\n",
      "0.1696591690607015 {'bootstrap': False, 'max_features': 128, 'n_estimators': 250}\n",
      "0.16980423770351402 {'bootstrap': False, 'max_features': 128, 'n_estimators': 300}\n"
     ]
    }
   ],
   "source": [
    "cvres = grid_search.cv_results_\n",
    "for mean_score, params in zip(cvres[\"mean_test_score\"], cvres[\"params\"]):\n",
    "    print(np.sqrt(-mean_score), params)"
   ]
  },
  {
   "cell_type": "code",
   "execution_count": 38,
   "metadata": {},
   "outputs": [
    {
     "data": {
      "text/plain": [
       "array([5.42766895e-03, 1.13341473e-02, 2.16483585e-02, 1.98725069e-01,\n",
       "       1.06942575e-02, 7.79155794e-02, 2.08498780e-02, 6.46385802e-03,\n",
       "       2.22374741e-02, 7.61071976e-03, 5.30779652e-02, 4.37774334e-02,\n",
       "       1.66574084e-02, 1.39669074e-01, 2.89984119e-03, 3.69929316e-02,\n",
       "       3.84056914e-03, 5.09563575e-03, 1.98173293e-03, 9.36585022e-03,\n",
       "       1.98209914e-02, 3.17759399e-02, 6.01307139e-02, 4.13104391e-02,\n",
       "       3.94457623e-03, 6.73519852e-03, 2.20637515e-03, 2.41332174e-03,\n",
       "       6.73666714e-04, 4.13196832e-05, 1.03301278e-05, 1.14975377e-04,\n",
       "       3.47122222e-04, 5.61140001e-04, 3.51075183e-04, 1.58346143e-03,\n",
       "       1.45842477e-03, 1.91510121e-04, 8.65085700e-04, 3.42045255e-04,\n",
       "       2.14056487e-04, 5.85023328e-04, 2.26079015e-05, 2.12935112e-04,\n",
       "       2.20289430e-04, 4.33043766e-04, 1.48482469e-03, 1.66951087e-04,\n",
       "       4.02878481e-04, 1.69330767e-04, 3.39119086e-04, 2.23096271e-04,\n",
       "       1.08510634e-04, 6.87984278e-05, 1.51473250e-03, 1.64391707e-04,\n",
       "       5.85238974e-04, 2.52872429e-04, 2.47378093e-04, 5.60440058e-06,\n",
       "       2.51193495e-04, 1.65017906e-04, 2.64795220e-04, 3.07207811e-05,\n",
       "       3.62477637e-06, 1.97833097e-03, 5.80287431e-04, 5.31006044e-04,\n",
       "       2.31263827e-06, 7.08929693e-04, 1.09116604e-02, 9.89052172e-03,\n",
       "       1.52275256e-04, 1.05490750e-04, 9.95792745e-04, 2.40169310e-04,\n",
       "       1.55094245e-04, 1.34695366e-03, 1.22696204e-03, 4.03228947e-04,\n",
       "       4.27649475e-04, 8.06693659e-04, 5.54878227e-04, 3.17347760e-04,\n",
       "       1.98002076e-04, 1.65920540e-05, 6.28568931e-04, 8.49584354e-04,\n",
       "       5.15047397e-04, 1.99996758e-04, 4.85347643e-04, 4.97393596e-04,\n",
       "       8.64135779e-04, 5.53263138e-05, 1.08076458e-04, 1.12007093e-04,\n",
       "       1.21963426e-04, 2.36657228e-06, 1.30861116e-05, 5.67527041e-04,\n",
       "       4.57636700e-05, 9.71267139e-04, 6.60092970e-05, 7.48748277e-05,\n",
       "       1.30148727e-03, 7.22622447e-05, 2.70382351e-04, 4.04189073e-04,\n",
       "       1.07594284e-03, 3.57499571e-04, 1.00712470e-03, 2.05747957e-05,\n",
       "       2.96692402e-06, 2.40758505e-03, 1.01354552e-03, 5.59526993e-03,\n",
       "       5.19124938e-02, 8.50235275e-06, 1.62626310e-03, 4.54018536e-04,\n",
       "       3.33864338e-05, 8.21687321e-04, 7.66098224e-04, 1.04703836e-03,\n",
       "       4.69371277e-03, 2.12791854e-04, 1.51742369e-05, 9.79822306e-06,\n",
       "       1.53209632e-03, 3.32520867e-04, 1.48036219e-03, 1.51592640e-03,\n",
       "       1.38484726e-05, 2.92725394e-04, 5.62671095e-04, 1.59099618e-03,\n",
       "       5.40335186e-04])"
      ]
     },
     "execution_count": 38,
     "metadata": {},
     "output_type": "execute_result"
    }
   ],
   "source": [
    "feature_importances = grid_search.best_estimator_.feature_importances_\n",
    "feature_importances"
   ]
  },
  {
   "cell_type": "code",
   "execution_count": 39,
   "metadata": {
    "scrolled": false
   },
   "outputs": [
    {
     "data": {
      "text/plain": [
       "[(0.19872506887935962, 'OverallQual'),\n",
       " (0.13966907430715272, 'GrLivArea'),\n",
       " (0.07791557941710565, 'YearBuilt'),\n",
       " (0.060130713910662416, 'GarageCars'),\n",
       " (0.053077965243824736, 'TotalBsmtSF'),\n",
       " (0.051912493805790265, 'TA'),\n",
       " (0.0437774334100691, '1stFlrSF'),\n",
       " (0.041310439087577665, 'GarageArea'),\n",
       " (0.036992931586678754, 'FullBath'),\n",
       " (0.03177593993452219, 'GarageYrBlt'),\n",
       " (0.0222374740786983, 'BsmtFinSF1'),\n",
       " (0.021648358518657197, 'LotArea'),\n",
       " (0.020849878025949356, 'YearRemodAdd'),\n",
       " (0.019820991362676434, 'Fireplaces'),\n",
       " (0.016657408403755177, '2ndFlrSF'),\n",
       " (0.011334147315345, 'LotFrontage'),\n",
       " (0.01091166038700485, 'N'),\n",
       " (0.0106942574905539, 'OverallCond'),\n",
       " (0.009890521717362464, 'Y'),\n",
       " (0.00936585021588403, 'TotRmsAbvGrd'),\n",
       " (0.007610719764739152, 'BsmtUnfSF'),\n",
       " (0.006735198523044238, 'OpenPorchSF'),\n",
       " (0.006463858015189107, 'MasVnrArea'),\n",
       " (0.005595269934363371, 'Gd'),\n",
       " (0.00542766894981901, 'MSSubClass'),\n",
       " (0.00509563574529041, 'BedroomAbvGr'),\n",
       " (0.0046937127706420155, 'PConc'),\n",
       " (0.003944576234295544, 'WoodDeckSF'),\n",
       " (0.0038405691371408263, 'HalfBath'),\n",
       " (0.002899841193779124, 'BsmtFullBath'),\n",
       " (0.002413321737740361, 'YrSold'),\n",
       " (0.002407585053712074, 'Ex'),\n",
       " (0.002206375152355086, 'EnclosedPorch'),\n",
       " (0.001981732930379484, 'KitchenAbvGr'),\n",
       " (0.0019783309741973967, 'Ex'),\n",
       " (0.0016262630962200681, 'Fa'),\n",
       " (0.00159099618440878, 'Normal'),\n",
       " (0.0015834614264698265, 'Crawfor'),\n",
       " (0.001532096315007241, 'N'),\n",
       " (0.0015159263951995616, 'Abnorml'),\n",
       " (0.0015147324965497613, '1Fam'),\n",
       " (0.0014848246920792553, 'OldTown'),\n",
       " (0.001480362194272437, 'Y'),\n",
       " (0.0014584247719646173, 'Edwards'),\n",
       " (0.0013469536573117132, 'Reg'),\n",
       " (0.0013014872709237772, '2Story'),\n",
       " (0.0012269620408529801, 'Bnk'),\n",
       " (0.0010759428399965553, 'Gable'),\n",
       " (0.0010470383607905935, 'CBlock'),\n",
       " (0.0010135455229284649, 'Fa'),\n",
       " (0.0010071246999937545, 'Hip'),\n",
       " (0.0009957927446323268, 'IR1'),\n",
       " (0.0009712671390297372, '1Story'),\n",
       " (0.0008650857004215665, 'IDOTRR'),\n",
       " (0.0008641357788154545, 'Norm'),\n",
       " (0.0008495843541529366, 'Gtl'),\n",
       " (0.0008216873208907395, 'TA'),\n",
       " (0.0008066936586114222, 'Lvl'),\n",
       " (0.000766098223654509, 'BrkTil'),\n",
       " (0.0007089296927239885, 'TA'),\n",
       " (0.0006736667137766439, 'HasBsmt'),\n",
       " (0.0006285689310233559, 'Inside'),\n",
       " (0.0005852389738889818, 'Duplex'),\n",
       " (0.0005850233283592583, 'NAmes'),\n",
       " (0.0005802874308249822, 'Fa'),\n",
       " (0.0005675270411554087, '1.5Fin'),\n",
       " (0.0005626710950032871, 'Family'),\n",
       " (0.0005611400009255836, 'ClearCr'),\n",
       " (0.0005548782272279571, 'Corner'),\n",
       " (0.0005403351857542019, 'Partial'),\n",
       " (0.0005310060439924954, 'Gd'),\n",
       " (0.0005150473969824162, 'Mod'),\n",
       " (0.0004973935964923802, 'Feedr'),\n",
       " (0.00048534764252087316, 'Artery'),\n",
       " (0.0004540185362386531, 'Gd'),\n",
       " (0.0004330437664089173, 'NridgHt'),\n",
       " (0.00042764947495294676, 'Low'),\n",
       " (0.0004041890726638666, 'Flat'),\n",
       " (0.00040322894708965263, 'HLS'),\n",
       " (0.000402878481485479, 'Sawyer'),\n",
       " (0.00035749957076687696, 'Gambrel'),\n",
       " (0.0003510751827666447, 'CollgCr'),\n",
       " (0.0003471222221430591, 'BrkSide'),\n",
       " (0.00034204525511240404, 'MeadowV'),\n",
       " (0.00033911908613885454, 'Somerst'),\n",
       " (0.00033252086706423995, 'P'),\n",
       " (0.00031734776045110367, 'CulDSac'),\n",
       " (0.0002927253942676563, 'Alloca'),\n",
       " (0.0002703823509612298, 'SLvl'),\n",
       " (0.00026479522037945493, 'Grav'),\n",
       " (0.00025287242942268335, 'Twnhs'),\n",
       " (0.0002511934954629705, 'GasA'),\n",
       " (0.0002473780930344777, 'TwnhsE'),\n",
       " (0.00024016931031946818, 'IR2'),\n",
       " (0.00022309627088832178, 'StoneBr'),\n",
       " (0.00022028942952056715, 'NoRidge'),\n",
       " (0.0002140564873528227, 'Mitchel'),\n",
       " (0.00021293511229705176, 'NWAmes'),\n",
       " (0.00021279185421509554, 'Slab'),\n",
       " (0.00019999675773419928, 'Sev'),\n",
       " (0.00019800207645959803, 'FR2'),\n",
       " (0.00019151012069801827, 'Gilbert'),\n",
       " (0.0001693307667095542, 'SawyerW'),\n",
       " (0.00016695108714471439, 'SWISU'),\n",
       " (0.00016501790634459553, 'GasW'),\n",
       " (0.00016439170743421232, '2fmCon'),\n",
       " (0.00015509424476872354, 'IR3'),\n",
       " (0.00015227525581693423, 'Grvl'),\n",
       " (0.00012196342550137853, 'RRAn'),\n",
       " (0.00011497537666724987, 'BrDale'),\n",
       " (0.00011200709332165184, 'RRAe'),\n",
       " (0.00010851063445686571, 'Timber'),\n",
       " (0.00010807645761336112, 'PosN'),\n",
       " (0.00010549075026595277, 'Pave'),\n",
       " (7.487482765279664e-05, '2.5Unf'),\n",
       " (7.226224465432801e-05, 'SFoyer'),\n",
       " (6.87984278435258e-05, 'Veenker'),\n",
       " (6.600929700665409e-05, '2.5Fin'),\n",
       " (5.532631376898167e-05, 'PosA'),\n",
       " (4.576366999134648e-05, '1.5Unf'),\n",
       " (4.1319683235777866e-05, 'Blmngtn'),\n",
       " (3.338643375544001e-05, 'Po'),\n",
       " (3.072078110782457e-05, 'OthW'),\n",
       " (2.2607901474486034e-05, 'NPkVill'),\n",
       " (2.057479574328189e-05, 'Mansard'),\n",
       " (1.6592054036656002e-05, 'FR3'),\n",
       " (1.5174236879866095e-05, 'Stone'),\n",
       " (1.3848472604482936e-05, 'AdjLand'),\n",
       " (1.3086111595416813e-05, 'RRNn'),\n",
       " (1.0330127833247522e-05, 'Blueste'),\n",
       " (9.79822305730864e-06, 'Wood'),\n",
       " (8.502352745439514e-06, 'Ex'),\n",
       " (5.604400577832571e-06, 'Floor'),\n",
       " (3.6247763731857007e-06, 'Wall'),\n",
       " (2.9669240180666357e-06, 'Shed'),\n",
       " (2.3665722827866513e-06, 'RRNe'),\n",
       " (2.3126382729571316e-06, 'Po')]"
      ]
     },
     "execution_count": 39,
     "metadata": {},
     "output_type": "execute_result"
    }
   ],
   "source": [
    "cat_encoder = full_pipeline.named_transformers_[\"cat\"]\n",
    "cat_one_hot_attribs = []\n",
    "for a in cat_encoder.categories_:\n",
    "    for b in a:\n",
    "        cat_one_hot_attribs.append(b)\n",
    "# print(cat_one_hot_attribs)\n",
    "attributes = num_att + cat_one_hot_attribs\n",
    "sorted(zip(feature_importances, attributes), reverse=True)"
   ]
  },
  {
   "cell_type": "code",
   "execution_count": 55,
   "metadata": {},
   "outputs": [],
   "source": [
    "y_pred = forest_reg.predict(test_full_prepared)\n",
    "# y_pred = grid_search.predict(test_full_prepared)\n",
    "y_pred_normal = np.e**y_pred\n",
    "sub = pd.DataFrame({'Id': test['Id'], 'SalePrice': y_pred_normal})"
   ]
  },
  {
   "cell_type": "code",
   "execution_count": 56,
   "metadata": {},
   "outputs": [],
   "source": [
    "sub.to_csv(\"data/submission_script19_norm_TotalBsmtSF_no_HasBsmt.csv\", index=False)"
   ]
  },
  {
   "cell_type": "code",
   "execution_count": 43,
   "metadata": {},
   "outputs": [
    {
     "data": {
      "text/plain": [
       "(1459, 2)"
      ]
     },
     "execution_count": 43,
     "metadata": {},
     "output_type": "execute_result"
    }
   ],
   "source": [
    "sub.shape"
   ]
  },
  {
   "cell_type": "code",
   "execution_count": null,
   "metadata": {},
   "outputs": [],
   "source": []
  }
 ],
 "metadata": {
  "kernelspec": {
   "display_name": "Python 3",
   "language": "python",
   "name": "python3"
  },
  "language_info": {
   "codemirror_mode": {
    "name": "ipython",
    "version": 3
   },
   "file_extension": ".py",
   "mimetype": "text/x-python",
   "name": "python",
   "nbconvert_exporter": "python",
   "pygments_lexer": "ipython3",
   "version": "3.7.4"
  }
 },
 "nbformat": 4,
 "nbformat_minor": 2
}
